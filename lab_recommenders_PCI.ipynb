{
 "metadata": {
  "name": "",
  "signature": "sha256:8e2c9982cae91742b5adf7c7415d2a5da91c61b04564e6534d908bf5a54891cd"
 },
 "nbformat": 3,
 "nbformat_minor": 0,
 "worksheets": [
  {
   "cells": [
    {
     "cell_type": "code",
     "collapsed": false,
     "input": [
      "%matplotlib inline\n",
      "import math\n",
      "import matplotlib.pyplot as plt"
     ],
     "language": "python",
     "metadata": {},
     "outputs": [],
     "prompt_number": 35
    },
    {
     "cell_type": "markdown",
     "metadata": {},
     "source": [
      "### List of Critics"
     ]
    },
    {
     "cell_type": "code",
     "collapsed": false,
     "input": [
      "critics={'Lisa Rose': {'Lady in the Water': 2.5, 'Snakes on a Plane': 3.5,\n",
      " 'Just My Luck': 3.0, 'Superman Returns': 3.5, 'You, Me and Dupree': 2.5, \n",
      " 'The Night Listener': 3.0},\n",
      "'Gene Seymour': {'Lady in the Water': 3.0, 'Snakes on a Plane': 3.5, \n",
      " 'Just My Luck': 1.5, 'Superman Returns': 5.0, 'The Night Listener': 3.0, \n",
      " 'You, Me and Dupree': 3.5}, \n",
      "'Michael Phillips': {'Lady in the Water': 2.5, 'Snakes on a Plane': 3.0,\n",
      " 'Superman Returns': 3.5, 'The Night Listener': 4.0},\n",
      "'Claudia Puig': {'Snakes on a Plane': 3.5, 'Just My Luck': 3.0,\n",
      " 'The Night Listener': 4.5, 'Superman Returns': 4.0, \n",
      " 'You, Me and Dupree': 2.5},\n",
      "'Mick LaSalle': {'Lady in the Water': 3.0, 'Snakes on a Plane': 4.0, \n",
      " 'Just My Luck': 2.0, 'Superman Returns': 3.0, 'The Night Listener': 3.0,\n",
      " 'You, Me and Dupree': 2.0}, \n",
      "'Jack Matthews': {'Lady in the Water': 3.0, 'Snakes on a Plane': 4.0,\n",
      " 'The Night Listener': 3.0, 'Superman Returns': 5.0, 'You, Me and Dupree': 3.5},\n",
      "'Toby': {'Snakes on a Plane':4.5,'You, Me and Dupree':1.0,'Superman Returns':4.0}}"
     ],
     "language": "python",
     "metadata": {},
     "outputs": [],
     "prompt_number": 36
    },
    {
     "cell_type": "markdown",
     "metadata": {},
     "source": [
      "### Euclidean Distance Score\n",
      "\n",
      "$$d(t,l) = \\sqrt{(t_1-l_1)^2 + (t_2-l_2)^2}$$"
     ]
    },
    {
     "cell_type": "code",
     "collapsed": false,
     "input": [
      "def sim_euclidean(prefs, p1, p2):\n",
      "    # Get list of mutually rated items\n",
      "    si={}\n",
      "    for item in prefs[p1]:\n",
      "        if item in prefs[p2]: si[item]=1\n",
      "    \n",
      "    # If no ratings in common, return 0\n",
      "    if len(si) == 0: return 0\n",
      "    \n",
      "    # Add up the squares of all the difference\n",
      "    sum_of_squares = sum([pow(prefs[p1][item] - prefs[p2][item],2)\n",
      "                          for item in prefs[p1] if item in prefs[p2]])\n",
      "    return 1/(1+sum_of_squares)"
     ],
     "language": "python",
     "metadata": {},
     "outputs": [],
     "prompt_number": 37
    },
    {
     "cell_type": "code",
     "collapsed": false,
     "input": [
      "sim_euclidean(critics, 'Lisa Rose', 'Gene Seymour')"
     ],
     "language": "python",
     "metadata": {},
     "outputs": [
      {
       "metadata": {},
       "output_type": "pyout",
       "prompt_number": 38,
       "text": [
        "0.14814814814814814"
       ]
      }
     ],
     "prompt_number": 38
    },
    {
     "cell_type": "markdown",
     "metadata": {},
     "source": [
      "### Pearson Correlation Score"
     ]
    },
    {
     "cell_type": "code",
     "collapsed": false,
     "input": [
      "def sim_pearson(prefs, p1, p2):\n",
      "    # Get list of mutually rated items\n",
      "    si={}\n",
      "    for item in prefs[p1]:\n",
      "        if item in prefs[p2]: si[item] = 1\n",
      "    \n",
      "    # No of shared items\n",
      "    n = len(si)\n",
      "    \n",
      "    # If no ratings in common, return 0\n",
      "    if n == 0: return 0\n",
      "    \n",
      "    # Sum of preferences\n",
      "    sum1 = sum([prefs[p1][item] for item in si])\n",
      "    sum2 = sum([prefs[p2][item] for item in si])\n",
      "    \n",
      "    # Sum of squares\n",
      "    sum1Sq = sum([pow(prefs[p1][item],2) for item in si])\n",
      "    sum2Sq = sum([pow(prefs[p2][item],2) for item in si])\n",
      "    \n",
      "    # Sum of products\n",
      "    sumP = sum([prefs[p1][item] * prefs[p2][item] for item in si])\n",
      "    \n",
      "    # Calculate Pearson Score (r)\n",
      "    num = sumP - (sum1 * sum2 / n)\n",
      "    den = sqrt((sum1Sq - pow(sum1,2) / n) * (sum2Sq - pow(sum2,2)/n))\n",
      "    if den == 0: return 0\n",
      "    \n",
      "    r = num / den\n",
      "    return r    "
     ],
     "language": "python",
     "metadata": {},
     "outputs": [],
     "prompt_number": 39
    },
    {
     "cell_type": "code",
     "collapsed": false,
     "input": [
      "# Using Scipy\n",
      "from math import sqrt\n",
      "from scipy.stats.stats import pearsonr\n",
      "def sim_pearson_fancy(prefs,p1,p2):\n",
      "    si={}\n",
      "    for item in prefs[p1]:\n",
      "        if item in prefs[p2]: si[item]=1\n",
      "\n",
      "    if len(si)==0: return 0\n",
      "    else:\n",
      "        si_1 = [prefs[p1][it] for it in si]\n",
      "        si_2 = [prefs[p2][it] for it in si]\n",
      "        return pearsonr(si_1, si_2)[0]"
     ],
     "language": "python",
     "metadata": {},
     "outputs": [],
     "prompt_number": 40
    },
    {
     "cell_type": "code",
     "collapsed": false,
     "input": [
      "sim_pearson(critics, 'Lisa Rose', 'Gene Seymour')"
     ],
     "language": "python",
     "metadata": {},
     "outputs": [
      {
       "metadata": {},
       "output_type": "pyout",
       "prompt_number": 41,
       "text": [
        "0.39605901719066977"
       ]
      }
     ],
     "prompt_number": 41
    },
    {
     "cell_type": "code",
     "collapsed": false,
     "input": [
      "sim_pearson_fancy(critics, 'Lisa Rose', 'Gene Seymour')"
     ],
     "language": "python",
     "metadata": {},
     "outputs": [
      {
       "metadata": {},
       "output_type": "pyout",
       "prompt_number": 42,
       "text": [
        "0.39605901719066977"
       ]
      }
     ],
     "prompt_number": 42
    },
    {
     "cell_type": "markdown",
     "metadata": {},
     "source": [
      "### Jaccard Index (Tanimoto)"
     ]
    },
    {
     "cell_type": "code",
     "collapsed": false,
     "input": [
      "def sim_tanimoto(prefs,person1,person2):\n",
      "    prod = 0.\n",
      "    sum1Sq = 0.\n",
      "    sum2Sq = 0.\n",
      "    for key in prefs[person1]:\n",
      "        if key in prefs[person2]:\n",
      "            prod += prefs[person1][key] * prefs[person2][key]\n",
      "            sum1Sq += pow(prefs[person1][key],2)\n",
      "            sum2Sq += pow(prefs[person2][key],2)\n",
      "            \n",
      "    num = prod\n",
      "    den = sum1Sq + sum2Sq - prod\n",
      "    \n",
      "    if den==0: return 0.\n",
      "    else: return num/den"
     ],
     "language": "python",
     "metadata": {},
     "outputs": [],
     "prompt_number": 43
    },
    {
     "cell_type": "code",
     "collapsed": false,
     "input": [
      "sim_tanimoto(critics, 'Lisa Rose', 'Gene Seymour')"
     ],
     "language": "python",
     "metadata": {},
     "outputs": [
      {
       "metadata": {},
       "output_type": "pyout",
       "prompt_number": 44,
       "text": [
        "0.9118773946360154"
       ]
      }
     ],
     "prompt_number": 44
    },
    {
     "cell_type": "markdown",
     "metadata": {},
     "source": [
      "### Manhattan / Taxicab"
     ]
    },
    {
     "cell_type": "code",
     "collapsed": false,
     "input": [
      "def sim_manhattan(prefs,person1,person2):\n",
      "    sum1 = 0.\n",
      "    for key in prefs[person1]:\n",
      "        if key in prefs[person2]:\n",
      "            sum1 += math.fabs(prefs[person1][key] - prefs[person2][key])\n",
      "    \n",
      "    if sum1==0: return 0.\n",
      "    else: return 1./(1.+sum1)"
     ],
     "language": "python",
     "metadata": {},
     "outputs": [],
     "prompt_number": 45
    },
    {
     "cell_type": "code",
     "collapsed": false,
     "input": [
      "sim_manhattan(critics, 'Lisa Rose', 'Gene Seymour')"
     ],
     "language": "python",
     "metadata": {},
     "outputs": [
      {
       "metadata": {},
       "output_type": "pyout",
       "prompt_number": 46,
       "text": [
        "0.18181818181818182"
       ]
      }
     ],
     "prompt_number": 46
    },
    {
     "cell_type": "markdown",
     "metadata": {},
     "source": [
      "### Returns best matches for person"
     ]
    },
    {
     "cell_type": "code",
     "collapsed": false,
     "input": [
      "def topMatches(prefs, person, n=5, similarity = sim_pearson):\n",
      "    '''\n",
      "    Returns best matches for the person from the dictionary\n",
      "    '''\n",
      "    scores = [(similarity(prefs, person, other), other)\n",
      "              for other in prefs if other != person]\n",
      "    # sort the list so highest score at the top\n",
      "    scores.sort()\n",
      "    scores.reverse()\n",
      "    return scores[0:n]"
     ],
     "language": "python",
     "metadata": {},
     "outputs": [],
     "prompt_number": 47
    },
    {
     "cell_type": "code",
     "collapsed": false,
     "input": [
      "topMatches(critics, 'Toby', n=3)"
     ],
     "language": "python",
     "metadata": {},
     "outputs": [
      {
       "metadata": {},
       "output_type": "pyout",
       "prompt_number": 48,
       "text": [
        "[(0.9912407071619299, 'Lisa Rose'),\n",
        " (0.9244734516419049, 'Mick LaSalle'),\n",
        " (0.8934051474415647, 'Claudia Puig')]"
       ]
      }
     ],
     "prompt_number": 48
    },
    {
     "cell_type": "markdown",
     "metadata": {},
     "source": [
      "### Recommending Items"
     ]
    },
    {
     "cell_type": "code",
     "collapsed": false,
     "input": [
      "def getRecommendations(prefs, person, similarity = sim_pearson):\n",
      "    totals = {}\n",
      "    simSums = {}\n",
      "    for other in prefs:\n",
      "        # Not to compare user with herself\n",
      "        if other == person: continue\n",
      "        sim = similarity(prefs, person, other)\n",
      "        \n",
      "        # Ignore scores which is less than 0\n",
      "        if sim <= 0: continue\n",
      "        for item in prefs[other]:\n",
      "            \n",
      "            # Score those which have not seen yet\n",
      "            if item not in prefs[person] or prefs[person][item] == 0:\n",
      "                # Similarity * Score\n",
      "                totals.setdefault(item, 0)\n",
      "                totals[item] += prefs[other][item] * sim\n",
      "                \n",
      "                # Sum of similarities\n",
      "                simSums.setdefault(item, 0)\n",
      "                simSums[item] += sim\n",
      "                \n",
      "    # Create normalized list\n",
      "    rankings = [(total/simSums[item],item) for item, total in totals.items()]\n",
      "\n",
      "    # Return the sorted list\n",
      "    rankings.sort()\n",
      "    rankings.reverse()\n",
      "    return rankings"
     ],
     "language": "python",
     "metadata": {},
     "outputs": [],
     "prompt_number": 49
    },
    {
     "cell_type": "code",
     "collapsed": false,
     "input": [
      "getRecommendations(critics, 'Toby')"
     ],
     "language": "python",
     "metadata": {},
     "outputs": [
      {
       "metadata": {},
       "output_type": "pyout",
       "prompt_number": 50,
       "text": [
        "[(3.3477895267131013, 'The Night Listener'),\n",
        " (2.8325499182641614, 'Lady in the Water'),\n",
        " (2.5309807037655645, 'Just My Luck')]"
       ]
      }
     ],
     "prompt_number": 50
    },
    {
     "cell_type": "code",
     "collapsed": false,
     "input": [
      "getRecommendations(critics, 'Toby', similarity = sim_euclidean)"
     ],
     "language": "python",
     "metadata": {},
     "outputs": [
      {
       "metadata": {},
       "output_type": "pyout",
       "prompt_number": 51,
       "text": [
        "[(3.5002478401415877, 'The Night Listener'),\n",
        " (2.7561242939959363, 'Lady in the Water'),\n",
        " (2.461988486074374, 'Just My Luck')]"
       ]
      }
     ],
     "prompt_number": 51
    },
    {
     "cell_type": "markdown",
     "metadata": {},
     "source": [
      "### Matching Products"
     ]
    },
    {
     "cell_type": "code",
     "collapsed": false,
     "input": [
      "# Swap the people and the items so we can the items is the key\n",
      "\n",
      "def transformPrefs(prefs):\n",
      "    result = {}\n",
      "    for person in prefs:\n",
      "        for item in prefs[person]:\n",
      "            result.setdefault(item, {})\n",
      "            \n",
      "            # Flip item and person\n",
      "            result[item][person] = prefs[person][item]\n",
      "    return result"
     ],
     "language": "python",
     "metadata": {},
     "outputs": [],
     "prompt_number": 52
    },
    {
     "cell_type": "code",
     "collapsed": false,
     "input": [
      "movies = transformPrefs(critics)\n",
      "print topMatches(movies, 'Superman Returns')"
     ],
     "language": "python",
     "metadata": {},
     "outputs": [
      {
       "output_type": "stream",
       "stream": "stdout",
       "text": [
        "[(0.6579516949597695, 'You, Me and Dupree'), (0.4879500364742689, 'Lady in the Water'), (0.11180339887498941, 'Snakes on a Plane'), (-0.1798471947990544, 'The Night Listener'), (-0.42289003161103106, 'Just My Luck')]\n"
       ]
      }
     ],
     "prompt_number": 53
    },
    {
     "cell_type": "code",
     "collapsed": false,
     "input": [
      "getRecommendations(movies, 'Just My Luck')"
     ],
     "language": "python",
     "metadata": {},
     "outputs": [
      {
       "metadata": {},
       "output_type": "pyout",
       "prompt_number": 54,
       "text": [
        "[(4.0, 'Michael Phillips'), (3.0, 'Jack Matthews')]"
       ]
      }
     ],
     "prompt_number": 54
    },
    {
     "cell_type": "markdown",
     "metadata": {},
     "source": [
      "# Item-Based Filtering"
     ]
    },
    {
     "cell_type": "code",
     "collapsed": false,
     "input": [
      "def calculateSimilarItems(prefs, n=10):\n",
      "    '''\n",
      "    create a dict of items showing which items\n",
      "    they are most similar to\n",
      "    '''\n",
      "    result = {}\n",
      "    # invert the preference matrix to be item-centric\n",
      "    itemPrefs = transformPrefs(prefs)\n",
      "    c = 0\n",
      "    for item in itemPrefs:\n",
      "        # To get status updates for large datasets\n",
      "        c += 1\n",
      "        if c%100 == 0: print \"%d / %d\" % (c, len(itemPrefs))\n",
      "        \n",
      "        # find the most similar items to this one\n",
      "        scores = topMatches(itemPrefs, item, n=n, similarity = sim_euclidean)\n",
      "        result[item] = scores\n",
      "    return result\n",
      "\n",
      "def getRecommendedItems(prefs, itemMatch, user):\n",
      "    userRatings = prefs[user]\n",
      "    scores = {}\n",
      "    totalSim = {}\n",
      "    \n",
      "    # loop over items rated by user\n",
      "    for (item, rating) in userRatings.items():\n",
      "        \n",
      "        # loop over items similar to this one\n",
      "        for (similarity, item2) in itemMatch[item]:\n",
      "            \n",
      "            # ignore if user has already rated the item\n",
      "            if item2 in userRatings: continue\n",
      "            \n",
      "            # Weighted sum of rating times similarity\n",
      "            scores.setdefault(item2, 0)\n",
      "            scores[item2] += similarity * rating\n",
      "            \n",
      "            # Sum of all the similarities\n",
      "            totalSim.setdefault(item2, 0)\n",
      "            totalSim[item2] += similarity\n",
      "            \n",
      "    # Create normalized list\n",
      "    rankings = [(score/totalSim[item], item) for item, score in scores.items()]\n",
      "        \n",
      "    # Return the rankings from highest to lowest\n",
      "    rankings.sort( )\n",
      "    rankings.reverse( )\n",
      "    return rankings"
     ],
     "language": "python",
     "metadata": {},
     "outputs": [],
     "prompt_number": 55
    },
    {
     "cell_type": "code",
     "collapsed": false,
     "input": [
      "itemsim = calculateSimilarItems(critics)\n",
      "print(itemsim)"
     ],
     "language": "python",
     "metadata": {},
     "outputs": [
      {
       "output_type": "stream",
       "stream": "stdout",
       "text": [
        "{'Lady in the Water': [(0.4, 'You, Me and Dupree'), (0.2857142857142857, 'The Night Listener'), (0.2222222222222222, 'Snakes on a Plane'), (0.2222222222222222, 'Just My Luck'), (0.09090909090909091, 'Superman Returns')], 'Snakes on a Plane': [(0.2222222222222222, 'Lady in the Water'), (0.18181818181818182, 'The Night Listener'), (0.16666666666666666, 'Superman Returns'), (0.10526315789473684, 'Just My Luck'), (0.05128205128205128, 'You, Me and Dupree')], 'Just My Luck': [(0.2222222222222222, 'Lady in the Water'), (0.18181818181818182, 'You, Me and Dupree'), (0.15384615384615385, 'The Night Listener'), (0.10526315789473684, 'Snakes on a Plane'), (0.06451612903225806, 'Superman Returns')], 'Superman Returns': [(0.16666666666666666, 'Snakes on a Plane'), (0.10256410256410256, 'The Night Listener'), (0.09090909090909091, 'Lady in the Water'), (0.06451612903225806, 'Just My Luck'), (0.05333333333333334, 'You, Me and Dupree')], 'You, Me and Dupree': [(0.4, 'Lady in the Water'), (0.18181818181818182, 'Just My Luck'), (0.14814814814814814, 'The Night Listener'), (0.05333333333333334, 'Superman Returns'), (0.05128205128205128, 'Snakes on a Plane')], 'The Night Listener': [(0.2857142857142857, 'Lady in the Water'), (0.18181818181818182, 'Snakes on a Plane'), (0.15384615384615385, 'Just My Luck'), (0.14814814814814814, 'You, Me and Dupree'), (0.10256410256410256, 'Superman Returns')]}\n"
       ]
      }
     ],
     "prompt_number": 56
    },
    {
     "cell_type": "code",
     "collapsed": false,
     "input": [
      "getRecommendedItems(critics, itemsim, 'Toby')"
     ],
     "language": "python",
     "metadata": {},
     "outputs": [
      {
       "metadata": {},
       "output_type": "pyout",
       "prompt_number": 57,
       "text": [
        "[(3.182634730538922, 'The Night Listener'),\n",
        " (2.5983318700614575, 'Just My Luck'),\n",
        " (2.4730878186968837, 'Lady in the Water')]"
       ]
      }
     ],
     "prompt_number": 57
    },
    {
     "cell_type": "markdown",
     "metadata": {},
     "source": [
      "### MovieLens Dataset"
     ]
    },
    {
     "cell_type": "code",
     "collapsed": false,
     "input": [
      "def loadMovieLens(path = 'data/movielens'):\n",
      "    # Get movie titles\n",
      "    movies = {}\n",
      "    for line in open(path + '/u.item'):\n",
      "        (id,title)=line.split('|')[0:2]\n",
      "        movies[id]=title\n",
      "\n",
      "    # Load data\n",
      "    prefs={}\n",
      "    for line in open(path +'/u.data'):\n",
      "        (user,movieid,rating,ts)=line.split('\\t')\n",
      "        prefs.setdefault(user,{})\n",
      "        prefs[user][movies[movieid]]=float(rating)\n",
      "    return prefs"
     ],
     "language": "python",
     "metadata": {},
     "outputs": [],
     "prompt_number": 58
    },
    {
     "cell_type": "code",
     "collapsed": false,
     "input": [
      "prefs = loadMovieLens()\n",
      "prefs['87']"
     ],
     "language": "python",
     "metadata": {},
     "outputs": [
      {
       "metadata": {},
       "output_type": "pyout",
       "prompt_number": 59,
       "text": [
        "{'2001: A Space Odyssey (1968)': 5.0,\n",
        " 'Ace Ventura: Pet Detective (1994)': 4.0,\n",
        " 'Addams Family Values (1993)': 2.0,\n",
        " 'Addicted to Love (1997)': 4.0,\n",
        " 'Adventures of Priscilla, Queen of the Desert, The (1994)': 3.0,\n",
        " 'Adventures of Robin Hood, The (1938)': 5.0,\n",
        " 'Air Force One (1997)': 3.0,\n",
        " 'Air Up There, The (1994)': 3.0,\n",
        " 'Alien (1979)': 4.0,\n",
        " 'American President, The (1995)': 5.0,\n",
        " 'Annie Hall (1977)': 4.0,\n",
        " 'Apocalypse Now (1979)': 4.0,\n",
        " 'Babe (1995)': 5.0,\n",
        " 'Baby-Sitters Club, The (1995)': 2.0,\n",
        " 'Back to the Future (1985)': 5.0,\n",
        " 'Bad Boys (1995)': 4.0,\n",
        " 'Bananas (1971)': 5.0,\n",
        " 'Barcelona (1994)': 3.0,\n",
        " 'Batman & Robin (1997)': 4.0,\n",
        " 'Batman (1989)': 3.0,\n",
        " 'Batman Returns (1992)': 3.0,\n",
        " 'Big Green, The (1995)': 3.0,\n",
        " 'Big Squeeze, The (1996)': 2.0,\n",
        " 'Birdcage, The (1996)': 4.0,\n",
        " 'Blade Runner (1982)': 4.0,\n",
        " 'Blues Brothers, The (1980)': 5.0,\n",
        " 'Boomerang (1992)': 3.0,\n",
        " 'Boot, Das (1981)': 4.0,\n",
        " 'Brady Bunch Movie, The (1995)': 2.0,\n",
        " 'Braveheart (1995)': 4.0,\n",
        " 'Bridge on the River Kwai, The (1957)': 5.0,\n",
        " 'Broken Arrow (1996)': 3.0,\n",
        " 'Butch Cassidy and the Sundance Kid (1969)': 5.0,\n",
        " 'Citizen Kane (1941)': 4.0,\n",
        " \"City Slickers II: The Legend of Curly's Gold (1994)\": 3.0,\n",
        " 'Clear and Present Danger (1994)': 5.0,\n",
        " 'Cliffhanger (1993)': 3.0,\n",
        " 'Clockwork Orange, A (1971)': 4.0,\n",
        " 'Clueless (1995)': 4.0,\n",
        " 'Con Air (1997)': 4.0,\n",
        " 'Conan the Barbarian (1981)': 3.0,\n",
        " 'Coneheads (1993)': 4.0,\n",
        " 'Cool Hand Luke (1967)': 5.0,\n",
        " 'Cops and Robbersons (1994)': 3.0,\n",
        " 'Cowboy Way, The (1994)': 3.0,\n",
        " 'Crow, The (1994)': 3.0,\n",
        " 'Dances with Wolves (1990)': 5.0,\n",
        " \"Dante's Peak (1997)\": 3.0,\n",
        " 'Dave (1993)': 4.0,\n",
        " 'Days of Thunder (1990)': 5.0,\n",
        " 'Dead Man Walking (1995)': 4.0,\n",
        " 'Dead Poets Society (1989)': 5.0,\n",
        " 'Deer Hunter, The (1978)': 3.0,\n",
        " 'Demolition Man (1993)': 3.0,\n",
        " 'Desperado (1995)': 3.0,\n",
        " 'Die Hard (1988)': 4.0,\n",
        " 'Die Hard: With a Vengeance (1995)': 4.0,\n",
        " 'Down Periscope (1996)': 4.0,\n",
        " 'Dragonheart (1996)': 4.0,\n",
        " 'Dumb & Dumber (1994)': 4.0,\n",
        " 'Dunston Checks In (1996)': 1.0,\n",
        " 'E.T. the Extra-Terrestrial (1982)': 3.0,\n",
        " 'Ed Wood (1994)': 3.0,\n",
        " 'Empire Strikes Back, The (1980)': 5.0,\n",
        " 'Endless Summer 2, The (1994)': 3.0,\n",
        " 'Evil Dead II (1987)': 2.0,\n",
        " 'Executive Decision (1996)': 3.0,\n",
        " 'Fargo (1996)': 5.0,\n",
        " 'First Wives Club, The (1996)': 2.0,\n",
        " 'Fish Called Wanda, A (1988)': 5.0,\n",
        " 'Forget Paris (1995)': 4.0,\n",
        " 'Four Weddings and a Funeral (1994)': 5.0,\n",
        " 'French Kiss (1995)': 5.0,\n",
        " 'Fugitive, The (1993)': 5.0,\n",
        " 'Full Metal Jacket (1987)': 4.0,\n",
        " 'Get Shorty (1995)': 5.0,\n",
        " 'Glory (1989)': 4.0,\n",
        " 'Godfather, The (1972)': 4.0,\n",
        " 'GoldenEye (1995)': 4.0,\n",
        " 'Good, The Bad and The Ugly, The (1966)': 5.0,\n",
        " 'GoodFellas (1990)': 4.0,\n",
        " 'Grease (1978)': 4.0,\n",
        " 'Great White Hype, The (1996)': 3.0,\n",
        " 'Groundhog Day (1993)': 5.0,\n",
        " 'Grumpier Old Men (1995)': 4.0,\n",
        " 'Hard Target (1993)': 4.0,\n",
        " 'Heat (1995)': 3.0,\n",
        " 'Heathers (1989)': 3.0,\n",
        " 'Home Alone (1990)': 4.0,\n",
        " 'Hoop Dreams (1994)': 4.0,\n",
        " 'Hot Shots! Part Deux (1993)': 4.0,\n",
        " 'House Arrest (1996)': 3.0,\n",
        " 'I Love Trouble (1994)': 3.0,\n",
        " 'I.Q. (1994)': 5.0,\n",
        " 'In the Army Now (1994)': 4.0,\n",
        " 'In the Line of Fire (1993)': 5.0,\n",
        " 'Independence Day (ID4) (1996)': 5.0,\n",
        " 'Indiana Jones and the Last Crusade (1989)': 5.0,\n",
        " 'Inkwell, The (1994)': 3.0,\n",
        " \"It's a Wonderful Life (1946)\": 5.0,\n",
        " 'Jack (1996)': 3.0,\n",
        " 'Jeffrey (1995)': 3.0,\n",
        " 'Jimmy Hollywood (1994)': 3.0,\n",
        " \"Joe's Apartment (1996)\": 2.0,\n",
        " 'Junior (1994)': 4.0,\n",
        " 'Jurassic Park (1993)': 5.0,\n",
        " 'Kingpin (1996)': 4.0,\n",
        " 'Lightning Jack (1994)': 3.0,\n",
        " 'Lost World: Jurassic Park, The (1997)': 3.0,\n",
        " 'Low Down Dirty Shame, A (1994)': 3.0,\n",
        " 'M*A*S*H (1970)': 5.0,\n",
        " 'Magnificent Seven, The (1954)': 5.0,\n",
        " 'Major Payne (1994)': 3.0,\n",
        " 'Man of the House (1995)': 3.0,\n",
        " 'Manchurian Candidate, The (1962)': 4.0,\n",
        " 'Mars Attacks! (1996)': 3.0,\n",
        " 'Mask, The (1994)': 3.0,\n",
        " 'Matilda (1996)': 3.0,\n",
        " 'Maverick (1994)': 3.0,\n",
        " 'Michael (1996)': 4.0,\n",
        " 'Mighty Aphrodite (1995)': 3.0,\n",
        " 'Milk Money (1994)': 4.0,\n",
        " 'Mission: Impossible (1996)': 4.0,\n",
        " \"Monty Python's Life of Brian (1979)\": 4.0,\n",
        " 'Mother (1996)': 2.0,\n",
        " 'Mrs. Doubtfire (1993)': 4.0,\n",
        " 'Multiplicity (1996)': 3.0,\n",
        " 'Muppet Treasure Island (1996)': 3.0,\n",
        " 'My Favorite Year (1982)': 3.0,\n",
        " 'Naked Gun 33 1/3: The Final Insult (1994)': 4.0,\n",
        " 'Net, The (1995)': 5.0,\n",
        " 'Nine Months (1995)': 4.0,\n",
        " 'Nutty Professor, The (1996)': 4.0,\n",
        " 'Platoon (1986)': 3.0,\n",
        " 'Prefontaine (1997)': 5.0,\n",
        " 'Private Benjamin (1980)': 4.0,\n",
        " 'Professional, The (1994)': 4.0,\n",
        " 'Program, The (1993)': 3.0,\n",
        " 'Pulp Fiction (1994)': 4.0,\n",
        " \"Pyromaniac's Love Story, A (1995)\": 3.0,\n",
        " 'Quiet Man, The (1952)': 5.0,\n",
        " 'Raging Bull (1980)': 3.0,\n",
        " 'Raiders of the Lost Ark (1981)': 5.0,\n",
        " 'Raising Arizona (1987)': 3.0,\n",
        " 'Reality Bites (1994)': 3.0,\n",
        " 'Renaissance Man (1994)': 5.0,\n",
        " 'Return of the Jedi (1983)': 5.0,\n",
        " 'Return of the Pink Panther, The (1974)': 4.0,\n",
        " 'River Wild, The (1994)': 4.0,\n",
        " 'Sabrina (1995)': 4.0,\n",
        " 'Santa Clause, The (1994)': 4.0,\n",
        " \"Schindler's List (1993)\": 4.0,\n",
        " 'Searching for Bobby Fischer (1993)': 4.0,\n",
        " 'Serial Mom (1994)': 1.0,\n",
        " 'Shadow, The (1994)': 3.0,\n",
        " 'Shawshank Redemption, The (1994)': 5.0,\n",
        " \"Singin' in the Rain (1952)\": 4.0,\n",
        " 'Sleeper (1973)': 4.0,\n",
        " 'Sleepers (1996)': 4.0,\n",
        " 'Sleepless in Seattle (1993)': 5.0,\n",
        " 'Sneakers (1992)': 4.0,\n",
        " 'So I Married an Axe Murderer (1993)': 2.0,\n",
        " 'Something to Talk About (1995)': 2.0,\n",
        " 'Son in Law (1993)': 4.0,\n",
        " 'Speechless (1994)': 4.0,\n",
        " 'Speed (1994)': 5.0,\n",
        " 'Speed 2: Cruise Control (1997)': 3.0,\n",
        " 'Star Trek III: The Search for Spock (1984)': 4.0,\n",
        " 'Star Trek IV: The Voyage Home (1986)': 5.0,\n",
        " 'Star Trek: First Contact (1996)': 4.0,\n",
        " 'Star Trek: The Motion Picture (1979)': 3.0,\n",
        " 'Star Trek: The Wrath of Khan (1982)': 5.0,\n",
        " 'Star Wars (1977)': 5.0,\n",
        " 'Stargate (1994)': 5.0,\n",
        " 'Sting, The (1973)': 5.0,\n",
        " 'Strange Days (1995)': 3.0,\n",
        " 'Strictly Ballroom (1992)': 3.0,\n",
        " 'Striptease (1996)': 2.0,\n",
        " 'Supercop (1992)': 3.0,\n",
        " 'Swimming with Sharks (1995)': 3.0,\n",
        " 'Switchblade Sisters (1975)': 2.0,\n",
        " 'Terminator 2: Judgment Day (1991)': 5.0,\n",
        " 'Terminator, The (1984)': 5.0,\n",
        " 'That Old Feeling (1997)': 4.0,\n",
        " 'That Thing You Do! (1996)': 4.0,\n",
        " 'This Is Spinal Tap (1984)': 5.0,\n",
        " 'To Die For (1995)': 3.0,\n",
        " 'To Kill a Mockingbird (1962)': 4.0,\n",
        " 'To Wong Foo, Thanks for Everything! Julie Newmar (1995)': 3.0,\n",
        " 'Tommy Boy (1995)': 4.0,\n",
        " 'Top Gun (1986)': 5.0,\n",
        " 'Treasure of the Sierra Madre, The (1948)': 4.0,\n",
        " 'True Lies (1994)': 5.0,\n",
        " 'Truth About Cats & Dogs, The (1996)': 4.0,\n",
        " 'Twelve Monkeys (1995)': 4.0,\n",
        " 'Twister (1996)': 4.0,\n",
        " \"Ulee's Gold (1997)\": 3.0,\n",
        " 'Under Siege (1992)': 4.0,\n",
        " 'Up in Smoke (1978)': 3.0,\n",
        " 'Vegas Vacation (1997)': 4.0,\n",
        " 'Victor/Victoria (1982)': 4.0,\n",
        " 'Waterworld (1995)': 4.0,\n",
        " \"Weekend at Bernie's (1989)\": 3.0,\n",
        " 'When Harry Met Sally... (1989)': 5.0,\n",
        " 'While You Were Sleeping (1995)': 5.0,\n",
        " 'Wizard of Oz, The (1939)': 5.0,\n",
        " 'Wyatt Earp (1994)': 3.0,\n",
        " 'Young Frankenstein (1974)': 5.0,\n",
        " 'Young Guns (1988)': 3.0,\n",
        " 'Young Guns II (1990)': 2.0}"
       ]
      }
     ],
     "prompt_number": 59
    },
    {
     "cell_type": "code",
     "collapsed": false,
     "input": [
      "getRecommendations(prefs, '87')[0:30]"
     ],
     "language": "python",
     "metadata": {},
     "outputs": [
      {
       "metadata": {},
       "output_type": "pyout",
       "prompt_number": 60,
       "text": [
        "[(5.0, 'They Made Me a Criminal (1939)'),\n",
        " (5.0, 'Star Kid (1997)'),\n",
        " (5.0, 'Santa with Muscles (1996)'),\n",
        " (5.0, 'Saint of Fort Washington, The (1993)'),\n",
        " (5.0, 'Marlene Dietrich: Shadow and Light (1996) '),\n",
        " (5.0, 'Great Day in Harlem, A (1994)'),\n",
        " (5.0, 'Entertaining Angels: The Dorothy Day Story (1996)'),\n",
        " (5.0, 'Boys, Les (1997)'),\n",
        " (4.89884443128923, 'Legal Deceit (1997)'),\n",
        " (4.815019082242709, 'Letter From Death Row, A (1998)'),\n",
        " (4.7321082983941425, 'Hearts and Minds (1996)'),\n",
        " (4.696244466490867, 'Pather Panchali (1955)'),\n",
        " (4.652397061026758, 'Lamerica (1994)'),\n",
        " (4.538723693474813, 'Leading Man, The (1996)'),\n",
        " (4.535081339106103, 'Mrs. Dalloway (1997)'),\n",
        " (4.532337612572981, 'Innocents, The (1961)'),\n",
        " (4.527998574747079, 'Casablanca (1942)'),\n",
        " (4.510270149719864, 'Everest (1998)'),\n",
        " (4.493967755428439, 'Dangerous Beauty (1998)'),\n",
        " (4.485151301801342, 'Wallace & Gromit: The Best of Aardman Animation (1996)'),\n",
        " (4.463287461290222, 'Wrong Trousers, The (1993)'),\n",
        " (4.450979436941035, 'Kaspar Hauser (1993)'),\n",
        " (4.431079071179518, 'Usual Suspects, The (1995)'),\n",
        " (4.427520682864959, 'Maya Lin: A Strong Clear Vision (1994)'),\n",
        " (4.414870784592075, 'Wedding Gift, The (1994)'),\n",
        " (4.377445252656464, 'Affair to Remember, An (1957)'),\n",
        " (4.376071110447771, 'Good Will Hunting (1997)'),\n",
        " (4.376011099001396, 'As Good As It Gets (1997)'),\n",
        " (4.374146179500976, 'Anna (1996)'),\n",
        " (4.367437266504598, 'Close Shave, A (1995)')]"
       ]
      }
     ],
     "prompt_number": 60
    },
    {
     "cell_type": "code",
     "collapsed": false,
     "input": [
      "itemsim = calculateSimilarItems(prefs, n=50)"
     ],
     "language": "python",
     "metadata": {},
     "outputs": [
      {
       "output_type": "stream",
       "stream": "stdout",
       "text": [
        "100 / 1664\n",
        "200 / 1664"
       ]
      },
      {
       "output_type": "stream",
       "stream": "stdout",
       "text": [
        "\n",
        "300 / 1664"
       ]
      },
      {
       "output_type": "stream",
       "stream": "stdout",
       "text": [
        "\n",
        "400 / 1664"
       ]
      },
      {
       "output_type": "stream",
       "stream": "stdout",
       "text": [
        "\n",
        "500 / 1664"
       ]
      },
      {
       "output_type": "stream",
       "stream": "stdout",
       "text": [
        "\n",
        "600 / 1664"
       ]
      },
      {
       "output_type": "stream",
       "stream": "stdout",
       "text": [
        "\n",
        "700 / 1664"
       ]
      },
      {
       "output_type": "stream",
       "stream": "stdout",
       "text": [
        "\n",
        "800 / 1664"
       ]
      },
      {
       "output_type": "stream",
       "stream": "stdout",
       "text": [
        "\n",
        "900 / 1664"
       ]
      },
      {
       "output_type": "stream",
       "stream": "stdout",
       "text": [
        "\n",
        "1000 / 1664"
       ]
      },
      {
       "output_type": "stream",
       "stream": "stdout",
       "text": [
        "\n",
        "1100 / 1664"
       ]
      },
      {
       "output_type": "stream",
       "stream": "stdout",
       "text": [
        "\n",
        "1200 / 1664"
       ]
      },
      {
       "output_type": "stream",
       "stream": "stdout",
       "text": [
        "\n",
        "1300 / 1664"
       ]
      },
      {
       "output_type": "stream",
       "stream": "stdout",
       "text": [
        "\n",
        "1400 / 1664"
       ]
      },
      {
       "output_type": "stream",
       "stream": "stdout",
       "text": [
        "\n",
        "1500 / 1664"
       ]
      },
      {
       "output_type": "stream",
       "stream": "stdout",
       "text": [
        "\n",
        "1600 / 1664"
       ]
      },
      {
       "output_type": "stream",
       "stream": "stdout",
       "text": [
        "\n"
       ]
      }
     ],
     "prompt_number": 61
    },
    {
     "cell_type": "code",
     "collapsed": false,
     "input": [
      "getRecommendedItems(prefs,itemsim,'87')[0:30]"
     ],
     "language": "python",
     "metadata": {},
     "outputs": [
      {
       "metadata": {},
       "output_type": "pyout",
       "prompt_number": 62,
       "text": [
        "[(5.0, \"What's Eating Gilbert Grape (1993)\"),\n",
        " (5.0, 'Vertigo (1958)'),\n",
        " (5.0, 'Usual Suspects, The (1995)'),\n",
        " (5.0, 'Toy Story (1995)'),\n",
        " (5.0, 'Titanic (1997)'),\n",
        " (5.0, 'Sword in the Stone, The (1963)'),\n",
        " (5.0, 'Stand by Me (1986)'),\n",
        " (5.0, 'Sling Blade (1996)'),\n",
        " (5.0, 'Silence of the Lambs, The (1991)'),\n",
        " (5.0, 'Shining, The (1980)'),\n",
        " (5.0, 'Shine (1996)'),\n",
        " (5.0, 'Sense and Sensibility (1995)'),\n",
        " (5.0, 'Scream (1996)'),\n",
        " (5.0, 'Rumble in the Bronx (1995)'),\n",
        " (5.0, 'Rock, The (1996)'),\n",
        " (5.0, 'Robin Hood: Prince of Thieves (1991)'),\n",
        " (5.0, 'Reservoir Dogs (1992)'),\n",
        " (5.0, 'Police Story 4: Project S (Chao ji ji hua) (1993)'),\n",
        " (5.0, 'House of the Spirits, The (1993)'),\n",
        " (5.0, 'Fresh (1994)'),\n",
        " (5.0, 'Denise Calls Up (1995)'),\n",
        " (5.0, 'Day the Sun Turned Cold, The (Tianguo niezi) (1994)'),\n",
        " (5.0, 'Before the Rain (Pred dozhdot) (1994)'),\n",
        " (5.0, 'Assignment, The (1997)'),\n",
        " (5.0, '1-900 (1994)'),\n",
        " (4.875, \"Ed's Next Move (1996)\"),\n",
        " (4.833333333333333, 'Anna (1996)'),\n",
        " (4.8, 'Dark City (1998)'),\n",
        " (4.75, 'Flower of My Secret, The (Flor de mi secreto, La) (1995)'),\n",
        " (4.75, 'Broken English (1996)')]"
       ]
      }
     ],
     "prompt_number": 62
    }
   ],
   "metadata": {}
  }
 ]
}