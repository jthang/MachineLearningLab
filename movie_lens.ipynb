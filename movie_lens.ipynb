{
 "metadata": {
  "name": "",
  "signature": "sha256:0a8c35265ca78cd79bba8fcea1985ef15753862597f6dda184c5c6f2e467a4f1"
 },
 "nbformat": 3,
 "nbformat_minor": 0,
 "worksheets": [
  {
   "cells": [
    {
     "cell_type": "code",
     "collapsed": false,
     "input": [
      "%matplotlib inline\n",
      "from pandas import Series, DataFrame\n",
      "import pandas as pd\n",
      "import numpy as np\n",
      "import matplotlib.pyplot as plt\n",
      "\n",
      "pd.set_option('display.mpl_style', 'default')\n",
      "plt.rcParams['figure.figsize'] = (15, 5)\n",
      "\n",
      "pd.set_option('html', False)\n",
      "pd.set_option('max_columns', 30)\n",
      "pd.set_option('max_rows', 20)"
     ],
     "language": "python",
     "metadata": {},
     "outputs": [],
     "prompt_number": 40
    },
    {
     "cell_type": "code",
     "collapsed": false,
     "input": [
      "unames = ['user_id', 'gender', 'age', 'occupation', 'zip'] \n",
      "users = pd.read_table('data/movielens/users.dat', sep='::', header=None,\n",
      "names=unames)\n",
      "\n",
      "rnames = ['user_id', 'movie_id', 'rating', 'timestamp']\n",
      "ratings = pd.read_table('data/movielens/ratings.dat', sep='::', header=None,\n",
      "names=rnames)\n",
      "\n",
      "mnames = ['movie_id', 'title', 'genres']\n",
      "movies = pd.read_table('data/movielens/movies.dat', sep='::', header=None,\n",
      "names=mnames)"
     ],
     "language": "python",
     "metadata": {},
     "outputs": [],
     "prompt_number": 41
    },
    {
     "cell_type": "code",
     "collapsed": false,
     "input": [
      "users[:5]"
     ],
     "language": "python",
     "metadata": {},
     "outputs": [
      {
       "metadata": {},
       "output_type": "pyout",
       "prompt_number": 42,
       "text": [
        "   user_id gender  age  occupation    zip\n",
        "0        1      F    1          10  48067\n",
        "1        2      M   56          16  70072\n",
        "2        3      M   25          15  55117\n",
        "3        4      M   45           7  02460\n",
        "4        5      M   25          20  55455"
       ]
      }
     ],
     "prompt_number": 42
    },
    {
     "cell_type": "code",
     "collapsed": false,
     "input": [
      "ratings[:5]"
     ],
     "language": "python",
     "metadata": {},
     "outputs": [
      {
       "metadata": {},
       "output_type": "pyout",
       "prompt_number": 43,
       "text": [
        "   user_id  movie_id  rating  timestamp\n",
        "0        1      1193       5  978300760\n",
        "1        1       661       3  978302109\n",
        "2        1       914       3  978301968\n",
        "3        1      3408       4  978300275\n",
        "4        1      2355       5  978824291"
       ]
      }
     ],
     "prompt_number": 43
    },
    {
     "cell_type": "code",
     "collapsed": false,
     "input": [
      "movies[:5]"
     ],
     "language": "python",
     "metadata": {},
     "outputs": [
      {
       "metadata": {},
       "output_type": "pyout",
       "prompt_number": 44,
       "text": [
        "   movie_id                               title                        genres\n",
        "0         1                    Toy Story (1995)   Animation|Children's|Comedy\n",
        "1         2                      Jumanji (1995)  Adventure|Children's|Fantasy\n",
        "2         3             Grumpier Old Men (1995)                Comedy|Romance\n",
        "3         4            Waiting to Exhale (1995)                  Comedy|Drama\n",
        "4         5  Father of the Bride Part II (1995)                        Comedy"
       ]
      }
     ],
     "prompt_number": 44
    },
    {
     "cell_type": "code",
     "collapsed": false,
     "input": [
      "data = pd.merge(pd.merge(ratings, users), movies)\n",
      "data"
     ],
     "language": "python",
     "metadata": {},
     "outputs": [
      {
       "metadata": {},
       "output_type": "pyout",
       "prompt_number": 45,
       "text": [
        "         user_id  movie_id  rating  timestamp gender  age  occupation    zip  \\\n",
        "0              1      1193       5  978300760      F    1          10  48067   \n",
        "1              2      1193       5  978298413      M   56          16  70072   \n",
        "2             12      1193       4  978220179      M   25          12  32793   \n",
        "3             15      1193       4  978199279      M   25           7  22903   \n",
        "4             17      1193       5  978158471      M   50           1  95350   \n",
        "5             18      1193       4  978156168      F   18           3  95825   \n",
        "6             19      1193       5  982730936      M    1          10  48073   \n",
        "7             24      1193       5  978136709      F   25           7  10023   \n",
        "8             28      1193       3  978125194      F   25           1  14607   \n",
        "9             33      1193       5  978557765      M   45           3  55421   \n",
        "...          ...       ...     ...        ...    ...  ...         ...    ...   \n",
        "1000199     5334      3382       5  960796159      F   56          13  46140   \n",
        "1000200     5420      1843       3  960156505      F    1          19  14850   \n",
        "1000201     5433       286       3  960240881      F   35          17  45014   \n",
        "1000202     5494      3530       4  959816296      F   35          17  94306   \n",
        "1000203     5556      2198       3  959445515      M   45           6  92103   \n",
        "1000204     5949      2198       5  958846401      M   18          17  47901   \n",
        "1000205     5675      2703       3  976029116      M   35          14  30030   \n",
        "1000206     5780      2845       1  958153068      M   18          17  92886   \n",
        "1000207     5851      3607       5  957756608      F   18          20  55410   \n",
        "1000208     5938      2909       4  957273353      M   25           1  35401   \n",
        "\n",
        "                                               title                  genres  \n",
        "0             One Flew Over the Cuckoo's Nest (1975)                   Drama  \n",
        "1             One Flew Over the Cuckoo's Nest (1975)                   Drama  \n",
        "2             One Flew Over the Cuckoo's Nest (1975)                   Drama  \n",
        "3             One Flew Over the Cuckoo's Nest (1975)                   Drama  \n",
        "4             One Flew Over the Cuckoo's Nest (1975)                   Drama  \n",
        "5             One Flew Over the Cuckoo's Nest (1975)                   Drama  \n",
        "6             One Flew Over the Cuckoo's Nest (1975)                   Drama  \n",
        "7             One Flew Over the Cuckoo's Nest (1975)                   Drama  \n",
        "8             One Flew Over the Cuckoo's Nest (1975)                   Drama  \n",
        "9             One Flew Over the Cuckoo's Nest (1975)                   Drama  \n",
        "...                                              ...                     ...  \n",
        "1000199                       Song of Freedom (1936)                   Drama  \n",
        "1000200               Slappy and the Stinkers (1998)       Children's|Comedy  \n",
        "1000201                     Nemesis 2: Nebula (1995)  Action|Sci-Fi|Thriller  \n",
        "1000202                    Smoking/No Smoking (1993)                  Comedy  \n",
        "1000203                           Modulations (1998)             Documentary  \n",
        "1000204                           Modulations (1998)             Documentary  \n",
        "1000205                        Broken Vessels (1998)                   Drama  \n",
        "1000206                            White Boys (1999)                   Drama  \n",
        "1000207                     One Little Indian (1973)    Comedy|Drama|Western  \n",
        "1000208  Five Wives, Three Secretaries and Me (1998)             Documentary  \n",
        "\n",
        "[1000209 rows x 10 columns]"
       ]
      }
     ],
     "prompt_number": 45
    },
    {
     "cell_type": "code",
     "collapsed": false,
     "input": [
      "data.ix[0]"
     ],
     "language": "python",
     "metadata": {},
     "outputs": [
      {
       "metadata": {},
       "output_type": "pyout",
       "prompt_number": 46,
       "text": [
        "user_id                                            1\n",
        "movie_id                                        1193\n",
        "rating                                             5\n",
        "timestamp                                  978300760\n",
        "gender                                             F\n",
        "age                                                1\n",
        "occupation                                        10\n",
        "zip                                            48067\n",
        "title         One Flew Over the Cuckoo's Nest (1975)\n",
        "genres                                         Drama\n",
        "Name: 0, dtype: object"
       ]
      }
     ],
     "prompt_number": 46
    },
    {
     "cell_type": "code",
     "collapsed": false,
     "input": [
      "mean_ratings = data.pivot_table('rating', index='title', cols='gender', aggfunc='mean')\n",
      "mean_ratings[:5]"
     ],
     "language": "python",
     "metadata": {},
     "outputs": [
      {
       "metadata": {},
       "output_type": "pyout",
       "prompt_number": 47,
       "text": [
        "gender                                F         M\n",
        "title                                            \n",
        "$1,000,000 Duck (1971)         3.375000  2.761905\n",
        "'Night Mother (1986)           3.388889  3.352941\n",
        "'Til There Was You (1997)      2.675676  2.733333\n",
        "'burbs, The (1989)             2.793478  2.962085\n",
        "...And Justice for All (1979)  3.828571  3.689024"
       ]
      }
     ],
     "prompt_number": 47
    },
    {
     "cell_type": "code",
     "collapsed": false,
     "input": [
      "ratings_by_title = data.groupby('title').size() #add up the no. of ratings\n",
      "ratings_by_title[:10]"
     ],
     "language": "python",
     "metadata": {},
     "outputs": [
      {
       "metadata": {},
       "output_type": "pyout",
       "prompt_number": 48,
       "text": [
        "title\n",
        "$1,000,000 Duck (1971)                37\n",
        "'Night Mother (1986)                  70\n",
        "'Til There Was You (1997)             52\n",
        "'burbs, The (1989)                   303\n",
        "...And Justice for All (1979)        199\n",
        "1-900 (1994)                           2\n",
        "10 Things I Hate About You (1999)    700\n",
        "101 Dalmatians (1961)                565\n",
        "101 Dalmatians (1996)                364\n",
        "12 Angry Men (1957)                  616\n",
        "dtype: int64"
       ]
      }
     ],
     "prompt_number": 48
    },
    {
     "cell_type": "code",
     "collapsed": false,
     "input": [
      "#get the index of values more than 250\n",
      "active_titles = ratings_by_title.index[ratings_by_title >= 250]\n",
      "active_titles[:10]"
     ],
     "language": "python",
     "metadata": {},
     "outputs": [
      {
       "metadata": {},
       "output_type": "pyout",
       "prompt_number": 49,
       "text": [
        "Index([u''burbs, The (1989)', u'10 Things I Hate About You (1999)', u'101 Dalmatians (1961)', u'101 Dalmatians (1996)', u'12 Angry Men (1957)', u'13th Warrior, The (1999)', u'2 Days in the Valley (1996)', u'20,000 Leagues Under the Sea (1954)', u'2001: A Space Odyssey (1968)', u'2010 (1984)'], dtype='object')"
       ]
      }
     ],
     "prompt_number": 49
    },
    {
     "cell_type": "code",
     "collapsed": false,
     "input": [
      "#use the index to select rows\n",
      "mean_ratings = mean_ratings.ix[active_titles]\n",
      "mean_ratings"
     ],
     "language": "python",
     "metadata": {},
     "outputs": [
      {
       "metadata": {},
       "output_type": "pyout",
       "prompt_number": 50,
       "text": [
        "gender                                      F         M\n",
        "title                                                  \n",
        "'burbs, The (1989)                   2.793478  2.962085\n",
        "10 Things I Hate About You (1999)    3.646552  3.311966\n",
        "101 Dalmatians (1961)                3.791444  3.500000\n",
        "101 Dalmatians (1996)                3.240000  2.911215\n",
        "12 Angry Men (1957)                  4.184397  4.328421\n",
        "13th Warrior, The (1999)             3.112000  3.168000\n",
        "2 Days in the Valley (1996)          3.488889  3.244813\n",
        "20,000 Leagues Under the Sea (1954)  3.670103  3.709205\n",
        "2001: A Space Odyssey (1968)         3.825581  4.129738\n",
        "2010 (1984)                          3.446809  3.413712\n",
        "...                                       ...       ...\n",
        "X-Men (2000)                         3.682310  3.851702\n",
        "Year of Living Dangerously (1982)    3.951220  3.869403\n",
        "Yellow Submarine (1968)              3.714286  3.689286\n",
        "You've Got Mail (1998)               3.542424  3.275591\n",
        "Young Frankenstein (1974)            4.289963  4.239177\n",
        "Young Guns (1988)                    3.371795  3.425620\n",
        "Young Guns II (1990)                 2.934783  2.904025\n",
        "Young Sherlock Holmes (1985)         3.514706  3.363344\n",
        "Zero Effect (1998)                   3.864407  3.723140\n",
        "eXistenZ (1999)                      3.098592  3.289086\n",
        "\n",
        "[1216 rows x 2 columns]"
       ]
      }
     ],
     "prompt_number": 50
    },
    {
     "cell_type": "code",
     "collapsed": false,
     "input": [
      "#sort F column in descending order\n",
      "top_female_ratings = mean_ratings.sort_index(by='F', ascending=False)\n",
      "top_female_ratings[:10]"
     ],
     "language": "python",
     "metadata": {},
     "outputs": [
      {
       "metadata": {},
       "output_type": "pyout",
       "prompt_number": 51,
       "text": [
        "gender                                                         F         M\n",
        "title                                                                     \n",
        "Close Shave, A (1995)                                   4.644444  4.473795\n",
        "Wrong Trousers, The (1993)                              4.588235  4.478261\n",
        "Sunset Blvd. (a.k.a. Sunset Boulevard) (1950)           4.572650  4.464589\n",
        "Wallace & Gromit: The Best of Aardman Animation (1996)  4.563107  4.385075\n",
        "Schindler's List (1993)                                 4.562602  4.491415\n",
        "Shawshank Redemption, The (1994)                        4.539075  4.560625\n",
        "Grand Day Out, A (1992)                                 4.537879  4.293255\n",
        "To Kill a Mockingbird (1962)                            4.536667  4.372611\n",
        "Creature Comforts (1990)                                4.513889  4.272277\n",
        "Usual Suspects, The (1995)                              4.513317  4.518248"
       ]
      }
     ],
     "prompt_number": 51
    },
    {
     "cell_type": "code",
     "collapsed": false,
     "input": [
      "#sort m column in descending order\n",
      "top_male_ratings = mean_ratings.sort_index(by='M', ascending=False)\n",
      "top_male_ratings[:10]"
     ],
     "language": "python",
     "metadata": {},
     "outputs": [
      {
       "metadata": {},
       "output_type": "pyout",
       "prompt_number": 52,
       "text": [
        "gender                                                                      F  \\\n",
        "title                                                                           \n",
        "Godfather, The (1972)                                                4.314700   \n",
        "Seven Samurai (The Magnificent Seven) (Shichinin no samurai) (1954)  4.481132   \n",
        "Shawshank Redemption, The (1994)                                     4.539075   \n",
        "Raiders of the Lost Ark (1981)                                       4.332168   \n",
        "Usual Suspects, The (1995)                                           4.513317   \n",
        "Star Wars: Episode IV - A New Hope (1977)                            4.302937   \n",
        "Schindler's List (1993)                                              4.562602   \n",
        "Wrong Trousers, The (1993)                                           4.588235   \n",
        "Close Shave, A (1995)                                                4.644444   \n",
        "Rear Window (1954)                                                   4.484536   \n",
        "\n",
        "gender                                                                      M  \n",
        "title                                                                          \n",
        "Godfather, The (1972)                                                4.583333  \n",
        "Seven Samurai (The Magnificent Seven) (Shichinin no samurai) (1954)  4.576628  \n",
        "Shawshank Redemption, The (1994)                                     4.560625  \n",
        "Raiders of the Lost Ark (1981)                                       4.520597  \n",
        "Usual Suspects, The (1995)                                           4.518248  \n",
        "Star Wars: Episode IV - A New Hope (1977)                            4.495307  \n",
        "Schindler's List (1993)                                              4.491415  \n",
        "Wrong Trousers, The (1993)                                           4.478261  \n",
        "Close Shave, A (1995)                                                4.473795  \n",
        "Rear Window (1954)                                                   4.472991  "
       ]
      }
     ],
     "prompt_number": 52
    },
    {
     "cell_type": "code",
     "collapsed": false,
     "input": [
      "#measure the rating disagreement between M and F\n",
      "mean_ratings['diff'] = mean_ratings['M'] - mean_ratings['F']\n",
      "mean_ratings[:10]                                                       "
     ],
     "language": "python",
     "metadata": {},
     "outputs": [
      {
       "metadata": {},
       "output_type": "pyout",
       "prompt_number": 53,
       "text": [
        "gender                                      F         M      diff\n",
        "title                                                            \n",
        "'burbs, The (1989)                   2.793478  2.962085  0.168607\n",
        "10 Things I Hate About You (1999)    3.646552  3.311966 -0.334586\n",
        "101 Dalmatians (1961)                3.791444  3.500000 -0.291444\n",
        "101 Dalmatians (1996)                3.240000  2.911215 -0.328785\n",
        "12 Angry Men (1957)                  4.184397  4.328421  0.144024\n",
        "13th Warrior, The (1999)             3.112000  3.168000  0.056000\n",
        "2 Days in the Valley (1996)          3.488889  3.244813 -0.244076\n",
        "20,000 Leagues Under the Sea (1954)  3.670103  3.709205  0.039102\n",
        "2001: A Space Odyssey (1968)         3.825581  4.129738  0.304156\n",
        "2010 (1984)                          3.446809  3.413712 -0.033097"
       ]
      }
     ],
     "prompt_number": 53
    },
    {
     "cell_type": "code",
     "collapsed": false,
     "input": [
      "#sort by difference\n",
      "sorted_by_diff = mean_ratings.sort_index(by='diff')\n",
      "sorted_by_diff[:10]"
     ],
     "language": "python",
     "metadata": {},
     "outputs": [
      {
       "metadata": {},
       "output_type": "pyout",
       "prompt_number": 54,
       "text": [
        "gender                                        F         M      diff\n",
        "title                                                              \n",
        "Dirty Dancing (1987)                   3.790378  2.959596 -0.830782\n",
        "Jumpin' Jack Flash (1986)              3.254717  2.578358 -0.676359\n",
        "Grease (1978)                          3.975265  3.367041 -0.608224\n",
        "Little Women (1994)                    3.870588  3.321739 -0.548849\n",
        "Steel Magnolias (1989)                 3.901734  3.365957 -0.535777\n",
        "Anastasia (1997)                       3.800000  3.281609 -0.518391\n",
        "Rocky Horror Picture Show, The (1975)  3.673016  3.160131 -0.512885\n",
        "Color Purple, The (1985)               4.158192  3.659341 -0.498851\n",
        "Age of Innocence, The (1993)           3.827068  3.339506 -0.487561\n",
        "Free Willy (1993)                      2.921348  2.438776 -0.482573"
       ]
      }
     ],
     "prompt_number": 54
    },
    {
     "cell_type": "code",
     "collapsed": false,
     "input": [
      "#Reverse order of the rows\n",
      "sorted_by_diff[::-1][:15]"
     ],
     "language": "python",
     "metadata": {},
     "outputs": [
      {
       "metadata": {},
       "output_type": "pyout",
       "prompt_number": 55,
       "text": [
        "gender                                         F         M      diff\n",
        "title                                                               \n",
        "Good, The Bad and The Ugly, The (1966)  3.494949  4.221300  0.726351\n",
        "Kentucky Fried Movie, The (1977)        2.878788  3.555147  0.676359\n",
        "Dumb & Dumber (1994)                    2.697987  3.336595  0.638608\n",
        "Longest Day, The (1962)                 3.411765  4.031447  0.619682\n",
        "Cable Guy, The (1996)                   2.250000  2.863787  0.613787\n",
        "Evil Dead II (Dead By Dawn) (1987)      3.297297  3.909283  0.611985\n",
        "Hidden, The (1987)                      3.137931  3.745098  0.607167\n",
        "Rocky III (1982)                        2.361702  2.943503  0.581801\n",
        "Caddyshack (1980)                       3.396135  3.969737  0.573602\n",
        "For a Few Dollars More (1965)           3.409091  3.953795  0.544704\n",
        "Porky's (1981)                          2.296875  2.836364  0.539489\n",
        "Animal House (1978)                     3.628906  4.167192  0.538286\n",
        "Exorcist, The (1973)                    3.537634  4.067239  0.529605\n",
        "Fright Night (1985)                     2.973684  3.500000  0.526316\n",
        "Barb Wire (1996)                        1.585366  2.100386  0.515020"
       ]
      }
     ],
     "prompt_number": 55
    },
    {
     "cell_type": "code",
     "collapsed": false,
     "input": [
      "#find the most disagreement using standard deviation\n",
      "rating_std_by_title = data.groupby('title')['rating'].std()\n",
      "#filter out the active titles only\n",
      "rating_std_by_title = rating_std_by_title.ix[active_titles]\n",
      "#sort the title in descending order\n",
      "rating_std_by_title.order(ascending=False)[:10]"
     ],
     "language": "python",
     "metadata": {},
     "outputs": [
      {
       "metadata": {},
       "output_type": "pyout",
       "prompt_number": 56,
       "text": [
        "title\n",
        "Dumb & Dumber (1994)                     1.321333\n",
        "Blair Witch Project, The (1999)          1.316368\n",
        "Natural Born Killers (1994)              1.307198\n",
        "Tank Girl (1995)                         1.277695\n",
        "Rocky Horror Picture Show, The (1975)    1.260177\n",
        "Eyes Wide Shut (1999)                    1.259624\n",
        "Evita (1996)                             1.253631\n",
        "Billy Madison (1995)                     1.249970\n",
        "Fear and Loathing in Las Vegas (1998)    1.246408\n",
        "Bicentennial Man (1999)                  1.245533\n",
        "Name: rating, dtype: float64"
       ]
      }
     ],
     "prompt_number": 56
    },
    {
     "cell_type": "code",
     "collapsed": false,
     "input": [
      "#Data Wrangling on the genres\n",
      "movies.genres[:10]"
     ],
     "language": "python",
     "metadata": {},
     "outputs": [
      {
       "metadata": {},
       "output_type": "pyout",
       "prompt_number": 64,
       "text": [
        "0     Animation|Children's|Comedy\n",
        "1    Adventure|Children's|Fantasy\n",
        "2                  Comedy|Romance\n",
        "3                    Comedy|Drama\n",
        "4                          Comedy\n",
        "5           Action|Crime|Thriller\n",
        "6                  Comedy|Romance\n",
        "7            Adventure|Children's\n",
        "8                          Action\n",
        "9       Action|Adventure|Thriller\n",
        "Name: genres, dtype: object"
       ]
      }
     ],
     "prompt_number": 64
    },
    {
     "cell_type": "code",
     "collapsed": false,
     "input": [
      "genre_iter = (set(x.split('|')) for x in movies.genres)\n",
      "genres = sorted(set.union(*genre_iter))\n",
      "genres[:10]"
     ],
     "language": "python",
     "metadata": {},
     "outputs": [
      {
       "metadata": {},
       "output_type": "pyout",
       "prompt_number": 68,
       "text": [
        "['Action',\n",
        " 'Adventure',\n",
        " 'Animation',\n",
        " \"Children's\",\n",
        " 'Comedy',\n",
        " 'Crime',\n",
        " 'Documentary',\n",
        " 'Drama',\n",
        " 'Fantasy',\n",
        " 'Film-Noir']"
       ]
      }
     ],
     "prompt_number": 68
    },
    {
     "cell_type": "code",
     "collapsed": false,
     "input": [
      "#split the genres into separate categories\n",
      "dummies = DataFrame(np.zeros((len(movies), len(genres))), columns=genres)\n",
      "for i, gen in enumerate(movies.genres):\n",
      "    dummies.ix[i, gen.split('|')] = 1\n",
      "movies_windic = movies.join(dummies.add_prefix('Genre_'))\n",
      "movies_windic.ix[0]"
     ],
     "language": "python",
     "metadata": {},
     "outputs": [
      {
       "metadata": {},
       "output_type": "pyout",
       "prompt_number": 70,
       "text": [
        "movie_id                                      1\n",
        "title                          Toy Story (1995)\n",
        "genres              Animation|Children's|Comedy\n",
        "Genre_Action                                  0\n",
        "Genre_Adventure                               0\n",
        "Genre_Animation                               1\n",
        "Genre_Children's                              1\n",
        "Genre_Comedy                                  1\n",
        "...\n",
        "Genre_Horror      0\n",
        "Genre_Musical     0\n",
        "Genre_Mystery     0\n",
        "Genre_Romance     0\n",
        "Genre_Sci-Fi      0\n",
        "Genre_Thriller    0\n",
        "Genre_War         0\n",
        "Genre_Western     0\n",
        "Name: 0, Length: 21, dtype: object"
       ]
      }
     ],
     "prompt_number": 70
    },
    {
     "cell_type": "code",
     "collapsed": false,
     "input": [],
     "language": "python",
     "metadata": {},
     "outputs": []
    }
   ],
   "metadata": {}
  }
 ]
}