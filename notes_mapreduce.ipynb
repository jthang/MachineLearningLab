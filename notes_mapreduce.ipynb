{
 "metadata": {
  "name": "",
  "signature": "sha256:13097d84add66e57d892951f0c5ceb53535d84e65b6f9d74fb214088a68a4190"
 },
 "nbformat": 3,
 "nbformat_minor": 0,
 "worksheets": [
  {
   "cells": [
    {
     "cell_type": "markdown",
     "metadata": {},
     "source": [
      "#Mapreduce"
     ]
    },
    {
     "cell_type": "markdown",
     "metadata": {},
     "source": [
      "- Opensource implementation - Hadoop\n",
      "- MrJob - Using Hadoop framework with Python\n",
      "- Every data is stored in key-value pair\n",
      "- Program the mappers and reducer\n",
      "- Hello World example - famous word count example\n",
      "- define mapper and reducer\n",
      "- python myscript.py <inputfile.txt> outputfile.txt\n",
      "- Always think about efficiency and scaling\n",
      "- Avoid communication - combiners and partitioners\n",
      "- Combiner - mini-reducer, reduce network traffic, but does not have access to other mappers\n",
      "- MapReduce - parallel Breadth-First Search (BFS)\n",
      "- Graph algorithms involves computation at each node\n",
      "- Propagating computations - traversing the graph\n",
      "- Random Walks\n",
      "    - Users starts at a random web page\n",
      "    - User randomly clicks on links, surfing from page to page\n",
      "- PageRanks\n",
      "    - Characterizes the amount of time spent on any given page\n",
      "    - Captures notions of page importance\n"
     ]
    }
   ],
   "metadata": {}
  }
 ]
}