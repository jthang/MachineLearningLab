{
 "metadata": {
  "name": "",
  "signature": "sha256:53f9ace5bc13445efd974bff3534f79c44b9de323e82217c79334ce872a5a71a"
 },
 "nbformat": 3,
 "nbformat_minor": 0,
 "worksheets": [
  {
   "cells": [
    {
     "cell_type": "markdown",
     "metadata": {},
     "source": [
      "#MrJob"
     ]
    },
    {
     "cell_type": "markdown",
     "metadata": {},
     "source": [
      "###Reference"
     ]
    },
    {
     "cell_type": "code",
     "collapsed": false,
     "input": [
      "from mrjob.job import MRJob\n",
      "\n",
      "class MRWordFrequencyCount(MRJob):\n",
      "\n",
      "    def mapper(self, _, line):\n",
      "        yield \"chars\", len(line)\n",
      "        yield \"words\", len(line.split())\n",
      "        yield \"lines\", 1\n",
      "\n",
      "    def reducer(self, key, values):\n",
      "        yield key, sum(values)\n",
      "\n",
      "if __name__ == '__main__':\n",
      "    MRWordFrequencyCount.run()"
     ],
     "language": "python",
     "metadata": {},
     "outputs": []
    },
    {
     "cell_type": "code",
     "collapsed": false,
     "input": [
      "import re\n",
      "\n",
      "WORD_RE = re.compile(r\"[\\w']+\")\n",
      "\n",
      "class MRMostUsedWord(MRJob):\n",
      "    \n",
      "    def mapper_get_words(self, _, line):\n",
      "        for word in WORD_RE.findall(line):\n",
      "            yield (word.lower(), 1)\n",
      "    \n",
      "    def combiner_count_words(self, word, counts):\n",
      "        yield (word, sum(counts))\n",
      "        \n",
      "    def reducer_count_words(self, word, counts):\n",
      "        yield None, (sum(counts), word)\n",
      "    \n",
      "    def reducer_find_max_word(self, _, word_count_pairs):\n",
      "        yield max(word_count_pairs)\n",
      "    \n",
      "    def steps(self):\n",
      "        return [\n",
      "            self.mr(mapper=self.mapper_get_words,\n",
      "                    combiner=self.combiner_count_words,\n",
      "                    reducer=self.reducer_count_words),\n",
      "            self.mr(reducer=self.reducer_find_max_word)\n",
      "        ]\n",
      "\n",
      "if __name__ == '__main__':\n",
      "    MRMostUsedWord.run()"
     ],
     "language": "python",
     "metadata": {},
     "outputs": []
    },
    {
     "cell_type": "code",
     "collapsed": false,
     "input": [
      "def example_generator(list):\n",
      "    for item in list:\n",
      "        yield item\n",
      "\n",
      "my_generator = example_generator([0, 1, 2, 3, 4])\n",
      "\n",
      "for value in my_generator:\n",
      "    print value\n",
      "\n",
      "#it does not work the second time\n",
      "for value in my_generator:\n",
      "    print value"
     ],
     "language": "python",
     "metadata": {},
     "outputs": [
      {
       "output_type": "stream",
       "stream": "stdout",
       "text": [
        "0\n",
        "1\n",
        "2\n",
        "3\n",
        "4\n"
       ]
      }
     ],
     "prompt_number": 6
    },
    {
     "cell_type": "markdown",
     "metadata": {},
     "source": [
      "###1.3 What does <span style=\"font-family: monospace;\">\\_\\_name\\_\\_ <span style=\"color: violet;\">==</span> <span style=\"color: red;\">'\\_\\_main\\_\\_'</span></span> mean??\n",
      "\n",
      "it tells you to run the job only when invoked from the command line"
     ]
    },
    {
     "cell_type": "code",
     "collapsed": false,
     "input": [
      "import numpy as np\n",
      "print np.__name__\n",
      "\n",
      "import matplotlib.pyplot as plt\n",
      "print plt.__name__"
     ],
     "language": "python",
     "metadata": {},
     "outputs": [
      {
       "output_type": "stream",
       "stream": "stdout",
       "text": [
        "numpy\n",
        "matplotlib.pyplot"
       ]
      },
      {
       "output_type": "stream",
       "stream": "stdout",
       "text": [
        "\n"
       ]
      }
     ],
     "prompt_number": 11
    },
    {
     "cell_type": "markdown",
     "metadata": {},
     "source": [
      "#Anagram Finder"
     ]
    },
    {
     "cell_type": "code",
     "collapsed": false,
     "input": [
      "word_list = [word.strip() for word in open(\"data/word_list.txt\").readlines()]\n",
      "print \"{0} words in list\".format(len(word_list))\n",
      "print \"First ten words: {0}\".format(\", \".join(word_list[0:10]))"
     ],
     "language": "python",
     "metadata": {},
     "outputs": [
      {
       "output_type": "stream",
       "stream": "stdout",
       "text": [
        "8199 words in list\n",
        "First ten words: author, earthy, eighth, either, ethics, ethane, ethnic, earths, others, outhit\n"
       ]
      }
     ],
     "prompt_number": 12
    },
    {
     "cell_type": "code",
     "collapsed": false,
     "input": [
      "friends = open(\"data/baseball_friends.csv\").readlines()\n",
      "print friends[0].strip()\n",
      "print len(friends[0].split(\",\")) - 2"
     ],
     "language": "python",
     "metadata": {},
     "outputs": [
      {
       "output_type": "stream",
       "stream": "stdout",
       "text": [
        "Aaden, Red Sox, Alannah, Alayna, Alex, Alondra, Amelia, Amir, Anika, Annie, Ansley, Archer, Ashley, Ayana, Azaria, Barrett, Bentley, Bryant, Cayden, Charlie, Damari, Danna, Deon, Devyn, Elaina, Elaine, Emery, Emily, Ethan, Finn, Fiona, Frank, Immanuel, Isabella, Ishaan, Issac, Ivan, Izabella, Jack, Jasiah, Jason, Jazmin, Jeffrey, Kassidy, Kelvin, Khloe, Landen, Lauryn, Major, Malakai, Malia, Mike, Mila, Moshe, Nasir, Raiden, Raina, Raphael, Raquel, Raylee, Sam, Saniya, Thalia, Tommy, Yaretzi, Yasmin, Zavier\n",
        "65\n"
       ]
      }
     ],
     "prompt_number": 18
    },
    {
     "cell_type": "code",
     "collapsed": false,
     "input": [
      "%matplotlib inline\n",
      "import pandas as pd\n",
      "import numpy as np\n",
      "import matplotlib.pyplot as plt\n",
      "from matplotlib import rcParams\n",
      "import json\n",
      "\n",
      "pd.options.display.max_columns = 10 \n",
      "pd.options.display.width = 134\n",
      "pd.options.display.max_rows = 20\n",
      "\n",
      "rcParams['figure.figsize'] = (10, 6)\n",
      "plt.style.use('ggplot')"
     ],
     "language": "python",
     "metadata": {},
     "outputs": [],
     "prompt_number": 32
    },
    {
     "cell_type": "code",
     "collapsed": false,
     "input": [
      "result_file = \"data/baseball_friends.out\"\n",
      "result = [[json.loads(field) for field in line.strip().split('\\t')] for line in open(result_file)]\n",
      "\n",
      "names = [x[0] for x in result]\n",
      "teams = [x[1][0] for x in result]\n",
      "redsox_count = [x[1][1] for x in result]\n",
      "cardinals_count = [x[1][2] for x in result]\n",
      "\n",
      "df = pd.DataFrame(dict(names=names,\n",
      "                       teams=teams, \n",
      "                       redsox_count=redsox_count, \n",
      "                       cardinals_count=cardinals_count))\n",
      "\n",
      "df.set_index('names', inplace=True)\n",
      "df.head()"
     ],
     "language": "python",
     "metadata": {},
     "outputs": [
      {
       "html": [
        "<div style=\"max-height:1000px;max-width:1500px;overflow:auto;\">\n",
        "<table border=\"1\" class=\"dataframe\">\n",
        "  <thead>\n",
        "    <tr style=\"text-align: right;\">\n",
        "      <th></th>\n",
        "      <th>cardinals_count</th>\n",
        "      <th>redsox_count</th>\n",
        "      <th>teams</th>\n",
        "    </tr>\n",
        "    <tr>\n",
        "      <th>names</th>\n",
        "      <th></th>\n",
        "      <th></th>\n",
        "      <th></th>\n",
        "    </tr>\n",
        "  </thead>\n",
        "  <tbody>\n",
        "    <tr>\n",
        "      <th>Aaden</th>\n",
        "      <td> 18</td>\n",
        "      <td> 47</td>\n",
        "      <td>   Red Sox</td>\n",
        "    </tr>\n",
        "    <tr>\n",
        "      <th>Aaliyah</th>\n",
        "      <td> 43</td>\n",
        "      <td> 30</td>\n",
        "      <td> Cardinals</td>\n",
        "    </tr>\n",
        "    <tr>\n",
        "      <th>Aarav</th>\n",
        "      <td> 55</td>\n",
        "      <td> 27</td>\n",
        "      <td> Cardinals</td>\n",
        "    </tr>\n",
        "    <tr>\n",
        "      <th>Aaron</th>\n",
        "      <td> 24</td>\n",
        "      <td> 55</td>\n",
        "      <td>   Red Sox</td>\n",
        "    </tr>\n",
        "    <tr>\n",
        "      <th>Abbie</th>\n",
        "      <td> 38</td>\n",
        "      <td> 32</td>\n",
        "      <td> Cardinals</td>\n",
        "    </tr>\n",
        "  </tbody>\n",
        "</table>\n",
        "</div>"
       ],
       "metadata": {},
       "output_type": "pyout",
       "prompt_number": 58,
       "text": [
        "         cardinals_count  redsox_count      teams\n",
        "names                                            \n",
        "Aaden                 18            47    Red Sox\n",
        "Aaliyah               43            30  Cardinals\n",
        "Aarav                 55            27  Cardinals\n",
        "Aaron                 24            55    Red Sox\n",
        "Abbie                 38            32  Cardinals"
       ]
      }
     ],
     "prompt_number": 58
    },
    {
     "cell_type": "code",
     "collapsed": false,
     "input": [
      "# print df.groupby('teams').mean()\n",
      "\n",
      "plt.hist(df.redsox_count[df.teams == 'Red Sox'], label='R friends with R')\n",
      "# plt.hist(df.cardinals_count[df.teams == 'Cardinals'], label='C friends with C')\n",
      "# plt.hist(df.redsox_count[df.teams == 'Cardinals'], label='C friends with R')\n",
      "plt.hist(df.cardinals_count[df.teams == 'Red Sox'], label='R friends with C')\n",
      "plt.legend(loc='best')\n",
      "\n",
      "# plt.xlabel(\"Teams\")\n",
      "# plt.ylabel(\"Count\")\n"
     ],
     "language": "python",
     "metadata": {},
     "outputs": [
      {
       "metadata": {},
       "output_type": "pyout",
       "prompt_number": 70,
       "text": [
        "<matplotlib.legend.Legend at 0x10e290150>"
       ]
      },
      {
       "metadata": {},
       "output_type": "display_data",
       "png": "[encoded data removed]",
       "text": [
        "<matplotlib.figure.Figure at 0x10d59e950>"
       ]
      }
     ],
     "prompt_number": 70
    }
   ],
   "metadata": {}
  }
 ]
}