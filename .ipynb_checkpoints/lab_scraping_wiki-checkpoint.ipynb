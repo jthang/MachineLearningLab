{
 "metadata": {
  "name": "",
  "signature": "sha256:56ecb68d263be17706c21909701e31f6cdb471f8c0366405d919892a904e3bed"
 },
 "nbformat": 3,
 "nbformat_minor": 0,
 "worksheets": [
  {
   "cells": [
    {
     "cell_type": "code",
     "collapsed": false,
     "input": [
      "%matplotlib inline\n",
      "\n",
      "from collections import defaultdict\n",
      "import pandas as pd\n",
      "import matplotlib as plt\n",
      "import requests\n",
      "from pattern import web"
     ],
     "language": "python",
     "metadata": {},
     "outputs": [],
     "prompt_number": 2
    },
    {
     "cell_type": "code",
     "collapsed": false,
     "input": [],
     "language": "python",
     "metadata": {},
     "outputs": []
    }
   ],
   "metadata": {}
  }
 ]
}