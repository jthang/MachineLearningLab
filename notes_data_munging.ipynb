{
 "metadata": {
  "name": "",
  "signature": "sha256:c3dc1cb61358e0046e225455a88ae5891f75f1d042c8e9bdadd46cd62a10adfb"
 },
 "nbformat": 3,
 "nbformat_minor": 0,
 "worksheets": [
  {
   "cells": [
    {
     "cell_type": "markdown",
     "metadata": {},
     "source": [
      "#Data Munging"
     ]
    },
    {
     "cell_type": "markdown",
     "metadata": {},
     "source": [
      "* Data collection\n",
      "* Data cleaning\n",
      "* Data scraping"
     ]
    },
    {
     "cell_type": "markdown",
     "metadata": {},
     "source": [
      "#Data Collection\n",
      "* Web-scraping, API\n",
      "* JSON format - p-value pair, dicts and lists\n",
      "* HTTP Request URL: Get requests\n",
      "* XML / HTML\n",
      "* DOM - hierarchy of the webpage, traverse the DOM, get elements, and interpret those elements"
     ]
    },
    {
     "cell_type": "markdown",
     "metadata": {},
     "source": [
      "#Data Scraping\n",
      "* Public, non-sensitive, anonymized data\n",
      "* Always cite sources\n",
      "* Check robots.txt to let you know what is allowed to scrape\n",
      "* Use Pattern or BeautifulSoup"
     ]
    },
    {
     "cell_type": "code",
     "collapsed": false,
     "input": [
      "import requests\n",
      "from pattern import web\n",
      "from BeautifulSoup import BeautifulSoup"
     ],
     "language": "python",
     "metadata": {},
     "outputs": [],
     "prompt_number": 2
    },
    {
     "cell_type": "code",
     "collapsed": false,
     "input": [
      "#1. Using explicit URL\n",
      "url = 'http://www.imdb.com/search/title?at=0&genres=comedy&groups=top_100&sort=num_votes'\n",
      "r = requests.get(url)\n",
      "print r.url"
     ],
     "language": "python",
     "metadata": {},
     "outputs": [
      {
       "output_type": "stream",
       "stream": "stdout",
       "text": [
        "http://www.imdb.com/search/title?at=0&genres=comedy&groups=top_100&sort=num_votes\n"
       ]
      }
     ],
     "prompt_number": 3
    },
    {
     "cell_type": "code",
     "collapsed": false,
     "input": [
      "#2. Using Base URL with GET dictionary\n",
      "url = 'http://www.imdb.com/search/title'\n",
      "params = dict(at=0, genres='comedy',groups='top_100',sort='num_votes')\n",
      "r = requests.get(url, params=params)\n",
      "print r.url"
     ],
     "language": "python",
     "metadata": {},
     "outputs": [
      {
       "output_type": "stream",
       "stream": "stdout",
       "text": [
        "http://www.imdb.com/search/title?sort=num_votes&genres=comedy&at=0&groups=top_100\n"
       ]
      }
     ],
     "prompt_number": 7
    },
    {
     "cell_type": "code",
     "collapsed": false,
     "input": [
      "import io\n",
      "dom = web.Element(r.text)\n",
      "\n",
      "with io.open('movies.txt', 'a', encoding='utf8') as moviefile:\n",
      "    for movie in dom.by_tag('td.title'):\n",
      "        title = movie.by_tag('a')[0].content\n",
      "        genres = movie.by_tag('span.genre')[0].by_tag('a')\n",
      "        genres = [g.content for g in genres]\n",
      "        runtime = movie.by_tag('span.runtime')[0].content\n",
      "        rating = movie.by_tag('span.value')[0].content\n",
      "        moviefile.write(u\"%s, %s, %s, %s\\n\" % (title, genres, runtime, rating))\n",
      "        print title, genres, runtime, rating"
     ],
     "language": "python",
     "metadata": {},
     "outputs": [
      {
       "output_type": "stream",
       "stream": "stdout",
       "text": [
        "Back to the Future [u'Adventure', u'Comedy', u'Sci-Fi'] 116 mins. 8.5\n",
        "Snatch. [u'Comedy', u'Crime'] 104 mins. 8.3\n",
        "Am&#xE9;lie [u'Comedy', u'Romance'] 122 mins. 8.5\n",
        "Toy Story 3 [u'Animation', u'Adventure', u'Comedy', u'Family', u'Fantasy'] 103 mins. 8.4\n",
        "The Intouchables [u'Biography', u'Comedy', u'Drama'] 112 mins. 8.6\n",
        "Monty Python and the Holy Grail [u'Adventure', u'Comedy', u'Fantasy'] 91 mins. 8.4\n",
        "Life Is Beautiful [u'Comedy', u'Drama', u'Romance'] 116 mins. 8.6\n",
        "Dr. Strangelove or: How I Learned to Stop Worrying and Love the Bomb [u'Comedy', u'War'] 95 mins. 8.5\n",
        "Some Like It Hot"
       ]
      },
      {
       "output_type": "stream",
       "stream": "stdout",
       "text": [
        " [u'Comedy'] 120 mins. 8.3\n",
        "The Sting [u'Comedy', u'Crime', u'Drama'] 129 mins. 8.4\n",
        "Singin&#x27; in the Rain [u'Comedy', u'Musical', u'Romance'] 103 mins. 8.4\n",
        "Modern Times [u'Comedy'] 87 mins. 8.6\n",
        "The Great Dictator [u'Comedy', u'Drama', u'War'] 125 mins. 8.5\n",
        "The Apartment [u'Comedy', u'Drama', u'Romance'] 125 mins. 8.4\n",
        "City Lights [u'Comedy', u'Drama', u'Romance'] 87 mins. 8.6\n",
        "The Kid [u'Comedy', u'Drama', u'Family'] 68 mins. 8.4\n"
       ]
      }
     ],
     "prompt_number": 15
    },
    {
     "cell_type": "code",
     "collapsed": false,
     "input": [
      "!head 'movies.txt'"
     ],
     "language": "python",
     "metadata": {},
     "outputs": [
      {
       "output_type": "stream",
       "stream": "stdout",
       "text": [
        "Back to the Future, [u'Adventure', u'Comedy', u'Sci-Fi'], 116 mins., 8.5\r\n",
        "Snatch., [u'Comedy', u'Crime'], 104 mins., 8.3\r\n",
        "Am&#xE9;lie, [u'Comedy', u'Romance'], 122 mins., 8.5\r\n",
        "Toy Story 3, [u'Animation', u'Adventure', u'Comedy', u'Family', u'Fantasy'], 103 mins., 8.4\r\n",
        "The Intouchables, [u'Biography', u'Comedy', u'Drama'], 112 mins., 8.6\r\n",
        "Monty Python and the Holy Grail, [u'Adventure', u'Comedy', u'Fantasy'], 91 mins., 8.4\r\n",
        "Life Is Beautiful, [u'Comedy', u'Drama', u'Romance'], 116 mins., 8.6\r\n",
        "Dr. Strangelove or: How I Learned to Stop Worrying and Love the Bomb, [u'Comedy', u'War'], 95 mins., 8.5\r\n",
        "Some Like It Hot, [u'Comedy'], 120 mins., 8.3\r\n",
        "The Sting, [u'Comedy', u'Crime', u'Drama'], 129 mins., 8.4\r\n"
       ]
      }
     ],
     "prompt_number": 16
    },
    {
     "cell_type": "markdown",
     "metadata": {},
     "source": [
      "#Exploratory Data Analysis\n",
      "\n",
      "The basic workflow is as follows:\n",
      "\n",
      "1. **Build** a DataFrame from the data (ideally, put *all* data in this object)\n",
      "2. **Clean** the DataFrame. It should have the following properties:\n",
      "   * Each row describes a single object\n",
      "   * Each column describes a property of that object\n",
      "   * Columns are numeric whenever appropriate\n",
      "   * Columns contain atomic properties that cannot be further decomposed\n",
      "3. Explore **global properties**. Use histograms, scatter plots, and aggregation functions to summarize the data.\n",
      "4. Explore **group properties**. Use groupby and small multiples to compare subsets of the data.\n",
      "\n",
      "This process transforms your data into a format which is easier to work with, gives you a basic overview of \n",
      "the data's properties, and likely generates several questions for you to followup in subsequent analysis.\n",
      "\n",
      "Source:\n",
      "* [A Rubric for Data Wrangling and Exploration](http://nbviewer.ipython.org/github/cs109/content/blob/master/lec_04_wrangling.ipynb)"
     ]
    }
   ],
   "metadata": {}
  }
 ]
}