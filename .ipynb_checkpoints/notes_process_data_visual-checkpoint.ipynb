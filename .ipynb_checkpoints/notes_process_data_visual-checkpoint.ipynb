{
 "metadata": {
  "name": "",
  "signature": "sha256:267c8307da18c64d32ae3163a7239ec9bd3c50481398e882740b5524eb9fdeb5"
 },
 "nbformat": 3,
 "nbformat_minor": 0,
 "worksheets": [
  {
   "cells": [
    {
     "cell_type": "markdown",
     "metadata": {},
     "source": [
      "#Process, Data, and Visual Attributes"
     ]
    },
    {
     "cell_type": "markdown",
     "metadata": {},
     "source": [
      "###Exploratory Data Analysis\n",
      "* People spend most of their time cleaning the data\n",
      "* Learn to integrate, cleansing, and transforming data\n",
      "* SQL and Python very common\n",
      "* Read Enterprise Data Analysis Research Paper\n",
      "* Look at as many visualization as possible\n",
      "* Process book - how to get data, design, visualization, how you model (documentation)"
     ]
    },
    {
     "cell_type": "markdown",
     "metadata": {},
     "source": [
      "###Good Practices\n",
      "* Comment your code\n",
      "* Break down code into small functional pieces (modularity)\n",
      "* Array-oriented computing\n",
      "* Use assert statements and tests\n",
      "* Use github"
     ]
    },
    {
     "cell_type": "markdown",
     "metadata": {},
     "source": [
      "###Data Types & Visualization\n",
      "* Nominal (categorial) - categorial of things\n",
      "* Ordinal, Interval, Ratio - obey certain a < relationship (less than, more than)\n",
      "* Quantitative, nominal, ordinal\n",
      "* Amount of attributes (univariate, bivariate, multivariate)\n",
      "* How to represent multi-variate?\n",
      "* Focus on date reduction - filtering, aggegration (dimensional reduction)"
     ]
    }
   ],
   "metadata": {}
  }
 ]
}