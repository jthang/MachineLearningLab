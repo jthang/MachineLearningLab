{
 "metadata": {
  "name": "",
  "signature": "sha256:bfea4215377304251ecd6c775d99af965354b28799cf3785ecc1837670a19291"
 },
 "nbformat": 3,
 "nbformat_minor": 0,
 "worksheets": [
  {
   "cells": [
    {
     "cell_type": "code",
     "collapsed": false,
     "input": [
      "%matplotlib inline\n",
      "import pandas as pd\n",
      "import numpy as np\n",
      "import matplotlib.pyplot as plt\n",
      "from matplotlib import rcParams\n",
      "\n",
      "pd.options.display.max_columns = 10 \n",
      "pd.options.display.width = 134\n",
      "pd.options.display.max_rows = 20\n",
      "\n",
      "rcParams['figure.figsize'] = (10, 6)\n",
      "plt.style.use('bmh')\n",
      "colors = [\"#348ABD\", \"#A60628\", \"#7A68A6\", \"#467821\", \"#CF4457\", \"#188487\", \"#E24A33\"]"
     ],
     "language": "python",
     "metadata": {},
     "outputs": [],
     "prompt_number": 12
    },
    {
     "cell_type": "markdown",
     "metadata": {},
     "source": [
      "#Support Vector Machines\n",
      "- Finds a plane (hyperplane) which separates the data of either class\n",
      "- Might have infinite number of planes or none\n",
      "- Choose one which maximizes the distance between the separating hyperplane and closest vectors (support vectors)\n",
      "- Need to consider if data is linearly separable, if not we can select a kernel function (radial etc)"
     ]
    },
    {
     "cell_type": "markdown",
     "metadata": {},
     "source": [
      "#Support Vector Classifer (SVC)"
     ]
    },
    {
     "cell_type": "code",
     "collapsed": false,
     "input": [
      "svc_data = np.genfromtxt('data/svm.csv',delimiter = ',')\n",
      "class1 = svc_data[0:5]\n",
      "class2 = svc_data[5:10]\n",
      "print class1\n",
      "print class2"
     ],
     "language": "python",
     "metadata": {},
     "outputs": [
      {
       "output_type": "stream",
       "stream": "stdout",
       "text": [
        "[[-1.214 -1.178  0.   ]\n",
        " [-4.231 -5.235  0.   ]\n",
        " [-2.318 -7.908  0.   ]\n",
        " [-8.435 -1.324  0.   ]\n",
        " [-9.992 -3.456  0.   ]]\n",
        "[[ 1.123  8.435  1.   ]\n",
        " [ 4.389  3.123  1.   ]\n",
        " [ 1.113  1.888  1.   ]\n",
        " [ 5.312  9.123  1.   ]\n",
        " [ 4.124  8.432  1.   ]]\n"
       ]
      }
     ],
     "prompt_number": 5
    },
    {
     "cell_type": "code",
     "collapsed": false,
     "input": [
      "print class1[:,0] #column as row vector\n",
      "print class1[:,1]"
     ],
     "language": "python",
     "metadata": {},
     "outputs": [
      {
       "output_type": "stream",
       "stream": "stdout",
       "text": [
        "[-1.214 -4.231 -2.318 -8.435 -9.992]\n",
        "[-1.178 -5.235 -7.908 -1.324 -3.456]\n"
       ]
      }
     ],
     "prompt_number": 62
    },
    {
     "cell_type": "code",
     "collapsed": false,
     "input": [
      "with plt.style.context('ggplot'):\n",
      "    plt.scatter(class1[:,0],class1[:,1], c = colors[0], s=60, marker = 'o')\n",
      "    plt.scatter(class2[:,0],class2[:,1], c = colors[1], s=60, marker = 'x')\n",
      "    plt.legend(loc='best')"
     ],
     "language": "python",
     "metadata": {},
     "outputs": [
      {
       "metadata": {},
       "output_type": "display_data",
       "png": "[encoded data removed]",
       "text": [
        "<matplotlib.figure.Figure at 0x10bbefd50>"
       ]
      }
     ],
     "prompt_number": 65
    },
    {
     "cell_type": "markdown",
     "metadata": {},
     "source": [
      "###Fitting a SVC"
     ]
    },
    {
     "cell_type": "code",
     "collapsed": false,
     "input": [
      "from sklearn import svm\n",
      "\n",
      "X = np.column_stack((svc_data[:,0],svc_data[:,1]))\n",
      "y = svc_data[:,2]\n",
      "clf = svm.SVC(kernel='linear')\n",
      "clf.fit(X, y)\n",
      "\n",
      "plt.scatter(class1[:,0],class1[:,1], c = 'blue', marker = 'o',s=20)\n",
      "plt.scatter(class2[:,0],class2[:,1], c = 'red', marker = 'x',s=20)\n",
      "plt.scatter(clf.support_vectors_[0,0],clf.support_vectors_[0,1],c='blue',marker = '*',s=200)\n",
      "plt.scatter(clf.support_vectors_[1,0],clf.support_vectors_[1,1],c='red',marker = '<', s = 100)\n",
      "\n",
      "#Separating hyperplane\n",
      "w = clf.coef_[0]\n",
      "a = -w[0] / w[1]\n",
      "xx = np.linspace(-15, 10)\n",
      "yy = a * xx - (clf.intercept_[0]) / w[1]\n",
      "t = np.linspace(-15,10,100) # 100 linearly spaced numbers\n",
      "plt.plot(xx,yy)"
     ],
     "language": "python",
     "metadata": {},
     "outputs": [
      {
       "metadata": {},
       "output_type": "pyout",
       "prompt_number": 70,
       "text": [
        "[<matplotlib.lines.Line2D at 0x10b95bf50>]"
       ]
      },
      {
       "metadata": {},
       "output_type": "display_data",
       "png": "[encoded data removed]",
       "text": [
        "<matplotlib.figure.Figure at 0x108970a10>"
       ]
      }
     ],
     "prompt_number": 70
    },
    {
     "cell_type": "code",
     "collapsed": false,
     "input": [],
     "language": "python",
     "metadata": {},
     "outputs": []
    }
   ],
   "metadata": {}
  }
 ]
}