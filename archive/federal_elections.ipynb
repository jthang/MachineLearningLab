{
 "metadata": {
  "name": "",
  "signature": "sha256:5e1fb58f4acd3a36fef3cebb2c5e2e123ba031025c86cd8f98b24507cdc31f4d"
 },
 "nbformat": 3,
 "nbformat_minor": 0,
 "worksheets": [
  {
   "cells": [
    {
     "cell_type": "code",
     "collapsed": false,
     "input": [
      "%matplotlib inline\n",
      "from pandas import Series, DataFrame\n",
      "import pandas as pd\n",
      "import numpy as np\n",
      "import matplotlib.pyplot as plt\n",
      "\n",
      "pd.set_option('display.mpl_style', 'default')\n",
      "plt.rcParams['figure.figsize'] = (15, 5)\n",
      "\n",
      "pd.set_option('html', False)\n",
      "pd.set_option('max_columns', 30)\n",
      "pd.set_option('max_rows', 20)"
     ],
     "language": "python",
     "metadata": {},
     "outputs": []
    },
    {
     "cell_type": "code",
     "collapsed": false,
     "input": [
      "fec = pd.read_csv('data/P00000001-ALL.csv')\n",
      "fec"
     ],
     "language": "python",
     "metadata": {},
     "outputs": []
    },
    {
     "cell_type": "code",
     "collapsed": false,
     "input": [
      "#sample record\n",
      "fec.ix[12345]"
     ],
     "language": "python",
     "metadata": {},
     "outputs": []
    },
    {
     "cell_type": "code",
     "collapsed": false,
     "input": [
      "#List the unique candidates\n",
      "unique_cands = fec.cand_nm.unique()\n",
      "unique_cands"
     ],
     "language": "python",
     "metadata": {},
     "outputs": []
    },
    {
     "cell_type": "code",
     "collapsed": false,
     "input": [
      "#Indicate Party Affiliation using a dict\n",
      "parties = {'Bachmann, Michelle': 'Republican', 'Cain, Herman': 'Republican',\n",
      "        'Gingrich, Newt': 'Republican', 'Huntsman, Jon': 'Republican', \n",
      "        'Johnson, Gary Earl': 'Republican', 'McCotter, Thaddeus G': 'Republican', 'Obama, Barack': 'Democrat',\n",
      "        'Paul, Ron': 'Republican',\n",
      "        'Pawlenty, Timothy': 'Republican',\n",
      "        'Perry, Rick': 'Republican',\n",
      "        \"Roemer, Charles E. 'Buddy' III\": 'Republican',\n",
      "        'Romney, Mitt': 'Republican', 'Santorum, Rick': 'Republican'}"
     ],
     "language": "python",
     "metadata": {},
     "outputs": []
    },
    {
     "cell_type": "code",
     "collapsed": false,
     "input": [
      "fec.cand_nm[123456:123461]"
     ],
     "language": "python",
     "metadata": {},
     "outputs": []
    },
    {
     "cell_type": "code",
     "collapsed": false,
     "input": [
      "fec.cand_nm[123456:123461].map(parties)"
     ],
     "language": "python",
     "metadata": {},
     "outputs": []
    },
    {
     "cell_type": "code",
     "collapsed": false,
     "input": [
      "#add the parties as a column and map it\n",
      "fec['party'] = fec.cand_nm.map(parties)"
     ],
     "language": "python",
     "metadata": {},
     "outputs": []
    },
    {
     "cell_type": "code",
     "collapsed": false,
     "input": [
      "fec['party'].value_counts()"
     ],
     "language": "python",
     "metadata": {},
     "outputs": []
    },
    {
     "cell_type": "code",
     "collapsed": false,
     "input": [
      "#check for negative contribution\n",
      "(fec.contb_receipt_amt > 0).value_counts()"
     ],
     "language": "python",
     "metadata": {},
     "outputs": []
    },
    {
     "cell_type": "code",
     "collapsed": false,
     "input": [
      "#restrict data set to positive contributions only\n",
      "fec = fec[fec.contb_receipt_amt > 0]\n",
      "fec[:10]"
     ],
     "language": "python",
     "metadata": {},
     "outputs": []
    },
    {
     "cell_type": "code",
     "collapsed": false,
     "input": [
      "by_date = fec.groupby(['party', 'contb_receipt_dt'])['contb_receipt_amt'].sum()\n",
      "by_date"
     ],
     "language": "python",
     "metadata": {},
     "outputs": []
    },
    {
     "cell_type": "code",
     "collapsed": false,
     "input": [
      "by_date.unstack('party')"
     ],
     "language": "python",
     "metadata": {},
     "outputs": []
    },
    {
     "cell_type": "code",
     "collapsed": false,
     "input": [
      "by_date.unstack('party').cumsum().plot()"
     ],
     "language": "python",
     "metadata": {},
     "outputs": []
    },
    {
     "cell_type": "code",
     "collapsed": false,
     "input": [
      "#create a subset with only Obama and Romney\n",
      "fec_mrbo = fec[fec.cand_nm.isin(['Obama, Barack', 'Romney, Mitt'])]\n",
      "fec_mrbo"
     ],
     "language": "python",
     "metadata": {},
     "outputs": []
    },
    {
     "cell_type": "code",
     "collapsed": false,
     "input": [
      "#Donations by occupation\n",
      "fec.contbr_occupation.value_counts()[:10]"
     ],
     "language": "python",
     "metadata": {},
     "outputs": []
    },
    {
     "cell_type": "code",
     "collapsed": false,
     "input": [
      "fec.replace('INFORMATION REQUESTED', np.nan)\n",
      "fec.ix[2]"
     ],
     "language": "python",
     "metadata": {},
     "outputs": []
    },
    {
     "cell_type": "code",
     "collapsed": false,
     "input": [
      "#mapping not working!\n",
      "#cleaning data: map those no information entries together (occupation & employers)\n",
      "fec['contbr_occupation'].replace({'ENGINEER':'NOT PROVIDED'})\n",
      "\n",
      "#                                'INFORMATION REQUESTED' : 'NOT PROVIDED',\n",
      "#                                'INFORMATION REQUESTED (BEST EFFORTS)' : 'NOT PROVIDED',\n",
      "#                                'C.E.O.': 'CEO'\n",
      "#                                })\n",
      "# fec.contbr_employer.replace({'INFORMATION REQUESTED PER BEST EFFORTS' : 'NOT PROVIDED', \n",
      "#                                'INFORMATION REQUESTED' : 'NOT PROVIDED', \n",
      "#                                'SELF' : 'SELF-EMPLOYED',\n",
      "#                                'SELF EMPLOYED' : 'SELF-EMPLOYED',\n",
      "#                                })\n",
      "                \n",
      "fec['contbr_occupation']\n",
      "# occ_mapping = {'INFORMATION REQUESTED PER BEST EFFORTS':'NOT PROVIDED'}\n",
      "# f = lambda x: occ_mapping.get(x, x)\n",
      "#  = fec.contbr_occupation.map(f)"
     ],
     "language": "python",
     "metadata": {},
     "outputs": []
    },
    {
     "cell_type": "code",
     "collapsed": false,
     "input": [
      "# emp_mapping = {\n",
      "#             'INFORMATION REQUESTED PER BEST EFFORTS' : 'NOT PROVIDED', \n",
      "# 'INFORMATION REQUESTED' : 'NOT PROVIDED',\n",
      "#             'SELF' : 'SELF-EMPLOYED',\n",
      "#             'SELF EMPLOYED' : 'SELF-EMPLOYED',\n",
      "#             }\n",
      "# f = lambda x: emp_mapping.get(x, x) \n",
      "# fec.contbr_employer = fec.contbr_employer.map(f)"
     ],
     "language": "python",
     "metadata": {},
     "outputs": []
    },
    {
     "cell_type": "code",
     "collapsed": false,
     "input": [
      "#pivot table to aggregate by party and occupation\n",
      "by_occupation = fec.pivot_table('contb_receipt_amt', index = 'contbr_occupation',\n",
      "                                cols='party', aggfunc='sum')\n",
      "by_occupation[:10]"
     ],
     "language": "python",
     "metadata": {},
     "outputs": []
    },
    {
     "cell_type": "code",
     "collapsed": false,
     "input": [
      "#sort out those above $2m\n",
      "over_2mm = by_occupation[by_occupation.sum(axis=1) > 2000000]\n",
      "over_2mm[:10]"
     ],
     "language": "python",
     "metadata": {},
     "outputs": []
    },
    {
     "cell_type": "code",
     "collapsed": false,
     "input": [
      "over_2mm.plot(kind='barh')"
     ],
     "language": "python",
     "metadata": {},
     "outputs": []
    },
    {
     "cell_type": "code",
     "collapsed": false,
     "input": [
      "#find out top donor occupations or top companies donating to Obama and Romney\n",
      "def get_top_amounts(group, key, n=5):\n",
      "    totals = group.groupby(key)['contb_receipt_amt'].sum()\n",
      "    # Order totals by key in descending order \n",
      "    return totals.order(ascending=False)[:n]\n",
      "grouped = fec_mrbo.groupby('cand_nm')\n",
      "grouped.apply(get_top_amounts, 'contbr_occupation', n=7)"
     ],
     "language": "python",
     "metadata": {},
     "outputs": []
    },
    {
     "cell_type": "code",
     "collapsed": false,
     "input": [
      "grouped.apply(get_top_amounts, 'contbr_employer', n=10)"
     ],
     "language": "python",
     "metadata": {},
     "outputs": []
    },
    {
     "cell_type": "code",
     "collapsed": false,
     "input": [
      "#discretize the contributor to different buckets\n",
      "bins = np.array([0, 1, 10, 100, 1000, 10000, 100000, 1000000, 10000000])\n",
      "labels = pd.cut(fec_mrbo.contb_receipt_amt, bins)\n",
      "labels"
     ],
     "language": "python",
     "metadata": {},
     "outputs": []
    },
    {
     "cell_type": "code",
     "collapsed": false,
     "input": [
      "#group them according to bins (count)\n",
      "grouped = fec_mrbo.groupby(['cand_nm', labels])\n",
      "grouped.size().unstack(0)"
     ],
     "language": "python",
     "metadata": {},
     "outputs": []
    },
    {
     "cell_type": "code",
     "collapsed": false,
     "input": [
      "#show the total value per bin\n",
      "bucket_sums = grouped.contb_receipt_amt.sum().unstack(0)\n",
      "bucket_sums"
     ],
     "language": "python",
     "metadata": {},
     "outputs": []
    },
    {
     "cell_type": "code",
     "collapsed": false,
     "input": [
      "#normalized to show the proportion\n",
      "normed_sums = bucket_sums.div(bucket_sums.sum(axis=1), axis=0)\n",
      "normed_sums"
     ],
     "language": "python",
     "metadata": {},
     "outputs": []
    },
    {
     "cell_type": "code",
     "collapsed": false,
     "input": [
      "normed_sums.plot(kind='barh', stacked=True)"
     ],
     "language": "python",
     "metadata": {},
     "outputs": []
    },
    {
     "cell_type": "code",
     "collapsed": false,
     "input": [
      "#remove the last 2 as they are not by individuals\n",
      "normed_sums[:-2].plot(kind='barh', stacked=True)"
     ],
     "language": "python",
     "metadata": {},
     "outputs": []
    },
    {
     "cell_type": "code",
     "collapsed": false,
     "input": [
      "#Donation Statistics by State\n",
      "grouped = fec_mrbo.groupby(['cand_nm', 'contbr_st']) #from the subset, get the group by state\n",
      "totals = grouped.contb_receipt_amt.sum().unstack(0).fillna(0) #find total receipt amt for each state\n",
      "totals = totals[totals.sum(1) > 100000] #only those above $1m\n",
      "totals[:10]"
     ],
     "language": "python",
     "metadata": {},
     "outputs": []
    },
    {
     "cell_type": "code",
     "collapsed": false,
     "input": [
      "#proportion of contribution to total amount\n",
      "percent  = totals.div(totals.sum(axis=1), axis=0)\n",
      "percent[:10]"
     ],
     "language": "python",
     "metadata": {},
     "outputs": []
    },
    {
     "cell_type": "code",
     "collapsed": false,
     "input": [
      "percent[:10].plot(kind='barh', stacked=True)"
     ],
     "language": "python",
     "metadata": {},
     "outputs": []
    },
    {
     "cell_type": "code",
     "collapsed": false,
     "input": [
      "#plot on a map\n",
      "\n",
      "from mpl_toolkits.basemap import Basemap, cm \n",
      "import numpy as np\n",
      "from matplotlib import rcParams\n",
      "from matplotlib.collections import LineCollection \n",
      "import matplotlib.pyplot as plt\n",
      "\n",
      "from shapelib import ShapeFile \n",
      "import dbflib\n",
      "\n",
      "obama = percent['Obama, Barack']\n",
      "\n",
      "fig = plt.figure(figsize=(12, 12)) \n",
      "ax = fig.add_axes([0.1,0.1,0.8,0.8])\n",
      "\n",
      "lllat = 21; urlat = 53; lllon = -118; urlon = -62\n",
      "\n",
      "m = Basemap(ax=ax, projection='stere',\n",
      "            lon_0=(urlon + lllon) / 2, lat_0=(urlat + lllat) / 2, \n",
      "            llcrnrlat=lllat, urcrnrlat=urlat, llcrnrlon=lllon, \n",
      "            urcrnrlon=urlon, resolution='l')\n",
      "m.drawcoastlines() \n",
      "m.drawcountries()\n",
      "\n",
      "shp = ShapeFile('../states/statesp020') \n",
      "dbf = dbflib.open('../states/statesp020')\n",
      "\n",
      "for npoly in range(shp.info()[0]):\n",
      "    # Draw colored polygons on the map shpsegs = []\n",
      "    shp_object = shp.read_object(npoly) \n",
      "    verts = shp_object.vertices()\n",
      "    rings = len(verts)\n",
      "    for ring in range(rings):\n",
      "        lons, lats = zip(*verts[ring]) \n",
      "        x, y = m(lons, lats) \n",
      "        shpsegs.append(zip(x,y))\n",
      "        if ring == 0:\n",
      "            shapedict = dbf.read_record(npoly) \n",
      "        name = shapedict['STATE']\n",
      "    lines = LineCollection(shpsegs,antialiaseds=(1,))\n",
      "\n",
      "    # state_to_code dict, e.g. 'ALASKA' -> 'AK', omitted\n",
      "    try:\n",
      "        per = obama[state_to_code[name.upper()]]\n",
      "    except KeyError: \n",
      "        continue\n",
      "\n",
      "    lines.set_facecolors('k')\n",
      "    lines.set_alpha(0.75 * per) # Shrink the percentage a bit lines.set_edgecolors('k')\n",
      "    lines.set_linewidth(0.3)\n",
      "    ax.add_collection(lines)\n",
      "plt.show()"
     ],
     "language": "python",
     "metadata": {},
     "outputs": []
    },
    {
     "cell_type": "code",
     "collapsed": false,
     "input": [],
     "language": "python",
     "metadata": {},
     "outputs": []
    }
   ],
   "metadata": {}
  }
 ]
}