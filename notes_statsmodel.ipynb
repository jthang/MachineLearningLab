{
 "metadata": {
  "name": "",
  "signature": "sha256:31984d550d5edf00cb78129b26c24e413928fc4c781da0102657b61d2a2b02c2"
 },
 "nbformat": 3,
 "nbformat_minor": 0,
 "worksheets": [
  {
   "cells": [
    {
     "cell_type": "markdown",
     "metadata": {},
     "source": [
      "#Probability\n"
     ]
    },
    {
     "cell_type": "markdown",
     "metadata": {},
     "source": [
      "* Distributions:\n",
      "    * PMF (discrete)\n",
      "    * PDF (continuous)\n",
      "    * story, name, parameters MGF\n",
      "* Random variables - generate a random variable\n",
      "* Events - check if X = x, lesser than x etc\n",
      "* Numbers - summarize with probability of an event\n",
      "* Probability of an event as a prediction before the event\n"
     ]
    },
    {
     "cell_type": "markdown",
     "metadata": {},
     "source": [
      "#Statistical Model\n",
      "* Family of distributions, not just one\n",
      "* Formally have data and parameters for the models\n",
      "* Estimators vs Estimands (what is our goal?)\n",
      "* Statistics important to quantify the uncertainty, error rate\n",
      "* Data -> statistical inference -> model parameter\n",
      "* Data <- probability <- model parameter\n",
      "* Parametric (normal, binomial, poisson) vs non-parametric (bootstrap, KDE)\n",
      "* Non-parametric is infinite dimension space, with distributions unknown\n",
      "* No free lunch - always trade offs between parametric and non-parametric\n",
      "* Need to plot and explore the data\n",
      "> \u201cAll models are wrong, but some models are useful.\u201d"
     ]
    },
    {
     "cell_type": "markdown",
     "metadata": {},
     "source": [
      "###Parametric Model (Exponential Distribution)\n",
      "* Memoryless property: The light-bulb is always as good as new\n",
      "* Why people use exponential? Certain cases fits well\n",
      "* Managed to capture some of the heavy-tail behavior\n",
      "* Only distribution with memoryless property\n",
      "* Data science is iterative, start with exponential because it is easy and good building block. Survival analysis.\n",
      "* If it does not fit, we can reiterate and improve on the model\n",
      "* Useful for model-building, model-fitting, and model-checking\n",
      "* Length-bias - to be aware of when you start averaging. You might miss out the shorter ones which you miss\n",
      "\n",
      "###Binomial Distribution\n",
      "* Imagine 10 independent trials, if we assume they independently decide\n",
      "* X ~ Bin(n,p) : mean is np\n",
      "* E(X+Y) = E(X) + E(Y)\n",
      "* Variance is np(1-p)\n",
      "* Var(X+Y)=Var(X)+Var(Y) if X,Y are uncorrelated)\n",
      "\n",
      "###Normal(Gaussian) Distribution\n",
      "* Bell-curve, symmetry\n",
      "* Central limit theorem - if you add up a lot independent variable, it will end up normal distribution\n",
      "* Characterization (via entropy)\n",
      "* 68-95-99.7% rule\n",
      "\n",
      "###Bootstrap\n",
      "* Non-parametric boostrap, more widely used\n",
      "* No assumption of any distribution models\n",
      "* Resamplng with replacement, using computer to do replacement\n",
      "* Create more datasets from the dataset\n",
      "* How is it useful? \n",
      "* Law of large numbers: empirical distribution to approximate true distribution\n",
      "* You need to know a variety of stats methods, and compare the methods\n",
      "* Biggest breakthrough in computational techniques:\n",
      "    * Bootstrap\n",
      "    * MCMC"
     ]
    }
   ],
   "metadata": {}
  }
 ]
}