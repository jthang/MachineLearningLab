{
 "metadata": {
  "name": "",
  "signature": "sha256:7ef2cf248b4fe12720158afda8f2171600e539f79ade416e3008388254ff1ccc"
 },
 "nbformat": 3,
 "nbformat_minor": 0,
 "worksheets": [
  {
   "cells": [
    {
     "cell_type": "code",
     "collapsed": false,
     "input": [
      "%matplotlib inline\n",
      "import pandas as pd\n",
      "import numpy as np\n",
      "import matplotlib.pyplot as plt\n",
      "from matplotlib import rcParams\n",
      " \n",
      "pd.options.display.max_columns = 10 \n",
      "pd.options.display.width = 134\n",
      "pd.options.display.max_rows = 20\n",
      " \n",
      "rcParams['figure.figsize'] = (10, 6)\n",
      "plt.style.use('bmh')\n",
      "colors = [\"#348ABD\", \"#A60628\", \"#7A68A6\", \"#467821\", \"#CF4457\", \"#188487\", \"#E24A33\"]"
     ],
     "language": "python",
     "metadata": {},
     "outputs": [],
     "prompt_number": 1
    },
    {
     "cell_type": "code",
     "collapsed": false,
     "input": [],
     "language": "python",
     "metadata": {},
     "outputs": []
    }
   ],
   "metadata": {}
  }
 ]
}