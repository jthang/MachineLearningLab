{
 "metadata": {
  "name": "",
  "signature": "sha256:dda41f13fec01e0f7e0c826836a2c6f48a81e1621c7ddcc80af8e170d75ac994"
 },
 "nbformat": 3,
 "nbformat_minor": 0,
 "worksheets": [
  {
   "cells": [
    {
     "cell_type": "markdown",
     "metadata": {},
     "source": [
      "#Movie Reviews (Bayesian)\n",
      "\n",
      "###Summary\n",
      "- Download data from Rotten Tomato sites with web API\n",
      "- Function which fetches top 20 reviews for a movie\n",
      "- Function which fetches reviews for first 3000 movies\n",
      "- Explore the data, how many reviews, how many critics, how many movies, distribution of no. of reviews per reviewer\n",
      "- Sentiment Analysis - build prediction model (Naive Bayes) whether a review is fresh or rotten, depening on the text of the review\n",
      "    - Bag-of-words: Convert text into a long vector of numbers\n",
      "    - Using CountVectorizer to turn text into bag of words\n",
      "    - Spilt the data into training set and validation set\n",
      "    - Check if overfit (Training accuracy > Test accuracy)\n",
      "    - Model calibration (Calibration Plot)\n",
      "    > Being the respectable Bayesian that you are, you should always assess whether these probabilities are calibrated -- that is, whether a prediction made with a confidence of x% is correct approximately x% of the time.\n",
      "    - Cross validation - choosing good parameters by maximizing cross-validated log-likelihood\n",
      "- Interpretation - which words best predict a fresh or rotten review"
     ]
    },
    {
     "cell_type": "code",
     "collapsed": false,
     "input": [
      "%matplotlib inline\n",
      "import pandas as pd\n",
      "import numpy as np\n",
      "import matplotlib.pyplot as plt\n",
      "from matplotlib import rcParams\n",
      " \n",
      "pd.options.display.max_columns = 10 \n",
      "pd.options.display.width = 134\n",
      "pd.options.display.max_rows = 20\n",
      " \n",
      "rcParams['figure.figsize'] = (10, 6)\n",
      "plt.style.use('bmh')\n",
      "colors = [\"#348ABD\", \"#A60628\", \"#7A68A6\", \"#467821\", \"#CF4457\", \"#188487\", \"#E24A33\"]"
     ],
     "language": "python",
     "metadata": {},
     "outputs": [],
     "prompt_number": 2
    },
    {
     "cell_type": "code",
     "collapsed": false,
     "input": [
      "api_key = 'YOUR KEY HERE'\n",
      "movie_id = '770672122'  # toy story 3\n",
      "url = 'http://api.rottentomatoes.com/api/public/v1.0/movies/%s/reviews.json' % movie_id\n",
      "\n",
      "#these are \"get parameters\"\n",
      "options = {'review_type': 'top_critic', 'page_limit': 20, 'page': 1, 'apikey': api_key}\n",
      "data = requests.get(url, params=options).text\n",
      "data = json.loads(data)  # load a json string into a collection of lists and dicts\n",
      "\n",
      "print json.dumps(data['reviews'][0], indent=2)  # dump an object into a json string"
     ],
     "language": "python",
     "metadata": {},
     "outputs": []
    },
    {
     "cell_type": "markdown",
     "metadata": {},
     "source": [
      "#Getting the Data"
     ]
    },
    {
     "cell_type": "code",
     "collapsed": false,
     "input": [
      "def base_url():\n",
      "    return 'http://api.rottentomatoes.com/api/public/v1.0/'\n",
      "\n",
      "def rt_id_by_imdb(imdb):\n",
      "    url = base_url + 'movie_alias.json'\n",
      "    "
     ],
     "language": "python",
     "metadata": {},
     "outputs": []
    },
    {
     "cell_type": "code",
     "collapsed": false,
     "input": [
      "movies = pd.read_csv('data/movies.dat', delimiter='\\t')\n",
      "movies.head()"
     ],
     "language": "python",
     "metadata": {},
     "outputs": [
      {
       "html": [
        "<div style=\"max-height:1000px;max-width:1500px;overflow:auto;\">\n",
        "<table border=\"1\" class=\"dataframe\">\n",
        "  <thead>\n",
        "    <tr style=\"text-align: right;\">\n",
        "      <th></th>\n",
        "      <th>id</th>\n",
        "      <th>title</th>\n",
        "      <th>imdbID</th>\n",
        "      <th>spanishTitle</th>\n",
        "      <th>imdbPictureURL</th>\n",
        "      <th>...</th>\n",
        "      <th>rtTopCriticsScore</th>\n",
        "      <th>rtAudienceRating</th>\n",
        "      <th>rtAudienceNumRatings</th>\n",
        "      <th>rtAudienceScore</th>\n",
        "      <th>rtPictureURL</th>\n",
        "    </tr>\n",
        "  </thead>\n",
        "  <tbody>\n",
        "    <tr>\n",
        "      <th>0</th>\n",
        "      <td> 1</td>\n",
        "      <td>                   Toy story</td>\n",
        "      <td> 114709</td>\n",
        "      <td>                              Toy story (juguetes)</td>\n",
        "      <td> http://ia.media-imdb.com/images/M/MV5BMTMwNDU0...</td>\n",
        "      <td>...</td>\n",
        "      <td> 100</td>\n",
        "      <td> 3.7</td>\n",
        "      <td> 102338</td>\n",
        "      <td> 81</td>\n",
        "      <td> http://content7.flixster.com/movie/10/93/63/10...</td>\n",
        "    </tr>\n",
        "    <tr>\n",
        "      <th>1</th>\n",
        "      <td> 2</td>\n",
        "      <td>                     Jumanji</td>\n",
        "      <td> 113497</td>\n",
        "      <td>                                           Jumanji</td>\n",
        "      <td> http://ia.media-imdb.com/images/M/MV5BMzM5NjE1...</td>\n",
        "      <td>...</td>\n",
        "      <td>  40</td>\n",
        "      <td> 3.2</td>\n",
        "      <td>  44587</td>\n",
        "      <td> 61</td>\n",
        "      <td> http://content8.flixster.com/movie/56/79/73/56...</td>\n",
        "    </tr>\n",
        "    <tr>\n",
        "      <th>2</th>\n",
        "      <td> 3</td>\n",
        "      <td>              Grumpy Old Men</td>\n",
        "      <td> 107050</td>\n",
        "      <td>                               Dos viejos gru\u00f1ones</td>\n",
        "      <td> http://ia.media-imdb.com/images/M/MV5BMTI5MTgy...</td>\n",
        "      <td>...</td>\n",
        "      <td>  83</td>\n",
        "      <td> 3.2</td>\n",
        "      <td>  10489</td>\n",
        "      <td> 66</td>\n",
        "      <td> http://content6.flixster.com/movie/25/60/25602...</td>\n",
        "    </tr>\n",
        "    <tr>\n",
        "      <th>3</th>\n",
        "      <td> 4</td>\n",
        "      <td>           Waiting to Exhale</td>\n",
        "      <td> 114885</td>\n",
        "      <td>                              Esperando un respiro</td>\n",
        "      <td> http://ia.media-imdb.com/images/M/MV5BMTczMTMy...</td>\n",
        "      <td>...</td>\n",
        "      <td>  45</td>\n",
        "      <td> 3.3</td>\n",
        "      <td>   5666</td>\n",
        "      <td> 79</td>\n",
        "      <td> http://content9.flixster.com/movie/10/94/17/10...</td>\n",
        "    </tr>\n",
        "    <tr>\n",
        "      <th>4</th>\n",
        "      <td> 5</td>\n",
        "      <td> Father of the Bride Part II</td>\n",
        "      <td> 113041</td>\n",
        "      <td> Vuelve el padre de la novia (Ahora tambi\u00e9n abu...</td>\n",
        "      <td> http://ia.media-imdb.com/images/M/MV5BMTg1NDc2...</td>\n",
        "      <td>...</td>\n",
        "      <td>  20</td>\n",
        "      <td>   3</td>\n",
        "      <td>  13761</td>\n",
        "      <td> 64</td>\n",
        "      <td> http://content8.flixster.com/movie/25/54/25542...</td>\n",
        "    </tr>\n",
        "  </tbody>\n",
        "</table>\n",
        "<p>5 rows \u00d7 21 columns</p>\n",
        "</div>"
       ],
       "metadata": {},
       "output_type": "pyout",
       "prompt_number": 4,
       "text": [
        "   id                        title  imdbID                                       spanishTitle  \\\n",
        "0   1                    Toy story  114709                               Toy story (juguetes)   \n",
        "1   2                      Jumanji  113497                                            Jumanji   \n",
        "2   3               Grumpy Old Men  107050                                Dos viejos gru\u00f1ones   \n",
        "3   4            Waiting to Exhale  114885                               Esperando un respiro   \n",
        "4   5  Father of the Bride Part II  113041  Vuelve el padre de la novia (Ahora tambi\u00e9n abu...   \n",
        "\n",
        "                                      imdbPictureURL                        ...                          rtTopCriticsScore  \\\n",
        "0  http://ia.media-imdb.com/images/M/MV5BMTMwNDU0...                        ...                                        100   \n",
        "1  http://ia.media-imdb.com/images/M/MV5BMzM5NjE1...                        ...                                         40   \n",
        "2  http://ia.media-imdb.com/images/M/MV5BMTI5MTgy...                        ...                                         83   \n",
        "3  http://ia.media-imdb.com/images/M/MV5BMTczMTMy...                        ...                                         45   \n",
        "4  http://ia.media-imdb.com/images/M/MV5BMTg1NDc2...                        ...                                         20   \n",
        "\n",
        "  rtAudienceRating rtAudienceNumRatings rtAudienceScore                                       rtPictureURL  \n",
        "0              3.7               102338              81  http://content7.flixster.com/movie/10/93/63/10...  \n",
        "1              3.2                44587              61  http://content8.flixster.com/movie/56/79/73/56...  \n",
        "2              3.2                10489              66  http://content6.flixster.com/movie/25/60/25602...  \n",
        "3              3.3                 5666              79  http://content9.flixster.com/movie/10/94/17/10...  \n",
        "4                3                13761              64  http://content8.flixster.com/movie/25/54/25542...  \n",
        "\n",
        "[5 rows x 21 columns]"
       ]
      }
     ],
     "prompt_number": 4
    },
    {
     "cell_type": "code",
     "collapsed": false,
     "input": [
      "movies[['id', 'title', 'imdbID', 'year']].loc[0]"
     ],
     "language": "python",
     "metadata": {},
     "outputs": [
      {
       "metadata": {},
       "output_type": "pyout",
       "prompt_number": 12,
       "text": [
        "id                1\n",
        "title     Toy story\n",
        "imdbID       114709\n",
        "year           1995\n",
        "Name: 0, dtype: object"
       ]
      }
     ],
     "prompt_number": 12
    },
    {
     "cell_type": "code",
     "collapsed": false,
     "input": [],
     "language": "python",
     "metadata": {},
     "outputs": []
    }
   ],
   "metadata": {}
  }
 ]
}