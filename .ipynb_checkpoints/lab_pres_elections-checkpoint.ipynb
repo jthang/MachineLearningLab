{
 "metadata": {
  "name": "",
  "signature": "sha256:6eeabd6010a076acb80311fdd9c90d505d3acc103215758f03a4e74ddef2b0b7"
 },
 "nbformat": 3,
 "nbformat_minor": 0,
 "worksheets": [
  {
   "cells": [
    {
     "cell_type": "code",
     "collapsed": false,
     "input": [],
     "language": "python",
     "metadata": {},
     "outputs": []
    }
   ],
   "metadata": {}
  }
 ]
}