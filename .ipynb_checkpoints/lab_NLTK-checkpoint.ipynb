{
 "metadata": {
  "name": "",
  "signature": "sha256:d34977d01e29a6fad44f783f3f91847889bfec96c4ab03cc9a6c160e7f28a6af"
 },
 "nbformat": 3,
 "nbformat_minor": 0,
 "worksheets": [
  {
   "cells": [
    {
     "cell_type": "markdown",
     "metadata": {},
     "source": [
      "Lab: How do I classify different text?"
     ]
    },
    {
     "cell_type": "code",
     "collapsed": false,
     "input": [
      "#Clean up the words\n",
      "import re\n",
      "import string\n",
      "\n",
      "def remove_punctuation(s):\n",
      "    table = string.maketrans(\"\",\"\")\n",
      "    return s.translate(table, string.punctuation)\n",
      " \n",
      "def tokenize(text):\n",
      "    text = remove_punctuation(text)\n",
      "    text = text.lower()\n",
      "    return re.split(\"\\W+\", text)\n",
      " \n",
      "def count_words(words):\n",
      "    wc = {}\n",
      "    for word in words:\n",
      "        wc[word] = wc.get(word, 0.0) + 1.0\n",
      "    return wc\n",
      "\n",
      "s = \"Hello, testing.=3 Ok, yes3, hello no-sense?\"\n",
      "count_words(tokenize(s))"
     ],
     "language": "python",
     "metadata": {},
     "outputs": [
      {
       "metadata": {},
       "output_type": "pyout",
       "prompt_number": 2,
       "text": [
        "{'hello': 2.0, 'nosense': 1.0, 'ok': 1.0, 'testing3': 1.0, 'yes3': 1.0}"
       ]
      }
     ],
     "prompt_number": 2
    },
    {
     "cell_type": "code",
     "collapsed": false,
     "input": [],
     "language": "python",
     "metadata": {},
     "outputs": [],
     "prompt_number": 3
    },
    {
     "cell_type": "code",
     "collapsed": false,
     "input": [],
     "language": "python",
     "metadata": {},
     "outputs": []
    }
   ],
   "metadata": {}
  }
 ]
}