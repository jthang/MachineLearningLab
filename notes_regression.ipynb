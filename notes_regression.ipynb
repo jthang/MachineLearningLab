{
 "metadata": {
  "name": "",
  "signature": "sha256:3ec49bd24d12384c046002872b3d50d32fb176576a666580f4c194447729b18f"
 },
 "nbformat": 3,
 "nbformat_minor": 0,
 "worksheets": [
  {
   "cells": [
    {
     "cell_type": "markdown",
     "metadata": {},
     "source": [
      "#Regression"
     ]
    },
    {
     "cell_type": "markdown",
     "metadata": {},
     "source": [
      "###2 important concepts\n",
      "- Bias Variance\n",
      "- Regression towards the mean\n",
      "\n",
      "###Regression\n",
      "- Examples are everywhere, test scores, sports, etc\n",
      "- Regression-Paradox: correlation is symmetric\n",
      "- Standardized data - standard deviation is 1\n",
      "- What algorithm to fit the model, OLS etc\n",
      "- Residual very important concept\n",
      "    - difference between observed value and predicted value\n",
      "- Gauss-Markov Theorem\n",
      "    - MSE = var + bias$^2$\n",
      "    - What happens if we assume the errors are NOT normally distributed?\n",
      "    - BLUE (Best Linear Unbiased Estimator)\n",
      "- Residual Plots\n",
      "    - Always plot the residual plots when doing Linear Regression\n",
      "    - Plot residuals vs fitted values\n",
      "    - Plot residuals vs each predictor variables\n",
      "- \"Explained\" Variance\n",
      "    - R-squared measures goodness of fit, but oes not validate the model\n",
      "    - Adding more predictors only increase R-squared\n",
      "    - Simple model might be better\n",
      "- Logistic Regression\n",
      "    - Purpose is to predict something which is binary\n",
      "    - Focus is estimating the probability of a 1 instead of just 50/50\n",
      "    - Latent Variable Interpretation - forcing it to be 1 if positive and 0 if negative\n",
      "    - Logit regression vs Probit regression\n",
      "    - Very interpretable"
     ]
    }
   ],
   "metadata": {}
  }
 ]
}