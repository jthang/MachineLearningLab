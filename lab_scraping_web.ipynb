{
 "metadata": {
  "name": "",
  "signature": "sha256:19f8271da6428794b30203906c085ec0a913fd2bce4da44d0be3afd3be720e38"
 },
 "nbformat": 3,
 "nbformat_minor": 0,
 "worksheets": [
  {
   "cells": [
    {
     "cell_type": "code",
     "collapsed": false,
     "input": [
      "%matplotlib inline\n",
      "import pandas as pd\n",
      "import numpy as np\n",
      "import matplotlib.pyplot as plt\n",
      "# import pattern.web as web\n",
      "from bs4 import BeautifulSoup\n",
      "import requests\n",
      "\n",
      "pd.set_option('display.width', 500)\n",
      "pd.set_option('display.max_columns', 100)\n",
      "pd.set_option('display.mpl_style', 'default')"
     ],
     "language": "python",
     "metadata": {},
     "outputs": [],
     "prompt_number": 70
    },
    {
     "cell_type": "markdown",
     "metadata": {},
     "source": [
      "#BeautifulSoup Documentation"
     ]
    },
    {
     "cell_type": "code",
     "collapsed": false,
     "input": [
      "html_doc = \"\"\"\n",
      "<html><head><title>The Dormouse's story</title></head>\n",
      "<body>\n",
      "<p class=\"title\"><b>The Dormouse's story</b></p>\n",
      "\n",
      "<p class=\"story\">Once upon a time there were three little sisters; and their names were\n",
      "<a href=\"http://example.com/elsie\" class=\"sister\" id=\"link1\">Elsie</a>,\n",
      "<a href=\"http://example.com/lacie\" class=\"sister\" id=\"link2\">Lacie</a> and\n",
      "<a href=\"http://example.com/tillie\" class=\"sister\" id=\"link3\">Tillie</a>;\n",
      "and they lived at the bottom of a well.</p>\n",
      "\n",
      "<p class=\"story\">...</p>\n",
      "\"\"\""
     ],
     "language": "python",
     "metadata": {},
     "outputs": [],
     "prompt_number": 71
    },
    {
     "cell_type": "code",
     "collapsed": false,
     "input": [
      "soup = BeautifulSoup(html_doc)\n",
      "print(soup.prettify)"
     ],
     "language": "python",
     "metadata": {},
     "outputs": []
    },
    {
     "cell_type": "code",
     "collapsed": false,
     "input": [],
     "language": "python",
     "metadata": {},
     "outputs": []
    },
    {
     "cell_type": "code",
     "collapsed": false,
     "input": [],
     "language": "python",
     "metadata": {},
     "outputs": []
    },
    {
     "cell_type": "code",
     "collapsed": false,
     "input": [],
     "language": "python",
     "metadata": {},
     "outputs": []
    },
    {
     "cell_type": "code",
     "collapsed": false,
     "input": [],
     "language": "python",
     "metadata": {},
     "outputs": []
    },
    {
     "cell_type": "code",
     "collapsed": false,
     "input": [],
     "language": "python",
     "metadata": {},
     "outputs": []
    },
    {
     "cell_type": "code",
     "collapsed": false,
     "input": [],
     "language": "python",
     "metadata": {},
     "outputs": []
    },
    {
     "cell_type": "code",
     "collapsed": false,
     "input": [],
     "language": "python",
     "metadata": {},
     "outputs": []
    },
    {
     "cell_type": "code",
     "collapsed": false,
     "input": [],
     "language": "python",
     "metadata": {},
     "outputs": []
    },
    {
     "cell_type": "code",
     "collapsed": false,
     "input": [],
     "language": "python",
     "metadata": {},
     "outputs": []
    },
    {
     "cell_type": "code",
     "collapsed": false,
     "input": [],
     "language": "python",
     "metadata": {},
     "outputs": []
    },
    {
     "cell_type": "code",
     "collapsed": false,
     "input": [],
     "language": "python",
     "metadata": {},
     "outputs": []
    },
    {
     "cell_type": "code",
     "collapsed": false,
     "input": [],
     "language": "python",
     "metadata": {},
     "outputs": []
    },
    {
     "cell_type": "markdown",
     "metadata": {},
     "source": [
      "#Reddit"
     ]
    },
    {
     "cell_type": "code",
     "collapsed": false,
     "input": [
      "def get_links_from_front_pages(n):\n",
      "    'find  URLs of comments pages, linked from the n first few pages of reddit'\n",
      "    url = web.URL('http://www.reddit.com/')\n",
      "    comment_pages = []\n",
      "    for page_idx in range(n):\n",
      "        dom = web.DOM(url.download(cached=False))\n",
      "    \n",
      "        for entry in dom('a.comments'):\n",
      "            href = entry.attributes.get('href', '')\n",
      "            if href:\n",
      "                comment_pages.append(href)\n",
      "                \n",
      "        # find the next page link - reddit has 25 links per page\n",
      "        for a in dom('a'):\n",
      "            if ('count=%d' % ((page_idx + 1) * 25)) in a.attributes.get('href', ''):\n",
      "                url = web.URL(a.attributes.get('href'))\n",
      "    # use set() to remove repeated pages\n",
      "    return list(set(comment_pages))\n",
      "\n",
      "            \n",
      "print len(get_links_from_front_pages(6))"
     ],
     "language": "python",
     "metadata": {},
     "outputs": [
      {
       "output_type": "stream",
       "stream": "stdout",
       "text": [
        "172\n"
       ]
      }
     ],
     "prompt_number": 27
    },
    {
     "cell_type": "code",
     "collapsed": false,
     "input": [
      "def info_from_comments_pages(links):\n",
      "    'fetch title, upvotes, downvotes, time of submission from a sequence of links'\n",
      "    results = []\n",
      "    for urltext in links:\n",
      "        url = web.URL(urltext)\n",
      "        print \"fetching info for\", url\n",
      "        try:\n",
      "            dom = web.DOM(url.download(cached=False))\n",
      "            title = dom('title')[0].content\n",
      "            upvotes = int(dom.by_class('upvotes')[0].children[0].content.replace(',', ''))\n",
      "            downvotes = int(dom.by_class('downvotes')[0].children[0].content.replace(',', ''))\n",
      "            time = dom.by_class('tagline')[0]('time')[0].attributes.get('datetime')\n",
      "            results.append((title, upvotes, downvotes, pd.to_datetime(time)))\n",
      "        except KeyboardInterrupt:\n",
      "            # allow us to interrupt the kernel but use what we've already fetched\n",
      "            break\n",
      "        except:\n",
      "            pass  # some things that look like comment pages don't have the information above\n",
      "    return results"
     ],
     "language": "python",
     "metadata": {},
     "outputs": [],
     "prompt_number": 28
    },
    {
     "cell_type": "code",
     "collapsed": false,
     "input": [
      "comments_pages = get_links_from_front_pages(1)\n",
      "print \"Fetching info for\", len(comments_pages), \"pages\"\n",
      "pages = info_from_comments_pages(comments_pages)\n",
      "titles, upvotes, downvotes, dates = zip(*pages)  # zip(*seq) transposes a sequence of sequences.\n",
      "df = pd.DataFrame({'title' : titles, 'upvotes' : upvotes, 'downvotes' : downvotes, 'date' : dates}, index=dates)\n",
      "print df"
     ],
     "language": "python",
     "metadata": {},
     "outputs": [
      {
       "output_type": "stream",
       "stream": "stdout",
       "text": [
        "Fetching info for 35 pages\n",
        "fetching info for http://www.reddit.com/r/LifeProTips/comments/2oy94v/lpt_you_can_access_all_the_piratebay_content/\n",
        "fetching info for"
       ]
      },
      {
       "output_type": "stream",
       "stream": "stdout",
       "text": [
        " http://www.reddit.com/r/space/comments/2oyxbe/this_shot_of_typhoon_haiyan_from_a_japanese/\n",
        "fetching info for"
       ]
      },
      {
       "output_type": "stream",
       "stream": "stdout",
       "text": [
        " http://www.reddit.com/r/explainlikeimfive/comments/2ox3yr/eli5_how_do_poops_and_farts_work_together_in_the/\n",
        "fetching info for"
       ]
      },
      {
       "output_type": "stream",
       "stream": "stdout",
       "text": [
        " http://www.reddit.com/r/television/comments/2oxuq0/more_leaked_sony_emails_just_after_community_was/\n",
        "fetching info for"
       ]
      },
      {
       "output_type": "stream",
       "stream": "stdout",
       "text": [
        " http://www.reddit.com/r/pics/comments/2oy1ew/cards_against_humanity_black_friday_bullshit/\n",
        "fetching info for"
       ]
      },
      {
       "output_type": "stream",
       "stream": "stdout",
       "text": [
        " http://www.reddit.com/r/movies/comments/2oxjbt/eerie_poster_for_in_the_heart_of_the_sea/\n",
        "fetching info for"
       ]
      },
      {
       "output_type": "stream",
       "stream": "stdout",
       "text": [
        " http://www.reddit.com/r/DIY/comments/2owae8/heres_a_tabletop_i_made_from_a_door_and_5218/\n",
        "fetching info for"
       ]
      },
      {
       "output_type": "stream",
       "stream": "stdout",
       "text": [
        " http://www.reddit.com/r/funny/comments/2oyaar/back_to_the_fuchsia/\n",
        "fetching info for"
       ]
      },
      {
       "output_type": "stream",
       "stream": "stdout",
       "text": [
        " http://www.reddit.com/r/Showerthoughts/comments/2oz18h/your_stomach_is_always_filled_with_warm_vomit/\n",
        "fetching info for"
       ]
      },
      {
       "output_type": "stream",
       "stream": "stdout",
       "text": [
        " http://www.reddit.com/r/gifs/comments/2oz1sp/william_shatner_vs_piranha/\n",
        "fetching info for"
       ]
      },
      {
       "output_type": "stream",
       "stream": "stdout",
       "text": [
        " http://www.reddit.com/r/photoshopbattles/comments/2ox53c/psbattle_pig_pushing_a_trolley_with_a_pint_of_beer/\n",
        "fetching info for"
       ]
      },
      {
       "output_type": "stream",
       "stream": "stdout",
       "text": [
        " http://www.reddit.com/r/videos/comments/2oxjg7/yup_jetpacks_are_real_the_future_is_here/\n",
        "fetching info for"
       ]
      },
      {
       "output_type": "stream",
       "stream": "stdout",
       "text": [
        " http://www.reddit.com/r/books/comments/2oylvs/my_friend_just_tweeted_ever_realised_how_fucking/\n",
        "fetching info for"
       ]
      },
      {
       "output_type": "stream",
       "stream": "stdout",
       "text": [
        " http://www.reddit.com/r/mildlyinteresting/comments/2owxfz/bratman_a_portable_one_man_bratwurst_grilling/\n",
        "fetching info for"
       ]
      },
      {
       "output_type": "stream",
       "stream": "stdout",
       "text": [
        " http://www.reddit.com/r/Jokes/comments/2oxcs4/when_i_was_five_my_dad_put_snowballs_in_the/\n",
        "fetching info for"
       ]
      },
      {
       "output_type": "stream",
       "stream": "stdout",
       "text": [
        " http://www.reddit.com/r/AskReddit/comments/2oz1t1/could_anyone_identify_these_symbols_for_me_unsure/\n",
        "fetching info for"
       ]
      },
      {
       "output_type": "stream",
       "stream": "stdout",
       "text": [
        " http://www.reddit.com/r/gaming/comments/2oxh3r/til_my_xbone_controller_is_different/\n",
        "fetching info for"
       ]
      },
      {
       "output_type": "stream",
       "stream": "stdout",
       "text": [
        " http://www.reddit.com/r/worldnews/comments/2oz1q4/rectal_rehydration_and_standing_on_broken_limbs/\n",
        "fetching info for"
       ]
      },
      {
       "output_type": "stream",
       "stream": "stdout",
       "text": [
        " http://www.reddit.com/r/science/comments/2oxl08/researchers_from_north_carolina_state_university/\n",
        "fetching info for"
       ]
      },
      {
       "output_type": "stream",
       "stream": "stdout",
       "text": [
        " http://www.reddit.com/r/todayilearned/comments/2oxck4/til_mobile_users_in_poor_countries_can_access/\n",
        "fetching info for"
       ]
      },
      {
       "output_type": "stream",
       "stream": "stdout",
       "text": [
        " http://www.reddit.com/r/AskReddit/comments/2oxel5/children_of_porn_stars_how_has_this_affected_you/\n",
        "fetching info for"
       ]
      },
      {
       "output_type": "stream",
       "stream": "stdout",
       "text": [
        " http://www.reddit.com/r/food/comments/2oxfog/do_you_wanna_build_a_bento_box/\n",
        "fetching info for"
       ]
      },
      {
       "output_type": "stream",
       "stream": "stdout",
       "text": [
        " http://www.reddit.com/r/IAmA/comments/2oxk19/nick_offerman_chanticleer_ready_for_another_ama/\n",
        "fetching info for"
       ]
      },
      {
       "output_type": "stream",
       "stream": "stdout",
       "text": [
        " http://www.reddit.com/r/funny/comments/2oz1xm/christopher_lee_sings_heavy_metal_christmas_songs/\n",
        "fetching info for"
       ]
      },
      {
       "output_type": "stream",
       "stream": "stdout",
       "text": [
        " http://www.reddit.com/r/AskReddit/comments/2oz212/what_is_your_reallife_glitch_in_the_matrix_moment/\n",
        "fetching info for"
       ]
      },
      {
       "output_type": "stream",
       "stream": "stdout",
       "text": [
        " http://www.reddit.com/r/funny/comments/2oz1uu/william_shatner_vs_piranha/\n",
        "fetching info for"
       ]
      },
      {
       "output_type": "stream",
       "stream": "stdout",
       "text": [
        " http://www.reddit.com/r/worldnews/comments/2ox2il/pope_to_shoppers_dont_buy_products_made_by/\n",
        "fetching info for"
       ]
      },
      {
       "output_type": "stream",
       "stream": "stdout",
       "text": [
        " http://www.reddit.com/r/gifs/comments/2oy7x5/the_worlds_smallest_3d_printer_is_a_pen_that/\n",
        "fetching info for"
       ]
      },
      {
       "output_type": "stream",
       "stream": "stdout",
       "text": [
        " http://www.reddit.com/r/movies/comments/2oz1sl/2015_golden_globe_nominations/\n",
        "fetching info for"
       ]
      },
      {
       "output_type": "stream",
       "stream": "stdout",
       "text": [
        " http://www.reddit.com/r/Futurology/comments/2oybn5/superbugs_to_kill_more_than_cancer_by_2050/\n",
        "fetching info for"
       ]
      },
      {
       "output_type": "stream",
       "stream": "stdout",
       "text": [
        " http://www.reddit.com/r/news/comments/2owgol/an_anonymous_wikipedia_user_from_an_ip_address/\n",
        "fetching info for"
       ]
      },
      {
       "output_type": "stream",
       "stream": "stdout",
       "text": [
        " http://www.reddit.com/r/AskReddit/comments/2oz1sr/reddit_what_do_you_think_was_the_most_significant/\n",
        "fetching info for"
       ]
      },
      {
       "output_type": "stream",
       "stream": "stdout",
       "text": [
        " r/trendingsubreddits/comments/2oyfgk/trending_subreddits_for_20141211/\n",
        "fetching info for http://www.reddit.com/r/aww/comments/2oxjah/my_friend_and_his_cat_nikita_on_her_birthday/\n",
        "fetching info for"
       ]
      },
      {
       "output_type": "stream",
       "stream": "stdout",
       "text": [
        " http://www.reddit.com/r/tifu/comments/2oys4k/tifu_by_killing_my_puppy/\n"
       ]
      },
      {
       "ename": "ValueError",
       "evalue": "need more than 0 values to unpack",
       "output_type": "pyerr",
       "traceback": [
        "\u001b[0;31m---------------------------------------------------------------------------\u001b[0m\n\u001b[0;31mValueError\u001b[0m                                Traceback (most recent call last)",
        "\u001b[0;32m<ipython-input-31-fcc681e33892>\u001b[0m in \u001b[0;36m<module>\u001b[0;34m()\u001b[0m\n\u001b[1;32m      2\u001b[0m \u001b[0;32mprint\u001b[0m \u001b[0;34m\"Fetching info for\"\u001b[0m\u001b[0;34m,\u001b[0m \u001b[0mlen\u001b[0m\u001b[0;34m(\u001b[0m\u001b[0mcomments_pages\u001b[0m\u001b[0;34m)\u001b[0m\u001b[0;34m,\u001b[0m \u001b[0;34m\"pages\"\u001b[0m\u001b[0;34m\u001b[0m\u001b[0m\n\u001b[1;32m      3\u001b[0m \u001b[0mpages\u001b[0m \u001b[0;34m=\u001b[0m \u001b[0minfo_from_comments_pages\u001b[0m\u001b[0;34m(\u001b[0m\u001b[0mcomments_pages\u001b[0m\u001b[0;34m)\u001b[0m\u001b[0;34m\u001b[0m\u001b[0m\n\u001b[0;32m----> 4\u001b[0;31m \u001b[0mtitles\u001b[0m\u001b[0;34m,\u001b[0m \u001b[0mupvotes\u001b[0m\u001b[0;34m,\u001b[0m \u001b[0mdownvotes\u001b[0m\u001b[0;34m,\u001b[0m \u001b[0mdates\u001b[0m \u001b[0;34m=\u001b[0m \u001b[0mzip\u001b[0m\u001b[0;34m(\u001b[0m\u001b[0;34m*\u001b[0m\u001b[0mpages\u001b[0m\u001b[0;34m)\u001b[0m  \u001b[0;31m# zip(*seq) transposes a sequence of sequences.\u001b[0m\u001b[0;34m\u001b[0m\u001b[0m\n\u001b[0m\u001b[1;32m      5\u001b[0m \u001b[0mdf\u001b[0m \u001b[0;34m=\u001b[0m \u001b[0mpd\u001b[0m\u001b[0;34m.\u001b[0m\u001b[0mDataFrame\u001b[0m\u001b[0;34m(\u001b[0m\u001b[0;34m{\u001b[0m\u001b[0;34m'title'\u001b[0m \u001b[0;34m:\u001b[0m \u001b[0mtitles\u001b[0m\u001b[0;34m,\u001b[0m \u001b[0;34m'upvotes'\u001b[0m \u001b[0;34m:\u001b[0m \u001b[0mupvotes\u001b[0m\u001b[0;34m,\u001b[0m \u001b[0;34m'downvotes'\u001b[0m \u001b[0;34m:\u001b[0m \u001b[0mdownvotes\u001b[0m\u001b[0;34m,\u001b[0m \u001b[0;34m'date'\u001b[0m \u001b[0;34m:\u001b[0m \u001b[0mdates\u001b[0m\u001b[0;34m}\u001b[0m\u001b[0;34m,\u001b[0m \u001b[0mindex\u001b[0m\u001b[0;34m=\u001b[0m\u001b[0mdates\u001b[0m\u001b[0;34m)\u001b[0m\u001b[0;34m\u001b[0m\u001b[0m\n\u001b[1;32m      6\u001b[0m \u001b[0;32mprint\u001b[0m \u001b[0mdf\u001b[0m\u001b[0;34m\u001b[0m\u001b[0m\n",
        "\u001b[0;31mValueError\u001b[0m: need more than 0 values to unpack"
       ]
      }
     ],
     "prompt_number": 31
    },
    {
     "cell_type": "code",
     "collapsed": false,
     "input": [
      "df.sort('date', inplace=True)\n",
      "df['upvotes'].plot(c='g')\n",
      "df['downvotes'].plot(c='r')\n",
      "(df['upvotes'] - df['downvotes']).plot(c='k')"
     ],
     "language": "python",
     "metadata": {},
     "outputs": [
      {
       "ename": "NameError",
       "evalue": "name 'df' is not defined",
       "output_type": "pyerr",
       "traceback": [
        "\u001b[0;31m---------------------------------------------------------------------------\u001b[0m\n\u001b[0;31mNameError\u001b[0m                                 Traceback (most recent call last)",
        "\u001b[0;32m<ipython-input-30-33fa8ccf52f8>\u001b[0m in \u001b[0;36m<module>\u001b[0;34m()\u001b[0m\n\u001b[0;32m----> 1\u001b[0;31m \u001b[0mdf\u001b[0m\u001b[0;34m.\u001b[0m\u001b[0msort\u001b[0m\u001b[0;34m(\u001b[0m\u001b[0;34m'date'\u001b[0m\u001b[0;34m,\u001b[0m \u001b[0minplace\u001b[0m\u001b[0;34m=\u001b[0m\u001b[0mTrue\u001b[0m\u001b[0;34m)\u001b[0m\u001b[0;34m\u001b[0m\u001b[0m\n\u001b[0m\u001b[1;32m      2\u001b[0m \u001b[0mdf\u001b[0m\u001b[0;34m[\u001b[0m\u001b[0;34m'upvotes'\u001b[0m\u001b[0;34m]\u001b[0m\u001b[0;34m.\u001b[0m\u001b[0mplot\u001b[0m\u001b[0;34m(\u001b[0m\u001b[0mc\u001b[0m\u001b[0;34m=\u001b[0m\u001b[0;34m'g'\u001b[0m\u001b[0;34m)\u001b[0m\u001b[0;34m\u001b[0m\u001b[0m\n\u001b[1;32m      3\u001b[0m \u001b[0mdf\u001b[0m\u001b[0;34m[\u001b[0m\u001b[0;34m'downvotes'\u001b[0m\u001b[0;34m]\u001b[0m\u001b[0;34m.\u001b[0m\u001b[0mplot\u001b[0m\u001b[0;34m(\u001b[0m\u001b[0mc\u001b[0m\u001b[0;34m=\u001b[0m\u001b[0;34m'r'\u001b[0m\u001b[0;34m)\u001b[0m\u001b[0;34m\u001b[0m\u001b[0m\n\u001b[1;32m      4\u001b[0m \u001b[0;34m(\u001b[0m\u001b[0mdf\u001b[0m\u001b[0;34m[\u001b[0m\u001b[0;34m'upvotes'\u001b[0m\u001b[0;34m]\u001b[0m \u001b[0;34m-\u001b[0m \u001b[0mdf\u001b[0m\u001b[0;34m[\u001b[0m\u001b[0;34m'downvotes'\u001b[0m\u001b[0;34m]\u001b[0m\u001b[0;34m)\u001b[0m\u001b[0;34m.\u001b[0m\u001b[0mplot\u001b[0m\u001b[0;34m(\u001b[0m\u001b[0mc\u001b[0m\u001b[0;34m=\u001b[0m\u001b[0;34m'k'\u001b[0m\u001b[0;34m)\u001b[0m\u001b[0;34m\u001b[0m\u001b[0m\n",
        "\u001b[0;31mNameError\u001b[0m: name 'df' is not defined"
       ]
      }
     ],
     "prompt_number": 30
    },
    {
     "cell_type": "code",
     "collapsed": false,
     "input": [
      "from bs4 import BeautifulSoup\n",
      "import urllib2"
     ],
     "language": "python",
     "metadata": {},
     "outputs": [],
     "prompt_number": 57
    },
    {
     "cell_type": "code",
     "collapsed": false,
     "input": [
      "url = 'http://www.reddit.com'\n",
      "r = requests.get(url)\n",
      "print r\n",
      "soup = BeautifulSoup(r.content)\n",
      " \n",
      "# soup = BeautifulSoup(redditHtml)\n",
      "# redditAll = soup.find_all(\"a\")\n",
      "# for links in soup.find_all('a'):\n",
      "#     print (links.get('href'))"
     ],
     "language": "python",
     "metadata": {},
     "outputs": [
      {
       "output_type": "stream",
       "stream": "stdout",
       "text": [
        "<Response [200]>\n"
       ]
      }
     ],
     "prompt_number": 58
    },
    {
     "cell_type": "code",
     "collapsed": false,
     "input": [
      "soup.findAll('a', attrs={'class':'comments'})"
     ],
     "language": "python",
     "metadata": {},
     "outputs": [
      {
       "metadata": {},
       "output_type": "pyout",
       "prompt_number": 59,
       "text": [
        "[<a class=\"comments may-blank\" href=\"http://www.reddit.com/r/news/comments/2oz5jc/plastic_pollution_in_the_worlds_oceans_more_than/\">1 comment</a>,\n",
        " <a class=\"comments empty may-blank\" href=\"http://www.reddit.com/r/Showerthoughts/comments/2oz534/i_wonder_if_a_dog_seeing_a_roomba_for_the_first/\">comment</a>,\n",
        " <a class=\"comments may-blank\" href=\"http://www.reddit.com/r/TwoXChromosomes/comments/2oz5e2/washington_post_does_some_real_journalism_on/\">2 comments</a>,\n",
        " <a class=\"comments empty may-blank\" href=\"http://www.reddit.com/r/funny/comments/2oz5he/so_i_discovered_this_in_my_daughters_writing_book/\">comment</a>,\n",
        " <a class=\"comments may-blank\" href=\"http://www.reddit.com/r/Showerthoughts/comments/2oz54i/how_many_decibals_are_our_average_thoughts/\">1 comment</a>,\n",
        " <a class=\"comments empty may-blank\" href=\"http://www.reddit.com/r/Jokes/comments/2oz4p5/so_my_house_got_broken_into_today/\">comment</a>,\n",
        " <a class=\"comments may-blank\" href=\"http://www.reddit.com/r/TwoXChromosomes/comments/2oz5b8/did_i_do_the_right_thing/\">3 comments</a>,\n",
        " <a class=\"comments empty may-blank\" href=\"http://www.reddit.com/r/WritingPrompts/comments/2oz5gu/wp_scientists_discover_a_new_molecule_that/\">comment</a>,\n",
        " <a class=\"comments empty may-blank\" href=\"http://www.reddit.com/r/WritingPrompts/comments/2oz4tn/wp_youre_falling_from_a_jet_liner_with_no/\">comment</a>,\n",
        " <a class=\"comments may-blank\" href=\"http://www.reddit.com/r/Music/comments/2oz3wm/do_you_know_where_do_re_mi_comes_from/\">1 comment</a>,\n",
        " <a class=\"comments may-blank\" href=\"/r/trendingsubreddits/comments/2oyfgk/trending_subreddits_for_20141211/\">19 comments</a>,\n",
        " <a class=\"comments may-blank\" href=\"http://www.reddit.com/r/pics/comments/2oytsu/ice_driven_through_a_fence/\">114 comments</a>,\n",
        " <a class=\"comments may-blank\" href=\"http://www.reddit.com/r/funny/comments/2oynwv/an_australian_newspaper_congratulates_benedict/\">300 comments</a>,\n",
        " <a class=\"comments may-blank\" href=\"http://www.reddit.com/r/todayilearned/comments/2oyvjw/til_napoleon_said_of_torture_it_has_always_been/\">323 comments</a>,\n",
        " <a class=\"comments may-blank\" href=\"http://www.reddit.com/r/news/comments/2oyyxj/drug_raid_in_rural_georgia_ends_in_a_homeowner/\">204 comments</a>,\n",
        " <a class=\"comments may-blank\" href=\"http://www.reddit.com/r/gifs/comments/2oy7x5/the_worlds_smallest_3d_printer_is_a_pen_that/\">389 comments</a>,\n",
        " <a class=\"comments may-blank\" href=\"http://www.reddit.com/r/tifu/comments/2oys4k/tifu_by_killing_my_puppy/\">300 comments</a>,\n",
        " <a class=\"comments may-blank\" href=\"http://www.reddit.com/r/movies/comments/2oxjbt/eerie_poster_for_in_the_heart_of_the_sea/\">967 comments</a>,\n",
        " <a class=\"comments may-blank\" href=\"http://www.reddit.com/r/videos/comments/2oxjg7/yup_jetpacks_are_real_the_future_is_here/\">1195 comments</a>,\n",
        " <a class=\"comments may-blank\" href=\"http://www.reddit.com/r/science/comments/2oyv0y/science_ama_series_im_timo_hannay_former_director/\">82 comments</a>,\n",
        " <a class=\"comments may-blank\" href=\"http://www.reddit.com/r/IAmA/comments/2oxk19/nick_offerman_chanticleer_ready_for_another_ama/\">4618 comments</a>,\n",
        " <a class=\"comments may-blank\" href=\"http://www.reddit.com/r/aww/comments/2oxjah/my_friend_and_his_cat_nikita_on_her_birthday/\">280 comments</a>,\n",
        " <a class=\"comments may-blank\" href=\"http://www.reddit.com/r/worldnews/comments/2oytbv/each_time_police_shut_pirate_bay_well_multiply/\">74 comments</a>,\n",
        " <a class=\"comments may-blank\" href=\"http://www.reddit.com/r/gaming/comments/2oyl1f/mario_kart_remake_of_thrift_shop_painting_looks/\">33 comments</a>,\n",
        " <a class=\"comments may-blank\" href=\"http://www.reddit.com/r/television/comments/2oxuq0/more_leaked_sony_emails_just_after_community_was/\">363 comments</a>,\n",
        " <a class=\"comments may-blank\" href=\"http://www.reddit.com/r/explainlikeimfive/comments/2ox3yr/eli5_how_do_poops_and_farts_work_together_in_the/\">1224 comments</a>,\n",
        " <a class=\"comments may-blank\" href=\"http://www.reddit.com/r/mildlyinteresting/comments/2owxfz/bratman_a_portable_one_man_bratwurst_grilling/\">387 comments</a>,\n",
        " <a class=\"comments may-blank\" href=\"http://www.reddit.com/r/AskReddit/comments/2oxel5/children_of_porn_stars_how_has_this_affected_you/\">2534 comments</a>,\n",
        " <a class=\"comments may-blank\" href=\"http://www.reddit.com/r/food/comments/2oxfog/do_you_wanna_build_a_bento_box/\">138 comments</a>,\n",
        " <a class=\"comments may-blank\" href=\"http://www.reddit.com/r/photoshopbattles/comments/2ox53c/psbattle_pig_pushing_a_trolley_with_a_pint_of_beer/\">137 comments</a>,\n",
        " <a class=\"comments may-blank\" href=\"http://www.reddit.com/r/Jokes/comments/2oxcs4/when_i_was_five_my_dad_put_snowballs_in_the/\">118 comments</a>,\n",
        " <a class=\"comments may-blank\" href=\"http://www.reddit.com/r/LifeProTips/comments/2oy94v/lpt_you_can_access_all_the_piratebay_content/\">51 comments</a>,\n",
        " <a class=\"comments may-blank\" href=\"http://www.reddit.com/r/EarthPorn/comments/2oy7fh/i_get_paid_to_come_here_took_this_with_my_phone/\">29 comments</a>,\n",
        " <a class=\"comments may-blank\" href=\"http://www.reddit.com/r/nottheonion/comments/2oyw4k/rick_perry_presidential_campaigns_not_an_iq_test/\">59 comments</a>,\n",
        " <a class=\"comments may-blank\" href=\"http://www.reddit.com/r/Futurology/comments/2oybn5/superbugs_to_kill_more_than_cancer_by_2050/\">117 comments</a>,\n",
        " <a class=\"comments may-blank\" href=\"http://www.reddit.com/r/DIY/comments/2owae8/heres_a_tabletop_i_made_from_a_door_and_5218/\">1038 comments</a>]"
       ]
      }
     ],
     "prompt_number": 59
    },
    {
     "cell_type": "code",
     "collapsed": false,
     "input": [
      "from pattern.web import Twitter, plaintext\n",
      "from pattern.db  import Datasheet\n",
      "from pattern.nl  import sentiment as sentiment_nl\n",
      "from pattern.fr  import sentiment as sentiment_fr\n",
      "    \n",
      "csv = Datasheet()\n",
      "for politician, party in ((\"bart de wever\", \"NV-A\"), (\"elio di rupo\", \"PS\")):\n",
      "    for tweet in Twitter().search(politician):\n",
      "        if tweet.language in (\"nl\", \"fr\"):\n",
      "            s = plaintext(tweet.description) \n",
      "            if tweet.language == \"nl\":\n",
      "                w = sentiment_nl(s)\n",
      "            if tweet.language == \"fr\":\n",
      "                w = sentiment_fr(s)    \n",
      "            csv.append([politician, party, tweet.date, s, w])"
     ],
     "language": "python",
     "metadata": {},
     "outputs": [],
     "prompt_number": 68
    },
    {
     "cell_type": "code",
     "collapsed": false,
     "input": [
      "\n",
      "http://www.reddit.com/?count=25&after=t3_2owae8"
     ],
     "language": "python",
     "metadata": {},
     "outputs": []
    }
   ],
   "metadata": {}
  }
 ]
}