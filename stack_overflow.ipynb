{
 "metadata": {
  "name": "",
  "signature": "sha256:3bd0b189fde7113500654985d10eb405fe764df8bd0cb5f5b4c8aebfb3af1ba9"
 },
 "nbformat": 3,
 "nbformat_minor": 0,
 "worksheets": [
  {
   "cells": [
    {
     "cell_type": "markdown",
     "metadata": {},
     "source": [
      "Link: http://nbviewer.ipython.org/urls/gist.github.com/wesm/5786965/raw/ed219255583af7dea499577a134a9ff8625a6f25/gistfile1.txt"
     ]
    },
    {
     "cell_type": "code",
     "collapsed": false,
     "input": [
      "%matplotlib inline\n",
      "from pandas import Series, DataFrame\n",
      "import pandas as pd\n",
      "import numpy as np\n",
      "import matplotlib.pyplot as plt\n",
      "\n",
      "pd.set_option('display.mpl_style', 'default')\n",
      "plt.rcParams['figure.figsize'] = (15, 5)\n",
      "\n",
      "pd.set_option('html', False)\n",
      "pd.set_option('max_columns', 30)\n",
      "pd.set_option('max_rows', 20)"
     ],
     "language": "python",
     "metadata": {},
     "outputs": [],
     "prompt_number": 1
    },
    {
     "cell_type": "code",
     "collapsed": false,
     "input": [
      "cd data/stackexchange/"
     ],
     "language": "python",
     "metadata": {},
     "outputs": [
      {
       "output_type": "stream",
       "stream": "stdout",
       "text": [
        "/Users/admin/Dropbox/datascience_projects/_pandas-examples/data/stackexchange\n"
       ]
      }
     ],
     "prompt_number": 2
    },
    {
     "cell_type": "code",
     "collapsed": false,
     "input": [
      "files = ['Python200901-07.csv',\n",
      "         'Python200907-201007.csv',\n",
      "         'Python201007-201107.csv',\n",
      "         'Python201107-12.csv',\n",
      "         'Python201201-07.csv',\n",
      "         'Python201207-12.csv',\n",
      "         'Python201301.csv']\n",
      "\n",
      "tables = []\n",
      "for path in files:\n",
      "    tables.append(pd.read_csv(path))\n",
      "    \n",
      "posts = pd.concat(tables, ignore_index=True)"
     ],
     "language": "python",
     "metadata": {},
     "outputs": [],
     "prompt_number": 3
    },
    {
     "cell_type": "code",
     "collapsed": false,
     "input": [
      "posts.ix[0]"
     ],
     "language": "python",
     "metadata": {},
     "outputs": [
      {
       "metadata": {},
       "output_type": "pyout",
       "prompt_number": 4,
       "text": [
        "AnswerCount                                                   7\n",
        "CommentCount                                                  1\n",
        "CreationDate                                2009-01-01 00:55:16\n",
        "Id                                                       404346\n",
        "OwnerDisplayName                                   marc lincoln\n",
        "OwnerUserId                                               47204\n",
        "ParentId                                                    NaN\n",
        "PostTypeId                                                    1\n",
        "Score                                                         2\n",
        "Tags                                             <python><math>\n",
        "Title               Python program to calculate harmonic series\n",
        "Name: 0, dtype: object"
       ]
      }
     ],
     "prompt_number": 4
    },
    {
     "cell_type": "code",
     "collapsed": false,
     "input": [
      "posts.Tags"
     ],
     "language": "python",
     "metadata": {},
     "outputs": [
      {
       "metadata": {},
       "output_type": "pyout",
       "prompt_number": 5,
       "text": [
        "0                               <python><math>\n",
        "1         <python><binding><scope><identifier>\n",
        "2         <python><windows><subprocess><popen>\n",
        "3         <python><com><outlook><outlook-2007>\n",
        "4          <python><windows><winapi><controls>\n",
        "5               <python><opengl><3d><wxpython>\n",
        "6    <python><xml><google-app-engine><parsing>\n",
        "7                         <python><networking>\n",
        "...\n",
        "191983    <c++><python><c><shared-libraries><python-c-ex...\n",
        "191984                                  <python><soap><zsi>\n",
        "191985                      <python><r><rpy2><bioconductor>\n",
        "191986                                  <python><greenlets>\n",
        "191987                         <python><pygame><python-3.3>\n",
        "191988                                    <python><twisted>\n",
        "191989    <python><multidimensional-array><numpy><indexing>\n",
        "191990                           <python><function><primes>\n",
        "Name: Tags, Length: 191991, dtype: object"
       ]
      }
     ],
     "prompt_number": 5
    },
    {
     "cell_type": "code",
     "collapsed": false,
     "input": [
      "import re\n",
      "regex = re.compile('<([^>]*)>')\n",
      "\n",
      "ids = []\n",
      "tags = []\n",
      "for id, val in zip(posts.Id, posts.Tags):\n",
      "    for tag in regex.findall(val):\n",
      "        ids.append(id)\n",
      "        tags.append(tag)\n",
      "tag_table = pd.DataFrame({'subtag': tags, 'Id': ids})"
     ],
     "language": "python",
     "metadata": {},
     "outputs": [],
     "prompt_number": 7
    },
    {
     "cell_type": "code",
     "collapsed": false,
     "input": [
      "tag_table.head()"
     ],
     "language": "python",
     "metadata": {},
     "outputs": [
      {
       "metadata": {},
       "output_type": "pyout",
       "prompt_number": 8,
       "text": [
        "       Id   subtag\n",
        "0  404346   python\n",
        "1  404346     math\n",
        "2  404534   python\n",
        "3  404534  binding\n",
        "4  404534    scope"
       ]
      }
     ],
     "prompt_number": 8
    },
    {
     "cell_type": "code",
     "collapsed": false,
     "input": [
      "merged = pd.merge(tag_table, posts)"
     ],
     "language": "python",
     "metadata": {},
     "outputs": [],
     "prompt_number": 9
    },
    {
     "cell_type": "code",
     "collapsed": false,
     "input": [
      "merged.ix[0]"
     ],
     "language": "python",
     "metadata": {},
     "outputs": [
      {
       "metadata": {},
       "output_type": "pyout",
       "prompt_number": 28,
       "text": [
        "Id                                                       404346\n",
        "subtag                                                   python\n",
        "AnswerCount                                                   7\n",
        "CommentCount                                                  1\n",
        "CreationDate                                2009-01-01 00:55:16\n",
        "OwnerDisplayName                                   marc lincoln\n",
        "OwnerUserId                                               47204\n",
        "ParentId                                                    NaN\n",
        "PostTypeId                                                    1\n",
        "Score                                                         2\n",
        "Tags                                             <python><math>\n",
        "Title               Python program to calculate harmonic series\n",
        "Name: 0, dtype: object"
       ]
      }
     ],
     "prompt_number": 28
    },
    {
     "cell_type": "code",
     "collapsed": false,
     "input": [
      "merged.ix[1]"
     ],
     "language": "python",
     "metadata": {},
     "outputs": [
      {
       "metadata": {},
       "output_type": "pyout",
       "prompt_number": 29,
       "text": [
        "Id                                                       404346\n",
        "subtag                                                     math\n",
        "AnswerCount                                                   7\n",
        "CommentCount                                                  1\n",
        "CreationDate                                2009-01-01 00:55:16\n",
        "OwnerDisplayName                                   marc lincoln\n",
        "OwnerUserId                                               47204\n",
        "ParentId                                                    NaN\n",
        "PostTypeId                                                    1\n",
        "Score                                                         2\n",
        "Tags                                             <python><math>\n",
        "Title               Python program to calculate harmonic series\n",
        "Name: 1, dtype: object"
       ]
      }
     ],
     "prompt_number": 29
    },
    {
     "cell_type": "code",
     "collapsed": false,
     "input": [
      "top = merged.groupby('subtag').size().order(ascending=False)[:500]"
     ],
     "language": "python",
     "metadata": {},
     "outputs": [],
     "prompt_number": 11
    },
    {
     "cell_type": "code",
     "collapsed": true,
     "input": [
      "top"
     ],
     "language": "python",
     "metadata": {},
     "outputs": [
      {
       "metadata": {},
       "output_type": "pyout",
       "prompt_number": 31,
       "text": [
        "subtag\n",
        "python               191991\n",
        "django                20986\n",
        "google-app-engine      6147\n",
        "list                   5577\n",
        "numpy                  5397\n",
        "python-2.7             4953\n",
        "regex                  4598\n",
        "python-3.x             4303\n",
        "...\n",
        "merge           131\n",
        "blobstore       131\n",
        "dbus            131\n",
        "autocomplete    130\n",
        "mvc             130\n",
        "website         130\n",
        "decimal         129\n",
        "find            129\n",
        "Length: 500, dtype: int64"
       ]
      }
     ],
     "prompt_number": 31
    },
    {
     "cell_type": "code",
     "collapsed": false,
     "input": [
      "#put CreationDate to datetime format\n",
      "merged.CreationDate = pd.to_datetime(merged.CreationDate)"
     ],
     "language": "python",
     "metadata": {},
     "outputs": [],
     "prompt_number": 12
    },
    {
     "cell_type": "code",
     "collapsed": false,
     "input": [
      "filtered = merged[merged.subtag.isin(top.index)]\n",
      "grouped = filtered.groupby('subtag')\n",
      "\n",
      "def agg_monthly(group):\n",
      "    return group.set_index('CreationDate').Score.resample('M', how='count')\n",
      "results = grouped.apply(agg_monthly).unstack('subtag')\n",
      "results = results[:'2013-05-31']\n"
     ],
     "language": "python",
     "metadata": {},
     "outputs": [],
     "prompt_number": 13
    },
    {
     "cell_type": "code",
     "collapsed": false,
     "input": [
      "#search for 'meta' in table\n",
      "[x for x in top.index if 'meta' in x]"
     ],
     "language": "python",
     "metadata": {},
     "outputs": [
      {
       "metadata": {},
       "output_type": "pyout",
       "prompt_number": 14,
       "text": [
        "['metaclass', 'metaprogramming']"
       ]
      }
     ],
     "prompt_number": 14
    },
    {
     "cell_type": "code",
     "collapsed": false,
     "input": [
      "normed = results.div(results['python'], axis=0)\n",
      "normed['metaprogramming'].plot()"
     ],
     "language": "python",
     "metadata": {},
     "outputs": [
      {
       "metadata": {},
       "output_type": "pyout",
       "prompt_number": 35,
       "text": [
        "<matplotlib.axes._subplots.AxesSubplot at 0x10e6f9c10>"
       ]
      },
      {
       "metadata": {},
       "output_type": "display_data",
       "png": "[encoded data removed]",
       "text": [
        "<matplotlib.figure.Figure at 0x10e494150>"
       ]
      }
     ],
     "prompt_number": 35
    },
    {
     "cell_type": "code",
     "collapsed": false,
     "input": [
      "results['python'].plot()"
     ],
     "language": "python",
     "metadata": {},
     "outputs": [
      {
       "metadata": {},
       "output_type": "pyout",
       "prompt_number": 16,
       "text": [
        "<matplotlib.axes._subplots.AxesSubplot at 0x10a7a5e50>"
       ]
      },
      {
       "metadata": {},
       "output_type": "display_data",
       "png": "[encoded data removed]",
       "text": [
        "<matplotlib.figure.Figure at 0x10bc36850>"
       ]
      }
     ],
     "prompt_number": 16
    },
    {
     "cell_type": "code",
     "collapsed": false,
     "input": [
      "normed = results.div(results['python'], axis=0)\n",
      "to_analyze = normed[:'2013-05-31']\n",
      "to_analyze['pandas'].plot()"
     ],
     "language": "python",
     "metadata": {},
     "outputs": [
      {
       "metadata": {},
       "output_type": "pyout",
       "prompt_number": 17,
       "text": [
        "<matplotlib.axes._subplots.AxesSubplot at 0x10babfdd0>"
       ]
      },
      {
       "metadata": {},
       "output_type": "display_data",
       "png": "[encoded data removed]",
       "text": [
        "<matplotlib.figure.Figure at 0x10bad9490>"
       ]
      }
     ],
     "prompt_number": 17
    },
    {
     "cell_type": "code",
     "collapsed": false,
     "input": [
      "filtered = merged[merged.subtag.isin(top.index)]\n",
      "grouped = filtered.groupby('subtag')\n",
      "\n",
      "def agg_monthly(group):\n",
      "    return group.set_index('CreationDate').Score.resample('A', how='count')\n",
      "results = grouped.apply(agg_monthly).unstack('subtag')"
     ],
     "language": "python",
     "metadata": {},
     "outputs": [],
     "prompt_number": 18
    },
    {
     "cell_type": "code",
     "collapsed": false,
     "input": [
      "results['django'].plot(kind='bar')"
     ],
     "language": "python",
     "metadata": {},
     "outputs": [
      {
       "metadata": {},
       "output_type": "pyout",
       "prompt_number": 19,
       "text": [
        "<matplotlib.axes._subplots.AxesSubplot at 0x10c526ed0>"
       ]
      },
      {
       "metadata": {},
       "output_type": "display_data",
       "png": "[encoded data removed]",
       "text": [
        "<matplotlib.figure.Figure at 0x10c542c90>"
       ]
      }
     ],
     "prompt_number": 19
    },
    {
     "cell_type": "code",
     "collapsed": false,
     "input": [
      "normed = results.div(results['python'], axis=0)\n",
      "\n",
      "normed['django'].plot(kind='bar')"
     ],
     "language": "python",
     "metadata": {},
     "outputs": [
      {
       "metadata": {},
       "output_type": "pyout",
       "prompt_number": 20,
       "text": [
        "<matplotlib.axes._subplots.AxesSubplot at 0x10c90cf90>"
       ]
      },
      {
       "metadata": {},
       "output_type": "display_data",
       "png": "[encoded data removed]",
       "text": [
        "<matplotlib.figure.Figure at 0x10bae5350>"
       ]
      }
     ],
     "prompt_number": 20
    },
    {
     "cell_type": "code",
     "collapsed": false,
     "input": [
      "normed['django'].pct_change()"
     ],
     "language": "python",
     "metadata": {},
     "outputs": [
      {
       "metadata": {},
       "output_type": "pyout",
       "prompt_number": 21,
       "text": [
        "CreationDate\n",
        "2009-12-31           NaN\n",
        "2010-12-31     -0.014833\n",
        "2011-12-31     -0.052872\n",
        "2012-12-31     -0.116431\n",
        "2013-12-31     -0.149268\n",
        "Name: django, dtype: float64"
       ]
      }
     ],
     "prompt_number": 21
    },
    {
     "cell_type": "code",
     "collapsed": false,
     "input": [
      "whats_happening2013 = normed.pct_change().ix[-1]"
     ],
     "language": "python",
     "metadata": {},
     "outputs": [],
     "prompt_number": 22
    },
    {
     "cell_type": "code",
     "collapsed": false,
     "input": [
      "[x for x in whats_happening2013.index if 'sublime' in x]"
     ],
     "language": "python",
     "metadata": {},
     "outputs": [
      {
       "metadata": {},
       "output_type": "pyout",
       "prompt_number": 23,
       "text": [
        "['sublimetext2']"
       ]
      }
     ],
     "prompt_number": 23
    },
    {
     "cell_type": "code",
     "collapsed": false,
     "input": [
      "whats_happening2013['sublimetext2']"
     ],
     "language": "python",
     "metadata": {},
     "outputs": [
      {
       "metadata": {},
       "output_type": "pyout",
       "prompt_number": 24,
       "text": [
        "0.36393813179275791"
       ]
      }
     ],
     "prompt_number": 24
    },
    {
     "cell_type": "code",
     "collapsed": false,
     "input": [
      "downtrends = whats_happening2013.order()[:50]\n",
      "uptrends = whats_happening2013.order()[-50:]"
     ],
     "language": "python",
     "metadata": {},
     "outputs": [],
     "prompt_number": 25
    },
    {
     "cell_type": "code",
     "collapsed": false,
     "input": [
      "uptrends[::-1]"
     ],
     "language": "python",
     "metadata": {},
     "outputs": [
      {
       "metadata": {},
       "output_type": "pyout",
       "prompt_number": 27,
       "text": [
        "subtag\n",
        "pylab                  NaN\n",
        "python-3.3        7.594584\n",
        "user-interface    4.107720\n",
        "raspberry-pi      3.542113\n",
        "openerp           2.626263\n",
        "enthought         2.061674\n",
        "sympy             1.734087\n",
        "python-2.7        1.197395\n",
        "...\n",
        "pyinstaller     0.346390\n",
        "pyserial        0.343298\n",
        "networkx        0.333529\n",
        "compare         0.322945\n",
        "optimization    0.316720\n",
        "flask           0.303641\n",
        "split           0.297746\n",
        "input           0.292707\n",
        "Name: 2013-12-31 00:00:00, Length: 50, dtype: float64"
       ]
      }
     ],
     "prompt_number": 27
    },
    {
     "cell_type": "code",
     "collapsed": false,
     "input": [
      "downtrends"
     ],
     "language": "python",
     "metadata": {},
     "outputs": [
      {
       "metadata": {},
       "output_type": "pyout",
       "prompt_number": 26,
       "text": [
        "subtag\n",
        "plone              -0.712494\n",
        "osx-lion           -0.679115\n",
        "interpreter        -0.647215\n",
        "minidom            -0.624765\n",
        "osx-snow-leopard   -0.603116\n",
        "xmpp               -0.597193\n",
        "mod-python         -0.588417\n",
        "pylons             -0.572587\n",
        "...\n",
        "jquery           -0.346309\n",
        "caching          -0.344279\n",
        "plugins          -0.340563\n",
        "zip              -0.338527\n",
        "pyparsing        -0.338527\n",
        "authentication   -0.337576\n",
        "boolean          -0.332775\n",
        "web.py           -0.332775\n",
        "Name: 2013-12-31 00:00:00, Length: 50, dtype: float64"
       ]
      }
     ],
     "prompt_number": 26
    },
    {
     "cell_type": "code",
     "collapsed": false,
     "input": [],
     "language": "python",
     "metadata": {},
     "outputs": []
    }
   ],
   "metadata": {}
  }
 ]
}