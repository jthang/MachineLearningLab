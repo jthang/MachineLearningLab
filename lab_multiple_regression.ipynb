{
 "metadata": {
  "name": "",
  "signature": "sha256:f324c5f904e2ffcf9dbc6627cc50a9c9c184024591bcafdf42db3eead5ea0e40"
 },
 "nbformat": 3,
 "nbformat_minor": 0,
 "worksheets": [
  {
   "cells": [
    {
     "cell_type": "heading",
     "level": 1,
     "metadata": {},
     "source": [
      "Multiple Linear Regression"
     ]
    },
    {
     "cell_type": "markdown",
     "metadata": {},
     "source": [
      "Simple linear regression is useful when we have 1 predictor. More often than not, there are more than 1 predictor. \n",
      "\n",
      "**Mathematical Definition**<br/>\n",
      "$Y = \\beta_0 + \\beta_1X_1 + \\beta_2X_2+ ... + \\beta_pX_p + \\epsilon$<br/>\n",
      "\n",
      "To estimate the coefficients, we use the same least squares approach. Choosing coeeficients which will minimize the sum of squared residuals (RSS).\n",
      "\n",
      "**Important Concepts**<br/>\n",
      "1. Handling Categorical Variables (Qualitative)\n",
      "2. Interactions (removing additive assumptions)\n",
      "3. Polynomial regression"
     ]
    },
    {
     "cell_type": "heading",
     "level": 6,
     "metadata": {},
     "source": [
      "Illustration"
     ]
    },
    {
     "cell_type": "code",
     "collapsed": false,
     "input": [
      "%matplotlib inline\n",
      "from pandas import Series, DataFrame\n",
      "import pandas as pd\n",
      "import numpy as np\n",
      "import matplotlib.pyplot as plt\n",
      "pd.set_option('display.mpl_style', 'default')\n",
      "pd.set_option('display.notebook_repr_html', False)\n",
      "pd.set_option('max_columns', 30)\n",
      "pd.set_option('max_rows', 20)"
     ],
     "language": "python",
     "metadata": {},
     "outputs": [],
     "prompt_number": 2
    },
    {
     "cell_type": "code",
     "collapsed": false,
     "input": [
      "adv_df = pd.read_csv('data/Advertising.csv', index_col=0)\n",
      "adv_df.head()"
     ],
     "language": "python",
     "metadata": {},
     "outputs": [
      {
       "metadata": {},
       "output_type": "pyout",
       "prompt_number": 3,
       "text": [
        "      TV  Radio  Newspaper  Sales\n",
        "1  230.1   37.8       69.2   22.1\n",
        "2   44.5   39.3       45.1   10.4\n",
        "3   17.2   45.9       69.3    9.3\n",
        "4  151.5   41.3       58.5   18.5\n",
        "5  180.8   10.8       58.4   12.9"
       ]
      }
     ],
     "prompt_number": 3
    },
    {
     "cell_type": "heading",
     "level": 6,
     "metadata": {},
     "source": [
      "Estimating with 2 predictors (Statsmodels)"
     ]
    },
    {
     "cell_type": "code",
     "collapsed": false,
     "input": [
      "import statsmodels.formula.api as smf\n",
      "est = smf.ols(formula='Sales ~ TV + Radio', data=adv_df).fit()\n",
      "est.summary()"
     ],
     "language": "python",
     "metadata": {},
     "outputs": [
      {
       "html": [
        "<table class=\"simpletable\">\n",
        "<caption>OLS Regression Results</caption>\n",
        "<tr>\n",
        "  <th>Dep. Variable:</th>          <td>Sales</td>      <th>  R-squared:         </th> <td>   0.897</td>\n",
        "</tr>\n",
        "<tr>\n",
        "  <th>Model:</th>                   <td>OLS</td>       <th>  Adj. R-squared:    </th> <td>   0.896</td>\n",
        "</tr>\n",
        "<tr>\n",
        "  <th>Method:</th>             <td>Least Squares</td>  <th>  F-statistic:       </th> <td>   859.6</td>\n",
        "</tr>\n",
        "<tr>\n",
        "  <th>Date:</th>             <td>Sun, 09 Nov 2014</td> <th>  Prob (F-statistic):</th> <td>4.83e-98</td>\n",
        "</tr>\n",
        "<tr>\n",
        "  <th>Time:</th>                 <td>21:31:36</td>     <th>  Log-Likelihood:    </th> <td> -386.20</td>\n",
        "</tr>\n",
        "<tr>\n",
        "  <th>No. Observations:</th>      <td>   200</td>      <th>  AIC:               </th> <td>   778.4</td>\n",
        "</tr>\n",
        "<tr>\n",
        "  <th>Df Residuals:</th>          <td>   197</td>      <th>  BIC:               </th> <td>   788.3</td>\n",
        "</tr>\n",
        "<tr>\n",
        "  <th>Df Model:</th>              <td>     2</td>      <th>                     </th>     <td> </td>   \n",
        "</tr>\n",
        "</table>\n",
        "<table class=\"simpletable\">\n",
        "<tr>\n",
        "      <td></td>         <th>coef</th>     <th>std err</th>      <th>t</th>      <th>P>|t|</th> <th>[95.0% Conf. Int.]</th> \n",
        "</tr>\n",
        "<tr>\n",
        "  <th>Intercept</th> <td>    2.9211</td> <td>    0.294</td> <td>    9.919</td> <td> 0.000</td> <td>    2.340     3.502</td>\n",
        "</tr>\n",
        "<tr>\n",
        "  <th>TV</th>        <td>    0.0458</td> <td>    0.001</td> <td>   32.909</td> <td> 0.000</td> <td>    0.043     0.048</td>\n",
        "</tr>\n",
        "<tr>\n",
        "  <th>Radio</th>     <td>    0.1880</td> <td>    0.008</td> <td>   23.382</td> <td> 0.000</td> <td>    0.172     0.204</td>\n",
        "</tr>\n",
        "</table>\n",
        "<table class=\"simpletable\">\n",
        "<tr>\n",
        "  <th>Omnibus:</th>       <td>60.022</td> <th>  Durbin-Watson:     </th> <td>   2.081</td>\n",
        "</tr>\n",
        "<tr>\n",
        "  <th>Prob(Omnibus):</th> <td> 0.000</td> <th>  Jarque-Bera (JB):  </th> <td> 148.679</td>\n",
        "</tr>\n",
        "<tr>\n",
        "  <th>Skew:</th>          <td>-1.323</td> <th>  Prob(JB):          </th> <td>5.19e-33</td>\n",
        "</tr>\n",
        "<tr>\n",
        "  <th>Kurtosis:</th>      <td> 6.292</td> <th>  Cond. No.          </th> <td>    425.</td>\n",
        "</tr>\n",
        "</table>"
       ],
       "metadata": {},
       "output_type": "pyout",
       "prompt_number": 4,
       "text": [
        "<class 'statsmodels.iolib.summary.Summary'>\n",
        "\"\"\"\n",
        "                            OLS Regression Results                            \n",
        "==============================================================================\n",
        "Dep. Variable:                  Sales   R-squared:                       0.897\n",
        "Model:                            OLS   Adj. R-squared:                  0.896\n",
        "Method:                 Least Squares   F-statistic:                     859.6\n",
        "Date:                Sun, 09 Nov 2014   Prob (F-statistic):           4.83e-98\n",
        "Time:                        21:31:36   Log-Likelihood:                -386.20\n",
        "No. Observations:                 200   AIC:                             778.4\n",
        "Df Residuals:                     197   BIC:                             788.3\n",
        "Df Model:                           2                                         \n",
        "==============================================================================\n",
        "                 coef    std err          t      P>|t|      [95.0% Conf. Int.]\n",
        "------------------------------------------------------------------------------\n",
        "Intercept      2.9211      0.294      9.919      0.000         2.340     3.502\n",
        "TV             0.0458      0.001     32.909      0.000         0.043     0.048\n",
        "Radio          0.1880      0.008     23.382      0.000         0.172     0.204\n",
        "==============================================================================\n",
        "Omnibus:                       60.022   Durbin-Watson:                   2.081\n",
        "Prob(Omnibus):                  0.000   Jarque-Bera (JB):              148.679\n",
        "Skew:                          -1.323   Prob(JB):                     5.19e-33\n",
        "Kurtosis:                       6.292   Cond. No.                         425.\n",
        "==============================================================================\n",
        "\"\"\""
       ]
      }
     ],
     "prompt_number": 4
    },
    {
     "cell_type": "heading",
     "level": 6,
     "metadata": {},
     "source": [
      "Estimating with 3 predictors (Statsmodels)"
     ]
    },
    {
     "cell_type": "code",
     "collapsed": false,
     "input": [
      "est = smf.ols(formula='Sales ~ TV + Radio + Newspaper', data=adv_df).fit()\n",
      "est.summary()"
     ],
     "language": "python",
     "metadata": {},
     "outputs": [
      {
       "html": [
        "<table class=\"simpletable\">\n",
        "<caption>OLS Regression Results</caption>\n",
        "<tr>\n",
        "  <th>Dep. Variable:</th>          <td>Sales</td>      <th>  R-squared:         </th> <td>   0.897</td>\n",
        "</tr>\n",
        "<tr>\n",
        "  <th>Model:</th>                   <td>OLS</td>       <th>  Adj. R-squared:    </th> <td>   0.896</td>\n",
        "</tr>\n",
        "<tr>\n",
        "  <th>Method:</th>             <td>Least Squares</td>  <th>  F-statistic:       </th> <td>   570.3</td>\n",
        "</tr>\n",
        "<tr>\n",
        "  <th>Date:</th>             <td>Sun, 09 Nov 2014</td> <th>  Prob (F-statistic):</th> <td>1.58e-96</td>\n",
        "</tr>\n",
        "<tr>\n",
        "  <th>Time:</th>                 <td>21:31:36</td>     <th>  Log-Likelihood:    </th> <td> -386.18</td>\n",
        "</tr>\n",
        "<tr>\n",
        "  <th>No. Observations:</th>      <td>   200</td>      <th>  AIC:               </th> <td>   780.4</td>\n",
        "</tr>\n",
        "<tr>\n",
        "  <th>Df Residuals:</th>          <td>   196</td>      <th>  BIC:               </th> <td>   793.6</td>\n",
        "</tr>\n",
        "<tr>\n",
        "  <th>Df Model:</th>              <td>     3</td>      <th>                     </th>     <td> </td>   \n",
        "</tr>\n",
        "</table>\n",
        "<table class=\"simpletable\">\n",
        "<tr>\n",
        "      <td></td>         <th>coef</th>     <th>std err</th>      <th>t</th>      <th>P>|t|</th> <th>[95.0% Conf. Int.]</th> \n",
        "</tr>\n",
        "<tr>\n",
        "  <th>Intercept</th> <td>    2.9389</td> <td>    0.312</td> <td>    9.422</td> <td> 0.000</td> <td>    2.324     3.554</td>\n",
        "</tr>\n",
        "<tr>\n",
        "  <th>TV</th>        <td>    0.0458</td> <td>    0.001</td> <td>   32.809</td> <td> 0.000</td> <td>    0.043     0.049</td>\n",
        "</tr>\n",
        "<tr>\n",
        "  <th>Radio</th>     <td>    0.1885</td> <td>    0.009</td> <td>   21.893</td> <td> 0.000</td> <td>    0.172     0.206</td>\n",
        "</tr>\n",
        "<tr>\n",
        "  <th>Newspaper</th> <td>   -0.0010</td> <td>    0.006</td> <td>   -0.177</td> <td> 0.860</td> <td>   -0.013     0.011</td>\n",
        "</tr>\n",
        "</table>\n",
        "<table class=\"simpletable\">\n",
        "<tr>\n",
        "  <th>Omnibus:</th>       <td>60.414</td> <th>  Durbin-Watson:     </th> <td>   2.084</td>\n",
        "</tr>\n",
        "<tr>\n",
        "  <th>Prob(Omnibus):</th> <td> 0.000</td> <th>  Jarque-Bera (JB):  </th> <td> 151.241</td>\n",
        "</tr>\n",
        "<tr>\n",
        "  <th>Skew:</th>          <td>-1.327</td> <th>  Prob(JB):          </th> <td>1.44e-33</td>\n",
        "</tr>\n",
        "<tr>\n",
        "  <th>Kurtosis:</th>      <td> 6.332</td> <th>  Cond. No.          </th> <td>    454.</td>\n",
        "</tr>\n",
        "</table>"
       ],
       "metadata": {},
       "output_type": "pyout",
       "prompt_number": 5,
       "text": [
        "<class 'statsmodels.iolib.summary.Summary'>\n",
        "\"\"\"\n",
        "                            OLS Regression Results                            \n",
        "==============================================================================\n",
        "Dep. Variable:                  Sales   R-squared:                       0.897\n",
        "Model:                            OLS   Adj. R-squared:                  0.896\n",
        "Method:                 Least Squares   F-statistic:                     570.3\n",
        "Date:                Sun, 09 Nov 2014   Prob (F-statistic):           1.58e-96\n",
        "Time:                        21:31:36   Log-Likelihood:                -386.18\n",
        "No. Observations:                 200   AIC:                             780.4\n",
        "Df Residuals:                     196   BIC:                             793.6\n",
        "Df Model:                           3                                         \n",
        "==============================================================================\n",
        "                 coef    std err          t      P>|t|      [95.0% Conf. Int.]\n",
        "------------------------------------------------------------------------------\n",
        "Intercept      2.9389      0.312      9.422      0.000         2.324     3.554\n",
        "TV             0.0458      0.001     32.809      0.000         0.043     0.049\n",
        "Radio          0.1885      0.009     21.893      0.000         0.172     0.206\n",
        "Newspaper     -0.0010      0.006     -0.177      0.860        -0.013     0.011\n",
        "==============================================================================\n",
        "Omnibus:                       60.414   Durbin-Watson:                   2.084\n",
        "Prob(Omnibus):                  0.000   Jarque-Bera (JB):              151.241\n",
        "Skew:                          -1.327   Prob(JB):                     1.44e-33\n",
        "Kurtosis:                       6.332   Cond. No.                         454.\n",
        "==============================================================================\n",
        "\"\"\""
       ]
      }
     ],
     "prompt_number": 5
    },
    {
     "cell_type": "heading",
     "level": 6,
     "metadata": {},
     "source": [
      "Estimating using Scikit-Learn"
     ]
    },
    {
     "cell_type": "code",
     "collapsed": false,
     "input": [
      "from sklearn.cross_validation import train_test_split\n",
      "from sklearn.linear_model import LinearRegression\n",
      "\n",
      "X = adv_df[['TV']].values\n",
      "y = adv_df['Sales'].values\n",
      "\n",
      "X_train, X_test, y_train, y_test = train_test_split(X, y, test_size=0.5)\n",
      "\n",
      "clf = LinearRegression()\n",
      "clf.fit(X_train, y_train)\n",
      "print \"The intercept is: %.5f\" % clf.intercept_\n",
      "print \"The coefficent is: %.5f\" % clf.coef_\n",
      "\n",
      "predicted_train = clf.predict(X_train)\n",
      "predicted_test = clf.predict(X_test)\n",
      "\n",
      "plt.scatter(X, y, c='b', alpha=0.2)\n",
      "plt.plot(X_train, predicted_train, c='r', alpha=0.5)\n",
      "plt.plot(X_test, predicted_test, c='g', alpha=0.5)"
     ],
     "language": "python",
     "metadata": {},
     "outputs": [
      {
       "output_type": "stream",
       "stream": "stdout",
       "text": [
        "The intercept is: 7.05435\n",
        "The coefficent is: 0.04776\n"
       ]
      },
      {
       "metadata": {},
       "output_type": "pyout",
       "prompt_number": 6,
       "text": [
        "[<matplotlib.lines.Line2D at 0x1098cce90>]"
       ]
      },
      {
       "metadata": {},
       "output_type": "display_data",
       "png": "[encoded data removed]",
       "text": [
        "<matplotlib.figure.Figure at 0x10344f350>"
       ]
      }
     ],
     "prompt_number": 6
    },
    {
     "cell_type": "code",
     "collapsed": false,
     "input": [
      "X = adv_df[['TV', 'Radio']].values\n",
      "y = adv_df['Sales'].values\n",
      "clf = LinearRegression()\n",
      "clf.fit(X, y)"
     ],
     "language": "python",
     "metadata": {},
     "outputs": [
      {
       "metadata": {},
       "output_type": "pyout",
       "prompt_number": 7,
       "text": [
        "LinearRegression(copy_X=True, fit_intercept=True, normalize=False)"
       ]
      }
     ],
     "prompt_number": 7
    },
    {
     "cell_type": "code",
     "collapsed": false,
     "input": [
      "xcols = adv_df.columns[0:-1]\n",
      "X = adv_df[xcols].values\n",
      "y = adv_df['Sales'].values\n",
      "clf = LinearRegression()\n",
      "clf.fit(X, y)"
     ],
     "language": "python",
     "metadata": {},
     "outputs": [
      {
       "metadata": {},
       "output_type": "pyout",
       "prompt_number": 8,
       "text": [
        "LinearRegression(copy_X=True, fit_intercept=True, normalize=False)"
       ]
      }
     ],
     "prompt_number": 8
    },
    {
     "cell_type": "heading",
     "level": 1,
     "metadata": {},
     "source": [
      "Interactions"
     ]
    },
    {
     "cell_type": "code",
     "collapsed": false,
     "input": [
      "carseats_df = pd.read_csv('data/Carseats.csv')\n",
      "carseats_df.head()"
     ],
     "language": "python",
     "metadata": {},
     "outputs": [
      {
       "metadata": {},
       "output_type": "pyout",
       "prompt_number": 9,
       "text": [
        "   Sales  CompPrice  Income  Advertising  Population  Price ShelveLoc  Age  \\\n",
        "0   9.50        138      73           11         276    120       Bad   42   \n",
        "1  11.22        111      48           16         260     83      Good   65   \n",
        "2  10.06        113      35           10         269     80    Medium   59   \n",
        "3   7.40        117     100            4         466     97    Medium   55   \n",
        "4   4.15        141      64            3         340    128       Bad   38   \n",
        "\n",
        "   Education Urban   US  \n",
        "0         17   Yes  Yes  \n",
        "1         10   Yes  Yes  \n",
        "2         12   Yes  Yes  \n",
        "3         14   Yes  Yes  \n",
        "4         13   Yes   No  "
       ]
      }
     ],
     "prompt_number": 9
    },
    {
     "cell_type": "heading",
     "level": 6,
     "metadata": {},
     "source": [
      "Function for short summary"
     ]
    },
    {
     "cell_type": "code",
     "collapsed": false,
     "input": [
      "from IPython.core.display import HTML\n",
      "def short_summary(est):\n",
      "    return HTML(est.summary().tables[1].as_html())"
     ],
     "language": "python",
     "metadata": {},
     "outputs": [],
     "prompt_number": 10
    },
    {
     "cell_type": "heading",
     "level": 6,
     "metadata": {},
     "source": [
      "Convert non-numeric to factors"
     ]
    },
    {
     "cell_type": "code",
     "collapsed": false,
     "input": [
      "carseats_df[\"ShelveLoc\"] = pd.factorize(carseats_df[\"ShelveLoc\"])[0]\n",
      "carseats_df[\"Urban\"] = pd.factorize(carseats_df[\"Urban\"])[0]\n",
      "carseats_df[\"US\"] = pd.factorize(carseats_df[\"US\"])[0]\n",
      "carseats_df.head()"
     ],
     "language": "python",
     "metadata": {},
     "outputs": [
      {
       "metadata": {},
       "output_type": "pyout",
       "prompt_number": 11,
       "text": [
        "   Sales  CompPrice  Income  Advertising  Population  Price  ShelveLoc  Age  \\\n",
        "0   9.50        138      73           11         276    120          0   42   \n",
        "1  11.22        111      48           16         260     83          1   65   \n",
        "2  10.06        113      35           10         269     80          2   59   \n",
        "3   7.40        117     100            4         466     97          2   55   \n",
        "4   4.15        141      64            3         340    128          0   38   \n",
        "\n",
        "   Education  Urban  US  \n",
        "0         17      0   0  \n",
        "1         10      0   0  \n",
        "2         12      0   0  \n",
        "3         14      0   0  \n",
        "4         13      0   1  "
       ]
      }
     ],
     "prompt_number": 11
    },
    {
     "cell_type": "heading",
     "level": 6,
     "metadata": {},
     "source": [
      "Using Scikit Learn"
     ]
    },
    {
     "cell_type": "code",
     "collapsed": false,
     "input": [
      "carseats_df[\"Income:Advertising\"] = carseats_df[\"Income\"] * carseats_df[\"Advertising\"]\n",
      "carseats_df[\"Age:Price\"] = carseats_df[\"Age\"] * carseats_df[\"Price\"]\n",
      "X = carseats_df[carseats_df[1:].columns]\n",
      "y = carseats_df[\"Sales\"]\n",
      "clf = LinearRegression()\n",
      "clf.fit(X, y)\n",
      "print \"The intercept is: %.5f\" % clf.intercept_\n",
      "print \"The coefficents are: %s\" % clf.coef_"
     ],
     "language": "python",
     "metadata": {},
     "outputs": [
      {
       "output_type": "stream",
       "stream": "stdout",
       "text": [
        "The intercept is: 0.00000\n",
        "The coefficents are: [  1.00000000e+00  -5.75928194e-16  -1.33573708e-16  -1.38777878e-16\n",
        "   3.72965547e-17   1.66533454e-16   1.66533454e-16  -2.77555756e-17\n",
        "   9.71445147e-17  -1.60461922e-17  -2.25514052e-17  -4.33680869e-18\n",
        "   1.08420217e-18]\n"
       ]
      }
     ],
     "prompt_number": 12
    },
    {
     "cell_type": "heading",
     "level": 6,
     "metadata": {},
     "source": [
      "Categorical Variables"
     ]
    },
    {
     "cell_type": "code",
     "collapsed": false,
     "input": [
      "est = smf.ols(formula='Sales ~ C(Urban)', data=carseats_df).fit()\n",
      "short_summary(est)"
     ],
     "language": "python",
     "metadata": {},
     "outputs": [
      {
       "html": [
        "<table class=\"simpletable\">\n",
        "<tr>\n",
        "        <td></td>           <th>coef</th>     <th>std err</th>      <th>t</th>      <th>P>|t|</th> <th>[95.0% Conf. Int.]</th> \n",
        "</tr>\n",
        "<tr>\n",
        "  <th>Intercept</th>     <td>    7.4682</td> <td>    0.168</td> <td>   44.357</td> <td> 0.000</td> <td>    7.137     7.799</td>\n",
        "</tr>\n",
        "<tr>\n",
        "  <th>C(Urban)[T.1]</th> <td>    0.0954</td> <td>    0.310</td> <td>    0.308</td> <td> 0.759</td> <td>   -0.514     0.705</td>\n",
        "</tr>\n",
        "</table>"
       ],
       "metadata": {},
       "output_type": "pyout",
       "prompt_number": 13,
       "text": [
        "<IPython.core.display.HTML at 0x10990a750>"
       ]
      }
     ],
     "prompt_number": 13
    },
    {
     "cell_type": "heading",
     "level": 6,
     "metadata": {},
     "source": [
      "Using Statsmodel"
     ]
    },
    {
     "cell_type": "code",
     "collapsed": false,
     "input": [
      "import statsmodels.formula.api as smf\n",
      "all_columns = \"+\".join(carseats_df.columns - [\"Sales\"])\n",
      "my_formula = \"Sales ~\" + all_columns\n",
      "est = smf.ols(formula=my_formula, data=carseats_df).fit()\n",
      "est.summary()"
     ],
     "language": "python",
     "metadata": {},
     "outputs": [
      {
       "html": [
        "<table class=\"simpletable\">\n",
        "<caption>OLS Regression Results</caption>\n",
        "<tr>\n",
        "  <th>Dep. Variable:</th>          <td>Sales</td>      <th>  R-squared:         </th> <td>   0.578</td>\n",
        "</tr>\n",
        "<tr>\n",
        "  <th>Model:</th>                   <td>OLS</td>       <th>  Adj. R-squared:    </th> <td>   0.565</td>\n",
        "</tr>\n",
        "<tr>\n",
        "  <th>Method:</th>             <td>Least Squares</td>  <th>  F-statistic:       </th> <td>   44.24</td>\n",
        "</tr>\n",
        "<tr>\n",
        "  <th>Date:</th>             <td>Sun, 09 Nov 2014</td> <th>  Prob (F-statistic):</th> <td>4.26e-65</td>\n",
        "</tr>\n",
        "<tr>\n",
        "  <th>Time:</th>                 <td>21:31:37</td>     <th>  Log-Likelihood:    </th> <td> -809.62</td>\n",
        "</tr>\n",
        "<tr>\n",
        "  <th>No. Observations:</th>      <td>   400</td>      <th>  AIC:               </th> <td>   1645.</td>\n",
        "</tr>\n",
        "<tr>\n",
        "  <th>Df Residuals:</th>          <td>   387</td>      <th>  BIC:               </th> <td>   1697.</td>\n",
        "</tr>\n",
        "<tr>\n",
        "  <th>Df Model:</th>              <td>    12</td>      <th>                     </th>     <td> </td>   \n",
        "</tr>\n",
        "</table>\n",
        "<table class=\"simpletable\">\n",
        "<tr>\n",
        "           <td></td>             <th>coef</th>     <th>std err</th>      <th>t</th>      <th>P>|t|</th> <th>[95.0% Conf. Int.]</th> \n",
        "</tr>\n",
        "<tr>\n",
        "  <th>Intercept</th>          <td>    9.7990</td> <td>    1.872</td> <td>    5.235</td> <td> 0.000</td> <td>    6.119    13.479</td>\n",
        "</tr>\n",
        "<tr>\n",
        "  <th>Advertising</th>        <td>    0.0964</td> <td>    0.042</td> <td>    2.315</td> <td> 0.021</td> <td>    0.015     0.178</td>\n",
        "</tr>\n",
        "<tr>\n",
        "  <th>Age</th>                <td>   -0.0972</td> <td>    0.029</td> <td>   -3.317</td> <td> 0.001</td> <td>   -0.155    -0.040</td>\n",
        "</tr>\n",
        "<tr>\n",
        "  <th>Age:Price</th>          <td>    0.0004</td> <td>    0.000</td> <td>    1.775</td> <td> 0.077</td> <td>-4.67e-05     0.001</td>\n",
        "</tr>\n",
        "<tr>\n",
        "  <th>CompPrice</th>          <td>    0.0931</td> <td>    0.008</td> <td>   12.276</td> <td> 0.000</td> <td>    0.078     0.108</td>\n",
        "</tr>\n",
        "<tr>\n",
        "  <th>Education</th>          <td>   -0.0350</td> <td>    0.036</td> <td>   -0.969</td> <td> 0.333</td> <td>   -0.106     0.036</td>\n",
        "</tr>\n",
        "<tr>\n",
        "  <th>Income</th>             <td>    0.0112</td> <td>    0.005</td> <td>    2.339</td> <td> 0.020</td> <td>    0.002     0.021</td>\n",
        "</tr>\n",
        "<tr>\n",
        "  <th>Income:Advertising</th> <td>    0.0005</td> <td>    0.001</td> <td>    0.942</td> <td> 0.347</td> <td>   -0.001     0.001</td>\n",
        "</tr>\n",
        "<tr>\n",
        "  <th>Population</th>         <td>-3.667e-05</td> <td>    0.001</td> <td>   -0.054</td> <td> 0.957</td> <td>   -0.001     0.001</td>\n",
        "</tr>\n",
        "<tr>\n",
        "  <th>Price</th>              <td>   -0.1152</td> <td>    0.014</td> <td>   -8.422</td> <td> 0.000</td> <td>   -0.142    -0.088</td>\n",
        "</tr>\n",
        "<tr>\n",
        "  <th>ShelveLoc</th>          <td>    0.5880</td> <td>    0.113</td> <td>    5.183</td> <td> 0.000</td> <td>    0.365     0.811</td>\n",
        "</tr>\n",
        "<tr>\n",
        "  <th>US</th>                 <td>   -0.0286</td> <td>    0.274</td> <td>   -0.104</td> <td> 0.917</td> <td>   -0.568     0.510</td>\n",
        "</tr>\n",
        "<tr>\n",
        "  <th>Urban</th>              <td>    0.0446</td> <td>    0.207</td> <td>    0.216</td> <td> 0.829</td> <td>   -0.362     0.451</td>\n",
        "</tr>\n",
        "</table>\n",
        "<table class=\"simpletable\">\n",
        "<tr>\n",
        "  <th>Omnibus:</th>       <td>31.937</td> <th>  Durbin-Watson:     </th> <td>   1.984</td>\n",
        "</tr>\n",
        "<tr>\n",
        "  <th>Prob(Omnibus):</th> <td> 0.000</td> <th>  Jarque-Bera (JB):  </th> <td>  37.994</td>\n",
        "</tr>\n",
        "<tr>\n",
        "  <th>Skew:</th>          <td> 0.748</td> <th>  Prob(JB):          </th> <td>5.62e-09</td>\n",
        "</tr>\n",
        "<tr>\n",
        "  <th>Kurtosis:</th>      <td> 2.790</td> <th>  Cond. No.          </th> <td>1.31e+05</td>\n",
        "</tr>\n",
        "</table>"
       ],
       "metadata": {},
       "output_type": "pyout",
       "prompt_number": 14,
       "text": [
        "<class 'statsmodels.iolib.summary.Summary'>\n",
        "\"\"\"\n",
        "                            OLS Regression Results                            \n",
        "==============================================================================\n",
        "Dep. Variable:                  Sales   R-squared:                       0.578\n",
        "Model:                            OLS   Adj. R-squared:                  0.565\n",
        "Method:                 Least Squares   F-statistic:                     44.24\n",
        "Date:                Sun, 09 Nov 2014   Prob (F-statistic):           4.26e-65\n",
        "Time:                        21:31:37   Log-Likelihood:                -809.62\n",
        "No. Observations:                 400   AIC:                             1645.\n",
        "Df Residuals:                     387   BIC:                             1697.\n",
        "Df Model:                          12                                         \n",
        "======================================================================================\n",
        "                         coef    std err          t      P>|t|      [95.0% Conf. Int.]\n",
        "--------------------------------------------------------------------------------------\n",
        "Intercept              9.7990      1.872      5.235      0.000         6.119    13.479\n",
        "Advertising            0.0964      0.042      2.315      0.021         0.015     0.178\n",
        "Age                   -0.0972      0.029     -3.317      0.001        -0.155    -0.040\n",
        "Age:Price              0.0004      0.000      1.775      0.077     -4.67e-05     0.001\n",
        "CompPrice              0.0931      0.008     12.276      0.000         0.078     0.108\n",
        "Education             -0.0350      0.036     -0.969      0.333        -0.106     0.036\n",
        "Income                 0.0112      0.005      2.339      0.020         0.002     0.021\n",
        "Income:Advertising     0.0005      0.001      0.942      0.347        -0.001     0.001\n",
        "Population         -3.667e-05      0.001     -0.054      0.957        -0.001     0.001\n",
        "Price                 -0.1152      0.014     -8.422      0.000        -0.142    -0.088\n",
        "ShelveLoc              0.5880      0.113      5.183      0.000         0.365     0.811\n",
        "US                    -0.0286      0.274     -0.104      0.917        -0.568     0.510\n",
        "Urban                  0.0446      0.207      0.216      0.829        -0.362     0.451\n",
        "==============================================================================\n",
        "Omnibus:                       31.937   Durbin-Watson:                   1.984\n",
        "Prob(Omnibus):                  0.000   Jarque-Bera (JB):               37.994\n",
        "Skew:                           0.748   Prob(JB):                     5.62e-09\n",
        "Kurtosis:                       2.790   Cond. No.                     1.31e+05\n",
        "==============================================================================\n",
        "\n",
        "Warnings:\n",
        "[1] The condition number is large, 1.31e+05. This might indicate that there are\n",
        "strong multicollinearity or other numerical problems.\n",
        "\"\"\""
       ]
      }
     ],
     "prompt_number": 14
    },
    {
     "cell_type": "heading",
     "level": 6,
     "metadata": {},
     "source": [
      "Comparing Interactions"
     ]
    },
    {
     "cell_type": "code",
     "collapsed": false,
     "input": [
      "plt.scatter(carseats_df.Income, carseats_df.Sales, alpha=0.3)\n",
      "plt.xlabel('Income')\n",
      "plt.ylabel('Sales')\n",
      "\n",
      "est = smf.ols(formula='Sales ~ Income + Urban', data=carseats_df).fit()\n",
      "\n",
      "income_linspace = np.linspace(carseats_df.Income.min(), carseats_df.Income.max(), 100)\n",
      "\n",
      "#0 to exclude interaction term, #1 to include\n",
      "plt.plot(income_linspace, est.params[0] \n",
      "         + est.params[1] * income_linspace \n",
      "         + est.params[2] * 0, 'r')\n",
      "plt.plot(income_linspace, est.params[0] \n",
      "         + est.params[1] * income_linspace \n",
      "         + est.params[2] * 1, 'g')\n",
      "\n",
      "short_summary(est)"
     ],
     "language": "python",
     "metadata": {},
     "outputs": [
      {
       "html": [
        "<table class=\"simpletable\">\n",
        "<tr>\n",
        "      <td></td>         <th>coef</th>     <th>std err</th>      <th>t</th>      <th>P>|t|</th> <th>[95.0% Conf. Int.]</th> \n",
        "</tr>\n",
        "<tr>\n",
        "  <th>Intercept</th> <td>    6.3993</td> <td>    0.385</td> <td>   16.613</td> <td> 0.000</td> <td>    5.642     7.157</td>\n",
        "</tr>\n",
        "<tr>\n",
        "  <th>Income</th>    <td>    0.0154</td> <td>    0.005</td> <td>    3.078</td> <td> 0.002</td> <td>    0.006     0.025</td>\n",
        "</tr>\n",
        "<tr>\n",
        "  <th>Urban</th>     <td>    0.1312</td> <td>    0.307</td> <td>    0.428</td> <td> 0.669</td> <td>   -0.472     0.735</td>\n",
        "</tr>\n",
        "</table>"
       ],
       "metadata": {},
       "output_type": "pyout",
       "prompt_number": 15,
       "text": [
        "<IPython.core.display.HTML at 0x109b30250>"
       ]
      },
      {
       "metadata": {},
       "output_type": "display_data",
       "png": "[encoded data removed]",
       "text": [
        "<matplotlib.figure.Figure at 0x1092a4090>"
       ]
      }
     ],
     "prompt_number": 15
    },
    {
     "cell_type": "code",
     "collapsed": true,
     "input": [
      "plt.scatter(carseats_df.Income, carseats_df.Sales, alpha=0.3)\n",
      "plt.xlabel('Income')\n",
      "plt.ylabel('Sales')\n",
      "\n",
      "est = smf.ols(formula='Sales ~ Income * Urban', data=carseats_df).fit()\n",
      "\n",
      "income_linspace = np.linspace(carseats_df.Income.min(), carseats_df.Income.max(), 100)\n",
      "\n",
      "#0 to exclude interaction term, #1 to include\n",
      "plt.plot(income_linspace, \n",
      "         est.params[0] \n",
      "         + est.params[1] * income_linspace\n",
      "         + est.params[2] * 0\n",
      "         + est.params[3] * 0 * income_linspace, 'r')\n",
      "plt.plot(income_linspace, \n",
      "         est.params[0] \n",
      "         + est.params[1] * income_linspace\n",
      "         + est.params[2] * 1\n",
      "         + est.params[3] * 1 * income_linspace, 'g')\n",
      "\n",
      "short_summary(est)"
     ],
     "language": "python",
     "metadata": {},
     "outputs": [
      {
       "html": [
        "<table class=\"simpletable\">\n",
        "<tr>\n",
        "        <td></td>          <th>coef</th>     <th>std err</th>      <th>t</th>      <th>P>|t|</th> <th>[95.0% Conf. Int.]</th> \n",
        "</tr>\n",
        "<tr>\n",
        "  <th>Intercept</th>    <td>    6.7157</td> <td>    0.456</td> <td>   14.743</td> <td> 0.000</td> <td>    5.820     7.611</td>\n",
        "</tr>\n",
        "<tr>\n",
        "  <th>Income</th>       <td>    0.0109</td> <td>    0.006</td> <td>    1.775</td> <td> 0.077</td> <td>   -0.001     0.023</td>\n",
        "</tr>\n",
        "<tr>\n",
        "  <th>Urban</th>        <td>   -0.8051</td> <td>    0.784</td> <td>   -1.027</td> <td> 0.305</td> <td>   -2.346     0.736</td>\n",
        "</tr>\n",
        "<tr>\n",
        "  <th>Income:Urban</th> <td>    0.0138</td> <td>    0.011</td> <td>    1.298</td> <td> 0.195</td> <td>   -0.007     0.035</td>\n",
        "</tr>\n",
        "</table>"
       ],
       "metadata": {},
       "output_type": "pyout",
       "prompt_number": 16,
       "text": [
        "<IPython.core.display.HTML at 0x109c6a150>"
       ]
      },
      {
       "metadata": {},
       "output_type": "display_data",
       "png": "[encoded data removed]",
       "text": [
        "<matplotlib.figure.Figure at 0x1092a40d0>"
       ]
      }
     ],
     "prompt_number": 16
    },
    {
     "cell_type": "markdown",
     "metadata": {},
     "source": [
      "After including the interaction term, each line now has a different slope. This captures the effect that variation might be different if store in urban area (green) vs non-urban (red). Non-urban (red) is flatter: smaller increase in sales among non-urban compared to urban."
     ]
    },
    {
     "cell_type": "heading",
     "level": 2,
     "metadata": {},
     "source": [
      "Polynomial Regression"
     ]
    },
    {
     "cell_type": "code",
     "collapsed": false,
     "input": [
      "import statsmodels.formula.api as smf\n",
      "df = pd.read_csv('data/Boston.csv')\n",
      "x = pd.DataFrame({'lstat': np.linspace(df.lstat.min(), df.lstat.max(), 100)})\n",
      "\n",
      "poly1 = smf.ols(formula='medv ~ lstat', data=df).fit()\n",
      "poly2 = smf.ols(formula='medv ~ lstat + I(lstat**2.0)', data=df).fit()\n",
      "poly3 = smf.ols(formula='medv ~ lstat + I(lstat**2.0) + I(lstat**3.0)', data=df).fit()\n",
      "\n",
      "plt.scatter(df.lstat, df.medv, s=10, alpha=0.3)\n",
      "plt.plot(x.lstat, poly1.predict(x), 'r-', label='Linear $R^2$=%.2f' % poly1.rsquared)\n",
      "plt.plot(x.lstat, poly2.predict(x), 'b-', label='Degree 2 $R^2$=%.2f' % poly2.rsquared)\n",
      "plt.plot(x.lstat, poly3.predict(x), 'g-', label='Degree 3 $R^2$=%.2f' % poly3.rsquared)\n",
      "plt.legend(loc='best')"
     ],
     "language": "python",
     "metadata": {},
     "outputs": [
      {
       "metadata": {},
       "output_type": "pyout",
       "prompt_number": 17,
       "text": [
        "<matplotlib.legend.Legend at 0x109dae190>"
       ]
      },
      {
       "metadata": {},
       "output_type": "display_data",
       "png": "[encoded data removed]",
       "text": [
        "<matplotlib.figure.Figure at 0x109b3af90>"
       ]
      }
     ],
     "prompt_number": 17
    },
    {
     "cell_type": "markdown",
     "metadata": {},
     "source": [
      "$R^2$: measure how well the model fits the data. Value of 1 means fit perfectly. Since the $R^2$ for n=3 (0.66) is the highest, it shows that it fits the model better than the rest."
     ]
    },
    {
     "cell_type": "heading",
     "level": 1,
     "metadata": {},
     "source": [
      "Marketing Plan"
     ]
    },
    {
     "cell_type": "code",
     "collapsed": false,
     "input": [
      "df_adv = pd.read_csv('data/Advertising.csv', index_col=0)\n",
      "y = df_adv['Sales'] #Response\n",
      "X = df_adv[['TV', 'Radio', 'Newspaper']] #Predictors\n",
      "\n",
      "import statsmodels.formula.api as smf\n",
      "est = smf.ols(formula='Sales ~ TV + Radio + Newspaper', data=df_adv).fit()\n",
      "est.summary()"
     ],
     "language": "python",
     "metadata": {},
     "outputs": [
      {
       "html": [
        "<table class=\"simpletable\">\n",
        "<caption>OLS Regression Results</caption>\n",
        "<tr>\n",
        "  <th>Dep. Variable:</th>          <td>Sales</td>      <th>  R-squared:         </th> <td>   0.897</td>\n",
        "</tr>\n",
        "<tr>\n",
        "  <th>Model:</th>                   <td>OLS</td>       <th>  Adj. R-squared:    </th> <td>   0.896</td>\n",
        "</tr>\n",
        "<tr>\n",
        "  <th>Method:</th>             <td>Least Squares</td>  <th>  F-statistic:       </th> <td>   570.3</td>\n",
        "</tr>\n",
        "<tr>\n",
        "  <th>Date:</th>             <td>Sun, 09 Nov 2014</td> <th>  Prob (F-statistic):</th> <td>1.58e-96</td>\n",
        "</tr>\n",
        "<tr>\n",
        "  <th>Time:</th>                 <td>21:31:38</td>     <th>  Log-Likelihood:    </th> <td> -386.18</td>\n",
        "</tr>\n",
        "<tr>\n",
        "  <th>No. Observations:</th>      <td>   200</td>      <th>  AIC:               </th> <td>   780.4</td>\n",
        "</tr>\n",
        "<tr>\n",
        "  <th>Df Residuals:</th>          <td>   196</td>      <th>  BIC:               </th> <td>   793.6</td>\n",
        "</tr>\n",
        "<tr>\n",
        "  <th>Df Model:</th>              <td>     3</td>      <th>                     </th>     <td> </td>   \n",
        "</tr>\n",
        "</table>\n",
        "<table class=\"simpletable\">\n",
        "<tr>\n",
        "      <td></td>         <th>coef</th>     <th>std err</th>      <th>t</th>      <th>P>|t|</th> <th>[95.0% Conf. Int.]</th> \n",
        "</tr>\n",
        "<tr>\n",
        "  <th>Intercept</th> <td>    2.9389</td> <td>    0.312</td> <td>    9.422</td> <td> 0.000</td> <td>    2.324     3.554</td>\n",
        "</tr>\n",
        "<tr>\n",
        "  <th>TV</th>        <td>    0.0458</td> <td>    0.001</td> <td>   32.809</td> <td> 0.000</td> <td>    0.043     0.049</td>\n",
        "</tr>\n",
        "<tr>\n",
        "  <th>Radio</th>     <td>    0.1885</td> <td>    0.009</td> <td>   21.893</td> <td> 0.000</td> <td>    0.172     0.206</td>\n",
        "</tr>\n",
        "<tr>\n",
        "  <th>Newspaper</th> <td>   -0.0010</td> <td>    0.006</td> <td>   -0.177</td> <td> 0.860</td> <td>   -0.013     0.011</td>\n",
        "</tr>\n",
        "</table>\n",
        "<table class=\"simpletable\">\n",
        "<tr>\n",
        "  <th>Omnibus:</th>       <td>60.414</td> <th>  Durbin-Watson:     </th> <td>   2.084</td>\n",
        "</tr>\n",
        "<tr>\n",
        "  <th>Prob(Omnibus):</th> <td> 0.000</td> <th>  Jarque-Bera (JB):  </th> <td> 151.241</td>\n",
        "</tr>\n",
        "<tr>\n",
        "  <th>Skew:</th>          <td>-1.327</td> <th>  Prob(JB):          </th> <td>1.44e-33</td>\n",
        "</tr>\n",
        "<tr>\n",
        "  <th>Kurtosis:</th>      <td> 6.332</td> <th>  Cond. No.          </th> <td>    454.</td>\n",
        "</tr>\n",
        "</table>"
       ],
       "metadata": {},
       "output_type": "pyout",
       "prompt_number": 18,
       "text": [
        "<class 'statsmodels.iolib.summary.Summary'>\n",
        "\"\"\"\n",
        "                            OLS Regression Results                            \n",
        "==============================================================================\n",
        "Dep. Variable:                  Sales   R-squared:                       0.897\n",
        "Model:                            OLS   Adj. R-squared:                  0.896\n",
        "Method:                 Least Squares   F-statistic:                     570.3\n",
        "Date:                Sun, 09 Nov 2014   Prob (F-statistic):           1.58e-96\n",
        "Time:                        21:31:38   Log-Likelihood:                -386.18\n",
        "No. Observations:                 200   AIC:                             780.4\n",
        "Df Residuals:                     196   BIC:                             793.6\n",
        "Df Model:                           3                                         \n",
        "==============================================================================\n",
        "                 coef    std err          t      P>|t|      [95.0% Conf. Int.]\n",
        "------------------------------------------------------------------------------\n",
        "Intercept      2.9389      0.312      9.422      0.000         2.324     3.554\n",
        "TV             0.0458      0.001     32.809      0.000         0.043     0.049\n",
        "Radio          0.1885      0.009     21.893      0.000         0.172     0.206\n",
        "Newspaper     -0.0010      0.006     -0.177      0.860        -0.013     0.011\n",
        "==============================================================================\n",
        "Omnibus:                       60.414   Durbin-Watson:                   2.084\n",
        "Prob(Omnibus):                  0.000   Jarque-Bera (JB):              151.241\n",
        "Skew:                          -1.327   Prob(JB):                     1.44e-33\n",
        "Kurtosis:                       6.332   Cond. No.                         454.\n",
        "==============================================================================\n",
        "\"\"\""
       ]
      }
     ],
     "prompt_number": 18
    },
    {
     "cell_type": "heading",
     "level": 6,
     "metadata": {},
     "source": [
      "Residual Plots (to identify non-linearity)"
     ]
    },
    {
     "cell_type": "code",
     "collapsed": false,
     "input": [
      "def residuals_vs_fitted(fitted, residuals, xlabel, ylabel):\n",
      "    plt.subplot(111)\n",
      "    plt.xlabel(xlabel)\n",
      "    plt.ylabel(ylabel)\n",
      "    plt.scatter(fitted, residuals)\n",
      "    polyline = np.poly1d(np.polyfit(fitted, residuals, 2))\n",
      "    xs = range(int(np.min(fitted)), int(np.max(fitted)))\n",
      "    plt.plot(xs, polyline(xs), color='r', linewidth=2.5) \n",
      "\n",
      "def standardize(xs):\n",
      "    xmean = np.mean(xs)\n",
      "    xstd = np.std(xs)\n",
      "    return (xs - xmean) / xstd\n",
      "    \n",
      "fitted = est.predict(X)\n",
      "residuals = y - fitted\n",
      "std_residuals = standardize(residuals)\n",
      "\n",
      "residuals_vs_fitted(fitted, residuals, \"Fitted\", \"Residuals\")"
     ],
     "language": "python",
     "metadata": {},
     "outputs": [
      {
       "metadata": {},
       "output_type": "display_data",
       "png": "[encoded data removed]",
       "text": [
        "<matplotlib.figure.Figure at 0x109ca0c10>"
       ]
      }
     ],
     "prompt_number": 19
    },
    {
     "cell_type": "markdown",
     "metadata": {},
     "source": [
      "**Is there a relationship between advertising budget and sales?**\n",
      "+ Large F-statistic (570.3) suggests at least 1 of the advertising media must be related to sales\n",
      "+ P values for TV and Radio are very low, hence signally clear evidence\n",
      "\n",
      "**How strong is the relationship between advertising budget and sales?**\n",
      "+ $R^2$ of 90% suggests the predictors explain 90% of the variance in sales\n",
      "\n",
      "**Which media contribute to sales?**\n",
      "+ P values for TV and Radio are very low suggests only TV and Radio are related to sales. Newspaper does not.\n",
      "\n",
      "**How large is the effect of each medium on sales?**\n",
      "+ Confidence intervals for TV and radio are narrow and far from zero - suggests related to sales\n",
      "+ Newspaper close to zero and wide - hence not statistically significant.\n",
      "\n",
      "**How accurately can we predict future sales?**\n",
      "+ We can predict using running a multiple linear regression and estimating the regression coefficients. \n",
      "\n",
      "**Is the relationship linear?**\n",
      "+ Residual plots are a useful graphical tool for identifying non-linearity.\n",
      "+ From the pattern of the residuals in the 3D graph, we can see there's a pronounced non-linear relationship\n",
      "\n",
      "**Is there synergy among the advertising media?**\n",
      "+ Standard linear regression assumes additive. but pronounced non-linear suggests synergy\n"
     ]
    },
    {
     "cell_type": "markdown",
     "metadata": {},
     "source": [
      "**References**<br/>\n",
      "1. [An Introduction to Statistical Learning](http://www-bcf.usc.edu/~gareth/ISL/)\n",
      "2. [DataRobot statistical learning blog series](http://www.datarobot.com/blog)\n",
      "3. [Scikit Learn Documentation](http://scikit-learn.org/)\n",
      "4. [Statsmodels Documentation](http://statsmodels.sourceforge.net/)"
     ]
    }
   ],
   "metadata": {}
  }
 ]
}