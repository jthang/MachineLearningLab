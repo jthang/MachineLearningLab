{
 "metadata": {
  "name": "",
  "signature": "sha256:35e9cd1db1bff62370899f608326d6e2d598f29ee6f618fd208dc0efd243ce81"
 },
 "nbformat": 3,
 "nbformat_minor": 0,
 "worksheets": [
  {
   "cells": [
    {
     "cell_type": "markdown",
     "metadata": {},
     "source": [
      "#Recommendation Systems\n",
      "\n",
      "- Collaborative Filtering Systems\n",
      "- Either with users or items\n",
      "- Users express preferences towards certain items\n",
      "- CF relies on users' past behavior\n",
      "- 2 approaches to CF: \n",
      "    - Neighborhood - compute relationships between items and users\n",
      "    - Latent factor model - model of hidden factors which users and items are transformed into same space (generally more accurate recommenders)\n",
      "- Factor lead to more accurate recommenders due to the sparsity of the item-use matrix\n",
      "    - Most users rate barely 1 or 2 items\n",
      "    - More expressive and fit fewer parameters\n",
      "- However neighborhood is more intuitive and appeals to users\n",
      "- Most recommenders today: \n",
      "    - neighborhood CF + model-based CF + SVD based matrix factorization\n",
      "\n",
      "###User and Item based approaches\n",
      "- Before, it was user-user model - like-minded users\n",
      "- But users tend to rate very few items\n",
      "- Most recommenders rely on item-item approach\n",
      "- A rating is made by user on similar item - we use KNN\\\n",
      "\n",
      "###Steps\n",
      "- Create a database of item-item similarities\n",
      "- Predict rating a user will give an item they have not seen\n",
      "- Implement factor-based CF recommender using Bayesian (pool together similar users and restaurants)\n",
      "- Scale up the system using map reduce"
     ]
    },
    {
     "cell_type": "code",
     "collapsed": false,
     "input": [
      "%matplotlib inline\n",
      "from collections import defaultdict\n",
      "import json\n",
      "\n",
      "import numpy as np\n",
      "import scipy as sp\n",
      "import matplotlib.pyplot as plt\n",
      "import pandas as pd\n",
      "\n",
      "import seaborn as sns\n",
      "sns.set(style=\"white\")"
     ],
     "language": "python",
     "metadata": {},
     "outputs": [],
     "prompt_number": 73
    },
    {
     "cell_type": "markdown",
     "metadata": {},
     "source": [
      "Baseline estimates: Account for systematic tendences of users who give higher ratings than others, and restarants which receive higher ratings\n",
      "\n",
      "Baseline estimate:\n",
      "\n",
      "$$ \\hat Y_{um}^{baseline} = \\hat \\mu + \\hat \\theta_{u0} + \\hat \\gamma_{m0} $$\n",
      "\n",
      "- $\\theta_{u0}$ - deviation/bias of user $u$ from $\\mu$ (intercept parameter)\n",
      "- $\\gamma_{m0}$ - deviation/bias of item $m$ from $\\mu$\n",
      " \n",
      "Replace them by their mean estimates:\n",
      "\n",
      "$$ \\hat Y^{baseline}_{um} = \\bar Y + (\\bar Y_u - \\bar Y) + (\\bar Y_m - \\bar Y)$$\n",
      "\n",
      "- $\\bar Y_u$ =  `user_avg`, the average of all a user $u$'s ratings\n",
      "- $\\bar Y_m$ = `business_avg`, the average of all ratings for a restaurant $m$\n",
      "- $\\bar Y$ is the average rating over all reviews.\n",
      "\n",
      "We can make an estimate of $Y_{um}$ as:\n",
      "\n",
      "$$ \\hat{Y_{um}} = \\hat Y_{um}^{baseline}\\, + \\,\\frac{\\sum\\limits_{j \\in S^{k}(m)} s_{mj} ( Y_{uj} - \\hat Y_{uj}^{baseline} )}{\\sum\\limits_{j \\in S^{k}(m)} s_{mj} } $$\n",
      "\n",
      "$s^{k}(m)$: $k$ neighbor items of item $m$ based on some pooling criterion, for example, those items which have been rated by user $u$.\n",
      "\n",
      "We will focus on using similar restaurants, or the item neighborhood.\n",
      "To do this, we compute a **similarity measure $s_{mj}$ between the $m$th and $j$th items.** This similarity might be measured via [cosine similarity](http://en.wikipedia.org/wiki/Cosine_similarity), [pearson co-efficient](http://en.wikipedia.org/wiki/Pearson_product-moment_correlation_coefficient) or using other distance based measures. Here we shall use the Pearson coefficient. This measures the tendency of users to rate items similarly. Since most ratings are unknown, it is computed on the \"common user support\" (`n_common`), which is the set of common raters of both items. "
     ]
    },
    {
     "cell_type": "code",
     "collapsed": false,
     "input": [
      "fulldf = pd.read_csv('data/yelpbigdf.csv')\n",
      "fulldf.head(2)"
     ],
     "language": "python",
     "metadata": {},
     "outputs": [
      {
       "html": [
        "<div style=\"max-height:1000px;max-width:1500px;overflow:auto;\">\n",
        "<table border=\"1\" class=\"dataframe\">\n",
        "  <thead>\n",
        "    <tr style=\"text-align: right;\">\n",
        "      <th></th>\n",
        "      <th>user_id</th>\n",
        "      <th>business_id</th>\n",
        "      <th>date</th>\n",
        "      <th>review_id</th>\n",
        "      <th>stars</th>\n",
        "      <th>usefulvotes_review</th>\n",
        "      <th>user_name</th>\n",
        "      <th>categories</th>\n",
        "      <th>biz_name</th>\n",
        "      <th>latitude</th>\n",
        "      <th>longitude</th>\n",
        "      <th>business_avg</th>\n",
        "      <th>business_review_count</th>\n",
        "      <th>user_avg</th>\n",
        "      <th>user_review_count</th>\n",
        "    </tr>\n",
        "  </thead>\n",
        "  <tbody>\n",
        "    <tr>\n",
        "      <th>0</th>\n",
        "      <td> rLtl8ZkDX5vH5nAx9C3q5Q</td>\n",
        "      <td> 9yKzy9PApeiPPOUJEtnvkg</td>\n",
        "      <td> 2011-01-26 00:00:00</td>\n",
        "      <td> fWKvX83p0-ka4JS3dc6E5A</td>\n",
        "      <td> 5</td>\n",
        "      <td> 5</td>\n",
        "      <td>    Jason</td>\n",
        "      <td> [Breakfast &amp; Brunch, Restaurants]</td>\n",
        "      <td> Morning Glory Cafe</td>\n",
        "      <td> 33.390792</td>\n",
        "      <td>-112.012504</td>\n",
        "      <td> 3.87156</td>\n",
        "      <td> 109</td>\n",
        "      <td> 3.796954</td>\n",
        "      <td> 197</td>\n",
        "    </tr>\n",
        "    <tr>\n",
        "      <th>1</th>\n",
        "      <td> SBbftLzfYYKItOMFwOTIJg</td>\n",
        "      <td> 9yKzy9PApeiPPOUJEtnvkg</td>\n",
        "      <td> 2008-05-04 00:00:00</td>\n",
        "      <td> DASdFe-g0BgfN9J2tanStg</td>\n",
        "      <td> 5</td>\n",
        "      <td> 1</td>\n",
        "      <td> Jennifer</td>\n",
        "      <td> [Breakfast &amp; Brunch, Restaurants]</td>\n",
        "      <td> Morning Glory Cafe</td>\n",
        "      <td> 33.390792</td>\n",
        "      <td>-112.012504</td>\n",
        "      <td> 3.87156</td>\n",
        "      <td> 109</td>\n",
        "      <td> 3.473684</td>\n",
        "      <td>  57</td>\n",
        "    </tr>\n",
        "  </tbody>\n",
        "</table>\n",
        "</div>"
       ],
       "metadata": {},
       "output_type": "pyout",
       "prompt_number": 74,
       "text": [
        "                  user_id             business_id                 date  \\\n",
        "0  rLtl8ZkDX5vH5nAx9C3q5Q  9yKzy9PApeiPPOUJEtnvkg  2011-01-26 00:00:00   \n",
        "1  SBbftLzfYYKItOMFwOTIJg  9yKzy9PApeiPPOUJEtnvkg  2008-05-04 00:00:00   \n",
        "\n",
        "                review_id  stars  usefulvotes_review user_name  \\\n",
        "0  fWKvX83p0-ka4JS3dc6E5A      5                   5     Jason   \n",
        "1  DASdFe-g0BgfN9J2tanStg      5                   1  Jennifer   \n",
        "\n",
        "                          categories            biz_name   latitude  \\\n",
        "0  [Breakfast & Brunch, Restaurants]  Morning Glory Cafe  33.390792   \n",
        "1  [Breakfast & Brunch, Restaurants]  Morning Glory Cafe  33.390792   \n",
        "\n",
        "    longitude  business_avg  business_review_count  user_avg  \\\n",
        "0 -112.012504       3.87156                    109  3.796954   \n",
        "1 -112.012504       3.87156                    109  3.473684   \n",
        "\n",
        "   user_review_count  \n",
        "0                197  \n",
        "1                 57  "
       ]
      }
     ],
     "prompt_number": 74
    },
    {
     "cell_type": "markdown",
     "metadata": {},
     "source": [
      "#Exploratory Data Analysis"
     ]
    },
    {
     "cell_type": "code",
     "collapsed": false,
     "input": [
      "reviews_per_user = fulldf.groupby('user_id').review_id.count()\n",
      "\n",
      "plt.hist(reviews_per_user, color=\"#6495ED\", log=True, alpha=.5)\n",
      "plt.xlabel(\"Reviews per User\")\n",
      "plt.ylabel(\"Count\")\n",
      "sns.despine();"
     ],
     "language": "python",
     "metadata": {},
     "outputs": [
      {
       "metadata": {},
       "output_type": "display_data",
       "png": "[encoded data removed]",
       "text": [
        "<matplotlib.figure.Figure at 0x10a451a50>"
       ]
      }
     ],
     "prompt_number": 75
    },
    {
     "cell_type": "code",
     "collapsed": false,
     "input": [
      "reviews_per_rest = fulldf.groupby('business_id').review_id.count()\n",
      "\n",
      "plt.hist(reviews_per_rest, color=\"#6495ED\", log=True, alpha=.5)\n",
      "plt.xlabel(\"Reviews per Restaurant\")\n",
      "plt.ylabel(\"Count\")\n",
      "sns.despine();"
     ],
     "language": "python",
     "metadata": {},
     "outputs": [
      {
       "metadata": {},
       "output_type": "display_data",
       "png": "[encoded data removed]",
       "text": [
        "<matplotlib.figure.Figure at 0x10a88ee90>"
       ]
      }
     ],
     "prompt_number": 76
    },
    {
     "cell_type": "markdown",
     "metadata": {},
     "source": [
      "### Basic Stats"
     ]
    },
    {
     "cell_type": "code",
     "collapsed": false,
     "input": [
      "print \"Number of Reviews:\",fulldf.review_id.unique().shape[0]\n",
      "print \"Number of Users:\", fulldf.user_id.unique().shape[0]\n",
      "print \"Number of Businesses\", fulldf.business_id.unique().shape[0]"
     ],
     "language": "python",
     "metadata": {},
     "outputs": [
      {
       "output_type": "stream",
       "stream": "stdout",
       "text": [
        "Number of Reviews: 149319\n",
        "Number of Users: "
       ]
      },
      {
       "output_type": "stream",
       "stream": "stdout",
       "text": [
        "34789\n",
        "Number of Businesses 4503\n"
       ]
      }
     ],
     "prompt_number": 77
    },
    {
     "cell_type": "code",
     "collapsed": false,
     "input": [
      "#Average rating of reviews\n",
      "print \"Averaging rating of all reviews:\", fulldf.stars.mean()\n",
      "plt.hist(fulldf.stars, color=\"#6495ED\", bins=5, alpha=.5)\n",
      "plt.xlabel(\"Average Rating Count\")\n",
      "plt.ylabel(\"Count\")\n",
      "sns.despine();"
     ],
     "language": "python",
     "metadata": {},
     "outputs": [
      {
       "output_type": "stream",
       "stream": "stdout",
       "text": [
        "Averaging rating of all reviews: 3.74141268023\n"
       ]
      },
      {
       "metadata": {},
       "output_type": "display_data",
       "png": "[encoded data removed]",
       "text": [
        "<matplotlib.figure.Figure at 0x10ddd8290>"
       ]
      }
     ],
     "prompt_number": 78
    },
    {
     "cell_type": "markdown",
     "metadata": {},
     "source": [
      "### Extract Smaller Dataframe"
     ]
    },
    {
     "cell_type": "code",
     "collapsed": false,
     "input": [
      "def recompute_frame(df):\n",
      "    \"\"\"\n",
      "    takes a dataframe, copy it, returns with \n",
      "    averages and counts recomputed\n",
      "    \"\"\"\n",
      "    group_user = df.groupby('user_id')\n",
      "    group_business = df.groupby('business_id')\n",
      "    \n",
      "    user_avg = group_user.stars.mean()\n",
      "    user_review_count = group_user.review_id.count()\n",
      "    \n",
      "    business_avg = group_business.stars.mean()\n",
      "    business_review_count = group_business.review_id.count()\n",
      "    \n",
      "    new_df = df.copy()\n",
      "    \n",
      "    new_df.set_index(['user_id'], inplace=True)\n",
      "    new_df['user_avg'] = user_avg\n",
      "    new_df['user_review_count'] = user_review_count\n",
      "    new_df.reset_index(inplace=True)\n",
      "    \n",
      "    new_df.set_index(['business_id'], inplace=True)\n",
      "    new_df['business_avg'] = business_avg\n",
      "    new_df['business_review_count'] = business_review_count\n",
      "    new_df.reset_index(inplace=True)\n",
      "    \n",
      "    return new_df"
     ],
     "language": "python",
     "metadata": {},
     "outputs": [],
     "prompt_number": 79
    },
    {
     "cell_type": "code",
     "collapsed": false,
     "input": [
      "#Extract smaller dataframe\n",
      "smalldf = fulldf[(fulldf.user_review_count > 60) & (fulldf.business_review_count > 150)]\n",
      "smalldf = recompute_frame(smalldf)\n",
      "\n",
      "print \"Number of Reviews:\",smalldf.review_id.unique().shape[0]\n",
      "print \"Number of Users:\", smalldf.user_id.unique().shape[0]\n",
      "print \"Number of Businesses\", smalldf.business_id.unique().shape[0]"
     ],
     "language": "python",
     "metadata": {},
     "outputs": [
      {
       "output_type": "stream",
       "stream": "stdout",
       "text": [
        "Number of Reviews: 6165\n",
        "Number of Users: 240\n",
        "Number of Businesses 172\n"
       ]
      }
     ],
     "prompt_number": 80
    },
    {
     "cell_type": "code",
     "collapsed": false,
     "input": [
      "reviews_per_user = smalldf.groupby('user_id').review_id.count()\n",
      "\n",
      "plt.hist(reviews_per_user, color=\"#6495ED\", log=True, alpha=.5)\n",
      "plt.xlabel(\"Reviews per User\")\n",
      "plt.ylabel(\"Count\")\n",
      "sns.despine();\n",
      "plt.figure()\n",
      "\n",
      "reviews_per_rest = smalldf.groupby('business_id').review_id.count()\n",
      "\n",
      "plt.hist(reviews_per_rest, color=\"#6495ED\", log=True, alpha=.5)\n",
      "plt.xlabel(\"Reviews per Restaurant\")\n",
      "plt.ylabel(\"Count\")\n",
      "sns.despine();"
     ],
     "language": "python",
     "metadata": {},
     "outputs": [
      {
       "metadata": {},
       "output_type": "display_data",
       "png": "[encoded data removed]",
       "text": [
        "<matplotlib.figure.Figure at 0x10df267d0>"
       ]
      },
      {
       "metadata": {},
       "output_type": "display_data",
       "png": "[encoded data removed]",
       "text": [
        "<matplotlib.figure.Figure at 0x10de2b450>"
       ]
      }
     ],
     "prompt_number": 81
    },
    {
     "cell_type": "code",
     "collapsed": false,
     "input": [
      "avg_review_user = smalldf.groupby('user_id').stars.mean()\n",
      "\n",
      "plt.hist(avg_review_user, color=\"#6495ED\", alpha=.5)\n",
      "plt.xlabel(\"Average User Rating\")\n",
      "plt.ylabel(\"Count\")\n",
      "sns.despine();\n",
      "plt.figure()\n",
      "\n",
      "avg_review_rest = smalldf.groupby('business_id').stars.mean()\n",
      "\n",
      "plt.hist(avg_review_rest, color=\"#6495ED\", alpha=.5)\n",
      "plt.xlabel(\"Average User Rating\")\n",
      "plt.ylabel(\"Count\")\n",
      "sns.despine();"
     ],
     "language": "python",
     "metadata": {},
     "outputs": [
      {
       "metadata": {},
       "output_type": "display_data",
       "png": "[encoded data removed]",
       "text": [
        "<matplotlib.figure.Figure at 0x10de7f590>"
       ]
      },
      {
       "metadata": {},
       "output_type": "display_data",
       "png": "[encoded data removed]",
       "text": [
        "<matplotlib.figure.Figure at 0x10ff5f750>"
       ]
      }
     ],
     "prompt_number": 82
    },
    {
     "cell_type": "markdown",
     "metadata": {},
     "source": [
      "###Common Support\n",
      "- Common support - for each pair of restuarants, the number of people who reviewed both"
     ]
    },
    {
     "cell_type": "code",
     "collapsed": false,
     "input": [
      "# Compute the pair of restaurants which no. of people \n",
      "# have reviewed both\n",
      "\n",
      "# extract those unique business_id\n",
      "restaurants = smalldf.business_id.unique()\n",
      "\n",
      "# initialize supports\n",
      "supports = []\n",
      "\n",
      "for i, rest1 in enumerate(restaurants):\n",
      "    for j, rest2 in enumerate(restaurants):\n",
      "        if i < j:\n",
      "            # all the reviewers for rest1\n",
      "            rest1_reviewers = smalldf[smalldf.business_id == rest1].user_id.unique()\n",
      "            # all the reviewers for rest2\n",
      "            rest2_reviewers = smalldf[smalldf.business_id == rest2].user_id.unique()\n",
      "            # find the common ones for rest1 and rest2\n",
      "            common_reviewers = set(rest1_reviewers).intersection(rest2_reviewers)\n",
      "            \n",
      "            # for each restaurant, how many commmon_reviewers\n",
      "            supports.append(len(common_reviewers))\n",
      "           \n",
      "print \"Mean support is:\", np.mean(supports)        "
     ],
     "language": "python",
     "metadata": {},
     "outputs": [
      {
       "output_type": "stream",
       "stream": "stdout",
       "text": [
        "Mean support is: 6.84679722562\n"
       ]
      }
     ],
     "prompt_number": 83
    },
    {
     "cell_type": "code",
     "collapsed": false,
     "input": [
      "plt.hist(supports, color=\"#6495ED\", alpha=.5, bins=10)\n",
      "plt.xlabel(\"No. of Supports\")\n",
      "plt.ylabel(\"Count\")\n",
      "sns.despine();"
     ],
     "language": "python",
     "metadata": {},
     "outputs": [
      {
       "metadata": {},
       "output_type": "display_data",
       "png": "[encoded data removed]",
       "text": [
        "<matplotlib.figure.Figure at 0x10fc7c8d0>"
       ]
      }
     ],
     "prompt_number": 84
    },
    {
     "cell_type": "markdown",
     "metadata": {},
     "source": [
      "Mean support < 10: No of people who review each pair of resturants is very low\n",
      "\n",
      "Challenge: User 1's rating of 4 is not the same as User 2's rating of 4. To resolve this, we must subtract the average rating of the user from the actual rating of the restaurants (almost like normalizing the ratings). We do this using Pearson.\n",
      "\n",
      "###Calculating Similarity (Pearson)"
     ]
    },
    {
     "cell_type": "code",
     "collapsed": false,
     "input": [
      "from scipy.stats.stats import pearsonr\n",
      "\n",
      "def pearson_sim(rest1_reviews, rest2_reviews, n_common):\n",
      "    \"\"\"\n",
      "    Returns the Pearson similarity\n",
      "    \"\"\"\n",
      "    if n_common == 0:\n",
      "        rho=0.\n",
      "    else:\n",
      "        diff1 = rest1_reviews['stars'] - rest1_reviews['user_avg']\n",
      "        diff2 = rest2_reviews['stars'] - rest2_reviews['user_avg']\n",
      "        rho = pearsonr(diff1, diff2)[0]\n",
      "    return rho"
     ],
     "language": "python",
     "metadata": {},
     "outputs": [],
     "prompt_number": 85
    },
    {
     "cell_type": "code",
     "collapsed": false,
     "input": [
      "def get_restaurant_reviews(restaurant_id, df, set_of_users):\n",
      "    \"\"\"\n",
      "    Given a restaurant id and set of reviewers, return the \n",
      "    sub-dataframe of their reviews.\n",
      "    \"\"\"\n",
      "    # if they match the arguments, extract them into a data frame\n",
      "    mask = (df.user_id.isin(set_of_users)) & (df.business_id == restaurant_id)\n",
      "    reviews = df[mask]\n",
      "    reviews = reviews[reviews.user_id.duplicated() == False]\n",
      "    return reviews"
     ],
     "language": "python",
     "metadata": {},
     "outputs": [],
     "prompt_number": 86
    },
    {
     "cell_type": "markdown",
     "metadata": {},
     "source": [
      "1. For each pair of restaurants, get the set of reviewers who have reviewed the restaurant and compute the intersection\n",
      "2. Get the reviews of each restaurant made by these common reviewers\n",
      "3. Calculate the similarity \n",
      "4. Return the similarity"
     ]
    },
    {
     "cell_type": "code",
     "collapsed": false,
     "input": [
      "def calculate_similarity(rest1, rest2, df, similarity_func):\n",
      "    \"\"\"\n",
      "    Returns the similarity between 2 restaurants\n",
      "    \"\"\"\n",
      "    # Set of reviewers who have reviewed the pair\n",
      "    rest1_reviewers = df[df.business_id==rest1].user_id.unique()\n",
      "    rest2_reviewers = df[df.business_id==rest2].user_id.unique()\n",
      "    common_reviewers = set(rest1_reviewers).intersection(rest2_reviewers)\n",
      "    n_common = len(common_reviewers)\n",
      "    \n",
      "    # Get reviews of each restaurant made by common reviewer\n",
      "    rest1_reviews = get_restaurant_reviews(rest1, df, common_reviewers)\n",
      "    rest2_reviews = get_restaurant_reviews(rest2, df, common_reviewers)\n",
      "    \n",
      "    # Calculate the similarities for the reviews\n",
      "    sim = similarity_func(rest1_reviews, rest2_reviews, n_common)\n",
      "    \n",
      "    # Return the similarity\n",
      "    if np.isnan(sim):\n",
      "        return 0, n_common\n",
      "    return sim, n_common"
     ],
     "language": "python",
     "metadata": {},
     "outputs": [],
     "prompt_number": 87
    },
    {
     "cell_type": "markdown",
     "metadata": {},
     "source": [
      "#Making a database of similarities\n",
      "- The method `populate_by_calculating` iterates over every possible pair of business_id's in the dataframe and populates the database with similarities and common supports. \n",
      "- It takes as arguments a function the similarity function `similarity_func` like `pearson_sim` (`calculate_similarity` then uses this to calculate the similarity). \n",
      "- The `get` method on the database can be used to retrieve the similarity for two business ids."
     ]
    },
    {
     "cell_type": "code",
     "collapsed": false,
     "input": [
      "class Database:\n",
      "    \"\"\"\n",
      "    Create a database of similarities and common supports\n",
      "    \"\"\"\n",
      "    def __init__(self, df):\n",
      "        \"\"\"\n",
      "        The constructor, takes a dataframe as argument\n",
      "        \"\"\"\n",
      "        # initialize database\n",
      "        database = {}\n",
      "        self.df = df\n",
      "        self.unique_business_id = {v:k for (k,v) in enumerate(df.business_id.unique())}\n",
      "        keys = self.unique_business_id.keys()\n",
      "        keys_count = len(keys)\n",
      "        \n",
      "        self.database_sim = np.zeros([keys_count, keys_count])\n",
      "        self.database_sup = np.zeros([keys_count, keys_count], dtype=np.int)\n",
      "        \n",
      "    def populate_by_calculating(self, similarity_func):\n",
      "        \"\"\"\n",
      "        The populator, for each pair of business, takes similarity\n",
      "        function as argument\n",
      "        \"\"\"\n",
      "        items = self.unique_business_id.items()\n",
      "        for biz_1, item_1 in items:\n",
      "            for biz_2, item_2 in items:\n",
      "                if item_1 < item_2:\n",
      "                    sim, nsup = calculate_similarity(biz_1, biz_2,\n",
      "                                                     self.df,\n",
      "                                                     similarity_func)\n",
      "                    self.database_sim[item_1][item_2] = sim\n",
      "                    self.database_sim[item_2][item_1] = sim\n",
      "                    self.database_sup[item_1][item_2] = nsup\n",
      "                    self.database_sup[item_2][item_1] = nsup\n",
      "                elif item_1 == item_2:\n",
      "                    nsup = self.df[self.df.business_id == biz_1].user_id.count()\n",
      "                    self.database_sim[item_1][item_1] = 1\n",
      "                    self.database_sup[item_1][item_1] = nsup\n",
      "    \n",
      "    def get(self, biz_1, biz_2):\n",
      "        \"\"\"\n",
      "        Returns a tuple of similarity, and common support for \n",
      "        2 business ids\n",
      "        \"\"\"\n",
      "        # Similarity score\n",
      "        sim = self.database_sim[self.unique_business_id[biz_1]][self.unique_business_id[biz_2]]\n",
      "        # No. of supports\n",
      "        nsup = self.database_sup[self.unique_business_id[biz_1]][self.unique_business_id[biz_2]]\n",
      "        return (sim, nsup)"
     ],
     "language": "python",
     "metadata": {},
     "outputs": [],
     "prompt_number": 88
    },
    {
     "cell_type": "code",
     "collapsed": false,
     "input": [
      "db = Database(smalldf)\n",
      "db.populate_by_calculating(pearson_sim)"
     ],
     "language": "python",
     "metadata": {},
     "outputs": [],
     "prompt_number": 89
    },
    {
     "cell_type": "code",
     "collapsed": false,
     "input": [
      "db.get(\"z3yFuLVrmH-3RJruPEMYKw\", \"zruUQvFySeXyEd7_rQixBg\")"
     ],
     "language": "python",
     "metadata": {},
     "outputs": [
      {
       "metadata": {},
       "output_type": "pyout",
       "prompt_number": 90,
       "text": [
        "(0.39904554525734559, 7)"
       ]
      }
     ],
     "prompt_number": 90
    },
    {
     "cell_type": "code",
     "collapsed": false,
     "input": [
      "db.get(\"eIxSLxzIlfExI6vgAbn2JA\", \"mqQwChPNN4o4DhAzaGntIA\")"
     ],
     "language": "python",
     "metadata": {},
     "outputs": [
      {
       "metadata": {},
       "output_type": "pyout",
       "prompt_number": 91,
       "text": [
        "(0.80453162516522414, 4)"
       ]
      }
     ],
     "prompt_number": 91
    },
    {
     "cell_type": "markdown",
     "metadata": {},
     "source": [
      "#k-Nearest Restaurants (similarity)"
     ]
    },
    {
     "cell_type": "code",
     "collapsed": false,
     "input": [
      "def shrunk_sim(sim, n_common, reg=3):\n",
      "    \"\"\"\n",
      "    Takes a similarity and shrink it using regularizer.\n",
      "    Usually use cross-validation to get reg. Now we set to 3\n",
      "    \"\"\"\n",
      "    # Adds a regularizer to the simlarity score\n",
      "    reg_sim = (n_common * sim) / (n_common + reg)\n",
      "    return reg_sim"
     ],
     "language": "python",
     "metadata": {},
     "outputs": [],
     "prompt_number": 92
    },
    {
     "cell_type": "code",
     "collapsed": false,
     "input": [
      "def knearest(restaurant_id, set_of_restaurants, dbase, k=7, reg=3):\n",
      "    \"\"\"\n",
      "    Given the id of the restaurant whose nearest neighbor we want, \n",
      "    dataframe of which we want to find the nearest neighbor, \n",
      "    and database containing the dataframe,\n",
      "    returns a sorted list of the k-most similar restaurants\n",
      "    \"\"\"\n",
      "    # initialize the similars\n",
      "    top = []\n",
      "    # For each restaurant in the list of restaurants given\n",
      "    for restaurant in set_of_restaurants:\n",
      "        # If the restaurant is not the restaurant passed in argument\n",
      "        if restaurant != restaurant_id:\n",
      "            # From the database, returns the similarity score\n",
      "            # and no. of supports\n",
      "            sim, n_common = dbase.get(restaurant_id, restaurant)\n",
      "            # New list of restaurant names,\n",
      "            # shrunk similarity score and no. of supports\n",
      "            new = (restaurant, shrunk_sim(sim, n_common, reg=reg), n_common)\n",
      "            # Put all into the list top\n",
      "            top.append(new)\n",
      "    \n",
      "    # sort the top list to get the highest shrunk similarity score\n",
      "    top.sort(key=lambda tup: tup[1], reverse=True)\n",
      "    # returns restaurants, shrunk_sim and no. of common\n",
      "    return top[:k]"
     ],
     "language": "python",
     "metadata": {},
     "outputs": [],
     "prompt_number": 93
    },
    {
     "cell_type": "code",
     "collapsed": false,
     "input": [
      "knearest('L-uPZxooP_ziXCtRrWi8Pw', set(smalldf.business_id.values), db)"
     ],
     "language": "python",
     "metadata": {},
     "outputs": [
      {
       "metadata": {},
       "output_type": "pyout",
       "prompt_number": 94,
       "text": [
        "[('SDwYQ6eSu1htn8vHWv128g', 0.625, 5),\n",
        " ('M6fjHpkL9IRI-nI0BattRw', 0.5714285714285714, 4),\n",
        " ('byhwHi0lhYdyY5kSpuqoaQ', 0.5714285714285714, 4),\n",
        " ('UI8iKvzhGn2qZCGIqtQqrQ', 0.5, 3),\n",
        " ('KoIRdcIfh3XWxiCeV1BDmA', 0.5, 3),\n",
        " ('P5uC-zfGG6yqoQDUyqyAvg', 0.5, 3),\n",
        " ('mqQwChPNN4o4DhAzaGntIA', 0.5, 3)]"
       ]
      }
     ],
     "prompt_number": 94
    },
    {
     "cell_type": "markdown",
     "metadata": {},
     "source": [
      "### Making Recommendations"
     ]
    },
    {
     "cell_type": "code",
     "collapsed": false,
     "input": [
      "def business_name(df, id):\n",
      "    # Given ID, returns business name\n",
      "    return df['biz_name'][df['business_id'] == id].values[0]\n",
      "\n",
      "def user_name(df, id):\n",
      "    # Given ID, returns user name\n",
      "    return df['user_name'][df['user_id'] == id].values[0]"
     ],
     "language": "python",
     "metadata": {},
     "outputs": [],
     "prompt_number": 95
    },
    {
     "cell_type": "code",
     "collapsed": false,
     "input": [
      "biz_id_1 = \"eIxSLxzIlfExI6vgAbn2JA\"\n",
      "biz_id_2 = \"L-uPZxooP_ziXCtRrWi8Pw\"\n",
      "\n",
      "print business_name(smalldf, biz_id_1)\n",
      "print business_name(smalldf, biz_id_2)"
     ],
     "language": "python",
     "metadata": {},
     "outputs": [
      {
       "output_type": "stream",
       "stream": "stdout",
       "text": [
        "Lobbys Beef Burgers Dogs\n",
        "Caf\u00e9 Monarch\n"
       ]
      }
     ],
     "prompt_number": 96
    },
    {
     "cell_type": "markdown",
     "metadata": {},
     "source": [
      "### Find the most similar restaurants"
     ]
    },
    {
     "cell_type": "code",
     "collapsed": false,
     "input": [
      "tops = knearest(biz_id_1, smalldf.business_id.unique(), db, k=7, reg=3.)\n",
      "\n",
      "print \"For \", business_name(smalldf, biz_id_1), \", top matches are:\"\n",
      "\n",
      "for i, (biz_id, sim, n_common) in enumerate(tops):\n",
      "    print i, business_name(smalldf, biz_id), \"| Sim\", sim, \"| Support\", n_common"
     ],
     "language": "python",
     "metadata": {},
     "outputs": [
      {
       "output_type": "stream",
       "stream": "stdout",
       "text": [
        "For  Lobbys Beef Burgers Dogs , top matches are:\n",
        "0 La Condesa Gourmet Taco Shop | Sim 0.598714448434 | Support 6\n",
        "1 Citizen Public House | Sim 0.571428571429 | Support 4\n",
        "2 FnB | Sim 0.527129890943 | Support 5\n",
        "3 Defalco's Italian Grocery | Sim 0.519456555658 | Support 6\n",
        "4 Republic Ramen + Noodles | Sim 0.519140146937 | Support 5\n",
        "5 unPhogettable | Sim 0.5 | Support 3\n",
        "6 Haus Murphy's | Sim 0.467637235308 | Support 3\n"
       ]
      }
     ],
     "prompt_number": 97
    },
    {
     "cell_type": "markdown",
     "metadata": {},
     "source": [
      "### User's Top 5 Choices"
     ]
    },
    {
     "cell_type": "code",
     "collapsed": false,
     "input": [
      "def get_user_top_choices(user_id, df, numchoices=5):\n",
      "    \"\"\"\n",
      "    Get the Top 5 restaurants which user like\n",
      "    based on stars she has given\n",
      "    \"\"\"\n",
      "    user_df = df[df.user_id==user_id][['business_id','stars']].sort(['stars'], ascending=False).head(numchoices)\n",
      "    return user_df"
     ],
     "language": "python",
     "metadata": {},
     "outputs": [],
     "prompt_number": 98
    },
    {
     "cell_type": "code",
     "collapsed": false,
     "input": [
      "user_id_1 = '7cR92zkDv4W3kqzii6axvg'\n",
      "print user_name(smalldf, user_id_1), 'Top Choices are:'\n",
      "\n",
      "top_choices = get_user_top_choices(user_id_1, smalldf)['business_id'].values\n",
      "\n",
      "for i, biz_ids in enumerate(top_choices):\n",
      "     print i, business_name(smalldf, biz_ids)"
     ],
     "language": "python",
     "metadata": {},
     "outputs": [
      {
       "output_type": "stream",
       "stream": "stdout",
       "text": [
        "Vern Top Choices are:\n",
        "0 Tee Pee Mexican Food\n",
        "1 Local Breeze\n",
        "2 Carly's Bistro\n",
        "3 District American Kitchen and Wine Bar\n",
        "4 Sonora Mesquite Grill\n"
       ]
      }
     ],
     "prompt_number": 99
    },
    {
     "cell_type": "markdown",
     "metadata": {},
     "source": [
      "### Top Recommendations for User"
     ]
    },
    {
     "cell_type": "code",
     "collapsed": false,
     "input": [
      "def get_top_recos_for_user(userid, df, dbase, n=5, k=7, reg=3):\n",
      "    top_choices = get_user_top_choices(userid, df, numchoices=n)\n",
      "    rated_by_user = df[df.user_id == userid].business_id.values\n",
      "    tops = []\n",
      "    for business_id in top_choices.business_id:\n",
      "        neighbors = knearest(business_id, df.business_id.unique(), dbase, k=k, reg=reg)\n",
      "        for neighbor, sim, n_common in neighbors:\n",
      "            if neighbor not in rated_by_user:\n",
      "                tops.append(neighbor)\n",
      "    tops = set(tops)\n",
      "    tops = df[['business_id', 'business_avg']][df.business_id.isin(tops)].drop_duplicates()\n",
      "    tops = tops.sort('business_avg', ascending=False).head(n)\n",
      "    _tops = []\n",
      "    for index, row in tops.iterrows():\n",
      "        _tops.append((row['business_id'], row['business_avg']))\n",
      "    return _tops"
     ],
     "language": "python",
     "metadata": {},
     "outputs": [],
     "prompt_number": 100
    },
    {
     "cell_type": "code",
     "collapsed": false,
     "input": [
      "user_id_1 = '7cR92zkDv4W3kqzii6axvg'\n",
      "print user_name(smalldf, user_id_1), 'Top Recommendations are:'\n",
      "\n",
      "top_recos = get_top_recos_for_user(user_id_1, smalldf, db, n=5, k=7, reg=3.)\n",
      "\n",
      "for i, (biz_id, biz_avg) in enumerate(top_recos):\n",
      "    print i, business_name(smalldf, biz_id), \"| Average Rating\", biz_avg"
     ],
     "language": "python",
     "metadata": {},
     "outputs": [
      {
       "output_type": "stream",
       "stream": "stdout",
       "text": [
        "Vern Top Recommendations are:\n",
        "0 Rokerij | Average Rating 4.37931034483\n",
        "1 Wildfish Seafood Grille | Average Rating 4.29411764706\n",
        "2 Defalco's Italian Grocery | Average Rating 4.23255813953\n",
        "3 Cornish Pasty Company | Average Rating 4.20689655172\n",
        "4 Pappadeaux Seafood Kitchen | Average Rating 4.18518518519\n"
       ]
      }
     ],
     "prompt_number": 101
    },
    {
     "cell_type": "markdown",
     "metadata": {},
     "source": [
      "# User based Recommender"
     ]
    },
    {
     "cell_type": "code",
     "collapsed": false,
     "input": [
      "def knearest_amongst_userrated(restaurant_id, user_id, df,\n",
      "                               dbase, k=7, reg=3.):\n",
      "    \"\"\"\n",
      "    Returns list of top similar restaurants to\n",
      "    what the user had rated\n",
      "    \"\"\"\n",
      "    # Build a dateframe of the user from the main data\n",
      "    df_user = df[df.user_id == user_id]\n",
      "    # Build a list of all the businesses rated\n",
      "    biz_user_rated = df_user.business_id.unique()\n",
      "    # Get the knearest of these restaurants\n",
      "    return knearest(restaurant_id, biz_user_rated, dbase,\n",
      "                    k=k, reg=reg)"
     ],
     "language": "python",
     "metadata": {},
     "outputs": [],
     "prompt_number": 102
    },
    {
     "cell_type": "markdown",
     "metadata": {},
     "source": [
      "$$\\hat{Y_{um}} = \\hat Y^{baseline}_{um}\\, + \\,\\frac{\\sum\\limits_{j \\in S^{k}(m;u)} s_{mj} ( Y_{uj} - \\hat Y^{baseline}_{um} )}{\\sum\\limits_{j \\in S^{k}(m;u)} s_{mj} }$$\n",
      "\n",
      "$Y_{um}$ : for a restaurant m that user u\n",
      "\n",
      "$$\\hat Y_{um}^{baseline} = \\hat \\mu + \\hat \\theta_{u0} + \\hat \\gamma_{m0}$$\n",
      "\n",
      "$\\hat \\mu$ : mean rating\n",
      "\n",
      "$\\hat \\theta_{u0}$ : bias of user u\n",
      "\n",
      "$\\hat \\gamma_{m0}$ : bias of item m\n",
      "\n",
      "$$s_{mj} = \\frac{N_{common}\\, \\rho_{mj}}{N_{common}+reg}$$\n",
      "\n",
      "\n",
      "\n"
     ]
    },
    {
     "cell_type": "markdown",
     "metadata": {},
     "source": [
      "### Predict User Rating"
     ]
    },
    {
     "cell_type": "code",
     "collapsed": false,
     "input": [
      "# For Testing Function\n",
      "# df = smalldf\n",
      "# dbase = db\n",
      "# restaurant_id = biz_id_1\n",
      "# user_id = user_id_1\n",
      "# k=7\n",
      "# reg=3.\n",
      "\n",
      "def rating(df, dbase, restaurant_id, user_id, k=7, reg=3.):\n",
      "    \"\"\"\n",
      "    Returns the implied rating the user will make for restaurant ID\n",
      "    Dataframe of reviews\n",
      "    Database which the get method used to get the similarity\n",
      "    restaurant_id is the id of the restaurant whose nearest neighbors we want\n",
      "    user_id of user whose reviewed restaurants we want to find the neighbors\n",
      "    k : int\n",
      "    reg : float\n",
      "    \"\"\"\n",
      "    user_mean = df.user_avg[df.user_id == user_id].values[0]\n",
      "    item_mean = df.business_avg[df.business_id == restaurant_id].values[0]\n",
      "    all_mean = df.stars.mean()\n",
      "    baseline = all_mean + (user_mean - all_mean) + (item_mean - all_mean)\n",
      "    \n",
      "    sum_smuj = 0.\n",
      "    sum_smj = 0.\n",
      "    \n",
      "    for item_id, sim, n_common in knearest_amongst_userrated(restaurant_id,\n",
      "                                                             user_id, df,\n",
      "                                                             dbase, k=7, \n",
      "                                                             reg=3.):\n",
      "        users_items = df[(df.user_id == user_id) & (df.business_id == item_id)]\n",
      "        items_mean = users_items.stars.values[0]\n",
      "        sum_baseline = - all_mean + users_items.user_avg.values[0] + users_items.business_avg.values[0]\n",
      "        \n",
      "        sum_smuj += sim * (items_mean - sum_baseline)\n",
      "        sum_smj += sim\n",
      "        \n",
      "    # For cases with no neighbors\n",
      "    if sum_smj > 0.:\n",
      "        val = baseline + (sum_smuj / sum_smj)\n",
      "    else:\n",
      "        val = baseline\n",
      "    return val"
     ],
     "language": "python",
     "metadata": {},
     "outputs": [],
     "prompt_number": 103
    },
    {
     "cell_type": "code",
     "collapsed": false,
     "input": [
      "print \"User Average\", smalldf[smalldf.user_id == user_id_1].stars.mean()\n",
      "\n",
      "print \"Predicted Ratings\"\n",
      "\n",
      "for i, (biz_id, biz_avg) in enumerate(top_recos):\n",
      "    print i, business_name(smalldf, biz_id), \"| Predicted:\", rating(smalldf, db, biz_id, user_id_1, k=7, reg=3.), \"| Average:\", biz_avg"
     ],
     "language": "python",
     "metadata": {},
     "outputs": [
      {
       "output_type": "stream",
       "stream": "stdout",
       "text": [
        "User Average 3.5652173913\n",
        "Predicted Ratings\n",
        "0 Rokerij | Predicted: 4.71714023074 | Average: 4.37931034483\n",
        "1 Wildfish Seafood Grille | Predicted: 4.27594504172 | Average: 4.29411764706\n",
        "2 Defalco's Italian Grocery | Predicted: "
       ]
      },
      {
       "output_type": "stream",
       "stream": "stdout",
       "text": [
        "3.822223075 | Average: 4.23255813953\n",
        "3 Cornish Pasty Company | Predicted: 4.62810510121 | Average: 4.20689655172\n",
        "4 Pappadeaux Seafood Kitchen | Predicted: 4.08845573953 | Average: 4.18518518519\n"
       ]
      }
     ],
     "prompt_number": 104
    },
    {
     "cell_type": "markdown",
     "metadata": {},
     "source": [
      "### Evaluating the Ratings Prediction"
     ]
    },
    {
     "cell_type": "code",
     "collapsed": false,
     "input": [
      "def get_other_ratings(restaurant_id, user_id, df):\n",
      "    \"\"\"\n",
      "    Get user rating for a restaurant and the restaurant avg rating\n",
      "    \"\"\"\n",
      "    choice = df[(df.business_id == restaurant_id) & (df.user_id == user_id)]\n",
      "    user_score = choice.stars.values[0]\n",
      "    average_score = choice.business_avg.values[0]\n",
      "    return user_score, average_score"
     ],
     "language": "python",
     "metadata": {},
     "outputs": [],
     "prompt_number": 105
    },
    {
     "cell_type": "code",
     "collapsed": false,
     "input": [
      "print user_name(smalldf, user_id_1), 'Avg:', smalldf[smalldf.user_id == user_id_1].stars.mean()\n",
      "\n",
      "for biz_id in top_choices:\n",
      "    print \"----------------------------\"\n",
      "    print business_name(smalldf, biz_id)\n",
      "    print \"Predicted:\", rating(smalldf, db, biz_id, user_id_1, k=7, reg=3.)\n",
      "    \n",
      "    user_score, average_score = get_other_ratings(biz_id, user_id_1, smalldf)\n",
      "    print \"Actual:\", user_score, \"Avg Score\", average_score"
     ],
     "language": "python",
     "metadata": {},
     "outputs": [
      {
       "output_type": "stream",
       "stream": "stdout",
       "text": [
        "Vern Avg: 3.5652173913\n",
        "----------------------------\n",
        "Tee Pee Mexican Food\n",
        "Predicted: 3.52640184162\n",
        "Actual: 5 Avg Score 3.04347826087\n",
        "----------------------------\n",
        "Local Breeze\n",
        "Predicted: "
       ]
      },
      {
       "output_type": "stream",
       "stream": "stdout",
       "text": [
        "4.2280987611\n",
        "Actual: 5 Avg Score 4.0\n",
        "----------------------------\n",
        "Carly's Bistro\n",
        "Predicted: 3.99008654065\n",
        "Actual: 5 Avg Score 3.5\n",
        "----------------------------\n",
        "District American Kitchen and Wine Bar\n",
        "Predicted: 3.80281696528\n",
        "Actual: 4 Avg Score 3.55263157895\n",
        "----------------------------\n",
        "Sonora Mesquite Grill\n",
        "Predicted: "
       ]
      },
      {
       "output_type": "stream",
       "stream": "stdout",
       "text": [
        "4.08382083034\n",
        "Actual: 4 Avg Score 4.38461538462\n"
       ]
      }
     ],
     "prompt_number": 106
    },
    {
     "cell_type": "markdown",
     "metadata": {},
     "source": [
      "### Error Analysis"
     ]
    },
    {
     "cell_type": "code",
     "collapsed": false,
     "input": [
      "def compare_results(stars_actual, stars_predicted, ylow=-10, yhigh=15, title=\"\"):\n",
      "    \"\"\"\n",
      "    plot predicted results against actual results. Takes 2 arguments: a\n",
      "    numpy array of actual ratings and a numpy array of predicted ratings\n",
      "    scatterplots the predictions, a unit slope line, line segments joining the mean,\n",
      "    and a filled in area of the standard deviations.\"\n",
      "    \"\"\"\n",
      "    fig=plt.figure()\n",
      "    df=pd.DataFrame(dict(actual=stars_actual, predicted=stars_predicted))\n",
      "    ax=plt.scatter(df.actual, df.predicted, alpha=0.2, s=30, label=\"predicted\")\n",
      "    plt.ylim([ylow,yhigh])\n",
      "    plt.plot([1,5],[1,5], label=\"slope 1\")\n",
      "    xp=[1,2,3,4,5]\n",
      "    yp=df.groupby('actual').predicted.mean().values\n",
      "    plt.plot(xp,yp,'k', label=\"means\")\n",
      "    sig=df.groupby('actual').predicted.std().values\n",
      "    plt.fill_between(xp, yp - sig, yp + sig, \n",
      "                 color='k', alpha=0.2)\n",
      "    plt.xlabel(\"actual\")\n",
      "    plt.ylabel(\"predicted\")\n",
      "    plt.legend(frameon=False)\n",
      "    plt.grid(False)\n",
      "    plt.title(title)\n",
      "    print np.mean(np.abs(df.predicted) < 15)"
     ],
     "language": "python",
     "metadata": {},
     "outputs": [],
     "prompt_number": 107
    },
    {
     "cell_type": "code",
     "collapsed": false,
     "input": [
      "def error_plot(df, k, reg):\n",
      "    predicted = np.zeros(len(df))\n",
      "    for index, row in df[['user_id', 'business_id']].iterrows():\n",
      "        item_id = row['business_id']\n",
      "        user_id = row['user_id']\n",
      "        predicted[index] = rating(smalldf, db, item_id, user_id, k=k, reg=reg) \n",
      "    compare_results(smalldf.stars, predicted)"
     ],
     "language": "python",
     "metadata": {},
     "outputs": [],
     "prompt_number": 108
    },
    {
     "cell_type": "code",
     "collapsed": false,
     "input": [
      "error_plot(smalldf, 3, 3.)\n",
      "plt.title(\"k=3, reg=3\")"
     ],
     "language": "python",
     "metadata": {},
     "outputs": [
      {
       "output_type": "stream",
       "stream": "stdout",
       "text": [
        "0.998864557989\n"
       ]
      },
      {
       "metadata": {},
       "output_type": "pyout",
       "prompt_number": 109,
       "text": [
        "<matplotlib.text.Text at 0x10ff2d7d0>"
       ]
      },
      {
       "metadata": {},
       "output_type": "display_data",
       "png": "[encoded data removed]",
       "text": [
        "<matplotlib.figure.Figure at 0x112ad5b50>"
       ]
      }
     ],
     "prompt_number": 109
    },
    {
     "cell_type": "code",
     "collapsed": false,
     "input": [
      "error_plot(smalldf,3 , 15.)\n",
      "plt.title(\"k=3, reg=15\")"
     ],
     "language": "python",
     "metadata": {},
     "outputs": []
    },
    {
     "cell_type": "code",
     "collapsed": false,
     "input": [
      "error_plot(smalldf, 10, 3.)\n",
      "plt.title(\"k=10, reg=3\")"
     ],
     "language": "python",
     "metadata": {},
     "outputs": []
    },
    {
     "cell_type": "code",
     "collapsed": false,
     "input": [
      "error_plot(smalldf, 10, 15.)\n",
      "plt.title(\"k=10, reg=15\")"
     ],
     "language": "python",
     "metadata": {},
     "outputs": []
    },
    {
     "cell_type": "code",
     "collapsed": false,
     "input": [],
     "language": "python",
     "metadata": {},
     "outputs": []
    },
    {
     "cell_type": "code",
     "collapsed": false,
     "input": [],
     "language": "python",
     "metadata": {},
     "outputs": []
    }
   ],
   "metadata": {}
  }
 ]
}