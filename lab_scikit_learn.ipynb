{
 "metadata": {
  "name": "",
  "signature": "sha256:2e0cbef142d472717b6ad7fad50250e59944ef75cec174b986f417a33972b08c"
 },
 "nbformat": 3,
 "nbformat_minor": 0,
 "worksheets": []
}