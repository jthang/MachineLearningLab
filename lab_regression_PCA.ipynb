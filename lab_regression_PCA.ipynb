{
 "metadata": {
  "name": "",
  "signature": "sha256:fc8c595ec9f422694eff2e73eedbf7b9673bba782fad0591b0bd9c591727a2ba"
 },
 "nbformat": 3,
 "nbformat_minor": 0,
 "worksheets": [
  {
   "cells": [
    {
     "cell_type": "markdown",
     "metadata": {},
     "source": [
      "#Summary\n",
      "- 3 interfaces of scikit-learn\n",
      "    - estimator: building and fitting models\n",
      "    - predictor: making predictions   \n",
      "            clf = LogisticRegression()\n",
      "            clf.fit(X_train, y_train)\n",
      "            clf.predict(X_test)\n",
      "    - transformer: converting data\n",
      "            pca = RandomizedPCA(n_components=2)\n",
      "            train_x = pca.fit_transform(train_x)\n",
      "            test_x = pca.transform(test_x)\n",
      "    - meta-estimator: allows us to wrap CV and other methods to build simpler modesl\n",
      "            from sklearn.multiclass import OneVsOneClassifier\n",
      "            clf=OneVsOneClassifier(LogisticRegression())\n",
      "    - model selection: using 2 distinct meta-estimators (GridSearchCV and RandomizedSearchCV\n",
      "- All data has to be stored in 2-D array (numpy arrays) to be [n_samples, n_features]"
     ]
    },
    {
     "cell_type": "code",
     "collapsed": false,
     "input": [
      "%matplotlib inline\n",
      "import pandas as pd\n",
      "import numpy as np\n",
      "import matplotlib.pyplot as plt\n",
      "from matplotlib import rcParams\n",
      "\n",
      "pd.set_option('display.width', 500)\n",
      "pd.set_option('display.max_columns', 100)\n",
      "rcParams['figure.figsize'] = (10, 6)\n",
      "plt.style.use('bmh')\n",
      "\n",
      "colors = [\"#348ABD\", \"#A60628\", \"#7A68A6\", \"#467821\", \"#CF4457\", \"#188487\", \"#E24A33\"]"
     ],
     "language": "python",
     "metadata": {},
     "outputs": [],
     "prompt_number": 1
    },
    {
     "cell_type": "code",
     "collapsed": false,
     "input": [
      "states_abbrev_dict = {\n",
      "        'AK': 'Alaska',\n",
      "        'AL': 'Alabama',\n",
      "        'AR': 'Arkansas',\n",
      "        'AS': 'American Samoa',\n",
      "        'AZ': 'Arizona',\n",
      "        'CA': 'California',\n",
      "        'CO': 'Colorado',\n",
      "        'CT': 'Connecticut',\n",
      "        'DC': 'District of Columbia',\n",
      "        'DE': 'Delaware',\n",
      "        'FL': 'Florida',\n",
      "        'GA': 'Georgia',\n",
      "        'GU': 'Guam',\n",
      "        'HI': 'Hawaii',\n",
      "        'IA': 'Iowa',\n",
      "        'ID': 'Idaho',\n",
      "        'IL': 'Illinois',\n",
      "        'IN': 'Indiana',\n",
      "        'KS': 'Kansas',\n",
      "        'KY': 'Kentucky',\n",
      "        'LA': 'Louisiana',\n",
      "        'MA': 'Massachusetts',\n",
      "        'MD': 'Maryland',\n",
      "        'ME': 'Maine',\n",
      "        'MI': 'Michigan',\n",
      "        'MN': 'Minnesota',\n",
      "        'MO': 'Missouri',\n",
      "        'MP': 'Northern Mariana Islands',\n",
      "        'MS': 'Mississippi',\n",
      "        'MT': 'Montana',\n",
      "        'NA': 'National',\n",
      "        'NC': 'North Carolina',\n",
      "        'ND': 'North Dakota',\n",
      "        'NE': 'Nebraska',\n",
      "        'NH': 'New Hampshire',\n",
      "        'NJ': 'New Jersey',\n",
      "        'NM': 'New Mexico',\n",
      "        'NV': 'Nevada',\n",
      "        'NY': 'New York',\n",
      "        'OH': 'Ohio',\n",
      "        'OK': 'Oklahoma',\n",
      "        'OR': 'Oregon',\n",
      "        'PA': 'Pennsylvania',\n",
      "        'PR': 'Puerto Rico',\n",
      "        'RI': 'Rhode Island',\n",
      "        'SC': 'South Carolina',\n",
      "        'SD': 'South Dakota',\n",
      "        'TN': 'Tennessee',\n",
      "        'TX': 'Texas',\n",
      "        'UT': 'Utah',\n",
      "        'VA': 'Virginia',\n",
      "        'VI': 'Virgin Islands',\n",
      "        'VT': 'Vermont',\n",
      "        'WA': 'Washington',\n",
      "        'WI': 'Wisconsin',\n",
      "        'WV': 'West Virginia',\n",
      "        'WY': 'Wyoming'\n",
      "}\n",
      "abbrev_states_dict = {v: k for k, v in states_abbrev_dict.items()}"
     ],
     "language": "python",
     "metadata": {},
     "outputs": []
    },
    {
     "cell_type": "markdown",
     "metadata": {},
     "source": [
      "#Linear Regression with PCA"
     ]
    },
    {
     "cell_type": "code",
     "collapsed": false,
     "input": [
      "census_data = pd.read_csv('data/lab_scikit_learn/census_demographics.csv')\n",
      "census_data.head()"
     ],
     "language": "python",
     "metadata": {},
     "outputs": []
    },
    {
     "cell_type": "code",
     "collapsed": false,
     "input": [
      "def capitalize(s):\n",
      "    s = s.title()\n",
      "    s = s.replace(\"Of\", 'of')\n",
      "    return s\n",
      "\n",
      "census_data['State'] = census_data.state.map(capitalize)\n",
      "del census_data['state']\n",
      "census_data['State'] = census_data['State'].replace(abbrev_states_dict)\n",
      "census_data.set_index('State', inplace=True)\n",
      "census_data.head()"
     ],
     "language": "python",
     "metadata": {},
     "outputs": []
    },
    {
     "cell_type": "code",
     "collapsed": false,
     "input": [
      "df = census_data[['educ_coll', 'average_income', 'per_vote']]\n",
      "df.head()"
     ],
     "language": "python",
     "metadata": {},
     "outputs": []
    },
    {
     "cell_type": "code",
     "collapsed": false,
     "input": [
      "print(plt.style.available)"
     ],
     "language": "python",
     "metadata": {},
     "outputs": []
    },
    {
     "cell_type": "code",
     "collapsed": false,
     "input": [
      "from pandas.tools.plotting import scatter_matrix\n",
      "with plt.style.context('ggplot'):\n",
      "    axeslist = scatter_matrix(df[['educ_coll', 'average_income', 'per_vote']], alpha=1, c='k', s=150, figsize=(10, 10), diagonal='kde')\n",
      "    for ax in axeslist.flatten():\n",
      "        ax.grid(False)\n",
      "    df.corr()"
     ],
     "language": "python",
     "metadata": {},
     "outputs": []
    },
    {
     "cell_type": "markdown",
     "metadata": {},
     "source": [
      "#Important note (scikit-learn format)\n",
      "- $n_{samples}$ X $n_{features}$\n",
      "- X needs to be a matrix (51,1)\n",
      "- y needs to be a vector (51, )"
     ]
    },
    {
     "cell_type": "markdown",
     "metadata": {},
     "source": [
      "#Linear Regression"
     ]
    },
    {
     "cell_type": "code",
     "collapsed": false,
     "input": [
      "from sklearn.cross_validation import train_test_split\n",
      "from sklearn.linear_model import LinearRegression\n",
      "\n",
      "X_HD = df[['educ_coll', 'average_income']].values\n",
      "\n",
      "educ_coll_std_vec = X_HD[:,0]\n",
      "educ_coll_std = educ_coll_std_vec.reshape(-1,1)\n",
      "\n",
      "average_income_std_vec = X_HD[:,1]\n",
      "average_income_std = average_income_std_vec.reshape(-1,1)\n",
      "\n",
      "X = educ_coll_std\n",
      "y = average_income_std_vec\n",
      "\n",
      "X_train, X_test, y_train, y_test = train_test_split(X, y, test_size=0.5)\n",
      " \n",
      "clf = LinearRegression()\n",
      "clf.fit(X_train, y_train)\n",
      "print \"The intercept is: %.5f\" % clf.intercept_\n",
      "print \"The coefficent is: %.5f\" % clf.coef_\n",
      " \n",
      "predicted_train = clf.predict(X_train)\n",
      "predicted_test = clf.predict(X_test)\n",
      "\n",
      "plt.scatter(X, y, s=50, marker=\"o\", c='k', lw=1.5, label='Data')\n",
      "plt.plot(X_train, predicted_train, c=colors[3], alpha=.8, ls=\"-\", lw=3, label='Training')\n",
      "plt.plot(X_test, predicted_test, c=colors[0], alpha=.8, ls=\"-\", lw=3, label='Test')\n",
      "plt.xlabel(\"educ_coll\")\n",
      "plt.ylabel(\"average_income\")\n",
      "plt.legend(loc='best')"
     ],
     "language": "python",
     "metadata": {},
     "outputs": []
    },
    {
     "cell_type": "code",
     "collapsed": false,
     "input": [
      "plt.scatter(predicted_train, predicted_train - y_train, c=colors[3], alpha=.8, s=40, label='Train')\n",
      "plt.scatter(predicted_test, predicted_test - y_test, c=colors[0], alpha=.8, s=40, label='Test')\n",
      "plt.axhline(y=0, lw=4, color='k')\n",
      "plt.xlabel(\"Fitted Value\")\n",
      "plt.ylabel(\"Residual\")\n",
      "plt.legend(loc='best')"
     ],
     "language": "python",
     "metadata": {},
     "outputs": []
    },
    {
     "cell_type": "markdown",
     "metadata": {},
     "source": [
      "#Using Standardized Variables"
     ]
    },
    {
     "cell_type": "code",
     "collapsed": false,
     "input": [
      "from sklearn.cross_validation import train_test_split\n",
      "from sklearn.linear_model import LinearRegression\n",
      "\n",
      "X_HD = df[['educ_coll', 'average_income']].values\n",
      "X_HDn = (X_HD - X_HD.mean(axis=0)) / X_HD.std(axis=0)\n",
      "\n",
      "educ_coll_std_vec = X_HDn[:,0]\n",
      "educ_coll_std = educ_coll_std_vec.reshape(-1,1)\n",
      "\n",
      "average_income_std_vec = X_HDn[:,1]\n",
      "average_income_std = average_income_std_vec.reshape(-1,1)\n",
      "\n",
      "X = educ_coll_std\n",
      "y = average_income_std_vec\n",
      "\n",
      "X_train, X_test, y_train, y_test = train_test_split(X, y, test_size=0.5)\n",
      " \n",
      "clf = LinearRegression()\n",
      "clf.fit(X_train, y_train)\n",
      "print \"The intercept is: %.5f\" % clf.intercept_\n",
      "print \"The coefficent is: %.5f\" % clf.coef_\n",
      " \n",
      "predicted_train = clf.predict(X_train)\n",
      "predicted_test = clf.predict(X_test)\n",
      "\n",
      "plt.scatter(X, y, s=50, marker=\"o\", c='k', label='Data')\n",
      "plt.plot(X_train, predicted_train, c=colors[0], alpha=.8, ls=\"-\", lw=3, label='Training')\n",
      "plt.plot(X_test, predicted_test, c=colors[3], alpha=.8, ls=\"-\", lw=3, label='Test')\n",
      "plt.xlabel(\"educ_coll_std\")\n",
      "plt.ylabel(\"average_income_std\")\n",
      "plt.legend(loc='best')"
     ],
     "language": "python",
     "metadata": {},
     "outputs": []
    },
    {
     "cell_type": "code",
     "collapsed": false,
     "input": [
      "#Residual Plot\n",
      "plt.scatter(predicted_train, predicted_train - y_train, c=colors[0], alpha=.8, s=40, label='Train')\n",
      "plt.scatter(predicted_test, predicted_test - y_test, c=colors[3], alpha=.8, s=40, label='Test')\n",
      "plt.axhline(y=0, lw=4, color='k')\n",
      "plt.xlabel(\"Fitted Value\")\n",
      "plt.ylabel(\"Residual\")\n",
      "plt.legend(loc='best')"
     ],
     "language": "python",
     "metadata": {},
     "outputs": []
    },
    {
     "cell_type": "code",
     "collapsed": false,
     "input": [
      "print \"Training score:\", clf.score(X_train, y_train)\n",
      "print \"Testing score:\", clf.score(X_test, y_test)"
     ],
     "language": "python",
     "metadata": {},
     "outputs": []
    },
    {
     "cell_type": "markdown",
     "metadata": {},
     "source": [
      "#Doing a PCA on the data"
     ]
    },
    {
     "cell_type": "code",
     "collapsed": false,
     "input": [
      "from sklearn.decomposition import PCA\n",
      "\n",
      "pca = PCA(n_components=2)\n",
      "X = pca.fit_transform(X_HDn)\n",
      "\n",
      "print \"Variance Explained:\", pca.explained_variance_ratio_\n",
      "print \"Variance Explained by 1st component: \", pca.explained_variance_ratio_[0]\n",
      "print \"Variance Explained by 2nd component: \", pca.explained_variance_ratio_[1]"
     ],
     "language": "python",
     "metadata": {},
     "outputs": []
    },
    {
     "cell_type": "markdown",
     "metadata": {},
     "source": [
      "###Take the X which is transformed and plot into PCA space"
     ]
    },
    {
     "cell_type": "code",
     "collapsed": false,
     "input": [
      "plt.scatter(X[:, 0], X[:, 1], s=50, marker=\"o\", c='k', label='PCA')\n",
      "plt.legend(loc='best')"
     ],
     "language": "python",
     "metadata": {},
     "outputs": []
    },
    {
     "cell_type": "markdown",
     "metadata": {},
     "source": [
      "###Since 1st component explain most of the variance, drop the 2nd component"
     ]
    },
    {
     "cell_type": "code",
     "collapsed": false,
     "input": [
      "pca1 = PCA(n_components=1) # keep only the 1st component\n",
      "X_E = pca1.fit_transform(X_HDn)\n",
      "X_reconstructed = pca1.inverse_transform(X_E)"
     ],
     "language": "python",
     "metadata": {},
     "outputs": []
    },
    {
     "cell_type": "code",
     "collapsed": false,
     "input": [
      "plt.scatter(X_reconstructed[:,0], X_reconstructed[:,1], c=colors[1], alpha=.8, s=40, label='Reconstructed (PCA)')\n",
      "plt.scatter(educ_coll_std_vec, average_income_std_vec, c='k', alpha=.8, s=40, label='Data')\n",
      "plt.plot(X_train, predicted_train, c=colors[0], alpha=.8, ls=\"-\", lw=3, label='Training')\n",
      "plt.plot(X_test, predicted_test, c=colors[3], alpha=.8, ls=\"-\", lw=3, label='Test')\n",
      "plt.legend(loc='best')"
     ],
     "language": "python",
     "metadata": {},
     "outputs": []
    },
    {
     "cell_type": "markdown",
     "metadata": {},
     "source": [
      "**The red line (reconstructed from PCA) is steeper because, the principle behind this is that regression minimizes the y-residuals while the PCA minimizes the norms (trying to get the greatest variance of the set)**"
     ]
    },
    {
     "cell_type": "code",
     "collapsed": false,
     "input": [
      "from IPython.display import Image as Im\n",
      "from IPython.display import display\n",
      "Im('./data/lab_scikit_learn/pcavsfit.png')"
     ],
     "language": "python",
     "metadata": {},
     "outputs": []
    },
    {
     "cell_type": "code",
     "collapsed": false,
     "input": [
      "X_HD = df[['educ_coll', 'average_income']].values\n",
      "X_HDn = (X_HD - X_HD.mean(axis=0)) / X_HD.std(axis=0)\n",
      "\n",
      "educ_coll_std_vec = X_HDn[:,0]\n",
      "educ_coll_std = educ_coll_std_vec.reshape(-1,1)\n",
      "\n",
      "average_income_std_vec = X_HDn[:,1]\n",
      "average_income_std = average_income_std_vec.reshape(-1,1)\n",
      "\n",
      "X = average_income_std\n",
      "y = educ_coll_std_vec\n",
      "\n",
      "X_train, X_test, y_train, y_test = train_test_split(X, y, test_size=0.5)\n",
      " \n",
      "clf = LinearRegression()\n",
      "clf.fit(X_train, y_train)\n",
      "print \"The intercept is: %.5f\" % clf.intercept_\n",
      "print \"The coefficent is: %.5f\" % clf.coef_\n",
      " \n",
      "predicted_train = clf.predict(X_train)\n",
      "predicted_test = clf.predict(X_test)\n",
      "\n",
      "plt.scatter(X, y, s=50, marker=\"o\", c='k', label='Data')\n",
      "plt.plot(X_train, predicted_train, c=colors[0], alpha=.8, ls=\"-\", lw=3, label='Training')\n",
      "plt.plot(X_test, predicted_test, c=colors[3], alpha=.8, ls=\"-\", lw=3, label='Test')\n",
      "plt.xlabel(\"average_income_std\")\n",
      "plt.ylabel(\"educ_coll_std\")\n",
      "plt.legend(loc='best')"
     ],
     "language": "python",
     "metadata": {},
     "outputs": []
    },
    {
     "cell_type": "markdown",
     "metadata": {},
     "source": [
      "#Logistic Regression"
     ]
    },
    {
     "cell_type": "code",
     "collapsed": false,
     "input": [
      "!head \"data/lab_scikit_learn/chall.txt\""
     ],
     "language": "python",
     "metadata": {},
     "outputs": []
    },
    {
     "cell_type": "code",
     "collapsed": false,
     "input": [
      "data = np.array([[float(j) for j in datae.strip().split()] for datae in open('./data/lab_scikit_learn/chall.txt')])\n",
      "data"
     ],
     "language": "python",
     "metadata": {},
     "outputs": []
    },
    {
     "cell_type": "code",
     "collapsed": false,
     "input": [
      "temps, pfail = data[:,0], data[:,1]\n",
      "df = pd.DataFrame(dict(temps=temps, pfail=pfail))\n",
      "df.head()"
     ],
     "language": "python",
     "metadata": {},
     "outputs": []
    },
    {
     "cell_type": "code",
     "collapsed": false,
     "input": [
      "plt.scatter(df.temps, df.pfail, c='k', s=50, label='Data')\n",
      "plt.legend(loc='best')\n",
      "plt.xlabel('temps')\n",
      "plt.ylabel('pfail')"
     ],
     "language": "python",
     "metadata": {},
     "outputs": []
    },
    {
     "cell_type": "markdown",
     "metadata": {},
     "source": [
      ">The default C in sklearn is 1.The meaning of C is: the larger the C, the lesser the regularization. The smaller the C the higher the regularization."
     ]
    },
    {
     "cell_type": "code",
     "collapsed": false,
     "input": [
      "from sklearn.linear_model import LogisticRegression\n",
      "\n",
      "reg=1000 #No regularization. If we need regularization, reduce the number\n",
      "clf = LogisticRegression(C=reg)\n",
      "clf.fit(temps.reshape(-1,1), pfail)\n",
      "\n",
      "tempsnew = np.linspace(20, 90, 15)\n",
      "probs = clf.predict_proba(tempsnew.reshape(-1,1))[:, 1]\n",
      "predicts = clf.predict(tempsnew.reshape(-1,1))\n",
      "\n",
      "plt.scatter(df.temps, df.pfail, c='k', s=50, label='Actual')\n",
      "plt.scatter(tempsnew, predicts, c=colors[4], s=50, label='Predicted')\n",
      "plt.plot(tempsnew, probs, c=colors[4], ls='-', lw=5, marker='s', label='Logistic')\n",
      "plt.legend(loc='best')\n",
      "plt.xlabel('temps')\n",
      "plt.ylabel('pfail')\n",
      "\n",
      "pd.crosstab(pfail, clf.predict(temps.reshape(-1,1)), rownames=[\"Actual\"], colnames=[\"Predicted\"])"
     ],
     "language": "python",
     "metadata": {},
     "outputs": []
    },
    {
     "cell_type": "code",
     "collapsed": false,
     "input": [
      "reg=1\n",
      "clf = LogisticRegression(C=reg)\n",
      "clf.fit(temps.reshape(-1,1), pfail)\n",
      "\n",
      "tempsnew = np.linspace(20, 90, 15)\n",
      "probs = clf.predict_proba(tempsnew.reshape(-1,1))[:, 1]\n",
      "predicts = clf.predict(tempsnew.reshape(-1,1))\n",
      "\n",
      "plt.scatter(df.temps, df.pfail, c='k', s=50, label='Actual')\n",
      "plt.scatter(tempsnew, predicts, c=colors[4], s=50, label='Predicted')\n",
      "plt.plot(tempsnew, probs, c=colors[4], ls='-', lw=5, marker='s', label='Logistic')\n",
      "plt.legend(loc='best')\n",
      "plt.xlabel('temps')\n",
      "plt.ylabel('pfail')\n",
      "\n",
      "pd.crosstab(pfail, clf.predict(temps.reshape(-1,1)), rownames=[\"Actual\"], colnames=[\"Predicted\"])"
     ],
     "language": "python",
     "metadata": {},
     "outputs": []
    },
    {
     "cell_type": "markdown",
     "metadata": {},
     "source": [
      "#Logistic Regression with CV"
     ]
    },
    {
     "cell_type": "code",
     "collapsed": false,
     "input": [
      "data = np.array([[float(j) for j in datae.strip().split()] for datae in open('./data/lab_scikit_learn/chall.txt')])\n",
      "temps, pfail = data[:,0], data[:,1]\n",
      "\n",
      "df = pd.DataFrame(dict(temps=temps, pfail=pfail))\n",
      "df = df.sort(['temps'])\n",
      "df.head()"
     ],
     "language": "python",
     "metadata": {},
     "outputs": []
    },
    {
     "cell_type": "code",
     "collapsed": false,
     "input": [
      "# X_HD = df[['temps', 'pfail']].values\n",
      "# temps_std_vec = X_HD[:,0]\n",
      "# temps_std = temps_std_vec.reshape(-1,1)\n",
      "\n",
      "# pfail_std_vec = X_HD[:,1]\n",
      "# pfail_std = pfail_std_vec.reshape(-1,1)\n",
      "\n",
      "# print temps_std\n",
      "# print temps.reshape(-1,1)\n",
      "# # print pfail_std_vec.shape\n"
     ],
     "language": "python",
     "metadata": {},
     "outputs": []
    },
    {
     "cell_type": "code",
     "collapsed": false,
     "input": [
      "X_HD = df[['temps', 'pfail']].values\n",
      " \n",
      "temps_std_vec = X_HD[:,0]\n",
      "temps_std = temps_std_vec.reshape(-1,1)\n",
      " \n",
      "pfail_std_vec = X_HD[:,1]\n",
      "pfail_std = pfail_std_vec.reshape(-1,1)\n",
      " \n",
      "X = temps_std\n",
      "y = pfail_std_vec\n",
      "\n",
      "plt.scatter(X, y, c='k', s=50, label='Actual')\n",
      "plt.legend(loc='best')\n",
      "plt.xlabel('temps')\n",
      "plt.ylabel('pfail')"
     ],
     "language": "python",
     "metadata": {},
     "outputs": []
    },
    {
     "cell_type": "code",
     "collapsed": false,
     "input": [
      "from sklearn.linear_model import LogisticRegression\n",
      "from sklearn.grid_search import GridSearchCV\n",
      "\n",
      "def fit_logistic(X_train, y_train, reg=0.0001, penalty=\"l2\"):\n",
      "    clf = LogisticRegression(C=reg, penalty=penalty)\n",
      "    clf.fit(X_train, y_train)\n",
      "    return clf\n",
      "\n",
      "def cv_optimize(X_train, y_train, penalty=\"l2\", n_folds=10, num_p=100):\n",
      "    clf = LogisticRegression(penalty=penalty)\n",
      "    parameters = {\"C\": np.logspace(-4, 3, num=num_p)}\n",
      "    gs = GridSearchCV(clf, param_grid=parameters, cv=n_folds)\n",
      "    gs.fit(X_train, y_train)\n",
      "    return gs.best_params_, gs.best_score_\n",
      "\n",
      "def cv_and_fit(X_train, y_train, penalty=\"l2\", n_folds=5):\n",
      "    bp, bs = cv_optimize(X_train, y_train, penalty=penalty, n_folds=n_folds)\n",
      "    print \"Best Params ['C']: \", bp['C'] \n",
      "    print \"Best Score: \", bs\n",
      "    clf = fit_logistic(X_train, y_train, penalty=penalty, reg=bp['C'])\n",
      "    return clf\n",
      "\n",
      "clf = cv_and_fit(X, y)"
     ],
     "language": "python",
     "metadata": {},
     "outputs": []
    },
    {
     "cell_type": "code",
     "collapsed": false,
     "input": [
      "train_probs = clf.predict_proba(X)[:,1]\n",
      "train_predicts = clf.predict(X)\n",
      "\n",
      "X_new = np.linspace(20., 90., 15)\n",
      "probs = clf.predict_proba(X_new.reshape(-1,1))[:, 1]\n",
      "predicts = clf.predict(X_new.reshape(-1,1))\n",
      "\n",
      "plt.scatter(X, y, c='k', s=50, label='Actual')\n",
      "plt.scatter(X, train_probs, c=colors[0], s=50, label='train_probs')\n",
      "plt.scatter(X, train_predicts, c=colors[0], s=50, label='train_predicts')\n",
      "plt.scatter(X_new, predicts, c=colors[2], s=50, label='Predicted')\n",
      "\n",
      "plt.plot(X_new, probs, c=colors[4], ls='-', lw=5, marker='s', label='Logistic')\n",
      "plt.legend(loc='best')\n",
      "plt.xlabel('temps')\n",
      "plt.ylabel('pfail')\n",
      "\n",
      "pd.crosstab(y, clf.predict(X), rownames=[\"Actual\"], colnames=[\"Predicted\"])"
     ],
     "language": "python",
     "metadata": {},
     "outputs": []
    },
    {
     "cell_type": "code",
     "collapsed": false,
     "input": [
      "#Check the failures in the prediction\n",
      "zip(X, y, clf.predict(X))"
     ],
     "language": "python",
     "metadata": {},
     "outputs": []
    },
    {
     "cell_type": "code",
     "collapsed": false,
     "input": [],
     "language": "python",
     "metadata": {},
     "outputs": []
    },
    {
     "cell_type": "code",
     "collapsed": false,
     "input": [],
     "language": "python",
     "metadata": {},
     "outputs": []
    },
    {
     "cell_type": "code",
     "collapsed": false,
     "input": [
      "data = np.array([[float(j) for j in datae.strip().split()] for datae in open('./data/lab_scikit_learn/chall.txt')])\n",
      "temps, pfail = data[:,0], data[:,1]\n",
      "\n",
      "challenger_df = pd.DataFrame(dict(temps=temps, pfail=pfail))\n",
      "challenger_df = challenger_df.sort(['temps'])"
     ],
     "language": "python",
     "metadata": {},
     "outputs": [],
     "prompt_number": 2
    },
    {
     "cell_type": "code",
     "collapsed": false,
     "input": [
      "from sklearn.linear_model import LogisticRegression\n",
      "from sklearn.grid_search import GridSearchCV\n",
      "\n",
      "def prepare_features(train_df, X_train, y_train):\n",
      "    X_HD = train_df[[X_train, y_train]].values\n",
      "    X_std_vec = X_HD[:,0]\n",
      "    X_std = X_std_vec.reshape(-1,1)\n",
      "    y_std_vec = X_HD[:,1]\n",
      "    y_std = y_std_vec.reshape(-1,1)\n",
      "    X = X_std\n",
      "    y = y_std_vec\n",
      "    return y, X\n",
      "\n",
      "def fit_logistic(train_df, X_train, y_train, reg=0.0001, penalty=\"l2\"):\n",
      "    y, X = prepare_features(train_df, X_train, y_train)\n",
      "    clf = LogisticRegression(C=reg, penalty=penalty)\n",
      "    clf.fit(X, y)\n",
      "    return clf\n",
      "\n",
      "def cv_optimize(train_df, X_train, y_train, penalty=\"l2\", n_folds=10, num_p=100):\n",
      "    y, X = prepare_features(train_df, X_train, y_train)\n",
      "    clf = LogisticRegression(penalty=penalty)\n",
      "    parameters = {\"C\": np.logspace(-4, 3, num=num_p)}\n",
      "    gs = GridSearchCV(clf, param_grid=parameters, cv=n_folds)\n",
      "    gs.fit(X, y)\n",
      "    return gs.best_params_, gs.best_score_\n",
      "\n",
      "def cv_and_fit(train_df, X_train, y_train, penalty=\"l2\", n_folds=5):\n",
      "    y, X = prepare_features(train_df, X_train, y_train)\n",
      "    bp, bs = cv_optimize(train_df, X_train, y_train, penalty=penalty, n_folds=n_folds)\n",
      "    print \"Best Params ['C']: \", bp['C'] \n",
      "    print \"Best Score: \", bs\n",
      "    clf = fit_logistic(train_df, X_train, y_train, penalty=penalty, reg=bp['C'])\n",
      "    return y, X, clf\n",
      "\n",
      "y, X, clf = cv_and_fit(challenger_df, 'temps', 'pfail')"
     ],
     "language": "python",
     "metadata": {},
     "outputs": [
      {
       "output_type": "stream",
       "stream": "stdout",
       "text": [
        "Best Params ['C']:  27.8255940221\n",
        "Best Score:  0.826086956522\n"
       ]
      }
     ],
     "prompt_number": 3
    },
    {
     "cell_type": "code",
     "collapsed": false,
     "input": [
      "train_probs = clf.predict_proba(X)[:,1]\n",
      "train_predicts = clf.predict(X)\n",
      " \n",
      "X_new = np.linspace(20., 90., 15)\n",
      "probs = clf.predict_proba(X_new.reshape(-1,1))[:, 1]\n",
      "predicts = clf.predict(X_new.reshape(-1,1))\n",
      " \n",
      "plt.scatter(X, y, c='k', s=50, label='Actual')\n",
      "plt.scatter(X, train_probs, c=colors[0], s=50, label='train_probs')\n",
      "plt.scatter(X, train_predicts, c=colors[0], s=50, label='train_predicts')\n",
      "plt.scatter(X_new, predicts, c=colors[2], s=50, label='Predicted')\n",
      " \n",
      "plt.plot(X_new, probs, c=colors[4], ls='-', lw=5, marker='s', label='Logistic')\n",
      "plt.legend(loc='best')\n",
      "plt.xlabel('temps')\n",
      "plt.ylabel('pfail')\n",
      " \n",
      "print \"Crosstab of Predictions:\"\n",
      "print pd.crosstab(y, clf.predict(X), rownames=[\"Actual\"], colnames=[\"Predicted\"])\n",
      "print \"Check the failures in the prediction:\"\n",
      "zip(X, y, clf.predict(X))"
     ],
     "language": "python",
     "metadata": {},
     "outputs": [
      {
       "output_type": "stream",
       "stream": "stdout",
       "text": [
        "Crosstab of Predictions:\n",
        "Predicted   0  1\n",
        "Actual          \n",
        "0          16  0\n",
        "1           4  3\n",
        "Check the failures in the prediction:\n"
       ]
      },
      {
       "metadata": {},
       "output_type": "pyout",
       "prompt_number": 4,
       "text": [
        "[(array([ 53.]), 1.0, 1.0),\n",
        " (array([ 57.]), 1.0, 1.0),\n",
        " (array([ 58.]), 1.0, 1.0),\n",
        " (array([ 63.]), 1.0, 0.0),\n",
        " (array([ 66.]), 0.0, 0.0),\n",
        " (array([ 67.]), 0.0, 0.0),\n",
        " (array([ 67.]), 0.0, 0.0),\n",
        " (array([ 67.]), 0.0, 0.0),\n",
        " (array([ 68.]), 0.0, 0.0),\n",
        " (array([ 69.]), 0.0, 0.0),\n",
        " (array([ 70.]), 1.0, 0.0),\n",
        " (array([ 70.]), 0.0, 0.0),\n",
        " (array([ 70.]), 0.0, 0.0),\n",
        " (array([ 70.]), 1.0, 0.0),\n",
        " (array([ 72.]), 0.0, 0.0),\n",
        " (array([ 73.]), 0.0, 0.0),\n",
        " (array([ 75.]), 0.0, 0.0),\n",
        " (array([ 75.]), 1.0, 0.0),\n",
        " (array([ 76.]), 0.0, 0.0),\n",
        " (array([ 76.]), 0.0, 0.0),\n",
        " (array([ 78.]), 0.0, 0.0),\n",
        " (array([ 79.]), 0.0, 0.0),\n",
        " (array([ 81.]), 0.0, 0.0)]"
       ]
      },
      {
       "metadata": {},
       "output_type": "display_data",
       "png": "[encoded data removed]",
       "text": [
        "<matplotlib.figure.Figure at 0x104556a10>"
       ]
      }
     ],
     "prompt_number": 4
    },
    {
     "cell_type": "code",
     "collapsed": false,
     "input": [
      "data = np.array([[float(j) for j in datae.strip().split()] for datae in open('./data/lab_scikit_learn/chall.txt')])\n",
      "temps, pfail = data[:,0], data[:,1]\n",
      "\n",
      "final_df = pd.DataFrame(dict(temps=temps, pfail=pfail))\n",
      "final_df = challenger_df.sort(['temps'])"
     ],
     "language": "python",
     "metadata": {},
     "outputs": [],
     "prompt_number": 5
    },
    {
     "cell_type": "code",
     "collapsed": false,
     "input": [
      "from sklearn.linear_model import LogisticRegression\n",
      "from sklearn.grid_search import GridSearchCV\n",
      " \n",
      "def prepare_features(train_df, X_train, y_train):\n",
      "    X_HD = train_df[[X_train, y_train]].values\n",
      "    X_std_vec = X_HD[:,0]\n",
      "    X_std = X_std_vec.reshape(-1,1)\n",
      "    y_std_vec = X_HD[:,1]\n",
      "    y_std = y_std_vec.reshape(-1,1)\n",
      "    X = X_std\n",
      "    y = y_std_vec\n",
      "    return y, X\n",
      " \n",
      "def fit_logistic(train_df, X_train, y_train, reg=0.0001, penalty=\"l2\"):\n",
      "    y, X = prepare_features(train_df, X_train, y_train)\n",
      "    clf = LogisticRegression(C=reg, penalty=penalty)\n",
      "    clf.fit(X, y)\n",
      "    return clf\n",
      " \n",
      "def cv_optimize(train_df, X_train, y_train, penalty=\"l2\", n_folds=10, num_p=100):\n",
      "    y, X = prepare_features(train_df, X_train, y_train)\n",
      "    clf = LogisticRegression(penalty=penalty)\n",
      "    parameters = {\"C\": np.logspace(-4, 3, num=num_p)}\n",
      "    gs = GridSearchCV(clf, param_grid=parameters, cv=n_folds)\n",
      "    gs.fit(X, y)\n",
      "    return gs.best_params_, gs.best_score_\n",
      " \n",
      "def cv_and_fit(train_df, X_train, y_train, penalty=\"l2\", n_folds=5):\n",
      "    y, X = prepare_features(train_df, X_train, y_train)\n",
      "    bp, bs = cv_optimize(train_df, X_train, y_train, penalty=penalty, n_folds=n_folds)\n",
      "    print \"Best Params ['C']: \", bp['C'] \n",
      "    print \"Best Score: \", bs\n",
      "    clf = fit_logistic(train_df, X_train, y_train, penalty=penalty, reg=bp['C'])\n",
      "    return y, X, clf\n",
      " \n",
      "y, X, clf = cv_and_fit(final_df, 'temps', 'pfail') #Change here"
     ],
     "language": "python",
     "metadata": {},
     "outputs": [
      {
       "output_type": "stream",
       "stream": "stdout",
       "text": [
        "Best Params ['C']:  27.8255940221\n",
        "Best Score:  0.826086956522\n"
       ]
      }
     ],
     "prompt_number": 6
    },
    {
     "cell_type": "code",
     "collapsed": false,
     "input": [
      "train_probs = clf.predict_proba(X)[:,1]\n",
      "train_predicts = clf.predict(X)\n",
      " \n",
      "X_new = np.linspace(20., 90., 15)\n",
      "probs = clf.predict_proba(X_new.reshape(-1,1))[:, 1]\n",
      "predicts = clf.predict(X_new.reshape(-1,1))\n",
      " \n",
      "plt.scatter(X, y, c='k', s=50, label='Actual')\n",
      "plt.scatter(X, train_probs, c=colors[0], s=50, label='train_probs')\n",
      "plt.scatter(X, train_predicts, c=colors[0], s=50, label='train_predicts')\n",
      "plt.scatter(X_new, predicts, c=colors[2], s=50, label='Predicted')\n",
      " \n",
      "plt.plot(X_new, probs, c=colors[4], ls='-', lw=5, marker='s', label='Logistic')\n",
      "plt.legend(loc='best')\n",
      "plt.xlabel('temps')\n",
      "plt.ylabel('pfail')\n",
      " \n",
      "print \"Crosstab of Predictions:\"\n",
      "print pd.crosstab(y, clf.predict(X), rownames=[\"Actual\"], colnames=[\"Predicted\"])\n",
      "print \"Check the failures in the prediction:\"\n",
      "zip(X, y, clf.predict(X))"
     ],
     "language": "python",
     "metadata": {},
     "outputs": [
      {
       "output_type": "stream",
       "stream": "stdout",
       "text": [
        "Crosstab of Predictions:\n",
        "Predicted   0  1\n",
        "Actual          \n",
        "0          16  0\n",
        "1           4  3\n",
        "Check the failures in the prediction:\n"
       ]
      },
      {
       "metadata": {},
       "output_type": "pyout",
       "prompt_number": 7,
       "text": [
        "[(array([ 53.]), 1.0, 1.0),\n",
        " (array([ 57.]), 1.0, 1.0),\n",
        " (array([ 58.]), 1.0, 1.0),\n",
        " (array([ 63.]), 1.0, 0.0),\n",
        " (array([ 66.]), 0.0, 0.0),\n",
        " (array([ 67.]), 0.0, 0.0),\n",
        " (array([ 67.]), 0.0, 0.0),\n",
        " (array([ 67.]), 0.0, 0.0),\n",
        " (array([ 68.]), 0.0, 0.0),\n",
        " (array([ 69.]), 0.0, 0.0),\n",
        " (array([ 70.]), 1.0, 0.0),\n",
        " (array([ 70.]), 0.0, 0.0),\n",
        " (array([ 70.]), 0.0, 0.0),\n",
        " (array([ 70.]), 1.0, 0.0),\n",
        " (array([ 72.]), 0.0, 0.0),\n",
        " (array([ 73.]), 0.0, 0.0),\n",
        " (array([ 75.]), 0.0, 0.0),\n",
        " (array([ 75.]), 1.0, 0.0),\n",
        " (array([ 76.]), 0.0, 0.0),\n",
        " (array([ 76.]), 0.0, 0.0),\n",
        " (array([ 78.]), 0.0, 0.0),\n",
        " (array([ 79.]), 0.0, 0.0),\n",
        " (array([ 81.]), 0.0, 0.0)]"
       ]
      },
      {
       "metadata": {},
       "output_type": "display_data",
       "png": "[encoded data removed]",
       "text": [
        "<matplotlib.figure.Figure at 0x109326710>"
       ]
      }
     ],
     "prompt_number": 7
    },
    {
     "cell_type": "code",
     "collapsed": false,
     "input": [],
     "language": "python",
     "metadata": {},
     "outputs": []
    }
   ],
   "metadata": {}
  }
 ]
}