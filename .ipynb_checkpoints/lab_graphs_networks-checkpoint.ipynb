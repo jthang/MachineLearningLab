{
 "metadata": {
  "name": "",
  "signature": "sha256:2a62dc597366e7f52808317820d972438720b398d6a65e1f6d9d7453178a71f9"
 },
 "nbformat": 3,
 "nbformat_minor": 0,
 "worksheets": [
  {
   "cells": [
    {
     "cell_type": "markdown",
     "metadata": {},
     "source": [
      "#Graphs & Networks"
     ]
    },
    {
     "cell_type": "markdown",
     "metadata": {},
     "source": [
      "###Linkedin API"
     ]
    },
    {
     "cell_type": "code",
     "collapsed": false,
     "input": [
      "user_token = '717a5d55-6b10-472c-835e-d3d80417d4cd'\n",
      "user_secret = '0e7c2329-5c9b-4937-9a9f-4b03c9699734'\n",
      "\n",
      "api_key = '78rhe5js1u0h4e'\n",
      "secret_key = 'P4B1AVJ5NbkgSGEt'"
     ],
     "language": "python",
     "metadata": {},
     "outputs": [],
     "prompt_number": 3
    },
    {
     "cell_type": "code",
     "collapsed": false,
     "input": [
      "import oauth2 as oauth\n",
      "import urlparse\n",
      "        \n",
      "def request_token(consumer):\n",
      "    client = oauth.Client(consumer)\n",
      "    request_token_url = 'https://api.linkedin.com/uas/oauth/requestToken?scope=r_network'\n",
      "    resp, content = client.request(request_token_url, \"POST\")\n",
      "    if resp['status'] != '200':\n",
      "        raise Exception(\"Invalid response %s.\" % resp['status'])\n",
      "    request_token = dict(urlparse.parse_qsl(content))\n",
      "    return request_token"
     ],
     "language": "python",
     "metadata": {},
     "outputs": [],
     "prompt_number": 4
    },
    {
     "cell_type": "code",
     "collapsed": false,
     "input": [
      "def authorize(request_token):\n",
      "    authorize_url ='https://api.linkedin.com/uas/oauth/authorize'\n",
      "    print \"Go to the following link in your browser:\"\n",
      "    print \"%s?oauth_token=%s\" % (authorize_url, request_token['oauth_token'])\n",
      "    print\n",
      "    accepted = 'n'\n",
      "    while accepted.lower() == 'n':\n",
      "        accepted = raw_input('Have you authorized me? (y/n) ')\n",
      "    oauth_verifier = raw_input('What is the PIN? ')\n",
      "    return oauth_verifier"
     ],
     "language": "python",
     "metadata": {},
     "outputs": [],
     "prompt_number": 5
    },
    {
     "cell_type": "code",
     "collapsed": false,
     "input": [
      "def access(consumer, request_token, oauth_verifier):\n",
      "    access_token_url = 'https://api.linkedin.com/uas/oauth/accessToken'\n",
      "    token = oauth.Token(request_token['oauth_token'], request_token['oauth_token_secret'])\n",
      "    token.set_verifier(oauth_verifier)\n",
      "    client = oauth.Client(consumer, token)\n",
      "    resp, content = client.request(access_token_url, \"POST\")\n",
      "    access_token = dict(urlparse.parse_qsl(content))\n",
      "    return access_token"
     ],
     "language": "python",
     "metadata": {},
     "outputs": [],
     "prompt_number": 6
    },
    {
     "cell_type": "code",
     "collapsed": false,
     "input": [
      "consumer = oauth.Consumer(api_key, secret_key)\n",
      "\n",
      "r_token = request_token(consumer)\n",
      "print \"Request Token: oauth_token: %s, oauth_token_secret: %s\" % (r_token['oauth_token'], r_token['oauth_token_secret'])\n",
      "\n",
      "oauth_verifier = authorize(r_token)\n",
      "\n",
      "a_token = access(consumer, r_token, oauth_verifier)\n",
      "print a_token\n",
      "print \"Access Token: oauth_token = %s, oauth_token_secret = %s\" % (a_token['oauth_token'], a_token['oauth_token_secret'])\n",
      "print \"You may now access protected resources using the access tokens above.\""
     ],
     "language": "python",
     "metadata": {},
     "outputs": [
      {
       "output_type": "stream",
       "stream": "stdout",
       "text": [
        "Request Token: oauth_token: 75--fdcc5dc0-ff4d-434e-bb83-329c89276aab, oauth_token_secret: 34237915-8aad-4620-9344-06f05b7deb4d\n",
        "Go to the following link in your browser:\n",
        "https://api.linkedin.com/uas/oauth/authorize?oauth_token=75--fdcc5dc0-ff4d-434e-bb83-329c89276aab\n",
        "\n"
       ]
      },
      {
       "name": "stdout",
       "output_type": "stream",
       "stream": "stdout",
       "text": [
        "Have you authorized me? (y/n) y\n"
       ]
      },
      {
       "name": "stdout",
       "output_type": "stream",
       "stream": "stdout",
       "text": [
        "What is the PIN? 65546\n"
       ]
      },
      {
       "output_type": "stream",
       "stream": "stdout",
       "text": [
        "{'oauth_token_secret': 'ce8ef0e5-9d51-4e19-ba53-9a67720f257e', 'oauth_authorization_expires_in': '5183985', 'oauth_token': 'c63046eb-6ce0-450d-a1c0-63ca04c617b9', 'oauth_expires_in': '5183985'}\n",
        "Access Token: oauth_token = c63046eb-6ce0-450d-a1c0-63ca04c617b9, oauth_token_secret = ce8ef0e5-9d51-4e19-ba53-9a67720f257e\n",
        "You may now access protected resources using the access tokens above.\n"
       ]
      }
     ],
     "prompt_number": 7
    },
    {
     "cell_type": "markdown",
     "metadata": {},
     "source": [
      "###3. Get data, clean it and store to disk"
     ]
    },
    {
     "cell_type": "code",
     "collapsed": false,
     "input": [
      "import simplejson\n",
      "import codecs\n",
      " \n",
      "output_file = 'linkedIn_links.csv'\n",
      "my_name = 'Jens Thang'\n",
      " \n",
      "def linkedin_connections():\n",
      "    # Use your credentials to build the oauth client\n",
      "    consumer = oauth.Consumer(key=api_key, secret=secret_key)\n",
      "    token = oauth.Token(key=a_token['oauth_token'], secret=a_token['oauth_token_secret'])\n",
      "    client = oauth.Client(consumer, token)\n",
      "    \n",
      "    # Fetch first degree connections\n",
      "    resp, content = client.request('http://api.linkedin.com/v1/people/~/connections?format=json')\n",
      "    results = simplejson.loads(content)\n",
      "    \n",
      "    # File that will store the results\n",
      "    output = codecs.open(output_file, 'w', 'utf-8')\n",
      "    \n",
      "    # Loop through the 1st degree connection and see how they connect to each other\n",
      "    for result in results[\"values\"]:\n",
      "        con = \"%s %s\" % (result[\"firstName\"].replace(\",\", \" \"), result[\"lastName\"].replace(\",\", \" \"))\n",
      "        print >>output, \"%s,%s\" % (my_name, con)\n",
      "        # This is the trick, use the search API to get related connections\n",
      "        u = \"https://api.linkedin.com/v1/people/%s:(relation-to-viewer:(related-connections))?format=json\" % result[\"id\"]\n",
      "        resp, content = client.request(u)\n",
      "        rels = simplejson.loads(content)\n",
      "        try:\n",
      "            for rel in rels['relationToViewer']['relatedConnections']['values']:\n",
      "                sec = \"%s %s\" % (rel[\"firstName\"].replace(\",\", \" \"), rel[\"lastName\"].replace(\",\", \" \"))\n",
      "                print >>output, \"%s,%s\" % (con, sec)\n",
      "        except:\n",
      "            pass\n",
      "\n",
      "linkedin_connections()"
     ],
     "language": "python",
     "metadata": {},
     "outputs": [],
     "prompt_number": 8
    },
    {
     "cell_type": "code",
     "collapsed": false,
     "input": [
      "from operator import itemgetter\n",
      "from unidecode import unidecode\n",
      " \n",
      "clean_output_file = 'linkedIn_links_clean.csv'\n",
      " \n",
      "def stringify(chain):\n",
      "    # Simple utility to build the nodes labels\n",
      "    allowed = '0123456789abcdefghijklmnopqrstuvwxyz_'\n",
      "    c = unidecode(chain.strip().lower().replace(' ', '_'))\n",
      "    return ''.join([letter for letter in c if letter in allowed])\n",
      " \n",
      " \n",
      "def clean(f_input, f_output):\n",
      "    output = open(f_output, 'w')\n",
      "    # Store the edges inside a set for dedup\n",
      "    edges = set()\n",
      "    for line in codecs.open(f_input, 'r', 'utf-8'):\n",
      "        from_person, to_person = line.strip().split(',')\n",
      "        _f = stringify(from_person)\n",
      "        _t = stringify(to_person)\n",
      "        # Reorder the edge tuple\n",
      "        _e = tuple(sorted((_f, _t), key=itemgetter(0, 1)))\n",
      "        edges.add(_e)\n",
      "    for edge in edges:\n",
      "        print >>output, '%s,%s' % (edge[0], edge[1])\n",
      " \n",
      "clean(output_file, clean_output_file)"
     ],
     "language": "python",
     "metadata": {},
     "outputs": [],
     "prompt_number": 9
    },
    {
     "cell_type": "markdown",
     "metadata": {},
     "source": [
      "###Page Rank\n",
      ">PageRank basically amounts to computing the largest eigen vector of a stochastic matrix, which can be done via the power iteration method."
     ]
    },
    {
     "cell_type": "code",
     "collapsed": false,
     "input": [
      "import csv\n",
      "from collections import defaultdict\n",
      "\n",
      "pairlist = []\n",
      "connections = defaultdict(list)\n",
      "userset = set()\n",
      "\n",
      "with open('linkedIn_links_clean.csv', 'rb') as csvfile:\n",
      "    allrows = csv.reader(csvfile, delimiter=',')\n",
      "    for row in allrows:\n",
      "        pairlist.append((row[0], row[1]))\n",
      "        connections[row[0]].append(row[1])\n",
      "        connections[row[1]].append(row[0])\n",
      "        userset.add(row[0])\n",
      "        userset.add(row[1])"
     ],
     "language": "python",
     "metadata": {},
     "outputs": [],
     "prompt_number": 11
    },
    {
     "cell_type": "markdown",
     "metadata": {},
     "source": [
      "###Page Rank Algorithm"
     ]
    },
    {
     "cell_type": "code",
     "collapsed": false,
     "input": [
      "pagerank = defaultdict(lambda: 1./len(userset)) #normalized values\n",
      "\n",
      "for iteration in xrange(0, 30):\n",
      "    newpagerank = defaultdict(lambda:0.)\n",
      "    for user in userset:\n",
      "        for connection in connections[user]:\n",
      "            newpagerank[user] += pagerank[connection] / len(connections[connection])\n",
      "        pagerank = newpagerank\n",
      "\n",
      "prs = sorted(pagerank.iteritems(), reverse=True, key=lambda (k,v): v)\n",
      "print prs[:10]"
     ],
     "language": "python",
     "metadata": {},
     "outputs": [
      {
       "output_type": "stream",
       "stream": "stdout",
       "text": [
        "[('joshua_chan', 1.7465909443448947e-34), ('yin_hwa_seah', 1.5228515133698006e-35), ('joyce_chee', 1.1464553407861314e-35), ('hui_zhi_jasmine_seah', 9.950036229421154e-36), ('ganesh_ramakrishnan', 8.78707913709515e-36), ('yong_ann_chan', 7.688162757085643e-36), ('arvind_ayyala', 6.955763904081629e-36), ('stephanie_tan', 6.783173324965345e-36), ('lauren_ooi', 6.744510613369173e-36), ('terence_law', 6.172882568188371e-36)]\n"
       ]
      }
     ],
     "prompt_number": 13
    },
    {
     "cell_type": "markdown",
     "metadata": {},
     "source": [
      "#NetworkX"
     ]
    },
    {
     "cell_type": "code",
     "collapsed": false,
     "input": [
      "%matplotlib inline\n",
      "import networkx as nx\n",
      "import matplotlib.pyplot as plt\n",
      "import matplotlib\n",
      "import math\n",
      "\n",
      "g = nx.Graph()\n",
      "\n",
      "remove_me = False\n",
      "\n",
      "for user in userset:\n",
      "    if remove_me & (user=='your_name'): continue\n",
      "    g.add_node(user)\n",
      " \n",
      "for user in userset:   \n",
      "    if remove_me & (user=='your_name'): continue\n",
      "    nconnec = 0\n",
      "    for connection in connections[user]:\n",
      "        if remove_me & (connection=='your_name'): continue\n",
      "        g.add_edge(user, connection, weight = 1)\n",
      "        nconnec+=1\n",
      "    if remove_me & (nconnec==0):\n",
      "        g.remove_node(user)\n",
      "    \n",
      "        \n",
      "pagerank_nx = nx.pagerank_scipy(g)        \n",
      "        \n",
      "color = [(min(pagerank_nx[n]*30.,1),min(pagerank_nx[n]*30.,1), min(pagerank_nx[n]*30.,1)) for n in pagerank_nx]\n",
      "pos = nx.spring_layout(g,  iterations=100)\n",
      "nx.draw_networkx_edges(g, pos, width=1, alpha=0.4)\n",
      "nx.draw_networkx_nodes(g, pos, node_color=color, node_size=100, alpha=1, linewidths =0.5)\n",
      "# lbls = nx.draw_networkx_labels(g, pos) \n",
      "\n",
      "plt.show()"
     ],
     "language": "python",
     "metadata": {},
     "outputs": [
      {
       "metadata": {},
       "output_type": "display_data",
       "png": "[encoded data removed]",
       "text": [
        "<matplotlib.figure.Figure at 0x109e9e650>"
       ]
      }
     ],
     "prompt_number": 21
    },
    {
     "cell_type": "code",
     "collapsed": false,
     "input": [
      "# checks whether we have the same, or similar, pageranks\n",
      "sorted_pr = sorted(pagerank_nx.iteritems(), reverse=True, key=lambda (k,v): v)\n",
      "print sorted_pr[:10]"
     ],
     "language": "python",
     "metadata": {},
     "outputs": [
      {
       "output_type": "stream",
       "stream": "stdout",
       "text": [
        "[('jens_thang', 0.10838456333786951), ('yin_hwa_seah', 0.011308797974143638), ('private_private', 0.011297126341049499), ('ganesh_ramakrishnan', 0.008484811756567854), ('elise_yee_ling_tan', 0.008033158952851161), ('eyram_tawia', 0.007213705230458008), ('junhan_wu', 0.0071118703660990185), ('nii_nai_naikwade', 0.00694588590468302), ('joshua_chan', 0.0065898502804455335), ('michael_ostique', 0.00641457690034568)]\n"
       ]
      }
     ],
     "prompt_number": 16
    },
    {
     "cell_type": "code",
     "collapsed": false,
     "input": [
      "# your number of connection\n",
      "print 'my degree is: ', g.degree('your_name'), '\\n'\n",
      "\n",
      "# diameter = maximum nb of edges between 2 nodes = always 2 in this case\n",
      "print 'the graph diameter is: ',nx.diameter(g), '\\n'\n",
      "\n",
      "#center : surprising ?\n",
      "print 'the center is: ',nx.center(g), '\\n'\n",
      "\n",
      "# number  of clique communities  of 5 nodes\n",
      "print 'there are ', len(list(nx.k_clique_communities(g, 5))),'clique communities\\n'\n",
      "\n",
      "\n",
      "# most influential ?\n",
      "print 'degree: ', g.degree(sorted_pr[2]),'\\n'"
     ],
     "language": "python",
     "metadata": {},
     "outputs": [
      {
       "output_type": "stream",
       "stream": "stdout",
       "text": [
        " my degree is:  {} \n",
        "\n",
        "the graph diameter is:  "
       ]
      },
      {
       "output_type": "stream",
       "stream": "stdout",
       "text": [
        "4 \n",
        "\n",
        "the center is:  "
       ]
      },
      {
       "output_type": "stream",
       "stream": "stdout",
       "text": [
        "['jens_thang'] \n",
        "\n",
        "there are  "
       ]
      },
      {
       "output_type": "stream",
       "stream": "stdout",
       "text": [
        "20 clique communities\n",
        "\n",
        "degree:  {'private_private': 55} \n",
        "\n"
       ]
      }
     ],
     "prompt_number": 19
    },
    {
     "cell_type": "code",
     "collapsed": false,
     "input": [],
     "language": "python",
     "metadata": {},
     "outputs": []
    }
   ],
   "metadata": {}
  }
 ]
}