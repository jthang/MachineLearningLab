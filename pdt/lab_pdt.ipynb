{
 "metadata": {
  "name": "",
  "signature": "sha256:7187b85292eb063f76f50210022593cfe8db37ec68d768d3bc99299702cb487f"
 },
 "nbformat": 3,
 "nbformat_minor": 0,
 "worksheets": [
  {
   "cells": [
    {
     "cell_type": "code",
     "collapsed": false,
     "input": [
      "%matplotlib inline\n",
      "import pandas as pd\n",
      "import numpy as np\n",
      "import matplotlib.pyplot as plt\n",
      "import seaborn as sns\n",
      "sns.set(style=\"white\")\n",
      "plt.rc(\"figure\", figsize=(10, 6))\n",
      "np.set_printoptions(precision=4)"
     ],
     "language": "python",
     "metadata": {},
     "outputs": []
    },
    {
     "cell_type": "markdown",
     "metadata": {},
     "source": [
      "### Loading Data"
     ]
    },
    {
     "cell_type": "code",
     "collapsed": false,
     "input": [
      "df = pd.read_csv('./data/pdt.csv')\n",
      "# df.head()\n",
      "df.describe()\n",
      "# df.info()"
     ],
     "language": "python",
     "metadata": {},
     "outputs": []
    },
    {
     "cell_type": "code",
     "collapsed": false,
     "input": [
      "# Select Columns\n",
      "\n",
      "# print df.columns[18]\n",
      "df.ix[:,11:20].head()"
     ],
     "language": "python",
     "metadata": {},
     "outputs": []
    },
    {
     "cell_type": "markdown",
     "metadata": {},
     "source": [
      "### Feature Engineering"
     ]
    },
    {
     "cell_type": "code",
     "collapsed": false,
     "input": [
      "# Discount Price\n",
      "\n",
      "df['special_price'] = df['special_price'] / 10000\n",
      "df['original_price'] = df['original_price'] / 10000\n",
      "df['disc_price'] = df['special_price']\n",
      "df.loc[df['disc_price'].isnull(), 'disc_price'] = df['original_price']\n",
      "df['disc_pct'] = (1 - (df['disc_price']/df['original_price'])) * 100\n",
      "\n",
      "# df[['original_price', 'disc_price', 'disc_pct']].head()\n",
      "df.disc_price.describe()"
     ],
     "language": "python",
     "metadata": {},
     "outputs": []
    },
    {
     "cell_type": "code",
     "collapsed": false,
     "input": [
      "# Calculate number of days products have launched\n",
      "\n",
      "from datetime import datetime\n",
      "now = datetime.now()\n",
      "\n",
      "df['activated_at'] = pd.to_datetime(df['activated_at'])\n",
      "df['days_launch'] = (now - df.activated_at).astype('timedelta64[D]')\n",
      "\n",
      "df[['activated_at', 'days_launch']].head()"
     ],
     "language": "python",
     "metadata": {},
     "outputs": []
    },
    {
     "cell_type": "code",
     "collapsed": false,
     "input": [
      "df['sale_change_1'] = (df.net_sale_count_last_30days - df.net_sale_count_last_7days) / (df.impressions_count_last_30days - df.impressions_count_last_7days)\n",
      "df['sale_change_2'] = (df.net_sale_count - df.net_sale_count_last_7days) / (df.impressions_count - df.impressions_count_last_7days)\n",
      "df.describe()"
     ],
     "language": "python",
     "metadata": {},
     "outputs": []
    },
    {
     "cell_type": "code",
     "collapsed": false,
     "input": [
      "df_1 = df.drop(df.ix[:,10:26], axis=1)\n",
      "df_1 = df_1.drop(df_1[['product_id', 'activated_at', 'special_price']], axis=1)\n",
      "print df_1.shape\n",
      "df_1.head(2)"
     ],
     "language": "python",
     "metadata": {},
     "outputs": []
    },
    {
     "cell_type": "markdown",
     "metadata": {},
     "source": [
      "### Exploratory Data Analysis"
     ]
    },
    {
     "cell_type": "code",
     "collapsed": false,
     "input": [
      "print \"No. of colors:\", df.colors.unique().shape[0]\n",
      "print \"No. of gender:\", df.gender.unique().shape[0]\n",
      "print \"No. of season_group:\", df.season_group.unique().shape[0]\n",
      "print \"No. of brands:\", df.brand.unique().shape[0]"
     ],
     "language": "python",
     "metadata": {},
     "outputs": []
    },
    {
     "cell_type": "code",
     "collapsed": false,
     "input": [
      "top_colors = df.colors.value_counts()\n",
      "top_colors[:10].plot(kind='barh', color=sns.color_palette(\"PuBu_d\"));"
     ],
     "language": "python",
     "metadata": {},
     "outputs": []
    },
    {
     "cell_type": "code",
     "collapsed": false,
     "input": [
      "data1 = df.stock\n",
      "data2 = df.colors[df.stock > 100]\n",
      "\n",
      "\n",
      "\n",
      "sns.boxplot(data1, data2, vert=False)\n",
      "sns.despine(left=True);"
     ],
     "language": "python",
     "metadata": {},
     "outputs": []
    },
    {
     "cell_type": "code",
     "collapsed": false,
     "input": [
      "data1 = df.stock #distribution\n",
      "data2 = df.colors[:20] #categorical\n",
      "\n",
      "sns.boxplot(data1, data2)\n",
      "sns.despine(left=True);"
     ],
     "language": "python",
     "metadata": {},
     "outputs": []
    },
    {
     "cell_type": "code",
     "collapsed": false,
     "input": [
      "data1 = \"gender\" #Categorical\n",
      "\n",
      "sns.factorplot(data1, data=df, palette=\"PuBu_d\");"
     ],
     "language": "python",
     "metadata": {},
     "outputs": []
    },
    {
     "cell_type": "code",
     "collapsed": false,
     "input": [
      "data = df_1.disc_price #continuous\n",
      "\n",
      "plt.hist(data, bins=250, color=\"#6495ED\", histtype=\"stepfilled\", alpha=.5)\n",
      "plt.xlabel(\"Price\")\n",
      "plt.ylabel(\"Frequency\")\n",
      "plt.xlim(0, 100)\n",
      "sns.despine();"
     ],
     "language": "python",
     "metadata": {},
     "outputs": []
    },
    {
     "cell_type": "code",
     "collapsed": false,
     "input": [
      "data1 = df_1.days_launch #Continuous\n",
      "\n",
      "plt.hist(data1, bins=20, color=\"#6495ED\", histtype=\"stepfilled\", normed=False, alpha=.5)\n",
      "plt.xlabel(\"Days Launched\")\n",
      "plt.ylabel(\"Frequency\")\n",
      "sns.despine();"
     ],
     "language": "python",
     "metadata": {},
     "outputs": []
    },
    {
     "cell_type": "code",
     "collapsed": false,
     "input": [
      "data = df.net_sale_count #continuous\n",
      "\n",
      "plt.hist(data1, bins=25, color=\"#6495ED\", histtype=\"stepfilled\", normed=False, alpha=.5)\n",
      "plt.xlabel(\"net_sale_count\")\n",
      "plt.ylabel(\"Frequency\")\n",
      "sns.despine();"
     ],
     "language": "python",
     "metadata": {},
     "outputs": []
    },
    {
     "cell_type": "code",
     "collapsed": false,
     "input": [
      "data1 = \"disc_price\" #continuous\n",
      "data2 = \"stock\" #continuous\n",
      "\n",
      "sns.jointplot(data1, data2, df, kind=\"reg\");"
     ],
     "language": "python",
     "metadata": {},
     "outputs": []
    },
    {
     "cell_type": "code",
     "collapsed": false,
     "input": [
      "f, ax = plt.subplots(figsize=(9, 9))\n",
      "sns.corrplot(df.ix[:,11:20].dropna(), ax=ax, cmap=\"PuRd\");"
     ],
     "language": "python",
     "metadata": {},
     "outputs": []
    }
   ],
   "metadata": {}
  }
 ]
}