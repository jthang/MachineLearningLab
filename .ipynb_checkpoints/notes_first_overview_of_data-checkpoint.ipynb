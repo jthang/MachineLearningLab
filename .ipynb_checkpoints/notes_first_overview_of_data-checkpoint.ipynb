{
 "metadata": {
  "name": "",
  "signature": "sha256:cde9426c89da742e089ee5b1ee5db23b18caa61f3e4f2644ef0785a9ee0b5f6b"
 },
 "nbformat": 3,
 "nbformat_minor": 0,
 "worksheets": [
  {
   "cells": [
    {
     "cell_type": "markdown",
     "metadata": {},
     "source": [
      "#Method for getting first overview of data"
     ]
    },
    {
     "cell_type": "markdown",
     "metadata": {},
     "source": [
      "1. Common Sense (some features make more sense then others)\n",
      "* Carefully read forums to get a peak at other peoples mindset\n",
      "* Visualizations\n",
      "* Train a classifier (e.g. logistic regression) and look at the feature weights\n",
      "* Train a decision tree and visualize it\n",
      "* Cluster the data, and look at what clusters you get out\n",
      "* Just look at the raw data (what kind of items get classified as evergreen)\n",
      "* Train a simple classifier, see what mistakes it makes\n",
      "* Write a classifier using handwritten rules (e.g. 'if recipe in title then evergreen')\n",
      "* Pick a fancy method that you want to apply (deep learning is good candidate)\n",
      "* Read relevant literature (google scholar, kaggle blog)\n",
      "* Think out the box"
     ]
    },
    {
     "cell_type": "markdown",
     "metadata": {},
     "source": [
      "- Continuous variables (range, mean, etc)\n",
      "- Categorical variables (histograms)\n",
      "- Plot each one against the dependent variable\n",
      "- Use simple logisitic regression as first cut\n",
      "- Look at example of things which are mis-classified"
     ]
    }
   ],
   "metadata": {}
  }
 ]
}