{
 "metadata": {
  "name": "",
  "signature": "sha256:5da60ccf274d0ec3861e5a31e7e6f7dec84cf74041c362a696e1b09ee7d6fe46"
 },
 "nbformat": 3,
 "nbformat_minor": 0,
 "worksheets": [
  {
   "cells": [
    {
     "cell_type": "markdown",
     "metadata": {},
     "source": [
      "#Predictive Modelling to Optimization"
     ]
    },
    {
     "cell_type": "markdown",
     "metadata": {},
     "source": [
      "###Steps for predictive modeling\n",
      "- Objective\n",
      "    - What do we want to show to viewers?\n",
      "- Levers\n",
      "- Data\n",
      "    - What data can we get?\n",
      "    - Data that tells us casuality, not correlation\n",
      "- Algorithms\n",
      "    - What predictive models can I build?\n",
      "    \n",
      "###Predictive Modeling\n",
      "- Modeller\n",
      "- Simulator - what is going to happen if we pull those levers?\n",
      "- Optimizer - more than just convex optimization\n",
      "\n",
      "###Marketing\n",
      "- Recommendation\n",
      "- What emails we send?\n",
      "- What to show clients we show on front page\n",
      "- Objective: \n",
      "    - maximize lifetime value\n",
      "- Levers: \n",
      "    - Recommendations, offers, discounts, care calls\n",
      "    - Let's run this offer, who would response\n",
      "    - When you sending emails\n",
      "- Data: What data can we collect?\n",
      "    - Randomized data to get casual relationships\n",
      "    - Pr(buy), Pr(like) => what customers might like and buy \n",
      "    - Surprise customers, delighting them\n",
      "    - How would you describe your shape? How would you say is important to you?\n",
      "    - Propensity to buy across products\n",
      "    - Free few chapters for review\n",
      "- Algorithms\n",
      "\n",
      "###Others\n",
      "- When is the next bus arriving?\n",
      "- Predicting travel flow, flightcast\n",
      "- Probabilty planes will be on time\n",
      "- Figure out what are the things we can do\n",
      "- Predictive model, how customers will react, who will buy\n",
      "- Build a search engine to tell you what you want\n",
      "- Optimization price"
     ]
    }
   ],
   "metadata": {}
  }
 ]
}