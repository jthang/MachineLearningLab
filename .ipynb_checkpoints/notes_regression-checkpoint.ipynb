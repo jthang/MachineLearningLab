{
 "metadata": {
  "name": "",
  "signature": "sha256:8aee0b41a2a8943b7edc03924f18e3a1c0817451105fcefdfc3b4e0f39546752"
 },
 "nbformat": 3,
 "nbformat_minor": 0,
 "worksheets": [
  {
   "cells": [
    {
     "cell_type": "markdown",
     "metadata": {},
     "source": [
      "2 important concepts\n",
      "- Bias Variance\n",
      "- Regression towards the mean\n",
      "\n",
      "Regression\n",
      "- Examples are everywhere, test scores, sports, etc\n",
      "- Regression-Paradox: correlation is symmetric\n",
      "- "
     ]
    }
   ],
   "metadata": {}
  }
 ]
}