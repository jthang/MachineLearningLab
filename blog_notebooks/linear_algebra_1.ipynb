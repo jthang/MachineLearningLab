{
 "metadata": {
  "name": "",
  "signature": "sha256:4de7c58ee48a110a22e23ade0f08ce56a412f9df09a3b331774ae065465a5281"
 },
 "nbformat": 3,
 "nbformat_minor": 0,
 "worksheets": [
  {
   "cells": [
    {
     "cell_type": "markdown",
     "metadata": {},
     "source": [
      "###Introduction\n",
      "\n",
      "Linear algebra is a great way for us to solve a system of equations. It can be used to describe mathematical problems in two dimensions, we can also extend many of the concepts to multi-dimensions. Linear algebra offers an elegant way of representing multi-dimensional mathematical reasonsing. Important concepts like matrices, vectors, subspaces, dimensionality, inverses, eigenvalue decompositions help us to understand multi-dimension concepts and visualize them."
     ]
    },
    {
     "cell_type": "markdown",
     "metadata": {},
     "source": [
      "###Basic Notations\n",
      "\n",
      "* $A \\in \\mathbb{r^{mxn}}$: **Matrix** with m rows and n columns\n",
      "* $x \\in \\mathbb{r^{n}}$: **Vector** with n entries (which can be rows or columns)\n",
      "\n",
      "Typically we will differentiate **Column vector** and **Row vector** like this:\n",
      "\n",
      "* $x \\in \\mathbb{r^{n}}$: Column vector with n rows and 1 column\n",
      "* $x^T \\in \\mathbb{r^{n}}$: Row vector with 1 rows and n columns\n",
      "\n",
      "To point to a specific element in a matrix we use the notation:\n",
      "\n",
      "* $a_{i,j}$ - ith row and jth column\n",
      "* $a_{j}$ - jth column\n",
      "* $a_{i}^T$ - ith row\n",
      "\n",
      "$A_{m,n} =\n",
      "\\begin{pmatrix}\n",
      "a_{1,1} & a_{1,2} & \\cdots & a_{1,n} \\\\\n",
      "a_{2,1} & a_{2,2} & \\cdots & a_{2,n} \\\\\n",
      "\\vdots  & \\vdots  & \\ddots & \\vdots  \\\\\n",
      "a_{m,1} & a_{m,2} & \\cdots & a_{m,n}\n",
      "\\end{pmatrix}$"
     ]
    },
    {
     "cell_type": "markdown",
     "metadata": {},
     "source": [
      "###Vector Operations"
     ]
    },
    {
     "cell_type": "code",
     "collapsed": false,
     "input": [
      "import numpy as np\n",
      "np.set_printoptions(precision=2)\n",
      "a = np.array([0, -1, 2, 3]).reshape((4,1))\n",
      "b = np.array([4, -2, 0, 5]).reshape((4,1))\n",
      "\n",
      "print \"Create vectors\"\n",
      "print \"--------------\"\n",
      "print \"a =\\n\", a , \"\\n\"\n",
      "print \"b =\\n\", b , \"\\n\"\n",
      "print \"c =\\n\", c , \"\\n\"\n",
      "print \"Addition\"\n",
      "print \"---------\"\n",
      "print \"a + b =\\n\", a + b , \"\\n\"\n",
      "print \"Subtraction\"\n",
      "print \"-----------\"\n",
      "print \"a - b =\\n\", a - b , \"\\n\"\n",
      "print \"b - a =\\n\", b - a , \"\\n\"\n",
      "print \"Scalar Multiplication\"\n",
      "print \"--------------\"\n",
      "print \"3 X a =\\n\", 3 * a , \"\\n\"\n",
      "print \"4(a) - 2(b) =\\n\", 4*a - 2*b , \"\\n\""
     ],
     "language": "python",
     "metadata": {},
     "outputs": [
      {
       "output_type": "stream",
       "stream": "stdout",
       "text": [
        "Create vectors\n",
        "--------------\n",
        "a =\n",
        "[[ 0]\n",
        " [-1]\n",
        " [ 2]\n",
        " [ 3]] \n",
        "\n",
        "b =\n",
        "[[ 4]\n",
        " [-2]\n",
        " [ 0]\n",
        " [ 5]] \n",
        "\n",
        "c =\n"
       ]
      },
      {
       "ename": "NameError",
       "evalue": "name 'c' is not defined",
       "output_type": "pyerr",
       "traceback": [
        "\u001b[0;31m---------------------------------------------------------------------------\u001b[0m\n\u001b[0;31mNameError\u001b[0m                                 Traceback (most recent call last)",
        "\u001b[0;32m<ipython-input-4-712811ac5687>\u001b[0m in \u001b[0;36m<module>\u001b[0;34m()\u001b[0m\n\u001b[1;32m      8\u001b[0m \u001b[0;32mprint\u001b[0m \u001b[0;34m\"a =\\n\"\u001b[0m\u001b[0;34m,\u001b[0m \u001b[0ma\u001b[0m \u001b[0;34m,\u001b[0m \u001b[0;34m\"\\n\"\u001b[0m\u001b[0;34m\u001b[0m\u001b[0m\n\u001b[1;32m      9\u001b[0m \u001b[0;32mprint\u001b[0m \u001b[0;34m\"b =\\n\"\u001b[0m\u001b[0;34m,\u001b[0m \u001b[0mb\u001b[0m \u001b[0;34m,\u001b[0m \u001b[0;34m\"\\n\"\u001b[0m\u001b[0;34m\u001b[0m\u001b[0m\n\u001b[0;32m---> 10\u001b[0;31m \u001b[0;32mprint\u001b[0m \u001b[0;34m\"c =\\n\"\u001b[0m\u001b[0;34m,\u001b[0m \u001b[0mc\u001b[0m \u001b[0;34m,\u001b[0m \u001b[0;34m\"\\n\"\u001b[0m\u001b[0;34m\u001b[0m\u001b[0m\n\u001b[0m\u001b[1;32m     11\u001b[0m \u001b[0;32mprint\u001b[0m \u001b[0;34m\"Addition\"\u001b[0m\u001b[0;34m\u001b[0m\u001b[0m\n\u001b[1;32m     12\u001b[0m \u001b[0;32mprint\u001b[0m \u001b[0;34m\"---------\"\u001b[0m\u001b[0;34m\u001b[0m\u001b[0m\n",
        "\u001b[0;31mNameError\u001b[0m: name 'c' is not defined"
       ]
      }
     ],
     "prompt_number": 4
    },
    {
     "cell_type": "markdown",
     "metadata": {},
     "source": [
      "###Matrix Basic Operations"
     ]
    },
    {
     "cell_type": "code",
     "collapsed": false,
     "input": [
      "A = np.array([[1, 2], \n",
      "              [3, 4]])\n",
      "\n",
      "B = np.array([[5, 6], \n",
      "              [7, 8]])\n",
      "\n",
      "print \"Create matrices A and B\"\n",
      "print \"----------------------\"\n",
      "print \"A =\\n\", A , \"\\n\"\n",
      "print \"B =\\n\", B , \"\\n\"\n",
      "print \"Addition\"\n",
      "print \"---------\"\n",
      "print \"A + B =\\n\", A + B , \"\\n\"\n",
      "print \"Subtraction\"\n",
      "print \"-----------\"\n",
      "print \"A - B =\\n\", A - B , \"\\n\"\n",
      "print \"B - A =\\n\", B - A , \"\\n\"\n",
      "print \"Scalar Multiplication\"\n",
      "print \"---------------------\"\n",
      "print \"3 X A =\\n\", 3 * A , \"\\n\""
     ],
     "language": "python",
     "metadata": {},
     "outputs": [
      {
       "output_type": "stream",
       "stream": "stdout",
       "text": [
        "Create matrices A and B\n",
        "----------------------\n",
        "A =\n",
        "[[1 2]\n",
        " [3 4]] \n",
        "\n",
        "B =\n",
        "[[5 6]\n",
        " [7 8]] \n",
        "\n",
        "Addition\n",
        "---------\n",
        "A + B =\n",
        "[[ 6  8]\n",
        " [10 12]] \n",
        "\n",
        "Subtraction\n",
        "-----------\n",
        "A - B =\n",
        "[[-4 -4]\n",
        " [-4 -4]] \n",
        "\n",
        "B - A =\n",
        "[[4 4]\n",
        " [4 4]] \n",
        "\n",
        "Scalar Multiplication\n",
        "---------------------\n",
        "3 X A =\n",
        "[[ 3  6]\n",
        " [ 9 12]] \n",
        "\n"
       ]
      }
     ],
     "prompt_number": 5
    },
    {
     "cell_type": "markdown",
     "metadata": {},
     "source": [
      "###Matrix Multiplication\n",
      "* Vector-Vector Products\n",
      "* Matrix-Vector Products\n",
      "* Matrix-Matrix Products"
     ]
    },
    {
     "cell_type": "code",
     "collapsed": false,
     "input": [
      "xT = np.array([3, 4, 5])\n",
      "x = xT[:, np.newaxis]\n",
      "yT = np.array([1, 2, 3])\n",
      "y = yT[:, np.newaxis]\n",
      "A = np.array([[2, 1, 4],\n",
      "             [3, 5, 6],\n",
      "             [4, 2, 7]])\n",
      "\n",
      "B = np.array([[1, 4, 3], \n",
      "              [8, 5, 4],\n",
      "              [3, 6, 2]])\n",
      "\n",
      "C = np.array([[2, 1, 5],\n",
      "              [8, 5, 5],\n",
      "              [2, 1, 2]])\n",
      "\n",
      "print \"Create matrices & vectors\"\n",
      "print \"-------------------------\"\n",
      "print \"Column Vector x =\\n\", x , \"\\n\"\n",
      "print \"Row Vector xT =\\n\", xT , \"\\n\"\n",
      "print \"Column Vector y =\\n\", y , \"\\n\"\n",
      "print \"Row Vector yT =\\n\", yT , \"\\n\"\n",
      "print \"Matrix A =\\n\", A , \"\\n\"\n",
      "print \"Matrix B =\\n\", B , \"\\n\"\n",
      "print \"Matrix C =\\n\", C , \"\\n\""
     ],
     "language": "python",
     "metadata": {},
     "outputs": [
      {
       "output_type": "stream",
       "stream": "stdout",
       "text": [
        "Create matrices & vectors\n",
        "-------------------------\n",
        "Column Vector x =\n",
        "[[3]\n",
        " [4]\n",
        " [5]] \n",
        "\n",
        "Row Vector xT =\n",
        "[3 4 5] \n",
        "\n",
        "Column Vector y =\n",
        "[[1]\n",
        " [2]\n",
        " [3]] \n",
        "\n",
        "Row Vector yT =\n",
        "[1 2 3] \n",
        "\n",
        "Matrix A =\n",
        "[[2 1 4]\n",
        " [3 5 6]\n",
        " [4 2 7]] \n",
        "\n",
        "Matrix B =\n",
        "[[1 4 3]\n",
        " [8 5 4]\n",
        " [3 6 2]] \n",
        "\n",
        "Matrix C =\n",
        "[[2 1 5]\n",
        " [8 5 5]\n",
        " [2 1 2]] \n",
        "\n"
       ]
      }
     ],
     "prompt_number": 6
    },
    {
     "cell_type": "markdown",
     "metadata": {},
     "source": [
      "###Vector-vector<br/>\n",
      "$x, y \\in \\mathbb{R^p} \\rightarrow \\mathbb{R}$ <br/>\n",
      "Inner Product: $x^Ty = \\sum_{i=1}^p x_iy_i$\n",
      "\n",
      "Outer Product: $xy^T =\n",
      "\\begin{pmatrix}\n",
      "x_1y_1 & x_1y_2 & \\cdots & x_1y_n \\\\\n",
      "x_2y_1 & x_2y_2 & \\cdots & x_2y_n \\\\\n",
      "\\vdots  & \\vdots  & \\ddots & \\vdots  \\\\\n",
      "x_my_1 & x_my_2 & \\cdots & x_m y_n \\\\\n",
      "\\end{pmatrix}$\n"
     ]
    },
    {
     "cell_type": "code",
     "collapsed": false,
     "input": [
      "print \"Inner Product\"\n",
      "print \"-------------\"\n",
      "print \"xT . y =\\n\", np.dot(xT, y) , \"\\n\"\n",
      "print \"Outer Product\"\n",
      "print \"-------------\"\n",
      "print \"x . yT =\\n\", np.outer(x, yT) , \"\\n\""
     ],
     "language": "python",
     "metadata": {},
     "outputs": [
      {
       "output_type": "stream",
       "stream": "stdout",
       "text": [
        "Inner Product\n",
        "-------------\n",
        "xT . y =\n",
        "[26] \n",
        "\n",
        "Outer Product\n",
        "-------------\n",
        "x . yT =\n",
        "[[ 3  6  9]\n",
        " [ 4  8 12]\n",
        " [ 5 10 15]] \n",
        "\n"
       ]
      }
     ],
     "prompt_number": 7
    },
    {
     "cell_type": "markdown",
     "metadata": {},
     "source": [
      "###Matrix-vector<br/>\n",
      "$x \\in \\mathbb{R^{n}}, M \\in \\mathbb{R^{mxn}} \\rightarrow \\mathbb{R^{n}}$"
     ]
    },
    {
     "cell_type": "code",
     "collapsed": false,
     "input": [
      "print \"A . x =\\n\", np.dot(A, x) , \"\\n\"\n",
      "print \"A . xT =\\n\", np.dot(A, xT) , \"\\n\"\n",
      "print \"xT . A =\\n\", np.dot(xT, A) , \"\\n\""
     ],
     "language": "python",
     "metadata": {},
     "outputs": [
      {
       "output_type": "stream",
       "stream": "stdout",
       "text": [
        "A . x =\n",
        "[[30]\n",
        " [59]\n",
        " [55]] \n",
        "\n",
        "A . xT =\n",
        "[30 59 55] \n",
        "\n",
        "xT . A =\n",
        "[38 33 71] \n",
        "\n"
       ]
      }
     ],
     "prompt_number": 8
    },
    {
     "cell_type": "markdown",
     "metadata": {},
     "source": [
      "###Matrix-Matrix\n",
      "$A \\in \\mathbb{R^{mxk}}, B \\in \\mathbb{R^{kxn}} \\rightarrow \\mathbb{R^{mxn}}$\n",
      "\n",
      "Note that no. of columns in A (k) must equal no. of rows in B (k). Otherwise, we get an error if we try to multiply them."
     ]
    },
    {
     "cell_type": "code",
     "collapsed": false,
     "input": [
      "print \"Matrix-Matrix\"\n",
      "print \"-------------\"\n",
      "print \"A . B =\\n\", np.dot(A, B) , \"\\n\"\n",
      "print \"Shape =\\n\", np.dot(A, B).shape , \"\\n\"\n",
      "print \"B . C =\\n\", np.dot(B, C) , \"\\n\"\n",
      "print \"Shape =\\n\", np.dot(B, C).shape , \"\\n\"\n",
      "print \"No. of columns NOT equal no. of Rows\"\n",
      "print \"-------------------------------------\"\n",
      "print \"A . C =\\n\", np.dot(A, C) , \"\\n\""
     ],
     "language": "python",
     "metadata": {},
     "outputs": [
      {
       "output_type": "stream",
       "stream": "stdout",
       "text": [
        "Matrix-Matrix\n",
        "-------------\n",
        "A . B =\n",
        "[[22 37 18]\n",
        " [61 73 41]\n",
        " [41 68 34]] \n",
        "\n",
        "Shape =\n",
        "(3, 3) \n",
        "\n",
        "B . C =\n",
        "[[40 24 31]\n",
        " [64 37 73]\n",
        " [58 35 49]] \n",
        "\n",
        "Shape =\n",
        "(3, 3) \n",
        "\n",
        "No. of columns NOT equal no. of Rows\n",
        "-------------------------------------\n",
        "A . C =\n",
        "[[20 11 23]\n",
        " [58 34 52]\n",
        " [38 21 44]] \n",
        "\n"
       ]
      }
     ],
     "prompt_number": 9
    },
    {
     "cell_type": "markdown",
     "metadata": {},
     "source": [
      "###Properties of Matrix multiplication\n",
      "* A(BC) = (AB)C (associative)\n",
      "* A(B+C) = AB + AC (distributive)\n",
      "* A X B $\\neq$ B X A (not commutative)"
     ]
    },
    {
     "cell_type": "code",
     "collapsed": false,
     "input": [
      "print \"Associative\"\n",
      "print \"-----------\"\n",
      "print \"(AB)C = A(BC)\\n\", np.dot(np.dot(A, B), C) == np.dot(A, np.dot(B, C)), \"\\n\"\n",
      "print \"Distributive\"\n",
      "print \"------------\"\n",
      "print \"A(B+C) = AB + AC\\n\", np.dot(A, B+C) == np.dot(A, B) + np.dot(A, C), \"\\n\"\n",
      "print \"Not Commutative\"\n",
      "print \"---------------\"\n",
      "print \"AB = BA \\n\", np.dot(A, B) == np.dot(B, A)  , \"\\n\""
     ],
     "language": "python",
     "metadata": {},
     "outputs": [
      {
       "output_type": "stream",
       "stream": "stdout",
       "text": [
        "Associative\n",
        "-----------\n",
        "(AB)C = A(BC)\n",
        "[[ True  True  True]\n",
        " [ True  True  True]\n",
        " [ True  True  True]] \n",
        "\n",
        "Distributive\n",
        "------------\n",
        "A(B+C) = AB + AC\n",
        "[[ True  True  True]\n",
        " [ True  True  True]\n",
        " [ True  True  True]] \n",
        "\n",
        "Not Commutative\n",
        "---------------\n",
        "AB = BA \n",
        "[[False False False]\n",
        " [False False False]\n",
        " [False False False]] \n",
        "\n"
       ]
      }
     ],
     "prompt_number": 10
    },
    {
     "cell_type": "markdown",
     "metadata": {},
     "source": [
      "###Identity matrix\n",
      "\n",
      "Property: <br/>\n",
      "-AI = A = IA"
     ]
    },
    {
     "cell_type": "code",
     "collapsed": false,
     "input": [
      "I = np.array([[1, 0, 0],\n",
      "             [0, 1, 0],\n",
      "             [0, 0, 1]])\n",
      "\n",
      "D = np.array([[-2, 0, 0],\n",
      "             [0, 3, 0],\n",
      "             [0, 0, 1]])\n",
      "\n",
      "print \"Identity Matrix\"\n",
      "print \"---------------\"\n",
      "print \"I =\\n\", I , \"\\n\"\n",
      "print \"AI = A = IA\"\n",
      "print \"----------\"\n",
      "print \"AI = A \\n\", np.dot(A, I) == A, \"\\n\"\n",
      "print \"IA = A \\n\", np.dot(I, A) == A, \"\\n\"\n",
      "print \"Diagonal Matrix\"\n",
      "print \"---------------\"\n",
      "print \"D =\\n\", D , \"\\n\""
     ],
     "language": "python",
     "metadata": {},
     "outputs": [
      {
       "output_type": "stream",
       "stream": "stdout",
       "text": [
        "Identity Matrix\n",
        "---------------\n",
        "I =\n",
        "[[1 0 0]\n",
        " [0 1 0]\n",
        " [0 0 1]] \n",
        "\n",
        "AI = A = IA\n",
        "----------\n",
        "AI = A \n",
        "[[ True  True  True]\n",
        " [ True  True  True]\n",
        " [ True  True  True]] \n",
        "\n",
        "IA = A \n",
        "[[ True  True  True]\n",
        " [ True  True  True]\n",
        " [ True  True  True]] \n",
        "\n",
        "Diagonal Matrix\n",
        "---------------\n",
        "D =\n",
        "[[-2  0  0]\n",
        " [ 0  3  0]\n",
        " [ 0  0  1]] \n",
        "\n"
       ]
      }
     ],
     "prompt_number": 11
    },
    {
     "cell_type": "markdown",
     "metadata": {},
     "source": [
      "###Transpose\n",
      "\n",
      "Transpose matrix is when all the rows and the columns swapped. It has the following properties:\n",
      "\n",
      "$(A^T)^T = A$ <br/>\n",
      "$(AB)^T = B^T A^T$ <br/>\n",
      "$(A+B)^T = A^T + B^T$ <br/>"
     ]
    },
    {
     "cell_type": "code",
     "collapsed": false,
     "input": [
      "print \"Transpose Matrix\"\n",
      "print \"----------------\"\n",
      "print \"A =\\n\", A, \"\\n\"\n",
      "print \"A.Transpose =\\n\", A.T, \"\\n\"\n",
      "print \"Property 1 =\\n\", np.transpose(np.transpose(A)) == A, \"\\n\"\n",
      "print \"Property 2 =\\n\", np.transpose(np.dot(A, B)) == np.dot(np.transpose(B), np.transpose(A)), \"\\n\"\n",
      "print \"Property 3 =\\n\", np.transpose(A + B) == np.transpose(A) + np.transpose(B), \"\\n\""
     ],
     "language": "python",
     "metadata": {},
     "outputs": [
      {
       "output_type": "stream",
       "stream": "stdout",
       "text": [
        "Transpose Matrix\n",
        "----------------\n",
        "A =\n",
        "[[2 1 4]\n",
        " [3 5 6]\n",
        " [4 2 7]] \n",
        "\n",
        "A.Transpose =\n",
        "[[2 3 4]\n",
        " [1 5 2]\n",
        " [4 6 7]] \n",
        "\n",
        "Property 1 =\n",
        "[[ True  True  True]\n",
        " [ True  True  True]\n",
        " [ True  True  True]] \n",
        "\n",
        "Property 2 =\n",
        "[[ True  True  True]\n",
        " [ True  True  True]\n",
        " [ True  True  True]] \n",
        "\n",
        "Property 3 =\n",
        "[[ True  True  True]\n",
        " [ True  True  True]\n",
        " [ True  True  True]] \n",
        "\n"
       ]
      }
     ],
     "prompt_number": 12
    },
    {
     "cell_type": "markdown",
     "metadata": {},
     "source": [
      "###Symmetric Matrix\n",
      "\n",
      "A square matrix is symmetric if $S = S^T$. \n",
      "It is said to be anti-symmetric if $S = -S^T$\n",
      "\n",
      "Any square matrix can be represented as a sum of a symmetric matrix and an anti-symmetric matrix such that:\n",
      "\n",
      "$A = \\frac{1}{2}(A + A^T) + \\frac{1}{2}(A + A^T)$"
     ]
    },
    {
     "cell_type": "code",
     "collapsed": false,
     "input": [
      "S = np.array([[1, 3, 2],\n",
      "             [3, 4, -1],\n",
      "             [2, -1, 5]])\n",
      "\n",
      "AS = np.array([[0, -3],\n",
      "             [3, 0],])\n",
      "\n",
      "print \"Symmetric Matrix\"\n",
      "print \"---------------\"\n",
      "print \"S = \\n\", S , \"\\n\"\n",
      "print \"S = S.T \\n\", S == S.T , \"\\n\"\n",
      "print \"Anti-Symmetric Matrix\"\n",
      "print \"---------------------\"\n",
      "print \"AS = \\n\", AS , \"\\n\"\n",
      "print \"AS = -AS.T \\n\", AS == -AS.T , \"\\n\"\n",
      "print \"Square Matrix as a sum of Symmetric and Anti-Symmetric Matrix\"\n",
      "print \"-------------------------------------------------------------\"\n",
      "print \"A = 0.5(A + A.T) + 0.5(A - A.T) \\n\", A == 0.5*(A + A.T) + 0.5*(A - A.T) , \"\\n\""
     ],
     "language": "python",
     "metadata": {},
     "outputs": [
      {
       "output_type": "stream",
       "stream": "stdout",
       "text": [
        "Symmetric Matrix\n",
        "---------------\n",
        "S = \n",
        "[[ 1  3  2]\n",
        " [ 3  4 -1]\n",
        " [ 2 -1  5]] \n",
        "\n",
        "S = S.T \n",
        "[[ True  True  True]\n",
        " [ True  True  True]\n",
        " [ True  True  True]] \n",
        "\n",
        "Anti-Symmetric Matrix\n",
        "---------------------\n",
        "AS = \n",
        "[[ 0 -3]\n",
        " [ 3  0]] \n",
        "\n",
        "AS = -AS.T \n",
        "[[ True  True]\n",
        " [ True  True]] \n",
        "\n",
        "Square Matrix as a sum of Symmetric and Anti-Symmetric Matrix\n",
        "-------------------------------------------------------------\n",
        "A = 0.5(A + A.T) + 0.5(A - A.T) \n",
        "[[ True  True  True]\n",
        " [ True  True  True]\n",
        " [ True  True  True]] \n",
        "\n"
       ]
      }
     ],
     "prompt_number": 13
    },
    {
     "cell_type": "markdown",
     "metadata": {},
     "source": [
      "###Trace of a Matrix\n",
      "\n",
      "The trace of a matrix is the sum of the diagonal elements in the matrix. There are various properties of the trace:\n",
      "\n",
      "* $tr(A) = tr(A^T)$ <br/>\n",
      "* $tr(A + B) = tr(A) + tr(B)$ <br/>\n",
      "* $tr(cA) = c tr(A)$ <br/>\n",
      "* If AB is square, $tr(AB) = tr(BA)$ <br/>\n",
      "* If ABC is square, $tr(ABC) = tr(BCA) = tr(CBA)$ ... etc<br/>"
     ]
    },
    {
     "cell_type": "code",
     "collapsed": false,
     "input": [
      "A = np.array([[2, 1, 4],\n",
      "             [3, 5, 6],\n",
      "             [4, 2, 7]])\n",
      "\n",
      "B = np.array([[1, 4, 3], \n",
      "              [8, 5, 4],\n",
      "              [3, 6, 2]])\n",
      "\n",
      "C = np.array([[2, 1, 5],\n",
      "              [8, 5, 5],\n",
      "              [2, 1, 2]])\n",
      "\n",
      "print \"Trace Matrix\"\n",
      "print \"------------\"\n",
      "print \"A =\\n\", A, \"\\n\"\n",
      "print \"tr(A) =\", np.trace(A) , \"\\n\"\n",
      "print \"Property 1 =\", np.trace(A) == np.trace(np.transpose(A))\n",
      "print \"Property 2 =\", np.trace(A + B) == np.trace(A) + np.trace(B)\n",
      "print \"Property 3 =\", np.trace(3*A) == 3*np.trace(A)\n",
      "print \"Property 4 =\", np.trace(np.dot(A,B)) == np.trace(np.dot(B,A))\n",
      "print \"Property 5 =\", np.trace(A.dot(B).dot(C)) == np.trace(B.dot(C).dot(A))"
     ],
     "language": "python",
     "metadata": {},
     "outputs": [
      {
       "output_type": "stream",
       "stream": "stdout",
       "text": [
        "Trace Matrix\n",
        "------------\n",
        "A =\n",
        "[[2 1 4]\n",
        " [3 5 6]\n",
        " [4 2 7]] \n",
        "\n",
        "tr(A) = 14 \n",
        "\n",
        "Property 1 = True\n",
        "Property 2 = True\n",
        "Property 3 = True\n",
        "Property 4 = True\n",
        "Property 5 = True\n"
       ]
      }
     ],
     "prompt_number": 11
    },
    {
     "cell_type": "markdown",
     "metadata": {},
     "source": [
      "###Norm of a Vector\n",
      "The Norm of a vector $\\| x \\|$ is the measure of length of vector. The most commonly used vector norm, often called \"the norm\" is the L2-norm, given by:\n",
      "\n",
      "$\\| x \\|_2 = \\sqrt{\\sum_{i=1}^{n} x_i^2}$\n",
      "\n",
      "Other common norms includes: <br/>\n",
      "\n",
      "$l_1$ norm:\n",
      "$\\| x \\|_1 = \\sum_{i=1}^{n} \\mid x_i \\mid$ <br/>\n",
      "$l_\\infty$ norm:\n",
      "$\\| x \\|_1 = \\max_i \\mid x_i \\mid$\n",
      "\n",
      "Useful Equation for length: $\\| x \\|_1^2 = \\vec{a}.\\vec{a}$ \n",
      "\n",
      "The norm of a vector has the following properties:\n",
      "\n",
      "* $\\mid x \\mid \\geq 0$ - non-negativity\n",
      "* $\\mid x \\mid  = 0 \\iff x = 0$ - definiteness\n",
      "* $\\mid kx \\mid  = \\mid k \\mid \\mid x \\mid$ - homogeneity\n",
      "* $\\mid x + y \\mid  \\leq \\mid x \\mid + \\mid y \\mid$ - triangle inequality"
     ]
    },
    {
     "cell_type": "code",
     "collapsed": false,
     "input": [
      "from numpy import linalg as LA\n",
      "\n",
      "x = np.array([0, -1, 2, 3]).reshape((4,1))\n",
      "y = np.array([3, -3, -5, 2]).reshape((4,1))\n",
      "\n",
      "print \"Norm Vector\"\n",
      "print \"-----------\"\n",
      "print \"A =\\n\", A, \"\\n\"\n",
      "print \"Property 1 =\", LA.norm(x) >= 0\n",
      "print \"Property 2 =\", LA.norm(np.array([0, 0, 0]).reshape((3,1))) == 0\n",
      "print \"Property 3 =\", LA.norm(-3 * x) == abs(-3) * LA.norm(x)\n",
      "print \"Property 4 =\", LA.norm(x + y) <= LA.norm(x) + LA.norm(y)"
     ],
     "language": "python",
     "metadata": {},
     "outputs": [
      {
       "output_type": "stream",
       "stream": "stdout",
       "text": [
        "Norm Vector\n",
        "-----------\n",
        "A =\n",
        "[[2 1 4]\n",
        " [3 5 6]\n",
        " [4 2 7]] \n",
        "\n",
        "Property 1 = True\n",
        "Property 2 = True\n",
        "Property 3 = True\n",
        "Property 4 = True\n"
       ]
      }
     ],
     "prompt_number": 12
    }
   ],
   "metadata": {}
  }
 ]
}