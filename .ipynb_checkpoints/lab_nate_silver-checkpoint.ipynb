{
 "metadata": {
  "name": "",
  "signature": "sha256:b2f8cea535f754327a537bc792cce93d5d071cfd0aca3afd8175a092986501b4"
 },
 "nbformat": 3,
 "nbformat_minor": 0,
 "worksheets": [
  {
   "cells": [
    {
     "cell_type": "code",
     "collapsed": false,
     "input": [
      "la"
     ],
     "language": "python",
     "metadata": {},
     "outputs": []
    }
   ],
   "metadata": {}
  }
 ]
}