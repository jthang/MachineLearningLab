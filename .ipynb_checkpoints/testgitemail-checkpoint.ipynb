{
 "metadata": {
  "name": "",
  "signature": "sha256:f544fdc5afe7e8f7fabe872cf6542ab2179f6d8bcf88b5adf5bba665158faf72"
 },
 "nbformat": 3,
 "nbformat_minor": 0,
 "worksheets": [
  {
   "cells": [
    {
     "cell_type": "code",
     "collapsed": false,
     "input": [
      "Test"
     ],
     "language": "python",
     "metadata": {},
     "outputs": []
    }
   ],
   "metadata": {}
  }
 ]
}