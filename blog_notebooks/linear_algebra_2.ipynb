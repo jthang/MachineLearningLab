{
 "metadata": {
  "name": "",
  "signature": "sha256:1d842386719f7a113340a96a941ee0ab9c8124632e056c296f1272599901365c"
 },
 "nbformat": 3,
 "nbformat_minor": 0,
 "worksheets": [
  {
   "cells": [
    {
     "cell_type": "markdown",
     "metadata": {},
     "source": [
      "###Linear Independence\n",
      "We say that a set of vectors is linearly independent when none of them can be represented by a linear combination of the other vectors. A linear combination refers to each vector being scaled by a constant or added together. Intuitively, there are no non-trivial relations between each vector in the set and hence are they independent of each other. 2 vectors are linearly independent if they do not lie on the line. \n",
      "\n",
      "More formally, we say that vectors $v_1, v_2,...v_n$ are linearly independent when we solve for the linear combination $c_1v_1 + c_2v_2 + ... + c_nv_n = 0$, the only solution is when $c_1, c_2 ... c_n = 0$. \n",
      "\n",
      "When one of the scalars is not zero, the vectors are linearly dependent. Some of the vectors are redundant and we can remove them.\n",
      "\n",
      "Sometimes we have a set of vectors and need to determine whether the vectors are linearly independent of each other. This is necessary to determine if vectors form a basis or how many independent equations are there. "
     ]
    },
    {
     "cell_type": "markdown",
     "metadata": {},
     "source": [
      "### Determinant Method\n",
      "\n",
      "Determinants are very useful for the analysis and solution for a system of linear equations. According to Cramer's rule, if the determinant of a system of linear equation is non-zero, it has a unique solution.\n",
      "\n",
      "The determinant of a matrix is used to tell if a square matrix is singular. If the determinant is zero, it is a singular matrix, and hence no solution exists. When there is no solution, we say that the vectors that form the column vectors of a matrix are not linearly independent.\n",
      "\n",
      "Vectors are linearly independent $\\iff$ determinant $\\neq$ 0\n",
      "\n",
      "A useful way to think about determinant is to think of it as a volume of a balloon shape in n-dimension space. For a 2-D space, if 2 vectors are linearly dependent, they do not contribute to the volume/area, hence the determinant will be zero.\n",
      "\n",
      "Determine if the following sets of vectors are linearly independent.\n",
      "\n",
      "$A=\n",
      "\\begin{bmatrix}\n",
      "2 \\\\\n",
      "5 \\\\\n",
      "3 \\\\\n",
      "\\end{bmatrix}\n",
      ",\n",
      "\\begin{bmatrix}\n",
      "1 \\\\\n",
      "-2 \\\\\n",
      "4 \\\\\n",
      "\\end{bmatrix}\n",
      ",\n",
      "\\begin{bmatrix}\n",
      "4 \\\\\n",
      "2 \\\\\n",
      "-3 \\\\\n",
      "\\end{bmatrix}$\n",
      "\n",
      "$B=\n",
      "\\begin{bmatrix}\n",
      "2 \\\\\n",
      "5 \\\\\n",
      "3 \\\\\n",
      "\\end{bmatrix}\n",
      ",\n",
      "\\begin{bmatrix}\n",
      "1 \\\\\n",
      "-2 \\\\\n",
      "4 \\\\\n",
      "\\end{bmatrix}\n",
      ",\n",
      "\\begin{bmatrix}\n",
      "3 \\\\\n",
      "3 \\\\\n",
      "7 \\\\\n",
      "\\end{bmatrix}$"
     ]
    },
    {
     "cell_type": "code",
     "collapsed": false,
     "input": [
      "import numpy as np\n",
      "np.set_printoptions(precision=2)\n",
      "\n",
      "Av1 = np.array([2, 5, 3]).reshape(3, 1)\n",
      "Av2 = np.array([1, -2, 4]).reshape(3, 1)\n",
      "Av3 = np.array([4, 2, -3]).reshape(3, 1)\n",
      "\n",
      "A = np.column_stack([Av1, Av2, Av3])\n",
      "\n",
      "print \"The determinant is:\", round(np.linalg.det(A))\n",
      "print \"Set A is linearly independent:\", round(np.linalg.det(A)) != 0\n",
      "\n",
      "Bv1 = np.array([2, 5, 3]).reshape(3, 1)\n",
      "Bv2 = np.array([1, -2, 4]).reshape(3, 1)\n",
      "Bv3 = np.array([3, 3, 7]).reshape(3, 1)\n",
      "\n",
      "B = np.column_stack([Bv1, Bv2, Bv3])\n",
      "\n",
      "print \"The determinant is:\", round(np.linalg.det(B))\n",
      "print \"Set B is linearly independent:\", round(np.linalg.det(B)) != 0"
     ],
     "language": "python",
     "metadata": {},
     "outputs": [
      {
       "output_type": "stream",
       "stream": "stdout",
       "text": [
        "The determinant is: 121.0\n",
        "Set A is linearly independent: True\n",
        "The determinant is: 0.0\n",
        "Set B is linearly independent: False\n"
       ]
      }
     ],
     "prompt_number": 105
    },
    {
     "cell_type": "markdown",
     "metadata": {},
     "source": [
      "We can see in Set B, vector C can can be represented as vector A and B. Therefore, it is not linearly independent."
     ]
    },
    {
     "cell_type": "markdown",
     "metadata": {},
     "source": [
      "###Rank\n",
      "\n",
      "Some basic definitions of ranks:\n",
      "* Column Rank - Max number of linearly independent columns in a matrix\n",
      "* Row Rank - Max number of linearly independent rows in a matrix\n",
      "\n",
      "For any matrix A, the column rank is equal to the row rank. There is generally no need to distinguish between them. A full rank is the rank that equal to the minimum of no. of columns or rows.\n",
      "\n",
      "Basic Properties of a Rank:\n",
      "* rank($A$) = rank($A^T$)\n",
      "* rank($AB$) $\\leq$ min(rank($A$), rank($B$))\n",
      "* rank($A + B$) $\\leq$ rank($A$) + rank($B$)"
     ]
    },
    {
     "cell_type": "code",
     "collapsed": false,
     "input": [
      "A = np.array([[2, 1, 4],\n",
      "             [3, 5, 6],\n",
      "             [4, 2, 7]])\n",
      "\n",
      "B = np.array([[4, 1, 3],\n",
      "             [2, 4, -2],\n",
      "             [4, 5, -1]])\n",
      "\n",
      "print \"Rank of A =\", np.linalg.matrix_rank(A)\n",
      "print \"Rank of B =\", np.linalg.matrix_rank(B)\n",
      "print \"Property 1 =\", np.linalg.matrix_rank(A) == np.linalg.matrix_rank(A).T\n",
      "print \"Property 2 =\", np.linalg.matrix_rank(np.dot(A,B)) <= min(np.linalg.matrix_rank(A), np.linalg.matrix_rank(B))\n",
      "print \"Property 3 =\", np.linalg.matrix_rank(A + B) <= np.linalg.matrix_rank(A) + np.linalg.matrix_rank(B)"
     ],
     "language": "python",
     "metadata": {},
     "outputs": [
      {
       "output_type": "stream",
       "stream": "stdout",
       "text": [
        "Rank of A = 3\n",
        "Rank of B = 2\n",
        "Property 1 = True\n",
        "Property 2 = True\n",
        "Property 3 = True\n"
       ]
      }
     ],
     "prompt_number": 106
    },
    {
     "cell_type": "markdown",
     "metadata": {},
     "source": [
      "Another way to compute the rank is to use the Singular Value Decomposition (SVD). \n",
      "\n",
      "Rank of the matrix = Number of non-zero singular values"
     ]
    },
    {
     "cell_type": "code",
     "collapsed": false,
     "input": [
      "u, s, v = np.linalg.svd(A)\n",
      "rankA = np.sum(s > 1e-12)\n",
      "print \"Rank of A =\", rankA\n",
      "\n",
      "u, s, v = np.linalg.svd(B)\n",
      "rankB = np.sum(s > 1e-12)\n",
      "print \"Rank of B =\", rankB"
     ],
     "language": "python",
     "metadata": {},
     "outputs": [
      {
       "output_type": "stream",
       "stream": "stdout",
       "text": [
        "Rank of A = 3\n",
        "Rank of B = 2\n"
       ]
      }
     ],
     "prompt_number": 107
    },
    {
     "cell_type": "markdown",
     "metadata": {},
     "source": [
      "###Inverse Matrix\n",
      "\n",
      "A square matrix (A) is invertible (non-singular) if there is a matrix ($A^{-1}$) which satisfy the following equation. We do a matrix inversion to find the matrix $A^{-1}$ which is known as the inverse matrix.\n",
      "\n",
      "$A A^{-1} = I = A^{-1} A$\n",
      "\n",
      "Basic properties of the inverse:\n",
      "* $(A^{-1})^{-1} = A$\n",
      "* $(AB)^{-1} = B^{-1}A^{-1}$\n",
      "* $(A^{-1})^T = (A^T)^{-1}$\n",
      "\n",
      "We need to be aware that the inverse matrix exists only if there is a unique solution. If the columns in A are linearly independent, there will be a $A^{-1}$."
     ]
    },
    {
     "cell_type": "code",
     "collapsed": false,
     "input": [
      "A = np.array([[2, 1, 4],\n",
      "             [3, 5, 6],\n",
      "             [4, 2, 7]])\n",
      "invA = np.linalg.inv(A)\n",
      "\n",
      "print \"Invertible (non-singular)\"\n",
      "print \"-------------------------\"\n",
      "print \"Inverse of A =\\n\", invA, \"\\n\"\n",
      "print \"No inverse (Singular)\"\n",
      "print \"---------------------\"\n",
      "B = np.array([[4, 1, 3],\n",
      "             [2, 4, -2],\n",
      "             [4, 5, -1]])\n",
      "# invA = np.linalg.inv(B)\n",
      "print \"If the columns are not linearly independent, \"\n",
      "print \"we will get an error if we run the code.\""
     ],
     "language": "python",
     "metadata": {},
     "outputs": [
      {
       "output_type": "stream",
       "stream": "stdout",
       "text": [
        "Invertible (non-singular)\n",
        "-------------------------\n",
        "Inverse of A =\n",
        "[[-3.29 -0.14  2.  ]\n",
        " [-0.43  0.29  0.  ]\n",
        " [ 2.    0.   -1.  ]] \n",
        "\n",
        "No inverse (Singular)\n",
        "---------------------\n",
        "If the columns are not linearly independent, \n",
        "we will get an error if we run the code.\n"
       ]
      }
     ],
     "prompt_number": 130
    },
    {
     "cell_type": "markdown",
     "metadata": {},
     "source": [
      "###Orthogonal Vectors\n",
      "\n",
      "Orthogonal has the same meaning for perpendicular. We know that when 2 vectors (X and Y) are orthogonal if their dot product $x^Ty = 0$. The vector is normalized when $\\|x\\|=1$. For a square matrix, it is orthogonal when all its columns are normalized and orthogonal (i.e orthonormal).\n",
      "\n",
      "###Span, Range, Nullspace\n",
      "\n",
      "Span of a set of vectors is the set of all linear combinations of the vector set. The range is of a matrix is the span of the columns of matrix A. Nullspace is the set of vectors that is equal to zero when mulitplied by A. The orthogonal complement of a subspace V is the set of vectors which are orthogonal to all vectors in V.\n",
      "\n",
      "Nullspace: $N(A) = {x \\in \\mathbb{R}^{n}: Ax = 0}$\n"
     ]
    }
   ],
   "metadata": {}
  }
 ]
}