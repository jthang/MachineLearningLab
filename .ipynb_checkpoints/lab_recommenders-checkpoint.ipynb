{
 "metadata": {
  "name": "",
  "signature": "sha256:5b2a88ce7e23e8aa67fd13cc315fe6ca50dcbf167e9561374e4b272aca9e448d"
 },
 "nbformat": 3,
 "nbformat_minor": 0,
 "worksheets": [
  {
   "cells": [
    {
     "cell_type": "markdown",
     "metadata": {},
     "source": [
      "#Recommendation Systems\n",
      "\n",
      "- Collaborative Filtering Systems\n",
      "- Either with users or items\n",
      "- Users express preferences towards certain items\n",
      "- CF relies on users' past behavior\n",
      "- 2 approaches to CF: \n",
      "    - Neighborhood - compute relationships between items and users\n",
      "    - Latent factor model - model of hidden factors which users and items are transformed into same space (generally more accurate recommenders)\n",
      "- Factor lead to more accurate recommenders due to the sparsity of the item-use matrix\n",
      "    - Most users rate barely 1 or 2 items\n",
      "    - More expressive and fit fewer parameters\n",
      "- However neighborhood is more intuitive and appeals to users\n",
      "- Most recommenders today: \n",
      "    - neighborhood CF + model-based CF + SVD based matrix factorization\n",
      "\n",
      "###User and Item based approaches\n",
      "- Before, it was user-user model - like-minded users\n",
      "- But users tend to rate very few items\n",
      "- Most recommenders rely on item-item approach\n",
      "- A rating is made by user on similar item - we use KNN\\\n",
      "\n",
      "###Steps\n",
      "- Create a database of item-item similarities\n",
      "- Predict rating a user will give an item they have not seen\n",
      "- Implement factor-based CF recommender using Bayesian (pool together similar users and restaurants)\n",
      "- Scale up the system using map reduce"
     ]
    },
    {
     "cell_type": "code",
     "collapsed": false,
     "input": [
      "%matplotlib inline\n",
      "from collections import defaultdict\n",
      "import json\n",
      "\n",
      "import numpy as np\n",
      "import scipy as sp\n",
      "import matplotlib.pyplot as plt\n",
      "import pandas as pd\n",
      "\n",
      "from matplotlib import rcParams\n",
      "import matplotlib.cm as cm\n",
      "import matplotlib as mpl\n",
      "\n",
      "rcParams['figure.figsize'] = (10, 6)\n",
      "plt.style.use('ggplot')\n",
      "colors = plt.rcParams['axes.color_cycle']\n",
      "\n",
      "#colorbrewer2 Dark2 qualitative color table\n",
      "dark2_colors = [(0.10588235294117647, 0.6196078431372549, 0.4666666666666667),\n",
      "                (0.8509803921568627, 0.37254901960784315, 0.00784313725490196),\n",
      "                (0.4588235294117647, 0.4392156862745098, 0.7019607843137254),\n",
      "                (0.9058823529411765, 0.1607843137254902, 0.5411764705882353),\n",
      "                (0.4, 0.6509803921568628, 0.11764705882352941),\n",
      "                (0.9019607843137255, 0.6705882352941176, 0.00784313725490196),\n",
      "                (0.6509803921568628, 0.4627450980392157, 0.11372549019607843)]\n",
      "\n",
      "# rcParams['figure.figsize'] = (10, 6)\n",
      "# rcParams['figure.dpi'] = 150\n",
      "# rcParams['axes.color_cycle'] = dark2_colors\n",
      "# rcParams['lines.linewidth'] = 2\n",
      "# rcParams['axes.facecolor'] = 'white'\n",
      "# rcParams['font.size'] = 14\n",
      "# rcParams['patch.edgecolor'] = 'white'\n",
      "# rcParams['patch.facecolor'] = dark2_colors[0]\n",
      "# rcParams['font.family'] = 'StixGeneral'"
     ],
     "language": "python",
     "metadata": {},
     "outputs": [],
     "prompt_number": 115
    },
    {
     "cell_type": "markdown",
     "metadata": {},
     "source": [
      "Baseline estimates: Account for systematic tendences of users who give higher ratings than others, and restarants which receive higher ratings\n",
      "\n",
      "Baseline estimate:\n",
      "\n",
      "$$ \\hat Y_{um}^{baseline} = \\hat \\mu + \\hat \\theta_{u0} + \\hat \\gamma_{m0} $$\n",
      "\n",
      "- $\\theta_{u0}$ - deviation/bias of user $u$ from $\\mu$ (intercept parameter)\n",
      "- $\\gamma_{m0}$ - deviation/bias of item $m$ from $\\mu$\n",
      " \n",
      "Replace them by their mean estimates:\n",
      "\n",
      "$$ \\hat Y^{baseline}_{um} = \\bar Y + (\\bar Y_u - \\bar Y) + (\\bar Y_m - \\bar Y)$$\n",
      "\n",
      "- $\\bar Y_u$ =  `user_avg`, the average of all a user $u$'s ratings\n",
      "- $\\bar Y_m$ = `business_avg`, the average of all ratings for a restaurant $m$\n",
      "- $\\bar Y$ is the average rating over all reviews.\n",
      "\n",
      "We can make an estimate of $Y_{um}$ as:\n",
      "\n",
      "$$ \\hat{Y_{um}} = \\hat Y_{um}^{baseline}\\, + \\,\\frac{\\sum\\limits_{j \\in S^{k}(m)} s_{mj} ( Y_{uj} - \\hat Y_{uj}^{baseline} )}{\\sum\\limits_{j \\in S^{k}(m)} s_{mj} } $$\n",
      "\n",
      "$s^{k}(m)$: $k$ neighbor items of item $m$ based on some pooling criterion, for example, those items which have been rated by user $u$.\n",
      "\n",
      "We will focus on using similar restaurants, or the item neighborhood.\n",
      "To do this, we compute a **similarity measure $s_{mj}$ between the $m$th and $j$th items.** This similarity might be measured via [cosine similarity](http://en.wikipedia.org/wiki/Cosine_similarity), [pearson co-efficient](http://en.wikipedia.org/wiki/Pearson_product-moment_correlation_coefficient) or using other distance based measures. Here we shall use the Pearson coefficient. This measures the tendency of users to rate items similarly. Since most ratings are unknown, it is computed on the \"common user support\" (`n_common`), which is the set of common raters of both items. "
     ]
    },
    {
     "cell_type": "code",
     "collapsed": false,
     "input": [
      "fulldf = pd.read_csv('data/yelpbigdf.csv')\n",
      "fulldf.head(2)"
     ],
     "language": "python",
     "metadata": {},
     "outputs": [
      {
       "html": [
        "<div style=\"max-height:1000px;max-width:1500px;overflow:auto;\">\n",
        "<table border=\"1\" class=\"dataframe\">\n",
        "  <thead>\n",
        "    <tr style=\"text-align: right;\">\n",
        "      <th></th>\n",
        "      <th>user_id</th>\n",
        "      <th>business_id</th>\n",
        "      <th>date</th>\n",
        "      <th>review_id</th>\n",
        "      <th>stars</th>\n",
        "      <th>usefulvotes_review</th>\n",
        "      <th>user_name</th>\n",
        "      <th>categories</th>\n",
        "      <th>biz_name</th>\n",
        "      <th>latitude</th>\n",
        "      <th>longitude</th>\n",
        "      <th>business_avg</th>\n",
        "      <th>business_review_count</th>\n",
        "      <th>user_avg</th>\n",
        "      <th>user_review_count</th>\n",
        "    </tr>\n",
        "  </thead>\n",
        "  <tbody>\n",
        "    <tr>\n",
        "      <th>0</th>\n",
        "      <td> rLtl8ZkDX5vH5nAx9C3q5Q</td>\n",
        "      <td> 9yKzy9PApeiPPOUJEtnvkg</td>\n",
        "      <td> 2011-01-26 00:00:00</td>\n",
        "      <td> fWKvX83p0-ka4JS3dc6E5A</td>\n",
        "      <td> 5</td>\n",
        "      <td> 5</td>\n",
        "      <td>    Jason</td>\n",
        "      <td> [Breakfast &amp; Brunch, Restaurants]</td>\n",
        "      <td> Morning Glory Cafe</td>\n",
        "      <td> 33.390792</td>\n",
        "      <td>-112.012504</td>\n",
        "      <td> 3.87156</td>\n",
        "      <td> 109</td>\n",
        "      <td> 3.796954</td>\n",
        "      <td> 197</td>\n",
        "    </tr>\n",
        "    <tr>\n",
        "      <th>1</th>\n",
        "      <td> SBbftLzfYYKItOMFwOTIJg</td>\n",
        "      <td> 9yKzy9PApeiPPOUJEtnvkg</td>\n",
        "      <td> 2008-05-04 00:00:00</td>\n",
        "      <td> DASdFe-g0BgfN9J2tanStg</td>\n",
        "      <td> 5</td>\n",
        "      <td> 1</td>\n",
        "      <td> Jennifer</td>\n",
        "      <td> [Breakfast &amp; Brunch, Restaurants]</td>\n",
        "      <td> Morning Glory Cafe</td>\n",
        "      <td> 33.390792</td>\n",
        "      <td>-112.012504</td>\n",
        "      <td> 3.87156</td>\n",
        "      <td> 109</td>\n",
        "      <td> 3.473684</td>\n",
        "      <td>  57</td>\n",
        "    </tr>\n",
        "  </tbody>\n",
        "</table>\n",
        "</div>"
       ],
       "metadata": {},
       "output_type": "pyout",
       "prompt_number": 100,
       "text": [
        "                  user_id             business_id                 date  \\\n",
        "0  rLtl8ZkDX5vH5nAx9C3q5Q  9yKzy9PApeiPPOUJEtnvkg  2011-01-26 00:00:00   \n",
        "1  SBbftLzfYYKItOMFwOTIJg  9yKzy9PApeiPPOUJEtnvkg  2008-05-04 00:00:00   \n",
        "\n",
        "                review_id  stars  usefulvotes_review user_name  \\\n",
        "0  fWKvX83p0-ka4JS3dc6E5A      5                   5     Jason   \n",
        "1  DASdFe-g0BgfN9J2tanStg      5                   1  Jennifer   \n",
        "\n",
        "                          categories            biz_name   latitude  \\\n",
        "0  [Breakfast & Brunch, Restaurants]  Morning Glory Cafe  33.390792   \n",
        "1  [Breakfast & Brunch, Restaurants]  Morning Glory Cafe  33.390792   \n",
        "\n",
        "    longitude  business_avg  business_review_count  user_avg  \\\n",
        "0 -112.012504       3.87156                    109  3.796954   \n",
        "1 -112.012504       3.87156                    109  3.473684   \n",
        "\n",
        "   user_review_count  \n",
        "0                197  \n",
        "1                 57  "
       ]
      }
     ],
     "prompt_number": 100
    },
    {
     "cell_type": "markdown",
     "metadata": {},
     "source": [
      "#Exploratory Data Analysis"
     ]
    },
    {
     "cell_type": "code",
     "collapsed": false,
     "input": [
      "reviews_per_user = fulldf.groupby('user_id').review_id.count()\n",
      "ax = reviews_per_user.hist(log=True, color=colors[1])\n",
      "plt.xlabel(\"Reviews per User\")\n",
      "plt.ylabel(\"Count\")\n"
     ],
     "language": "python",
     "metadata": {},
     "outputs": [
      {
       "metadata": {},
       "output_type": "pyout",
       "prompt_number": 117,
       "text": [
        "<matplotlib.text.Text at 0x17945d810>"
       ]
      },
      {
       "metadata": {},
       "output_type": "display_data",
       "png": "[encoded data removed]",
       "text": [
        "<matplotlib.figure.Figure at 0x1791373d0>"
       ]
      }
     ],
     "prompt_number": 117
    },
    {
     "cell_type": "code",
     "collapsed": false,
     "input": [
      "reviews_per_rest = fulldf.groupby('business_id').review_id.count()\n",
      "ax = reviews_per_rest.hist(bins=50, log=True)\n",
      "plt.xlabel(\"Reviews per Restaurant\")\n",
      "plt.ylabel(\"Count\")"
     ],
     "language": "python",
     "metadata": {},
     "outputs": [
      {
       "metadata": {},
       "output_type": "pyout",
       "prompt_number": 118,
       "text": [
        "<matplotlib.text.Text at 0x179813dd0>"
       ]
      },
      {
       "metadata": {},
       "output_type": "display_data",
       "png": "[encoded data removed]",
       "text": [
        "<matplotlib.figure.Figure at 0x1795033d0>"
       ]
      }
     ],
     "prompt_number": 118
    },
    {
     "cell_type": "code",
     "collapsed": false,
     "input": [
      "print \"Number of Reviews:\",fulldf.review_id.unique().shape[0]\n",
      "print \"Number of Users:\", fulldf.user_id.unique().shape[0]\n",
      "print \"Number of Businesses\", fulldf.business_id.unique().shape[0]"
     ],
     "language": "python",
     "metadata": {},
     "outputs": [
      {
       "output_type": "stream",
       "stream": "stdout",
       "text": [
        "Number of Reviews: 149319\n",
        "Number of Users: "
       ]
      },
      {
       "output_type": "stream",
       "stream": "stdout",
       "text": [
        "34789\n",
        "Number of Businesses 4503\n"
       ]
      }
     ],
     "prompt_number": 119
    },
    {
     "cell_type": "code",
     "collapsed": false,
     "input": [
      "#Average rating of reviews\n",
      "avg_star_count = fulldf.groupby('user_id').stars.mean()\n",
      "ax = avg_star_count.hist(bins=50, log=True)\n",
      "plt.xlabel(\"Average Rating Count\")\n",
      "plt.ylabel(\"Count\")"
     ],
     "language": "python",
     "metadata": {},
     "outputs": [
      {
       "metadata": {},
       "output_type": "pyout",
       "prompt_number": 120,
       "text": [
        "<matplotlib.text.Text at 0x179c28b90>"
       ]
      },
      {
       "metadata": {},
       "output_type": "display_data",
       "png": "[encoded data removed]",
       "text": [
        "<matplotlib.figure.Figure at 0x179893510>"
       ]
      }
     ],
     "prompt_number": 120
    },
    {
     "cell_type": "code",
     "collapsed": false,
     "input": [
      "_ = plt.hist(fulldf.stars, bins=5)\n",
      "plt.title(\"Star ratings over all reviews\");"
     ],
     "language": "python",
     "metadata": {},
     "outputs": [
      {
       "metadata": {},
       "output_type": "display_data",
       "png": "[encoded data removed]",
       "text": [
        "<matplotlib.figure.Figure at 0x107f12990>"
       ]
      }
     ],
     "prompt_number": 121
    },
    {
     "cell_type": "code",
     "collapsed": false,
     "input": [
      "def recompute_frame(ldf):\n",
      "    \"\"\"\n",
      "    takes a dataframe ldf, makes a copy of it, and returns the copy\n",
      "    with all averages and review counts recomputed\n",
      "    this is used when a frame is subsetted.\n",
      "    \"\"\"\n",
      "    ldfu=ldf.groupby('user_id')\n",
      "    ldfb=ldf.groupby('business_id')\n",
      "    user_avg=ldfu.stars.mean()\n",
      "    user_review_count=ldfu.review_id.count()\n",
      "    business_avg=ldfb.stars.mean()\n",
      "    business_review_count=ldfb.review_id.count()\n",
      "    nldf=ldf.copy()\n",
      "    nldf.set_index(['business_id'], inplace=True)\n",
      "    nldf['business_avg']=business_avg\n",
      "    nldf['business_review_count']=business_review_count\n",
      "    nldf.reset_index(inplace=True)\n",
      "    nldf.set_index(['user_id'], inplace=True)\n",
      "    nldf['user_avg']=user_avg\n",
      "    nldf['user_review_count']=user_review_count\n",
      "    nldf.reset_index(inplace=True)\n",
      "    return nldf"
     ],
     "language": "python",
     "metadata": {},
     "outputs": [],
     "prompt_number": 122
    },
    {
     "cell_type": "code",
     "collapsed": false,
     "input": [
      "#Extract smaller dataframe\n",
      "smalldf = fulldf[(fulldf.user_review_count > 60) & (fulldf.business_review_count > 150)]\n",
      "smalldf = recompute_frame(smalldf)\n",
      "\n",
      "print \"Number of Reviews:\",smalldf.review_id.unique().shape[0]\n",
      "print \"Number of Users:\", smalldf.user_id.unique().shape[0]\n",
      "print \"Number of Businesses\", smalldf.business_id.unique().shape[0]"
     ],
     "language": "python",
     "metadata": {},
     "outputs": [
      {
       "output_type": "stream",
       "stream": "stdout",
       "text": [
        "Number of Reviews: 6165\n",
        "Number of Users: 240\n",
        "Number of Businesses 172\n"
       ]
      }
     ],
     "prompt_number": 123
    },
    {
     "cell_type": "code",
     "collapsed": false,
     "input": [
      "reviews_per_user = smalldf.groupby('user_id').review_id.count()\n",
      "ax = reviews_per_user.hist(color=colors[1])\n",
      "plt.xlabel(\"Reviews per User\")\n",
      "plt.ylabel(\"Count\")\n",
      "plt.figure()\n",
      "\n",
      "reviews_per_rest = smalldf.groupby('business_id').review_id.count()\n",
      "ax = reviews_per_rest.hist(color=colors[3])\n",
      "plt.xlabel(\"Reviews per Restaurant\")\n",
      "plt.ylabel(\"Count\")"
     ],
     "language": "python",
     "metadata": {},
     "outputs": [
      {
       "metadata": {},
       "output_type": "pyout",
       "prompt_number": 129,
       "text": [
        "<matplotlib.text.Text at 0x17c4fa510>"
       ]
      },
      {
       "metadata": {},
       "output_type": "display_data",
       "png": "[encoded data removed]",
       "text": [
        "<matplotlib.figure.Figure at 0x17c1f63d0>"
       ]
      },
      {
       "metadata": {},
       "output_type": "display_data",
       "png": "[encoded data removed]",
       "text": [
        "<matplotlib.figure.Figure at 0x17c1f6450>"
       ]
      }
     ],
     "prompt_number": 129
    },
    {
     "cell_type": "code",
     "collapsed": false,
     "input": [
      "avg_review_user = smalldf.groupby('user_id').stars.mean()\n",
      "ax = avg_review_user.hist()\n",
      "plt.xlabel(\"Average User Rating\")\n",
      "plt.ylabel(\"Count\")\n",
      "plt.figure()\n",
      "\n",
      "avg_review_rest = smalldf.groupby('business_id').stars.mean()\n",
      "ax = avg_review_rest.hist()\n",
      "plt.xlabel(\"Average Resturant Rating\")\n",
      "plt.ylabel(\"Count\")\n",
      "plt.figure()"
     ],
     "language": "python",
     "metadata": {},
     "outputs": [
      {
       "metadata": {},
       "output_type": "pyout",
       "prompt_number": 130,
       "text": [
        "<matplotlib.figure.Figure at 0x11b3094d0>"
       ]
      },
      {
       "metadata": {},
       "output_type": "display_data",
       "png": "[encoded data removed]",
       "text": [
        "<matplotlib.figure.Figure at 0x17c5b9bd0>"
       ]
      },
      {
       "metadata": {},
       "output_type": "display_data",
       "png": "[encoded data removed]",
       "text": [
        "<matplotlib.figure.Figure at 0x12cce4890>"
       ]
      },
      {
       "metadata": {},
       "output_type": "display_data",
       "text": [
        "<matplotlib.figure.Figure at 0x11b3094d0>"
       ]
      }
     ],
     "prompt_number": 130
    },
    {
     "cell_type": "markdown",
     "metadata": {},
     "source": [
      "###Common Support\n",
      "- Common support - for each pair of restuarants, the number of people who reviewed both"
     ]
    },
    {
     "cell_type": "code",
     "collapsed": false,
     "input": [
      "restaurants = smalldf.business_id.unique()\n",
      "supports = []\n",
      "for i, rest1 in enumerate(restaurants):\n",
      "    for j, rest2 in enumerate(restaurants):\n",
      "        if i < j:\n",
      "            rest1_reviewers = smalldf[smalldf.business_id==rest1].user_id.unique()\n",
      "            rest2_reviewers = smalldf[smalldf.business_id==rest2].user_id.unique()\n",
      "            common_reviewers = set(rest1_reviewers).intersection(rest2_reviewers)\n",
      "            supports.append(len(common_reviewers))\n",
      "print \"Mean support is:\", np.mean(supports)\n",
      "plt.hist(supports);"
     ],
     "language": "python",
     "metadata": {},
     "outputs": [
      {
       "output_type": "stream",
       "stream": "stdout",
       "text": [
        "Mean support is: 6.84679722562\n"
       ]
      },
      {
       "metadata": {},
       "output_type": "display_data",
       "png": "[encoded data removed]",
       "text": [
        "<matplotlib.figure.Figure at 0x17ccf7490>"
       ]
      }
     ],
     "prompt_number": 131
    },
    {
     "cell_type": "markdown",
     "metadata": {},
     "source": [
      "Mean support < 10: No of people who review each pair of resturants is very low\n",
      "\n",
      "Challenge: User 1's rating of 4 is not the same as User 2's rating of 4. To resolve this, we must subtract the average rating of the user from the actual rating of the restaurants (almost like normalizing the ratings). We do this using Pearson.\n",
      "\n",
      "###Calculating Similarity (Pearson)"
     ]
    },
    {
     "cell_type": "code",
     "collapsed": false,
     "input": [
      "from scipy.stats.stats import pearsonr\n",
      "def pearson_sim(rest1_reviews, rest2_reviews, n_common):\n",
      "    if n_common == 0:\n",
      "        rho=0.\n",
      "    else:\n",
      "        diff1 = rest1_reviews['stars'] - rest1_reviews['user_avg']\n",
      "        diff2 = rest2_reviews['stars'] - rest2_reviews['user_avg']\n",
      "        rho = pearsonr(diff1, diff2)[0]\n",
      "    return rho"
     ],
     "language": "python",
     "metadata": {},
     "outputs": [],
     "prompt_number": 84
    },
    {
     "cell_type": "code",
     "collapsed": false,
     "input": [
      "def get_restaurant_reviews(restaurant_id, df, set_of_users):\n",
      "    mask = (df.user_id.isin(set_of_users)) & (df.business_id==restaurant_id)\n",
      "    reviews = df[mask]\n",
      "    reviews = reviews[reviews.user_id.duplicated()==False]\n",
      "    return reviews"
     ],
     "language": "python",
     "metadata": {},
     "outputs": [],
     "prompt_number": 86
    },
    {
     "cell_type": "markdown",
     "metadata": {},
     "source": [
      "1. For each pair of restaurants, get the set of reviewers who have reviewed the restaurant and compute the intersection\n",
      "2. Get the reviews of each restaurant made by these common reviewers\n",
      "3. Calculate the similarity \n",
      "4. Return the similarity"
     ]
    },
    {
     "cell_type": "code",
     "collapsed": false,
     "input": [
      "def calculate_similarity(rest1, rest2, df, similarity_func):\n",
      "    #Set of reviewers who have reviewed the pair\n",
      "    rest1_reviewers = df[df.business_id==rest1].user_id.unique()\n",
      "    rest2_reviewers = df[df.business_id==rest2].user_id.unique()\n",
      "    common_reviewers = set(rest1_reviewers).intersection(rest2_reviewers)\n",
      "    n_common = len(common_reviewers)\n",
      "    \n",
      "    #Get reviews of each restaurant made by common reviewer\n",
      "    rest1_reviews = get_restaurant_reviews(rest1, df, common_reviewers)\n",
      "    rest2_reviews = get_restaurant_reviews(rest2, df, common_reviewers)\n",
      "    \n",
      "    #Calculate the similarite fo the reviews\n",
      "    sim = similarity_func(rest1_reviews, rest2_reviews, n_common)\n",
      "    \n",
      "    #Return the similarity\n",
      "    if np.isnan(sim):\n",
      "        return 0, n_common\n",
      "    return sim, n_common"
     ],
     "language": "python",
     "metadata": {},
     "outputs": [],
     "prompt_number": 88
    },
    {
     "cell_type": "markdown",
     "metadata": {},
     "source": [
      "#Making a database of similarities\n",
      "- The method `populate_by_calculating` iterates over every possible pair of business_id's in the dataframe and populates the database with similarities and common supports. \n",
      "- It takes as arguments a function the similarity function `similarity_func` like `pearson_sim` (`calculate_similarity` then uses this to calculate the similarity). \n",
      "- The `get` method on the database can be used to retrieve the similarity for two business ids."
     ]
    },
    {
     "cell_type": "code",
     "collapsed": false,
     "input": [
      "class Database:\n",
      "    \"A class representing a database of similaries and common supports\"\n",
      "    \n",
      "    def __init__(self, df):\n",
      "        \"the constructor, takes a reviews dataframe like smalldf as its argument\"\n",
      "        database={}\n",
      "        self.df=df\n",
      "        self.uniquebizids={v:k for (k,v) in enumerate(df.business_id.unique())}\n",
      "        keys=self.uniquebizids.keys()\n",
      "        l_keys=len(keys)\n",
      "        self.database_sim=np.zeros([l_keys,l_keys])\n",
      "        self.database_sup=np.zeros([l_keys, l_keys], dtype=np.int)\n",
      "        \n",
      "    def populate_by_calculating(self, similarity_func):\n",
      "        \"\"\"\n",
      "        a populator for every pair of businesses in df. takes similarity_func like\n",
      "        pearson_sim as argument\n",
      "        \"\"\"\n",
      "        items=self.uniquebizids.items()\n",
      "        for b1, i1 in items:\n",
      "            for b2, i2 in items:\n",
      "                if i1 < i2:\n",
      "                    sim, nsup=calculate_similarity(b1, b2, self.df, similarity_func)\n",
      "                    self.database_sim[i1][i2]=sim\n",
      "                    self.database_sim[i2][i1]=sim\n",
      "                    self.database_sup[i1][i2]=nsup\n",
      "                    self.database_sup[i2][i1]=nsup\n",
      "                elif i1==i2:\n",
      "                    nsup=self.df[self.df.business_id==b1].user_id.count()\n",
      "                    self.database_sim[i1][i1]=1.\n",
      "                    self.database_sup[i1][i1]=nsup\n",
      "                    \n",
      "    def get(self, b1, b2):\n",
      "        \"returns a tuple of similarity,common_support given two business ids\"\n",
      "        sim=self.database_sim[self.uniquebizids[b1]][self.uniquebizids[b2]]\n",
      "        nsup=self.database_sup[self.uniquebizids[b1]][self.uniquebizids[b2]]\n",
      "        return (sim, nsup)"
     ],
     "language": "python",
     "metadata": {},
     "outputs": [],
     "prompt_number": 132
    },
    {
     "cell_type": "code",
     "collapsed": false,
     "input": [
      "db = Database(smalldf)\n",
      "db.populate_by_calculating(pearson_sim)"
     ],
     "language": "python",
     "metadata": {},
     "outputs": [],
     "prompt_number": 133
    },
    {
     "cell_type": "code",
     "collapsed": false,
     "input": [
      "db.get(\"z3yFuLVrmH-3RJruPEMYKw\", \"zruUQvFySeXyEd7_rQixBg\")"
     ],
     "language": "python",
     "metadata": {},
     "outputs": [
      {
       "metadata": {},
       "output_type": "pyout",
       "prompt_number": 134,
       "text": [
        "(0.39904554525734559, 7)"
       ]
      }
     ],
     "prompt_number": 134
    },
    {
     "cell_type": "code",
     "collapsed": false,
     "input": [
      "db.get(\"eIxSLxzIlfExI6vgAbn2JA\", \"mqQwChPNN4o4DhAzaGntIA\")"
     ],
     "language": "python",
     "metadata": {},
     "outputs": [
      {
       "metadata": {},
       "output_type": "pyout",
       "prompt_number": 139,
       "text": [
        "(0.80453162516522414, 4)"
       ]
      }
     ],
     "prompt_number": 139
    },
    {
     "cell_type": "markdown",
     "metadata": {},
     "source": [
      "#k-Nearest Restaurants (similarity)"
     ]
    },
    {
     "cell_type": "code",
     "collapsed": false,
     "input": [],
     "language": "python",
     "metadata": {},
     "outputs": []
    }
   ],
   "metadata": {}
  }
 ]
}