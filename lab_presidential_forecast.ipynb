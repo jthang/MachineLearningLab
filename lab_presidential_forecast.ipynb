{
 "metadata": {
  "name": "",
  "signature": "sha256:c09cf2f9beb493a7bab03bd1d6c57f515a4d997d363aa01fcda583fd3eece94d"
 },
 "nbformat": 3,
 "nbformat_minor": 0,
 "worksheets": [
  {
   "cells": [
    {
     "cell_type": "code",
     "collapsed": false,
     "input": [
      "%matplotlib inline \n",
      "\n",
      "from fnmatch import fnmatch\n",
      "\n",
      "import numpy as np\n",
      "import pandas as pd\n",
      "import matplotlib.pyplot as plt\n",
      "import requests\n",
      "from pattern import web\n",
      "\n",
      "\n",
      "# set some nicer defaults for matplotlib\n",
      "from matplotlib import rcParams\n",
      "\n",
      "#these colors come from colorbrewer2.org. Each is an RGB triplet\n",
      "dark2_colors = [(0.10588235294117647, 0.6196078431372549, 0.4666666666666667),\n",
      "                (0.8509803921568627, 0.37254901960784315, 0.00784313725490196),\n",
      "                (0.4588235294117647, 0.4392156862745098, 0.7019607843137254),\n",
      "                (0.9058823529411765, 0.1607843137254902, 0.5411764705882353),\n",
      "                (0.4, 0.6509803921568628, 0.11764705882352941),\n",
      "                (0.9019607843137255, 0.6705882352941176, 0.00784313725490196),\n",
      "                (0.6509803921568628, 0.4627450980392157, 0.11372549019607843),\n",
      "                (0.4, 0.4, 0.4)]\n",
      "\n",
      "rcParams['figure.figsize'] = (10, 6)\n",
      "rcParams['figure.dpi'] = 150\n",
      "rcParams['axes.color_cycle'] = dark2_colors\n",
      "rcParams['lines.linewidth'] = 2\n",
      "rcParams['axes.grid'] = True\n",
      "rcParams['axes.facecolor'] = '#eeeeee'\n",
      "rcParams['font.size'] = 14\n",
      "rcParams['patch.edgecolor'] = 'none'"
     ],
     "language": "python",
     "metadata": {},
     "outputs": [],
     "prompt_number": 1
    },
    {
     "cell_type": "code",
     "collapsed": false,
     "input": [
      "def get_poll_xml(poll_id):\n",
      "    url = \"http://charts.realclearpolitics.com/charts/1171.xml\" % int(poll_id)\n",
      "    return requests.get(url).text"
     ],
     "language": "python",
     "metadata": {},
     "outputs": [],
     "prompt_number": 2
    },
    {
     "cell_type": "code",
     "collapsed": false,
     "input": [
      "import re\n",
      "def _strip(s):\n",
      "    return re.sub(r'[\\W_]+', '', s)\n",
      "\n",
      "#dictionary that maps the graph title to a graph color\n",
      "#<graph gid=\"1\" color=\"#3B5998\" balloon_color=\"#3B5998\" title=\"Obama\">\n",
      "def plot_colors(xml):\n",
      "    dom = web.Element(xml)\n",
      "    result = {}\n",
      "    for graph in dom.by_tag('graph'):\n",
      "        title = _strip(graph.attributes['title'])\n",
      "        result[title] = graph.attribute['color']\n",
      "    return result"
     ],
     "language": "python",
     "metadata": {},
     "outputs": [],
     "prompt_number": 3
    },
    {
     "cell_type": "code",
     "collapsed": false,
     "input": [
      "#<series>\n",
      "#   <value xid=\"0\">2/01/2011</value>\n",
      "def rcp_poll_data(xml):\n",
      "    dom = web.Element(xml)\n",
      "    result = {}\n",
      "    dates = dom.by_tag('series')[0]\n",
      "    dates = {n.attributes['xid']: str(n.content) for n in dates.by_tag('value')}\n",
      "    \n",
      "    keys = dates.keys()\n",
      "    \n",
      "    "
     ],
     "language": "python",
     "metadata": {},
     "outputs": []
    }
   ],
   "metadata": {}
  }
 ]
}