{
 "metadata": {
  "name": "",
  "signature": "sha256:664ac290a0d48cad678d700f4b6eea76283bb53c7e8198b2eb171e5de61ca1a3"
 },
 "nbformat": 3,
 "nbformat_minor": 0,
 "worksheets": [
  {
   "cells": [
    {
     "cell_type": "markdown",
     "metadata": {},
     "source": [
      "#Monty Hall Simulation"
     ]
    },
    {
     "cell_type": "code",
     "collapsed": false,
     "input": [
      "import numpy as np\n",
      "\n",
      "#Random simulation of prizedoor to be door 0, 1, 2\n",
      "def simulate_prizedoor(nsim):\n",
      "    return np.random.randint(0, 3, (nsim))\n",
      "simulate_prizedoor(10)"
     ],
     "language": "python",
     "metadata": {},
     "outputs": [
      {
       "metadata": {},
       "output_type": "pyout",
       "prompt_number": 18,
       "text": [
        "array([0, 2, 1, 1, 2, 2, 2, 0, 1, 1])"
       ]
      }
     ],
     "prompt_number": 18
    },
    {
     "cell_type": "code",
     "collapsed": false,
     "input": [
      "#Random guesses which takes in a guess (array)\n",
      "def simulate_guess(nsim):\n",
      "    return np.zeros(nsim)\n",
      "simulate_guess(10)"
     ],
     "language": "python",
     "metadata": {},
     "outputs": [
      {
       "metadata": {},
       "output_type": "pyout",
       "prompt_number": 28,
       "text": [
        "array([ 0.,  0.,  0.,  0.,  0.,  0.,  0.,  0.,  0.,  0.])"
       ]
      }
     ],
     "prompt_number": 28
    },
    {
     "cell_type": "code",
     "collapsed": false,
     "input": [
      "#Random reveal a goat door not chosen by contestant\n",
      "def goat_door(prizedoors, guesses):\n",
      "    result = np.random.randint(0, 3, len(prizedoors))\n",
      "    while True:\n",
      "        #Host will not open the prizedoor or the contestant's guess\n",
      "        bad = (result == prizedoors) | (result == guesses)\n",
      "        if not bad.any():\n",
      "            return result\n",
      "        result[bad] = np.random.randint(0, 3, bad.sum())\n",
      "goat_door(np.array([0,1,2]), np.array([1,1,1]))"
     ],
     "language": "python",
     "metadata": {},
     "outputs": [
      {
       "metadata": {},
       "output_type": "pyout",
       "prompt_number": 16,
       "text": [
        "array([2, 2, 0])"
       ]
      }
     ],
     "prompt_number": 16
    },
    {
     "cell_type": "code",
     "collapsed": false,
     "input": [
      "#Having a switch guess strategy where "
     ],
     "language": "python",
     "metadata": {},
     "outputs": []
    }
   ],
   "metadata": {}
  }
 ]
}