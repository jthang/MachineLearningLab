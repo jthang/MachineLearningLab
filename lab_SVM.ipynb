{
 "metadata": {
  "name": "",
  "signature": "sha256:93bee2e68e4b77622f9b61c40c6b93cbe5a142e413af4c15f1145c9198cf0692"
 },
 "nbformat": 3,
 "nbformat_minor": 0,
 "worksheets": [
  {
   "cells": [
    {
     "cell_type": "markdown",
     "metadata": {},
     "source": [
      "#Support Vector Machines\n",
      "- Finds a plane (hyperplane) which separates the data of either class\n",
      "- Might have infinite number of planes or none\n",
      "- Choose one which maximizes the distance between the separating hyperplane and closest vectors"
     ]
    },
    {
     "cell_type": "code",
     "collapsed": false,
     "input": [],
     "language": "python",
     "metadata": {},
     "outputs": []
    }
   ],
   "metadata": {}
  }
 ]
}