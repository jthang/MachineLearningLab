{
 "metadata": {
  "name": "",
  "signature": "sha256:cccea8fd75223179d5b02b6eb9cf8f1afd411af6305eea18ccc3c2a4250c325a"
 },
 "nbformat": 3,
 "nbformat_minor": 0,
 "worksheets": [
  {
   "cells": [
    {
     "cell_type": "markdown",
     "metadata": {},
     "source": [
      "#From Predictive Modelling to Optimization"
     ]
    },
    {
     "cell_type": "markdown",
     "metadata": {},
     "source": [
      "###Steps for predictive modeling\n",
      "- Objective\n",
      "    - What do we want to show t\n",
      "- Levers\n",
      "- Data\n",
      "- Algorithms"
     ]
    }
   ],
   "metadata": {}
  }
 ]
}