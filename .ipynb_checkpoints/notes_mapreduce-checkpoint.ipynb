{
 "metadata": {
  "name": "",
  "signature": "sha256:cbe740b9f4270e58a1bd83797e66847f24747f0fcda3fe9b61cf2683eaa1ec43"
 },
 "nbformat": 3,
 "nbformat_minor": 0,
 "worksheets": [
  {
   "cells": [
    {
     "cell_type": "markdown",
     "metadata": {},
     "source": [
      "#Mapreduce"
     ]
    },
    {
     "cell_type": "markdown",
     "metadata": {},
     "source": [
      "- Opensource implementation - Hadoop\n",
      "- MrJob - Using Hadoop framework with Python\n",
      "- Every data is stored in key-value pair\n",
      "- Program the mappers and reducer\n",
      "- Hello World example - famous word count example\n",
      "- define mapper and reducer\n",
      "- "
     ]
    }
   ],
   "metadata": {}
  }
 ]
}