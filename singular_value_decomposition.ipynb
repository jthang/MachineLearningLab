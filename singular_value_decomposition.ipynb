{
 "metadata": {
  "name": "",
  "signature": "sha256:2526c274ae31accdf4983bccc1d9b304c166ed6d42b87b550006c8e47b28344a"
 },
 "nbformat": 3,
 "nbformat_minor": 0,
 "worksheets": [
  {
   "cells": [
    {
     "cell_type": "markdown",
     "metadata": {},
     "source": [
      "###Introduction\n",
      "\n"
     ]
    }
   ],
   "metadata": {}
  }
 ]
}