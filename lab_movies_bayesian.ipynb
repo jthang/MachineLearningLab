{
 "metadata": {
  "name": "",
  "signature": "sha256:cbcaf65ab5bd49a8797dcf852c6bd348c0a235682ef8fafe4a66dddfe5c8d969"
 },
 "nbformat": 3,
 "nbformat_minor": 0,
 "worksheets": [
  {
   "cells": [
    {
     "cell_type": "markdown",
     "metadata": {},
     "source": [
      "#Movie Reviews (Bayesian)\n",
      "\n",
      "###Summary\n",
      "- Download data from Rotten Tomato sites with web API\n",
      "- Function which fetches top 20 reviews for a movie\n",
      "- Function which fetches reviews for first 3000 movies\n",
      "- Explore the data, how many reviews, how many critics, how many movies, distribution of no. of reviews per reviewer\n",
      "- Sentiment Analysis - build prediction model (Naive Bayes) whether a review is fresh or rotten, depening on the text of the review\n",
      "    - Bag-of-words: Convert text into a long vector of numbers\n",
      "    - Using CountVectorizer to turn text into bag of words\n",
      "    - Spilt the data into training set and validation set\n",
      "    - Check if overfit (Training accuracy > Test accuracy)\n",
      "    - Model calibration (Calibration Plot)\n",
      "    > Being the respectable Bayesian that you are, you should always assess whether these probabilities are calibrated -- that is, whether a prediction made with a confidence of x% is correct approximately x% of the time.\n",
      "    - Cross validation - choosing good parameters by maximizing cross-validated log-likelihood\n",
      "- Interpretation - which words best predict a fresh or rotten review"
     ]
    },
    {
     "cell_type": "code",
     "collapsed": false,
     "input": [
      "%matplotlib inline\n",
      "import pandas as pd\n",
      "import numpy as np\n",
      "import matplotlib.pyplot as plt\n",
      "from matplotlib import rcParams\n",
      "\n",
      "pd.options.display.max_columns = 10 \n",
      "pd.options.display.width = 134\n",
      "pd.options.display.max_rows = 20\n",
      " \n",
      "rcParams['figure.figsize'] = (10, 6)\n",
      "plt.style.use('ggplot')\n",
      "colors = [\"#348ABD\", \"#A60628\", \"#7A68A6\", \"#467821\", \"#CF4457\", \"#188487\", \"#E24A33\"]"
     ],
     "language": "python",
     "metadata": {},
     "outputs": [],
     "prompt_number": 6
    },
    {
     "cell_type": "code",
     "collapsed": false,
     "input": [
      "api_key = 'YOUR KEY HERE'\n",
      "movie_id = '770672122'  # toy story 3\n",
      "url = 'http://api.rottentomatoes.com/api/public/v1.0/movies/%s/reviews.json' % movie_id\n",
      "\n",
      "#these are \"get parameters\"\n",
      "options = {'review_type': 'top_critic', 'page_limit': 20, 'page': 1, 'apikey': api_key}\n",
      "data = requests.get(url, params=options).text\n",
      "data = json.loads(data)  # load a json string into a collection of lists and dicts\n",
      "\n",
      "print json.dumps(data['reviews'][0], indent=2)  # dump an object into a json string"
     ],
     "language": "python",
     "metadata": {},
     "outputs": [
      {
       "ename": "NameError",
       "evalue": "name 'requests' is not defined",
       "output_type": "pyerr",
       "traceback": [
        "\u001b[0;31m---------------------------------------------------------------------------\u001b[0m\n\u001b[0;31mNameError\u001b[0m                                 Traceback (most recent call last)",
        "\u001b[0;32m<ipython-input-7-ce6a495e16f7>\u001b[0m in \u001b[0;36m<module>\u001b[0;34m()\u001b[0m\n\u001b[1;32m      5\u001b[0m \u001b[0;31m#these are \"get parameters\"\u001b[0m\u001b[0;34m\u001b[0m\u001b[0;34m\u001b[0m\u001b[0m\n\u001b[1;32m      6\u001b[0m \u001b[0moptions\u001b[0m \u001b[0;34m=\u001b[0m \u001b[0;34m{\u001b[0m\u001b[0;34m'review_type'\u001b[0m\u001b[0;34m:\u001b[0m \u001b[0;34m'top_critic'\u001b[0m\u001b[0;34m,\u001b[0m \u001b[0;34m'page_limit'\u001b[0m\u001b[0;34m:\u001b[0m \u001b[0;36m20\u001b[0m\u001b[0;34m,\u001b[0m \u001b[0;34m'page'\u001b[0m\u001b[0;34m:\u001b[0m \u001b[0;36m1\u001b[0m\u001b[0;34m,\u001b[0m \u001b[0;34m'apikey'\u001b[0m\u001b[0;34m:\u001b[0m \u001b[0mapi_key\u001b[0m\u001b[0;34m}\u001b[0m\u001b[0;34m\u001b[0m\u001b[0m\n\u001b[0;32m----> 7\u001b[0;31m \u001b[0mdata\u001b[0m \u001b[0;34m=\u001b[0m \u001b[0mrequests\u001b[0m\u001b[0;34m.\u001b[0m\u001b[0mget\u001b[0m\u001b[0;34m(\u001b[0m\u001b[0murl\u001b[0m\u001b[0;34m,\u001b[0m \u001b[0mparams\u001b[0m\u001b[0;34m=\u001b[0m\u001b[0moptions\u001b[0m\u001b[0;34m)\u001b[0m\u001b[0;34m.\u001b[0m\u001b[0mtext\u001b[0m\u001b[0;34m\u001b[0m\u001b[0m\n\u001b[0m\u001b[1;32m      8\u001b[0m \u001b[0mdata\u001b[0m \u001b[0;34m=\u001b[0m \u001b[0mjson\u001b[0m\u001b[0;34m.\u001b[0m\u001b[0mloads\u001b[0m\u001b[0;34m(\u001b[0m\u001b[0mdata\u001b[0m\u001b[0;34m)\u001b[0m  \u001b[0;31m# load a json string into a collection of lists and dicts\u001b[0m\u001b[0;34m\u001b[0m\u001b[0m\n\u001b[1;32m      9\u001b[0m \u001b[0;34m\u001b[0m\u001b[0m\n",
        "\u001b[0;31mNameError\u001b[0m: name 'requests' is not defined"
       ]
      }
     ],
     "prompt_number": 7
    },
    {
     "cell_type": "markdown",
     "metadata": {},
     "source": [
      "#Getting the Data"
     ]
    },
    {
     "cell_type": "code",
     "collapsed": false,
     "input": [
      "\"\"\"\n",
      "Function\n",
      "--------\n",
      "fetch_reviews(movies, row)\n",
      "\n",
      "Use the Rotten Tomatoes web API to fetch reviews for a particular movie\n",
      "\n",
      "Parameters\n",
      "----------\n",
      "movies : DataFrame \n",
      "  The movies data above\n",
      "row : int\n",
      "  The row of the movies DataFrame to use\n",
      "  \n",
      "Returns\n",
      "-------\n",
      "If you can match the IMDB id to a Rotten Tomatoes ID:\n",
      "  A DataFrame, containing the first 20 Top Critic reviews \n",
      "  for the movie. If a movie has less than 20 total reviews, return them all.\n",
      "  This should have the following columns:\n",
      "    critic : Name of the critic\n",
      "    fresh  : 'fresh' or 'rotten'\n",
      "    imdb   : IMDB id for the movie\n",
      "    publication: Publication that the critic writes for\n",
      "    quote  : string containing the movie review quote\n",
      "    review_data: Date of review\n",
      "    rtid   : Rotten Tomatoes ID for the movie\n",
      "    title  : Name of the movie\n",
      "    \n",
      "If you cannot match the IMDB id to a Rotten Tomatoes ID, return None\n",
      "\n",
      "Examples\n",
      "--------\n",
      ">>> reviews = fetch_reviews(movies, 0)\n",
      ">>> print len(reviews)\n",
      "20\n",
      ">>> print reviews.irow(1)\n",
      "critic                                               Derek Adams\n",
      "fresh                                                      fresh\n",
      "imdb                                                      114709\n",
      "publication                                             Time Out\n",
      "quote          So ingenious in concept, design and execution ...\n",
      "review_date                                           2009-10-04\n",
      "rtid                                                        9559\n",
      "title                                                  Toy story\n",
      "Name: 1, dtype: object\n",
      "\"\"\"\n",
      "#your code here\n",
      "def base_url():\n",
      "    return 'http://api.rottentomatoes.com/api/public/v1.0/'\n",
      "\n",
      "def rt_id_by_imdb(imdb):\n",
      "    \"\"\"\n",
      "    Queries the RT movie_alias API. Returns the RT id associated with an IMDB ID,\n",
      "    or raises a KeyError if no match was found\n",
      "    \"\"\"\n",
      "    url = base_url() + 'movie_alias.json'\n",
      "    \n",
      "    imdb = \"%7.7i\" % imdb\n",
      "    params = dict(id=imdb, type='imdb', apikey=api_key)\n",
      "    \n",
      "    r = requests.get(url, params=params).text\n",
      "    r = json.loads(r)\n",
      "    \n",
      "    return r['id']\n",
      "\n",
      "\n",
      "def _imdb_review(imdb):\n",
      "    \"\"\"\n",
      "    Query the RT reviews API, to return the first page of reviews \n",
      "    for a movie specified by its IMDB ID\n",
      "    \n",
      "    Returns a list of dicts\n",
      "    \"\"\"    \n",
      "    rtid = rt_id_by_imdb(imdb)\n",
      "    url = base_url() + 'movies/{0}/reviews.json'.format(rtid)\n",
      "\n",
      "    params = dict(review_type='top_critic',\n",
      "                  page_limit=20,\n",
      "                  page=1,\n",
      "                  country='us',\n",
      "                  apikey=api_key)\n",
      "    data = json.loads(requests.get(url, params=params).text)\n",
      "    data = data['reviews']\n",
      "    data = [dict(fresh=r['freshness'], \n",
      "                 quote=r['quote'], \n",
      "                 critic=r['critic'], \n",
      "                 publication=r['publication'], \n",
      "                 review_date=r['date'],\n",
      "                 imdb=imdb, rtid=rtid\n",
      "                 ) for r in data]\n",
      "    return data\n",
      "\n",
      "def fetch_reviews(movies, row):\n",
      "    m = movies.irow(row)\n",
      "    try:\n",
      "        result = pd.DataFrame(_imdb_review(m['imdbID']))\n",
      "        result['title'] = m['title']\n",
      "    except KeyError:\n",
      "        return None\n",
      "    return result"
     ],
     "language": "python",
     "metadata": {},
     "outputs": []
    },
    {
     "cell_type": "code",
     "collapsed": false,
     "input": [
      "movies = pd.read_csv('data/movies.dat', delimiter='\\t')\n",
      "movies.head()"
     ],
     "language": "python",
     "metadata": {},
     "outputs": []
    },
    {
     "cell_type": "code",
     "collapsed": false,
     "input": [
      "movies[['id', 'title', 'imdbID', 'year']].loc[0]"
     ],
     "language": "python",
     "metadata": {},
     "outputs": []
    },
    {
     "cell_type": "code",
     "collapsed": false,
     "input": [
      "critics = pd.read_csv('data/critics.csv')\n",
      "critics = critics[~critics.quote.isnull()]\n",
      "critics.columns"
     ],
     "language": "python",
     "metadata": {},
     "outputs": [
      {
       "metadata": {},
       "output_type": "pyout",
       "prompt_number": 8,
       "text": [
        "Index([u'critic', u'date', u'fresh', u'imdb', u'original_score', u'publication', u'quote', u'review_date', u'rt_id', u'title'], dtype='object')"
       ]
      }
     ],
     "prompt_number": 8
    },
    {
     "cell_type": "markdown",
     "metadata": {},
     "source": [
      "#Exploratory Data Analysis"
     ]
    },
    {
     "cell_type": "code",
     "collapsed": false,
     "input": [
      "n_reviews = len(critics)\n",
      "n_movies = critics.rt_id.unique().size\n",
      "n_critics = critics.critic.unique().size\n",
      "\n",
      "print \"Number of reviews: %i\" % n_reviews\n",
      "print \"Number of critics: %i\" % n_critics\n",
      "print \"Number of movies:  %i\" % n_movies"
     ],
     "language": "python",
     "metadata": {},
     "outputs": [
      {
       "output_type": "stream",
       "stream": "stdout",
       "text": [
        "Number of reviews: 15610\n",
        "Number of critics: 622\n",
        "Number of movies:  1931\n"
       ]
      }
     ],
     "prompt_number": 9
    },
    {
     "cell_type": "code",
     "collapsed": false,
     "input": [
      "critics.groupby(by='critic').critic.count().hist(bins=range(20), color='k')\n",
      "plt.xlabel(\"Number of reviews per critic\")\n",
      "plt.ylabel(\"N\")"
     ],
     "language": "python",
     "metadata": {},
     "outputs": [
      {
       "metadata": {},
       "output_type": "pyout",
       "prompt_number": 10,
       "text": [
        "<matplotlib.text.Text at 0x10a4103d0>"
       ]
      },
      {
       "metadata": {},
       "output_type": "display_data",
       "png": "[encoded data removed]",
       "text": [
        "<matplotlib.figure.Figure at 0x10a37d990>"
       ]
      }
     ],
     "prompt_number": 10
    },
    {
     "cell_type": "code",
     "collapsed": false,
     "input": [
      "grouped = critics.groupby(['critic', 'publication'])\n",
      "counts = grouped.critic.count()\n",
      "counts_sort = counts.sort(ascending=False)\n",
      "counts[:10]"
     ],
     "language": "python",
     "metadata": {},
     "outputs": [
      {
       "metadata": {},
       "output_type": "pyout",
       "prompt_number": 11,
       "text": [
        "critic              publication            \n",
        "Roger Ebert         Chicago Sun-Times          1078\n",
        "James Berardinelli  ReelViews                   806\n",
        "Janet Maslin        New York Times              519\n",
        "Variety Staff       Variety                     434\n",
        "Jonathan Rosenbaum  Chicago Reader              414\n",
        "Desson Thomson      Washington Post             391\n",
        "Geoff Andrew        Time Out                    350\n",
        "Dave Kehr           Chicago Reader              303\n",
        "Kenneth Turan       Los Angeles Times           281\n",
        "Mick LaSalle        San Francisco Chronicle     273\n",
        "Name: critic, dtype: int64"
       ]
      }
     ],
     "prompt_number": 11
    },
    {
     "cell_type": "code",
     "collapsed": false,
     "input": [
      "grouped = critics.groupby('critic')\n",
      "counts = grouped.critic.count()\n",
      "counts_sort = counts.sort(ascending=False)\n",
      "counts[:10]"
     ],
     "language": "python",
     "metadata": {},
     "outputs": [
      {
       "metadata": {},
       "output_type": "pyout",
       "prompt_number": 12,
       "text": [
        "critic\n",
        "Roger Ebert           1138\n",
        "James Berardinelli     806\n",
        "Janet Maslin           519\n",
        "Variety Staff          434\n",
        "Jonathan Rosenbaum     414\n",
        "Desson Thomson         391\n",
        "Geoff Andrew           350\n",
        "Dave Kehr              341\n",
        "Kenneth Turan          281\n",
        "Mick LaSalle           273\n",
        "Name: critic, dtype: int64"
       ]
      }
     ],
     "prompt_number": 12
    },
    {
     "cell_type": "code",
     "collapsed": false,
     "input": [
      "critics[:3]"
     ],
     "language": "python",
     "metadata": {},
     "outputs": [
      {
       "html": [
        "<div style=\"max-height:1000px;max-width:1500px;overflow:auto;\">\n",
        "<table border=\"1\" class=\"dataframe\">\n",
        "  <thead>\n",
        "    <tr style=\"text-align: right;\">\n",
        "      <th></th>\n",
        "      <th>critic</th>\n",
        "      <th>date</th>\n",
        "      <th>fresh</th>\n",
        "      <th>imdb</th>\n",
        "      <th>original_score</th>\n",
        "      <th>publication</th>\n",
        "      <th>quote</th>\n",
        "      <th>review_date</th>\n",
        "      <th>rt_id</th>\n",
        "      <th>title</th>\n",
        "    </tr>\n",
        "  </thead>\n",
        "  <tbody>\n",
        "    <tr>\n",
        "      <th>0</th>\n",
        "      <td>     Derek Adams</td>\n",
        "      <td> 2009-10-04</td>\n",
        "      <td> fresh</td>\n",
        "      <td> 114709</td>\n",
        "      <td> 5/5</td>\n",
        "      <td>      Time Out</td>\n",
        "      <td> So ingenious in concept, design and execution ...</td>\n",
        "      <td> http://www.timeout.com/film/reviews/87745/toy-...</td>\n",
        "      <td> 9559</td>\n",
        "      <td> Toy Story</td>\n",
        "    </tr>\n",
        "    <tr>\n",
        "      <th>1</th>\n",
        "      <td> Richard Corliss</td>\n",
        "      <td> 2008-08-31</td>\n",
        "      <td> fresh</td>\n",
        "      <td> 114709</td>\n",
        "      <td> NaN</td>\n",
        "      <td> TIME Magazine</td>\n",
        "      <td>                 The year's most inventive comedy.</td>\n",
        "      <td> http://www.time.com/time/magazine/article/0,91...</td>\n",
        "      <td> 9559</td>\n",
        "      <td> Toy Story</td>\n",
        "    </tr>\n",
        "    <tr>\n",
        "      <th>2</th>\n",
        "      <td>     David Ansen</td>\n",
        "      <td> 2008-08-18</td>\n",
        "      <td> fresh</td>\n",
        "      <td> 114709</td>\n",
        "      <td> NaN</td>\n",
        "      <td>      Newsweek</td>\n",
        "      <td> A winning animated feature that has something ...</td>\n",
        "      <td>                 http://www.newsweek.com/id/104199</td>\n",
        "      <td> 9559</td>\n",
        "      <td> Toy Story</td>\n",
        "    </tr>\n",
        "  </tbody>\n",
        "</table>\n",
        "</div>"
       ],
       "metadata": {},
       "output_type": "pyout",
       "prompt_number": 13,
       "text": [
        "            critic        date  fresh    imdb original_score    publication                                              quote  \\\n",
        "0      Derek Adams  2009-10-04  fresh  114709            5/5       Time Out  So ingenious in concept, design and execution ...   \n",
        "1  Richard Corliss  2008-08-31  fresh  114709            NaN  TIME Magazine                  The year's most inventive comedy.   \n",
        "2      David Ansen  2008-08-18  fresh  114709            NaN       Newsweek  A winning animated feature that has something ...   \n",
        "\n",
        "                                         review_date  rt_id      title  \n",
        "0  http://www.timeout.com/film/reviews/87745/toy-...   9559  Toy Story  \n",
        "1  http://www.time.com/time/magazine/article/0,91...   9559  Toy Story  \n",
        "2                  http://www.newsweek.com/id/104199   9559  Toy Story  "
       ]
      }
     ],
     "prompt_number": 13
    },
    {
     "cell_type": "code",
     "collapsed": false,
     "input": [
      "# Of the critics with > 100 reviews, \n",
      "# plot the distribution of average \"freshness\" rating per critic\n",
      "df = critics.copy()\n",
      "df['fresh'] = df.fresh == 'fresh'\n",
      "grp = df.groupby('critic')\n",
      "counts = grp.critic.count()\n",
      "means = grp.fresh.mean()\n",
      "\n",
      "means[counts > 100].hist(bins=10, color='k')\n",
      "plt.xlabel(\"Average rating per critic\")\n",
      "plt.ylabel(\"Count\")"
     ],
     "language": "python",
     "metadata": {},
     "outputs": [
      {
       "metadata": {},
       "output_type": "pyout",
       "prompt_number": 14,
       "text": [
        "<matplotlib.text.Text at 0x1090a10d0>"
       ]
      },
      {
       "metadata": {},
       "output_type": "display_data",
       "png": "[encoded data removed]",
       "text": [
        "<matplotlib.figure.Figure at 0x10a401350>"
       ]
      }
     ],
     "prompt_number": 14
    },
    {
     "cell_type": "code",
     "collapsed": false,
     "input": [
      "data = movies[['year', 'rtTopCriticsRating']]\n",
      "data = data.convert_objects(convert_numeric=True)\n",
      "data = data[(data['rtTopCriticsRating'] > 0)]\n",
      "means = data.groupby('year').mean().dropna()\n",
      "\n",
      "plt.scatter(data['year'], data['rtTopCriticsRating'], color='k', label='data')\n",
      "plt.plot(means.index, means['rtTopCriticsRating'], color='r', lw=5, label='yearly average')\n",
      "plt.xlabel(\"Year\")\n",
      "plt.ylabel(\"Average Score\")\n",
      "plt.xlim((1920, 2010))\n",
      "plt.legend(loc='upper left', frameon=False)"
     ],
     "language": "python",
     "metadata": {},
     "outputs": [
      {
       "ename": "NameError",
       "evalue": "name 'movies' is not defined",
       "output_type": "pyerr",
       "traceback": [
        "\u001b[0;31m---------------------------------------------------------------------------\u001b[0m\n\u001b[0;31mNameError\u001b[0m                                 Traceback (most recent call last)",
        "\u001b[0;32m<ipython-input-15-318de3ee202f>\u001b[0m in \u001b[0;36m<module>\u001b[0;34m()\u001b[0m\n\u001b[0;32m----> 1\u001b[0;31m \u001b[0mdata\u001b[0m \u001b[0;34m=\u001b[0m \u001b[0mmovies\u001b[0m\u001b[0;34m[\u001b[0m\u001b[0;34m[\u001b[0m\u001b[0;34m'year'\u001b[0m\u001b[0;34m,\u001b[0m \u001b[0;34m'rtTopCriticsRating'\u001b[0m\u001b[0;34m]\u001b[0m\u001b[0;34m]\u001b[0m\u001b[0;34m\u001b[0m\u001b[0m\n\u001b[0m\u001b[1;32m      2\u001b[0m \u001b[0mdata\u001b[0m \u001b[0;34m=\u001b[0m \u001b[0mdata\u001b[0m\u001b[0;34m.\u001b[0m\u001b[0mconvert_objects\u001b[0m\u001b[0;34m(\u001b[0m\u001b[0mconvert_numeric\u001b[0m\u001b[0;34m=\u001b[0m\u001b[0mTrue\u001b[0m\u001b[0;34m)\u001b[0m\u001b[0;34m\u001b[0m\u001b[0m\n\u001b[1;32m      3\u001b[0m \u001b[0mdata\u001b[0m \u001b[0;34m=\u001b[0m \u001b[0mdata\u001b[0m\u001b[0;34m[\u001b[0m\u001b[0;34m(\u001b[0m\u001b[0mdata\u001b[0m\u001b[0;34m[\u001b[0m\u001b[0;34m'rtTopCriticsRating'\u001b[0m\u001b[0;34m]\u001b[0m \u001b[0;34m>\u001b[0m \u001b[0;36m0\u001b[0m\u001b[0;34m)\u001b[0m\u001b[0;34m]\u001b[0m\u001b[0;34m\u001b[0m\u001b[0m\n\u001b[1;32m      4\u001b[0m \u001b[0mmeans\u001b[0m \u001b[0;34m=\u001b[0m \u001b[0mdata\u001b[0m\u001b[0;34m.\u001b[0m\u001b[0mgroupby\u001b[0m\u001b[0;34m(\u001b[0m\u001b[0;34m'year'\u001b[0m\u001b[0;34m)\u001b[0m\u001b[0;34m.\u001b[0m\u001b[0mmean\u001b[0m\u001b[0;34m(\u001b[0m\u001b[0;34m)\u001b[0m\u001b[0;34m.\u001b[0m\u001b[0mdropna\u001b[0m\u001b[0;34m(\u001b[0m\u001b[0;34m)\u001b[0m\u001b[0;34m\u001b[0m\u001b[0m\n\u001b[1;32m      5\u001b[0m \u001b[0;34m\u001b[0m\u001b[0m\n",
        "\u001b[0;31mNameError\u001b[0m: name 'movies' is not defined"
       ]
      }
     ],
     "prompt_number": 15
    },
    {
     "cell_type": "markdown",
     "metadata": {},
     "source": [
      "#Sentiment Analysis"
     ]
    },
    {
     "cell_type": "markdown",
     "metadata": {},
     "source": [
      "###CountVectorizer"
     ]
    },
    {
     "cell_type": "code",
     "collapsed": false,
     "input": [
      "from sklearn.feature_extraction.text import CountVectorizer\n",
      "\n",
      "text = ['Hop on pop', 'Hop off pop', 'Hop Hop hop']\n",
      "print \"Original text is\\n\", '\\n'.join(text)\n",
      "\n",
      "vectorizer = CountVectorizer(min_df=0)\n",
      "vectorizer.fit(text)\n",
      "\n",
      "x = vectorizer.transform(text)\n",
      "x = x.toarray()\n",
      "\n",
      "print \"Transformed text vector is \\n\", x\n",
      "\n",
      "print \"Words for each feature:\"\n",
      "print vectorizer.get_feature_names()"
     ],
     "language": "python",
     "metadata": {},
     "outputs": [
      {
       "output_type": "stream",
       "stream": "stdout",
       "text": [
        "Original text is\n",
        "Hop on pop\n",
        "Hop off pop\n",
        "Hop Hop hop\n",
        "Transformed text vector is \n",
        "[[1 0 1 1]\n",
        " [1 1 0 1]\n",
        " [3 0 0 0]]\n",
        "Words for each feature:\n",
        "[u'hop', u'off', u'on', u'pop']\n"
       ]
      }
     ],
     "prompt_number": 16
    },
    {
     "cell_type": "code",
     "collapsed": false,
     "input": [
      "from sklearn.cross_validation import train_test_split\n",
      "from sklearn.naive_bayes import MultinomialNB\n",
      "\n",
      "def make_xy(critics, vectorizer=None):\n",
      "    if vectorizer is None:\n",
      "        vectorizer = CountVectorizer()\n",
      "    #Bag-of-words representation for each review\n",
      "    X = vectorizer.fit_transform(critics.quote)\n",
      "    X = X.tocsc()\n",
      "    #1/0 array. 1 = fresh review, 0 = rotten review\n",
      "    Y = (critics.fresh == 'fresh').values.astype(np.int)\n",
      "    return X, Y\n",
      "\n",
      "X, Y = make_xy(critics)"
     ],
     "language": "python",
     "metadata": {},
     "outputs": [],
     "prompt_number": 17
    },
    {
     "cell_type": "markdown",
     "metadata": {},
     "source": [
      "###Cross Validation"
     ]
    },
    {
     "cell_type": "code",
     "collapsed": false,
     "input": [
      "xtrain, xtest, ytrain, ytest = train_test_split(X, Y, test_size=0.5)\n",
      "clf = MultinomialNB().fit(xtrain, ytrain)\n",
      "\n",
      "training_accuracy = clf.score(xtrain, ytrain)\n",
      "test_accuracy = clf.score(xtest, ytest)\n",
      "\n",
      "print \"Accuracy: %0.2f%%\" % (100 * clf.score(xtest, ytest))\n",
      "print \"Accuracy on training data: %0.2f%%\" % (100 * (training_accuracy))\n",
      "print \"Accuracy on test data:     %0.2f%%\" % (100 * (test_accuracy))"
     ],
     "language": "python",
     "metadata": {},
     "outputs": [
      {
       "output_type": "stream",
       "stream": "stdout",
       "text": [
        "Accuracy: 75.50%\n",
        "Accuracy on training data: 92.85%\n",
        "Accuracy on test data:     75.50%\n"
       ]
      }
     ],
     "prompt_number": 18
    },
    {
     "cell_type": "markdown",
     "metadata": {},
     "source": [
      "###Calibration\n",
      "\n",
      "Bayesian models like the Naive Bayes classifier have the nice property that they compute probabilities of a particular classification -- the `predict_proba` and `predict_log_proba` methods of `MultinomialNB` compute these probabilities. \n",
      "\n",
      "Being the respectable Bayesian that you are, you should always assess whether these probabilities are **calibrated -- that is, whether a prediction made with a confidence of `x%` is correct approximately `x%` of the time.**\n",
      "\n",
      "Let's make a plot to assess model calibration. Schematically, we want something like this:\n",
      "\n",
      "<img src=\"http://i.imgur.com/ea5B6zr.png\" width=500px>\n",
      "\n",
      "In words, we want to:\n",
      "\n",
      "* Take a collection of examples, and compute the freshness probability for each using `clf.predict_proba`\n",
      "* Gather examples into bins of similar freshness probability (the diagram shows 5 groups -- you should use something closer to 20)\n",
      "* For each bin, count the number of examples in that bin, and compute the fraction of examples in the bin which are fresh\n",
      "* In the upper plot, graph the expected P(Fresh) (x axis) and observed freshness fraction (Y axis). **Estimate the uncertainty in observed freshness fraction $F$ via the [equation](http://en.wikipedia.org/wiki/Binomial_proportion_confidence_interval) $\\sigma = \\sqrt{F (1-F) / N}$**\n",
      "* Overplot the line y=x. This is the trend we would expect if the model is calibrated\n",
      "* In the lower plot, show the number of examples in each bin"
     ]
    },
    {
     "cell_type": "markdown",
     "metadata": {},
     "source": [
      "###Calibration Plot"
     ]
    },
    {
     "cell_type": "code",
     "collapsed": false,
     "input": [
      "def calibration_plot(clf, xtest, ytest):\n",
      "    prob = clf.predict_proba(xtest)[:, 1]\n",
      "    outcome = ytest\n",
      "    data = pd.DataFrame(dict(prob=prob, outcome=outcome))\n",
      "\n",
      "    #group outcomes into bins of similar probability\n",
      "    bins = np.linspace(0, 1, 20)\n",
      "    cuts = pd.cut(prob, bins)\n",
      "    binwidth = bins[1] - bins[0]\n",
      "    \n",
      "    #freshness ratio and number of examples in each bin\n",
      "    cal = data.groupby(cuts).outcome.agg(['mean', 'count'])\n",
      "    cal['pmid'] = (bins[:-1] + bins[1:]) / 2\n",
      "    cal['sig'] = np.sqrt(cal.pmid * (1 - cal.pmid) / cal['count'])\n",
      "        \n",
      "    ax = plt.subplot2grid((3, 1), (0, 0), rowspan=2)\n",
      "    p = plt.errorbar(cal.pmid, cal['mean'], cal['sig'])\n",
      "    plt.plot(cal.pmid, cal.pmid, linestyle='--', lw=1, color='k')\n",
      "    plt.ylabel(\"Empirical P(Fresh)\")\n",
      "    \n",
      "    ax = plt.subplot2grid((3, 1), (2, 0), sharex=ax)\n",
      "    plt.bar(left=cal.pmid - binwidth / 2, height=cal['count'],\n",
      "            width=.95 * (bins[1] - bins[0]), color='k')\n",
      "    plt.xlabel(\"Predicted P(Fresh)\")\n",
      "    plt.ylabel(\"Number\")\n",
      "    \n",
      "calibration_plot(clf, xtest, ytest)"
     ],
     "language": "python",
     "metadata": {},
     "outputs": [
      {
       "metadata": {},
       "output_type": "display_data",
       "png": "[encoded data removed]",
       "text": [
        "<matplotlib.figure.Figure at 0x10ae7a710>"
       ]
      }
     ],
     "prompt_number": 30
    },
    {
     "cell_type": "markdown",
     "metadata": {},
     "source": [
      "> We might say a model is *over-confident* if the freshness fraction is usually closer to 0.5 than expected (that is, there is more uncertainty than the model predicted). Likewise, a model is *under-confident* if the probabilities are usually further away from 0.5. Is this model generally over- or under-confident? \n",
      "\n",
      ">This model is **over-confident**. For a properly calibrated model, we would expect ~10% of the P(Fresh)~0.1 reviews to actually be fresh. However, the actual freshness rate is closer to 30%. Likewise, for reviews where P(Fresh) ~0.9, the actuall freshness fraction is closer to 0.7. In other words, there is more uncertainty in the outcome than implied by the model."
     ]
    },
    {
     "cell_type": "markdown",
     "metadata": {},
     "source": [
      "#Cross Validation\n",
      "\n",
      ">Our classifier has a few free parameters. The two most important are:\n",
      " 1. The **`min_df` keyword in `CountVectorizer`, which will ignore words which appear in fewer than `min_df` fraction of reviews.** Words that appear only once or twice can lead to overfitting, since words which occur only a few times might correlate very well with Fresh/Rotten reviews by chance in the training dataset.\n",
      " 2. The **[`alpha` keyword](http://scikit-learn.org/stable/modules/naive_bayes.html#multinomial-naive-bayes) in the Bayesian classifier is a \"smoothing parameter\"** -- increasing the value decreases the sensitivity to any single feature, and tends to pull prediction probabilities closer to 50%. \n",
      "\n",
      "A common technique for choosing appropriate values for these parameters is **cross-validation**. Let's choose good parameters by maximizing the cross-validated log-likelihood."
     ]
    },
    {
     "cell_type": "code",
     "collapsed": false,
     "input": [
      "def log_likelihood(clf, x, y):\n",
      "    prob = clf.predict_log_proba(x)\n",
      "    rotten = y == 0\n",
      "    fresh = ~rotten\n",
      "    return prob[rotten, 0].sum() + prob[fresh, 1].sum()"
     ],
     "language": "python",
     "metadata": {},
     "outputs": [],
     "prompt_number": 31
    },
    {
     "cell_type": "code",
     "collapsed": false,
     "input": [
      "from sklearn.cross_validation import KFold\n",
      "\n",
      "def cv_score(clf, x, y, score_func):\n",
      "    result = 0\n",
      "    nfold = 5\n",
      "    for train, test in KFold(y.size, nfold):\n",
      "        clf.fit(x[train], y[train])\n",
      "        result += score_func(clf, x[test], y[test])\n",
      "    return result / nfold\n",
      "\n",
      "cv_score(clf, xtest, ytest, log_likelihood)"
     ],
     "language": "python",
     "metadata": {},
     "outputs": [
      {
       "metadata": {},
       "output_type": "pyout",
       "prompt_number": 34,
       "text": [
        "-973.27250584560352"
       ]
      }
     ],
     "prompt_number": 34
    },
    {
     "cell_type": "code",
     "collapsed": false,
     "input": [
      "#the grid of parameters to search over\n",
      "alphas = [0, .1, 1, 5, 10, 50]\n",
      "min_dfs = [1e-5, 1e-4, 1e-3, 1e-2, 1e-1]\n",
      "\n",
      "#Find the best value for alpha and min_df, and the best classifier\n",
      "best_alpha = None\n",
      "best_min_df = None\n",
      "max_loglike = -np.inf\n",
      "\n",
      "for alpha in alphas:\n",
      "    for min_df in min_dfs:         \n",
      "        vectorizer = CountVectorizer(min_df = min_df)       \n",
      "        X, Y = make_xy(critics, vectorizer)\n",
      "        \n",
      "        #your code here\n",
      "        clf = MultinomialNB(alpha=alpha)\n",
      "        loglike = cv_score(clf, X, Y, log_likelihood)\n",
      "\n",
      "        if loglike > max_loglike:\n",
      "            max_loglike = loglike\n",
      "            best_alpha, best_min_df = alpha, min_df"
     ],
     "language": "python",
     "metadata": {},
     "outputs": [],
     "prompt_number": 35
    },
    {
     "cell_type": "code",
     "collapsed": false,
     "input": [
      "print \"alpha: %f\" % best_alpha\n",
      "print \"min_df: %f\" % best_min_df"
     ],
     "language": "python",
     "metadata": {},
     "outputs": [
      {
       "output_type": "stream",
       "stream": "stdout",
       "text": [
        "alpha: 5.000000\n",
        "min_df: 0.001000\n"
       ]
      }
     ],
     "prompt_number": 36
    },
    {
     "cell_type": "markdown",
     "metadata": {},
     "source": [
      "###Using log-likelihood to optimize the classifer"
     ]
    },
    {
     "cell_type": "code",
     "collapsed": false,
     "input": [
      "vectorizer = CountVectorizer(min_df=best_min_df)\n",
      "X, Y = make_xy(critics, vectorizer)\n",
      "\n",
      "xtrain, xtest, ytrain, ytest = train_test_split(X, Y, test_size=0.5)\n",
      "clf = MultinomialNB(alpha=best_alpha).fit(xtrain, ytrain)\n",
      "\n",
      "calibration_plot(clf, xtest, ytest)\n",
      "\n",
      "training_accuracy = clf.score(xtrain, ytrain)\n",
      "test_accuracy = clf.score(xtest, ytest)\n",
      "\n",
      "print \"Accuracy: %0.2f%%\" % (100 * clf.score(xtest, ytest))\n",
      "print \"Accuracy on training data: %0.2f%%\" % (100 * (training_accuracy))\n",
      "print \"Accuracy on test data:     %0.2f%%\" % (100 * (test_accuracy))"
     ],
     "language": "python",
     "metadata": {},
     "outputs": [
      {
       "output_type": "stream",
       "stream": "stdout",
       "text": [
        "Accuracy: 73.53%\n",
        "Accuracy on training data: 79.58%\n",
        "Accuracy on test data:     73.53%\n"
       ]
      },
      {
       "metadata": {},
       "output_type": "display_data",
       "png": "[encoded data removed]",
       "text": [
        "<matplotlib.figure.Figure at 0x109a1a350>"
       ]
      }
     ],
     "prompt_number": 41
    },
    {
     "cell_type": "markdown",
     "metadata": {},
     "source": [
      "#Interpretation. What words best predict a fresh or rotten review?"
     ]
    },
    {
     "cell_type": "code",
     "collapsed": false,
     "input": [
      "words = np.array(vectorizer.get_feature_names())\n",
      "\n",
      "x = np.eye(xtest.shape[1])\n",
      "probs = clf.predict_log_proba(x)[:, 0]\n",
      "ind = np.argsort(probs)\n",
      "\n",
      "good_words = pd.Series(1 - np.exp(probs[ind[:10]]), \n",
      "                       index=words[ind[:10]])\n",
      "bad_words = pd.Series(1 - np.exp(probs[ind[-10:]]), \n",
      "                       index=words[ind[-10:]])\n",
      "print good_words\n",
      "print bad_words"
     ],
     "language": "python",
     "metadata": {},
     "outputs": [
      {
       "output_type": "stream",
       "stream": "stdout",
       "text": [
        "beauty           0.861316\n",
        "touching         0.860828\n",
        "moving           0.858340\n",
        "masterpiece      0.847720\n",
        "delight          0.846480\n",
        "superb           0.841314\n",
        "beautifully      0.841314\n",
        "extraordinary    0.836735\n",
        "intelligent      0.835788\n",
        "creates          0.835788\n",
        "dtype: float64\n",
        "formulaic        0.228929\n",
        "uninspired       0.218163\n",
        "unfunny          0.216677\n",
        "supposed         0.209541\n",
        "bland            0.203788\n",
        "pointless        0.201574\n",
        "problem          0.195084\n",
        "dull             0.190698\n",
        "lame             0.187329\n",
        "unfortunately    0.138420\n",
        "dtype: float64\n"
       ]
      }
     ],
     "prompt_number": 68
    },
    {
     "cell_type": "code",
     "collapsed": false,
     "input": [
      "x, y = make_xy(critics, vectorizer)\n",
      "prob = clf.predict_proba(x)[:, 0]\n",
      "predict = clf.predict(x)\n",
      "\n",
      "data = critics[['title', 'fresh', 'quote']]\n",
      "data['prediction'] = predict\n",
      "data['prob'] = prob\n",
      "\n",
      "bad_rotten = np.argsort(prob[(y == 0) & (predict == 1)])\n",
      "bad_fresh = np.argsort(prob[(y == 1) & (predict == 0)])\n",
      "\n",
      "bad_rotten = data.sort('prob')[(data.fresh == 'rotten') & (data.prediction == 1)]\n",
      "bad_fresh = data.sort('prob')[(data.fresh == 'fresh') & (data.prediction == 0)]\n",
      "\n",
      "print \"Should be predicted Fresh\"\n",
      "print \"==========================\"\n",
      "for index, row in bad_fresh[:5].iterrows():\n",
      "    print \"Movie: %s | Correct: %s | Prediction: %i(%f)\" % (row['title'], row['fresh'], row['prediction'], row['prob'])\n",
      "    print row['quote']\n",
      "    print\n",
      "    \n",
      "print \"Should be predicted Rotten\"\n",
      "print \"=========================\"\n",
      "for index, row in bad_rotten[:5].iterrows():\n",
      "    print \"Movie: %s | Correct: %s | Prediction: %i(%f)\" % (row['title'], row['fresh'], row['prediction'], row['prob'])\n",
      "    print row['quote']\n",
      "    print"
     ],
     "language": "python",
     "metadata": {},
     "outputs": [
      {
       "output_type": "stream",
       "stream": "stdout",
       "text": [
        "Should be predicted Fresh\n",
        "==========================\n",
        "Movie: My Man Godfrey | Correct: fresh | Prediction: 0(0.500415)\n",
        "My Man Godfrey emerges with that evasive quality that is not skillful playing, writing or direction, but something that mysteriously adds itself to these things, and makes a tip-top picture.\n",
        "\n",
        "Movie: His Girl Friday | Correct: fresh | Prediction: 0(0.500482)\n",
        "One is tempted to throw away any semblance of persuasion and simply demand that you go see this movie.\n",
        "\n",
        "Movie: Rear Window | Correct: fresh | Prediction: 0(0.501006)\n",
        "Rear Window lovingly invests in suspense all through the film, banking it in our memory, so that when the final payoff arrives, the whole film has been the thriller equivalent of foreplay.\n",
        "\n",
        "Movie: U Turn | Correct: fresh | Prediction: 0(0.501275)\n",
        "Stone has stretched this rubber band past the point where it should snap into parody, but it still holds the shape of a rubber band.\n",
        "\n",
        "Movie: Paths of Glory | Correct: fresh | Prediction: 0(0.501374)\n",
        "The sardonic rhetoric may be laid on a little heavily at times, but the movie is blunt and scornfully brilliant.\n",
        "\n",
        "Should be predicted Rotten\n",
        "=========================\n",
        "Movie: Selena | Correct: rotten | Prediction: 1(0.003431)\n",
        "Nava, who started his feature-film career with El Norte, is a good director who invariably finds a strong rapport with his actors. He's not much of a writer, though, and he should think twice about creating dialogue for his future projects.\n",
        "\n",
        "Movie: Jerry Maguire | Correct: rotten | Prediction: 1(0.003559)\n",
        "Lauded as a witty moral fable with a revelatory performance from its star, this romantic comedy is in fact meretricious, manipulative and reactionary.\n",
        "\n",
        "Movie: Star Wars: Episode VI - Return of the Jedi | Correct: rotten | Prediction: 1(0.007439)\n",
        "With its feints at horror and pathos, the third Star Wars film is the most Disney-esque in its emotional outline, yet that outline is buried beneath an obnoxiously hyped-up pace that reduces the emotions to rubble.\n",
        "\n",
        "Movie: The Seventh Seal (Det Sjunde inseglet) | Correct: rotten | Prediction: 1(0.007581)\n",
        "It survives today only as an unusually pure example of a typical 50s art-film strategy: the attempt to make the most modern and most popular of art forms acceptable to the intelligentsia by forcing it into an arcane, antique mold.\n",
        "\n",
        "Movie: Rudy | Correct: rotten | Prediction: 1(0.009252)\n",
        "Directed with composure, but no great fervour, the film's conspicuously uninterested in American football, and much concerned with testing the limits and the resilience of the American dream.\n",
        "\n"
       ]
      }
     ],
     "prompt_number": 90
    },
    {
     "cell_type": "code",
     "collapsed": false,
     "input": [
      "clf.predict_proba(vectorizer.transform(['This movie is not remarkable, touching, or superb in any way']))"
     ],
     "language": "python",
     "metadata": {},
     "outputs": [
      {
       "metadata": {},
       "output_type": "pyout",
       "prompt_number": 92,
       "text": [
        "array([[ 0.0315291,  0.9684709]])"
       ]
      }
     ],
     "prompt_number": 92
    },
    {
     "cell_type": "markdown",
     "metadata": {},
     "source": [
      ">Many mis-predictions seem due to the fact that the quotes use more ambivalent language -- quotes along the lines of \"this should have been a good movie, but it wasn't\". Words like \"but\", \"not\", etc. act to negate the sentiment of words. However, because Naive Bayes treats each word separately, it isn't able to capture these kind of word interactions. Because the quote \"this movie is not remarkable, touching, or superb in any way\" contains typically positive words like remarkabke/touching/superb, the classifier gives it P(Fresh)=0.98.\n",
      "\n",
      ">There are many things worth trying. Some examples:\n",
      "1. You could try to build a NB model where the features are word pairs instead of words. This would be smart enough to realize that \"not good\" and \"so good\" mean very different things. This technique doesn't scale very well, since these features are much more sparse (and hence harder to detect repeatable patterns within).\n",
      "2. You could try a model besides NB, that would allow for interactions between words -- for example, a Random Forest classifier.\n",
      "3. You could consider adding supplemental features -- information about genre, director, cast, etc.\n",
      "4. You could build a visualization that prints word reviews, and visually encodes each word with size or color to indicate how that word contributes to P(Fresh). For example, really bad words could show up as big and red, good words as big and green, common words as small and grey, etc."
     ]
    }
   ],
   "metadata": {}
  }
 ]
}