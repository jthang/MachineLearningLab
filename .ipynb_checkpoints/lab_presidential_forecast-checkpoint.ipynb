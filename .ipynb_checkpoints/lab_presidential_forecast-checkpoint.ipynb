{
 "metadata": {
  "name": "",
  "signature": "sha256:e52a8f969c40f63f9d80adfee389d62582a5a387e999f6737db90b12e0ab5118"
 },
 "nbformat": 3,
 "nbformat_minor": 0,
 "worksheets": [
  {
   "cells": [
    {
     "cell_type": "markdown",
     "metadata": {},
     "source": [
      "US Presidential Polls\n",
      "======\n",
      "\n",
      "##### Forecasting The Elections"
     ]
    },
    {
     "cell_type": "code",
     "collapsed": false,
     "input": [
      "%matplotlib inline \n",
      "\n",
      "from fnmatch import fnmatch\n",
      "\n",
      "import numpy as np\n",
      "import pandas as pd\n",
      "import matplotlib.pyplot as plt\n",
      "import requests\n",
      "from pattern import web\n",
      "pd.set_option('display.mpl_style', 'default')\n",
      "\n",
      "# set some nicer defaults for matplotlib\n",
      "\n",
      "from matplotlib import rcParams\n",
      "\n",
      "#these colors come from colorbrewer2.org. Each is an RGB triplet\n",
      "dark2_colors = [(0.10588235294117647, 0.6196078431372549, 0.4666666666666667),\n",
      "                (0.8509803921568627, 0.37254901960784315, 0.00784313725490196),\n",
      "                (0.4588235294117647, 0.4392156862745098, 0.7019607843137254),\n",
      "                (0.9058823529411765, 0.1607843137254902, 0.5411764705882353),\n",
      "                (0.4, 0.6509803921568628, 0.11764705882352941),\n",
      "                (0.9019607843137255, 0.6705882352941176, 0.00784313725490196),\n",
      "                (0.6509803921568628, 0.4627450980392157, 0.11372549019607843),\n",
      "                (0.4, 0.4, 0.4)]\n",
      "\n",
      "rcParams['figure.figsize'] = (12, 8)\n",
      "rcParams['figure.dpi'] = 150\n",
      "rcParams['axes.color_cycle'] = dark2_colors\n",
      "rcParams['lines.linewidth'] = 2\n",
      "rcParams['axes.grid'] = True\n",
      "rcParams['axes.facecolor'] = '#eeeeee'\n",
      "rcParams['font.size'] = 14\n",
      "rcParams['patch.edgecolor'] = 'none'"
     ],
     "language": "python",
     "metadata": {},
     "outputs": []
    },
    {
     "cell_type": "code",
     "collapsed": false,
     "input": [
      "def get_poll_xml(poll_id):\n",
      "    \"\"\"Given a poll_id, return the XML as a text string\"\"\"\n",
      "    url = \"http://charts.realclearpolitics.com/charts/%i.xml\" % int(poll_id)\n",
      "    return requests.get(url).text\n",
      "# get_poll_xml(1171)"
     ],
     "language": "python",
     "metadata": {},
     "outputs": []
    },
    {
     "cell_type": "code",
     "collapsed": false,
     "input": [
      "import re\n",
      "\n",
      "def _strip(s):\n",
      "    \"\"\"Remove non-letter characters\"\"\"\n",
      "    return re.sub(r'[\\W_]+', '', s)\n",
      "\n",
      "def plot_colors(xml):\n",
      "    \"\"\"Get the colors of the plot\"\"\"\n",
      "    dom = web.Element(xml)\n",
      "    result = {}\n",
      "    for graph in dom.by_tag('graph'):\n",
      "        title = _strip(graph.attributes['title'])\n",
      "        result[title] = graph.attributes['color']\n",
      "    return result\n",
      "\n",
      "# _strip(\"Hello! What is this @#23@#$ doing?\")\n",
      "# plot_colors(get_poll_xml(1171))"
     ],
     "language": "python",
     "metadata": {},
     "outputs": []
    },
    {
     "cell_type": "code",
     "collapsed": false,
     "input": [
      "\"\"\"\n",
      "<chart>\n",
      "    <series>\n",
      "        <value xid=\"0\">2/01/2011</value>\n",
      "        <value xid=\"1\">2/02/2011</value>\n",
      "    </series>\n",
      "    <graphs>\n",
      "        <graph gid=\"1\" color=\"#3B5998\" balloon_color=\"#3B5998\" title=\"Obama\">\n",
      "            <value xid=\"0\">47.5</value>\n",
      "            <value xid=\"1\">47.5</value>\n",
      "        <graph gid=\"2\" color=\"#D30015\" balloon_color=\"#D30015\" title=\"Romney\">\n",
      "            <value xid=\"0\">41.5</value>\n",
      "            <value xid=\"1\">41.5</value>\n",
      "\"\"\""
     ],
     "language": "python",
     "metadata": {},
     "outputs": []
    },
    {
     "cell_type": "code",
     "collapsed": false,
     "input": [
      "def rcp_poll_data(xml):\n",
      "    \"\"\"Extract data from XML and make it into a DataFrame\"\"\"\n",
      "    dom = web.Element(xml)\n",
      "    result = {}\n",
      "    \n",
      "    dates = dom.by_tag('series')[0]    \n",
      "    dates = {n.attributes['xid']: str(n.content) for n in dates.by_tag('value')}\n",
      "    keys = dates.keys() #key-value pair\n",
      "    result['date'] = pd.to_datetime([dates[k] for k in keys])\n",
      "\n",
      "    # Dict comprehension same as below:\n",
      "    # dates = {}\n",
      "    # for n in dates.by_tag('value'):\n",
      "    #     xid = n.attributes['xid']\n",
      "    #     d = str(n.content)\n",
      "    #     dates[xid] = d\n",
      "\n",
      "    for graph in dom.by_tag('graph'):\n",
      "        name = graph.attributes['title']\n",
      "        data = {n.attributes['xid']: float(n.content) \n",
      "                if n.content else np.nan for n in graph.by_tag('value')}\n",
      "        result[name] = [data[k] for k in keys]\n",
      "\n",
      "    result = pd.DataFrame(result)\n",
      "    result = result.sort(columns=['date'])\n",
      "    return result\n",
      "\n",
      "# rcp_poll_data(get_poll_xml(1171))"
     ],
     "language": "python",
     "metadata": {},
     "outputs": []
    },
    {
     "cell_type": "code",
     "collapsed": false,
     "input": [
      "def poll_plot(poll_id):\n",
      "    \"\"\"Given a poll_id, returns a plot\"\"\"\n",
      "    xml = get_poll_xml(poll_id)\n",
      "    data = rcp_poll_data(xml)\n",
      "    colors = plot_colors(xml)\n",
      "    \n",
      "    \n",
      "    #remove characters like apostrophes\n",
      "    data = data.rename(columns = {c: _strip(c) for c in data.columns})\n",
      "\n",
      "    #normalize poll numbers so they add to 100%    \n",
      "    norm = data[colors.keys()].sum(axis=1) / 100    \n",
      "    for c in colors.keys():\n",
      "        data[c] /= norm\n",
      "    \n",
      "    for label, color in colors.items():\n",
      "        plt.plot(data.date, data[label], color=color, label=label)\n",
      "     \n",
      "    plt.xticks(rotation=70)\n",
      "    plt.legend(loc='best')\n",
      "    plt.xlabel(\"Date\")\n",
      "    plt.ylabel(\"Normalized Poll Percentage\")\n",
      "\n",
      "poll_plot(1044)"
     ],
     "language": "python",
     "metadata": {},
     "outputs": []
    },
    {
     "cell_type": "code",
     "collapsed": false,
     "input": [
      "\"\"\"\n",
      "Example links on the site\n",
      "-------------------------\n",
      "http://www.realclearpolitics.com/epolls/2010/governor/ma/massachusetts_governor_baker_vs_patrick_vs_cahill-1154.html\n",
      "http://www.realclearpolitics.com/epolls/2010/governor/az/arizona_governor_brewer_vs_goddard-1409.html\n",
      "\"\"\"    "
     ],
     "language": "python",
     "metadata": {},
     "outputs": []
    },
    {
     "cell_type": "markdown",
     "metadata": {},
     "source": [
      "#Extract Useful Links"
     ]
    },
    {
     "cell_type": "code",
     "collapsed": false,
     "input": [
      "def is_gov_race(l):\n",
      "    \"\"\"Returns true if link is gov race\"\"\"\n",
      "    pattern = 'http://www.realclearpolitics.com/epolls/????/governor/??/*-*.html'\n",
      "    return fnmatch(l, pattern)\n",
      "\n",
      "def find_governor_races(html):\n",
      "    dom = web.Element(html)\n",
      "    links = [a.attributes.get('href', '') for a in dom.by_tag('a')]\n",
      "    links = [l for l in links if is_gov_race(l)] #remove duplicates\n",
      "    links = list(set(links))\n",
      "    return links\n",
      "\n",
      "# page = requests.get('http://www.realclearpolitics.com/epolls/2010/governor/2010_elections_governor_map.html').text.encode('ascii', 'ignore')\n",
      "\n",
      "# is_gov_race(page)\n",
      "# find_governor_races(page)"
     ],
     "language": "python",
     "metadata": {},
     "outputs": []
    },
    {
     "cell_type": "markdown",
     "metadata": {},
     "source": [
      "#Get the Poll Results Data"
     ]
    },
    {
     "cell_type": "code",
     "collapsed": false,
     "input": [
      "def race_result(url):\n",
      "    \"\"\"Get the race results\"\"\"\n",
      "\n",
      "    dom = web.Element(requests.get(url).text)\n",
      "    table = dom.by_tag('div#polling-data-rcp')[0]\n",
      "\n",
      "    result_data = table.by_tag('tr.final')[0]\n",
      "    td = result_data.by_tag('td')\n",
      "    results = [float(t.content) for t in td[3:-1]]\n",
      "    tot = sum(results) / 100\n",
      "\n",
      "    headers = table.by_tag('th')\n",
      "    labels = [str(t.content).split('(')[0].strip() for t in headers[3:-1]]\n",
      "    #\"Brown (D)\".split('(')[0].strip()\n",
      "    \n",
      "    return {l: r / tot for l, r in zip(labels, results)}\n",
      "    \n",
      "    # print {l: r / tot for l, r in zip(labels, results)}\n",
      "    # print results\n",
      "    # print labels\n",
      "# url = 'http://www.realclearpolitics.com/epolls/2010/governor/ca/california_governor_whitman_vs_brown-1113.html'\n",
      "# race_result(url)"
     ],
     "language": "python",
     "metadata": {},
     "outputs": []
    },
    {
     "cell_type": "code",
     "collapsed": false,
     "input": [
      "def id_from_url(url):\n",
      "    \"\"\"Get ID e.g last few digits ...man_vs_brown-1113.html \"\"\"\n",
      "    return url.split('-')[-1].split('.html')[0]\n",
      "\n",
      "# url = 'http://www.realclearpolitics.com/epolls/2010/governor/ca/california_governor_whitman_vs_brown-1113.html'\n",
      "# id_from_url(url)\n",
      "\n",
      "def plot_race(url):\n",
      "    \"\"\"Makes a plot which summarize the senate race\"\"\"\n",
      "    id = id_from_url(url)\n",
      "    xml = get_poll_xml(id)\n",
      "    colors = plot_colors(xml)\n",
      "    \n",
      "    if len(colors) == 0:\n",
      "        return\n",
      "    \n",
      "    result = race_result(url)\n",
      "    \n",
      "    poll_plot(id)\n",
      "    plt.xlabel(\"Date\")\n",
      "    plt.ylabel(\"Polling Percentage\")\n",
      "    for r in result:\n",
      "        plt.axhline(result[r], color=colors[_strip(r)], alpha=0.6, ls='--')"
     ],
     "language": "python",
     "metadata": {},
     "outputs": []
    },
    {
     "cell_type": "code",
     "collapsed": false,
     "input": [
      "page = requests.get('http://www.realclearpolitics.com/epolls/2010/governor/2010_elections_governor_map.html').text.encode('ascii', 'ignore')\n",
      "\n",
      "# for race in find_governor_races(page):\n",
      "    plot_race(race)\n",
      "    plt.show()"
     ],
     "language": "python",
     "metadata": {},
     "outputs": []
    },
    {
     "cell_type": "markdown",
     "metadata": {},
     "source": [
      "#Analysis"
     ]
    },
    {
     "cell_type": "code",
     "collapsed": false,
     "input": [
      "def party_from_color(color):\n",
      "    \"Party Color\"\n",
      "    if color in ['#0000CC', '#3B5998']:\n",
      "        return 'democrat'\n",
      "    if color in ['#FF0000', '#D30015']:\n",
      "        return 'republican'\n",
      "    return 'other'\n",
      "\n",
      "def error_data(url):\n",
      "    \"\"\"Get the error data of the forecast and compare to actual results\"\"\"\n",
      "    id = id_from_url(url)\n",
      "    xml = get_poll_xml(id)\n",
      "\n",
      "    colors = plot_colors(xml)\n",
      "    if len(colors) == 0:\n",
      "        pd.DataFrame()\n",
      "\n",
      "    df = rcp_poll_data(xml)\n",
      "    result = race_result(url)\n",
      "\n",
      "    #remove non-letter characters from columns\n",
      "    df = df.rename(columns={c: _strip(c) for c in df.columns})\n",
      "    for k, v in result.items():\n",
      "        result[_strip(k)] = v\n",
      "\n",
      "    candidates = [c for c in df.columns if c is not 'date']\n",
      "    #convert to time series\n",
      "    df.index = df.date \n",
      "    df = df.resample('D')\n",
      "    df = df.dropna()\n",
      "\n",
      "    #Compute forecast length in dates\n",
      "    forecast_length = (df.date.max() - df.date).values\n",
      "    forecast_length = forecast_length / np.timedelta64(1, 'D') #convert to days\n",
      "\n",
      "    #compute forecast error\n",
      "    errors = {}\n",
      "    normalized = {}\n",
      "    poll_lead = {}\n",
      "\n",
      "    for c in candidates:\n",
      "        #turn raw percentage into percentage of votes\n",
      "        corr = df[c].values / df[candidates].sum(axis=1).values * 100.\n",
      "        err = corr - result[_strip(c)]\n",
      "\n",
      "        normalized[c] = corr\n",
      "        errors[c] = err\n",
      "\n",
      "    n = forecast_length.size\n",
      "\n",
      "    result = {}\n",
      "    result['percentage'] = np.hstack(normalized[c] for c in candidates)\n",
      "    result['error'] = np.hstack(errors[c] for c in candidates)\n",
      "    result['candidate'] = np.hstack(np.repeat(c, n) for c in candidates)\n",
      "    result['party'] = np.hstack(np.repeat(party_from_color(colors[_strip(c)]), n) for c in candidates)\n",
      "    result['forecast_length'] = np.hstack(forecast_length for _ in candidates)\n",
      "\n",
      "    result = pd.DataFrame(result)\n",
      "    return result\n",
      "\n",
      "# url = 'http://www.realclearpolitics.com/epolls/2010/governor/ca/california_governor_whitman_vs_brown-1113.html'\n",
      "# error_data(url)"
     ],
     "language": "python",
     "metadata": {},
     "outputs": []
    },
    {
     "cell_type": "code",
     "collapsed": false,
     "input": [
      "def all_error_data():\n",
      "    data = [error_data(race_page) for race_page in find_governor_races(page)]\n",
      "    return pd.concat(data, ignore_index=True)\n",
      "errors = all_error_data()"
     ],
     "language": "python",
     "metadata": {},
     "outputs": []
    },
    {
     "cell_type": "code",
     "collapsed": false,
     "input": [
      "#Histogram of Polling Error\n",
      "errors.error.hist(bins=50)\n",
      "plt.xlabel(\"Polling Error\")\n",
      "plt.ylabel('N')"
     ],
     "language": "python",
     "metadata": {},
     "outputs": []
    },
    {
     "cell_type": "code",
     "collapsed": false,
     "input": [
      "errors.error.std()"
     ],
     "language": "python",
     "metadata": {},
     "outputs": []
    },
    {
     "cell_type": "code",
     "collapsed": false,
     "input": [
      "print \"< 7 days: %0.2f\" % errors[errors.forecast_length < 7].error.std()\n",
      "print \">30 days: %0.2f\" % errors[errors.forecast_length > 30].error.std()"
     ],
     "language": "python",
     "metadata": {},
     "outputs": []
    },
    {
     "cell_type": "markdown",
     "metadata": {},
     "source": [
      "#Bootstrapping"
     ]
    },
    {
     "cell_type": "code",
     "collapsed": false,
     "input": [],
     "language": "python",
     "metadata": {},
     "outputs": []
    },
    {
     "cell_type": "code",
     "collapsed": false,
     "input": [],
     "language": "python",
     "metadata": {},
     "outputs": []
    },
    {
     "cell_type": "code",
     "collapsed": false,
     "input": [],
     "language": "python",
     "metadata": {},
     "outputs": []
    },
    {
     "cell_type": "code",
     "collapsed": false,
     "input": [],
     "language": "python",
     "metadata": {},
     "outputs": []
    },
    {
     "cell_type": "code",
     "collapsed": false,
     "input": [
      "# from IPython.core.display import HTML\n",
      "\n",
      "# def css_styling():\n",
      "#     styles = open(\"styles/custom.css\", \"r\").read()\n",
      "#     return HTML(styles)\n",
      "# css_styling()"
     ],
     "language": "python",
     "metadata": {},
     "outputs": []
    }
   ],
   "metadata": {}
  }
 ]
}